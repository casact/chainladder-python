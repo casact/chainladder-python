{
 "cells": [
  {
   "cell_type": "markdown",
   "metadata": {},
   "source": [
    "## Working with Triangles"
   ]
  },
  {
   "cell_type": "markdown",
   "metadata": {},
   "source": [
    "### Getting Started\n",
    "Welcome! We drafted these tutorials to help you get familiar with some of the common functionalities that most actuaries can use in their day-to-day responsibilities. The package also comes with pre-installed datasets that you can play with, which are also used in the tutorials here.\n",
    "\n",
    "The tutorials assume that you have the basic understanding of commonly used actuarial terms, and can independently perform an actuarial analysis in another tool, such as Microsoft Excel or another actuarial software. Furthermore, it is assumed that you already have some familiarity with Python, and that you have the basic knowledge and experience in using some common packages that are popular in the Python community, such as `pandas` and `numpy`.\n",
    "\n",
    "All tutorials and exercises rely on chainladder v0.8.4 and later. There have also been breaking changes with `pandas 1.0` and if you are using an earlier version, date slicing may behave differently and unexpectedly."
   ]
  },
  {
   "cell_type": "code",
   "execution_count": 1,
   "metadata": {},
   "outputs": [
    {
     "name": "stdout",
     "output_type": "stream",
     "text": [
      "pandas: 1.2.5\n",
      "numpy: 1.21.0\n",
      "chainladder: 0.8.4\n"
     ]
    }
   ],
   "source": [
    "import pandas as pd\n",
    "import numpy as np\n",
    "import chainladder as cl\n",
    "import os\n",
    "print('pandas: ' + pd.__version__)\n",
    "print('numpy: ' + np.__version__)\n",
    "print('chainladder: ' + cl.__version__)"
   ]
  },
  {
   "cell_type": "markdown",
   "metadata": {},
   "source": [
    "If you need to update your installed packages, copy and paste the following in your terminal, per this [thread](https://stackoverflow.com/questions/2720014/how-to-upgrade-all-python-packages-with-pip): \n",
    "\n",
    "`pip list --outdated --format=freeze | grep -v '^\\-e' | cut -d = -f 1  | xargs -n1 pip install -U`"
   ]
  },
  {
   "cell_type": "markdown",
   "metadata": {},
   "source": [
    "Since we will be plotting for quite a bit, here's a magic function in IPython, which sets the backend of matplotlib to the 'inline' backend. With this backend, the output of plotting commands is displayed inline within frontends like the Jupyter notebook, directly below the code cell that produced it. The resulting plots will then also be stored in the notebook document."
   ]
  },
  {
   "cell_type": "code",
   "execution_count": 2,
   "metadata": {},
   "outputs": [],
   "source": [
    "%matplotlib inline"
   ]
  },
  {
   "cell_type": "markdown",
   "metadata": {},
   "source": [
    "### Working with a Triangle\n",
    "Let's begin by looking at an unprocessed triangle data, we'll use the data `raa`. Depends on where your script currently sits, you might have to modify the file path accordingly."
   ]
  },
  {
   "cell_type": "code",
   "execution_count": 3,
   "metadata": {},
   "outputs": [
    {
     "data": {
      "text/html": [
       "<div>\n",
       "<style scoped>\n",
       "    .dataframe tbody tr th:only-of-type {\n",
       "        vertical-align: middle;\n",
       "    }\n",
       "\n",
       "    .dataframe tbody tr th {\n",
       "        vertical-align: top;\n",
       "    }\n",
       "\n",
       "    .dataframe thead th {\n",
       "        text-align: right;\n",
       "    }\n",
       "</style>\n",
       "<table border=\"1\" class=\"dataframe\">\n",
       "  <thead>\n",
       "    <tr style=\"text-align: right;\">\n",
       "      <th></th>\n",
       "      <th>development</th>\n",
       "      <th>origin</th>\n",
       "      <th>values</th>\n",
       "    </tr>\n",
       "  </thead>\n",
       "  <tbody>\n",
       "    <tr>\n",
       "      <th>0</th>\n",
       "      <td>1981</td>\n",
       "      <td>1981</td>\n",
       "      <td>5012.0</td>\n",
       "    </tr>\n",
       "    <tr>\n",
       "      <th>1</th>\n",
       "      <td>1982</td>\n",
       "      <td>1982</td>\n",
       "      <td>106.0</td>\n",
       "    </tr>\n",
       "    <tr>\n",
       "      <th>2</th>\n",
       "      <td>1983</td>\n",
       "      <td>1983</td>\n",
       "      <td>3410.0</td>\n",
       "    </tr>\n",
       "    <tr>\n",
       "      <th>3</th>\n",
       "      <td>1984</td>\n",
       "      <td>1984</td>\n",
       "      <td>5655.0</td>\n",
       "    </tr>\n",
       "    <tr>\n",
       "      <th>4</th>\n",
       "      <td>1985</td>\n",
       "      <td>1985</td>\n",
       "      <td>1092.0</td>\n",
       "    </tr>\n",
       "    <tr>\n",
       "      <th>5</th>\n",
       "      <td>1986</td>\n",
       "      <td>1986</td>\n",
       "      <td>1513.0</td>\n",
       "    </tr>\n",
       "    <tr>\n",
       "      <th>6</th>\n",
       "      <td>1987</td>\n",
       "      <td>1987</td>\n",
       "      <td>557.0</td>\n",
       "    </tr>\n",
       "    <tr>\n",
       "      <th>7</th>\n",
       "      <td>1988</td>\n",
       "      <td>1988</td>\n",
       "      <td>1351.0</td>\n",
       "    </tr>\n",
       "    <tr>\n",
       "      <th>8</th>\n",
       "      <td>1989</td>\n",
       "      <td>1989</td>\n",
       "      <td>3133.0</td>\n",
       "    </tr>\n",
       "    <tr>\n",
       "      <th>9</th>\n",
       "      <td>1990</td>\n",
       "      <td>1990</td>\n",
       "      <td>2063.0</td>\n",
       "    </tr>\n",
       "    <tr>\n",
       "      <th>10</th>\n",
       "      <td>1982</td>\n",
       "      <td>1981</td>\n",
       "      <td>8269.0</td>\n",
       "    </tr>\n",
       "    <tr>\n",
       "      <th>11</th>\n",
       "      <td>1983</td>\n",
       "      <td>1982</td>\n",
       "      <td>4285.0</td>\n",
       "    </tr>\n",
       "    <tr>\n",
       "      <th>12</th>\n",
       "      <td>1984</td>\n",
       "      <td>1983</td>\n",
       "      <td>8992.0</td>\n",
       "    </tr>\n",
       "    <tr>\n",
       "      <th>13</th>\n",
       "      <td>1985</td>\n",
       "      <td>1984</td>\n",
       "      <td>11555.0</td>\n",
       "    </tr>\n",
       "    <tr>\n",
       "      <th>14</th>\n",
       "      <td>1986</td>\n",
       "      <td>1985</td>\n",
       "      <td>9565.0</td>\n",
       "    </tr>\n",
       "    <tr>\n",
       "      <th>15</th>\n",
       "      <td>1987</td>\n",
       "      <td>1986</td>\n",
       "      <td>6445.0</td>\n",
       "    </tr>\n",
       "    <tr>\n",
       "      <th>16</th>\n",
       "      <td>1988</td>\n",
       "      <td>1987</td>\n",
       "      <td>4020.0</td>\n",
       "    </tr>\n",
       "    <tr>\n",
       "      <th>17</th>\n",
       "      <td>1989</td>\n",
       "      <td>1988</td>\n",
       "      <td>6947.0</td>\n",
       "    </tr>\n",
       "    <tr>\n",
       "      <th>18</th>\n",
       "      <td>1990</td>\n",
       "      <td>1989</td>\n",
       "      <td>5395.0</td>\n",
       "    </tr>\n",
       "    <tr>\n",
       "      <th>19</th>\n",
       "      <td>1983</td>\n",
       "      <td>1981</td>\n",
       "      <td>10907.0</td>\n",
       "    </tr>\n",
       "  </tbody>\n",
       "</table>\n",
       "</div>"
      ],
      "text/plain": [
       "    development  origin   values\n",
       "0          1981    1981   5012.0\n",
       "1          1982    1982    106.0\n",
       "2          1983    1983   3410.0\n",
       "3          1984    1984   5655.0\n",
       "4          1985    1985   1092.0\n",
       "5          1986    1986   1513.0\n",
       "6          1987    1987    557.0\n",
       "7          1988    1988   1351.0\n",
       "8          1989    1989   3133.0\n",
       "9          1990    1990   2063.0\n",
       "10         1982    1981   8269.0\n",
       "11         1983    1982   4285.0\n",
       "12         1984    1983   8992.0\n",
       "13         1985    1984  11555.0\n",
       "14         1986    1985   9565.0\n",
       "15         1987    1986   6445.0\n",
       "16         1988    1987   4020.0\n",
       "17         1989    1988   6947.0\n",
       "18         1990    1989   5395.0\n",
       "19         1983    1981  10907.0"
      ]
     },
     "execution_count": 3,
     "metadata": {},
     "output_type": "execute_result"
    }
   ],
   "source": [
    "raa_df = pd.read_csv(\"../../../../Chainladder-Python/chainladder-python/chainladder/utils/data/raa.csv\")\n",
    "raa_df.head(20)"
   ]
  },
  {
   "cell_type": "markdown",
   "metadata": {},
   "source": [
    "The data has three columns: \n",
    "* development: or valuation time, in this case, valuation year\n",
    "* origin: or accident date, in this case, accident year\n",
    "* values: the values recorded for the specific accident date at that valuation time (such as incurred losses, paid losses, or claim counts)"
   ]
  },
  {
   "cell_type": "markdown",
   "metadata": {},
   "source": [
    "A table of loss experience showing total losses for a certain period (origin) at various, regular valuation dates (development), reflecting the change in amounts as claims mature. Older periods in the table will have one more entry than the next youngest period, leading to the triangle shape of the data in the table or any other measure that matures over time from a set origin date. Loss triangles can be used to determine loss development for a given risk."
   ]
  },
  {
   "cell_type": "markdown",
   "metadata": {},
   "source": [
    "Let's put it in the triangle format:"
   ]
  },
  {
   "cell_type": "code",
   "execution_count": 4,
   "metadata": {},
   "outputs": [
    {
     "data": {
      "text/html": [
       "<table border=\"1\" class=\"dataframe\">\n",
       "  <thead>\n",
       "    <tr style=\"text-align: right;\">\n",
       "      <th></th>\n",
       "      <th>12</th>\n",
       "      <th>24</th>\n",
       "      <th>36</th>\n",
       "      <th>48</th>\n",
       "      <th>60</th>\n",
       "      <th>72</th>\n",
       "      <th>84</th>\n",
       "      <th>96</th>\n",
       "      <th>108</th>\n",
       "      <th>120</th>\n",
       "    </tr>\n",
       "  </thead>\n",
       "  <tbody>\n",
       "    <tr>\n",
       "      <th>1981</th>\n",
       "      <td>5,012</td>\n",
       "      <td>8,269</td>\n",
       "      <td>10,907</td>\n",
       "      <td>11,805</td>\n",
       "      <td>13,539</td>\n",
       "      <td>16,181</td>\n",
       "      <td>18,009</td>\n",
       "      <td>18,608</td>\n",
       "      <td>18,662</td>\n",
       "      <td>18,834</td>\n",
       "    </tr>\n",
       "    <tr>\n",
       "      <th>1982</th>\n",
       "      <td>106</td>\n",
       "      <td>4,285</td>\n",
       "      <td>5,396</td>\n",
       "      <td>10,666</td>\n",
       "      <td>13,782</td>\n",
       "      <td>15,599</td>\n",
       "      <td>15,496</td>\n",
       "      <td>16,169</td>\n",
       "      <td>16,704</td>\n",
       "      <td>NaN</td>\n",
       "    </tr>\n",
       "    <tr>\n",
       "      <th>1983</th>\n",
       "      <td>3,410</td>\n",
       "      <td>8,992</td>\n",
       "      <td>13,873</td>\n",
       "      <td>16,141</td>\n",
       "      <td>18,735</td>\n",
       "      <td>22,214</td>\n",
       "      <td>22,863</td>\n",
       "      <td>23,466</td>\n",
       "      <td>NaN</td>\n",
       "      <td>NaN</td>\n",
       "    </tr>\n",
       "    <tr>\n",
       "      <th>1984</th>\n",
       "      <td>5,655</td>\n",
       "      <td>11,555</td>\n",
       "      <td>15,766</td>\n",
       "      <td>21,266</td>\n",
       "      <td>23,425</td>\n",
       "      <td>26,083</td>\n",
       "      <td>27,067</td>\n",
       "      <td>NaN</td>\n",
       "      <td>NaN</td>\n",
       "      <td>NaN</td>\n",
       "    </tr>\n",
       "    <tr>\n",
       "      <th>1985</th>\n",
       "      <td>1,092</td>\n",
       "      <td>9,565</td>\n",
       "      <td>15,836</td>\n",
       "      <td>22,169</td>\n",
       "      <td>25,955</td>\n",
       "      <td>26,180</td>\n",
       "      <td>NaN</td>\n",
       "      <td>NaN</td>\n",
       "      <td>NaN</td>\n",
       "      <td>NaN</td>\n",
       "    </tr>\n",
       "    <tr>\n",
       "      <th>1986</th>\n",
       "      <td>1,513</td>\n",
       "      <td>6,445</td>\n",
       "      <td>11,702</td>\n",
       "      <td>12,935</td>\n",
       "      <td>15,852</td>\n",
       "      <td>NaN</td>\n",
       "      <td>NaN</td>\n",
       "      <td>NaN</td>\n",
       "      <td>NaN</td>\n",
       "      <td>NaN</td>\n",
       "    </tr>\n",
       "    <tr>\n",
       "      <th>1987</th>\n",
       "      <td>557</td>\n",
       "      <td>4,020</td>\n",
       "      <td>10,946</td>\n",
       "      <td>12,314</td>\n",
       "      <td>NaN</td>\n",
       "      <td>NaN</td>\n",
       "      <td>NaN</td>\n",
       "      <td>NaN</td>\n",
       "      <td>NaN</td>\n",
       "      <td>NaN</td>\n",
       "    </tr>\n",
       "    <tr>\n",
       "      <th>1988</th>\n",
       "      <td>1,351</td>\n",
       "      <td>6,947</td>\n",
       "      <td>13,112</td>\n",
       "      <td>NaN</td>\n",
       "      <td>NaN</td>\n",
       "      <td>NaN</td>\n",
       "      <td>NaN</td>\n",
       "      <td>NaN</td>\n",
       "      <td>NaN</td>\n",
       "      <td>NaN</td>\n",
       "    </tr>\n",
       "    <tr>\n",
       "      <th>1989</th>\n",
       "      <td>3,133</td>\n",
       "      <td>5,395</td>\n",
       "      <td>NaN</td>\n",
       "      <td>NaN</td>\n",
       "      <td>NaN</td>\n",
       "      <td>NaN</td>\n",
       "      <td>NaN</td>\n",
       "      <td>NaN</td>\n",
       "      <td>NaN</td>\n",
       "      <td>NaN</td>\n",
       "    </tr>\n",
       "    <tr>\n",
       "      <th>1990</th>\n",
       "      <td>2,063</td>\n",
       "      <td>NaN</td>\n",
       "      <td>NaN</td>\n",
       "      <td>NaN</td>\n",
       "      <td>NaN</td>\n",
       "      <td>NaN</td>\n",
       "      <td>NaN</td>\n",
       "      <td>NaN</td>\n",
       "      <td>NaN</td>\n",
       "      <td>NaN</td>\n",
       "    </tr>\n",
       "  </tbody>\n",
       "</table>"
      ],
      "text/plain": [
       "         12       24       36       48       60       72       84       96       108      120\n",
       "1981  5012.0   8269.0  10907.0  11805.0  13539.0  16181.0  18009.0  18608.0  18662.0  18834.0\n",
       "1982   106.0   4285.0   5396.0  10666.0  13782.0  15599.0  15496.0  16169.0  16704.0      NaN\n",
       "1983  3410.0   8992.0  13873.0  16141.0  18735.0  22214.0  22863.0  23466.0      NaN      NaN\n",
       "1984  5655.0  11555.0  15766.0  21266.0  23425.0  26083.0  27067.0      NaN      NaN      NaN\n",
       "1985  1092.0   9565.0  15836.0  22169.0  25955.0  26180.0      NaN      NaN      NaN      NaN\n",
       "1986  1513.0   6445.0  11702.0  12935.0  15852.0      NaN      NaN      NaN      NaN      NaN\n",
       "1987   557.0   4020.0  10946.0  12314.0      NaN      NaN      NaN      NaN      NaN      NaN\n",
       "1988  1351.0   6947.0  13112.0      NaN      NaN      NaN      NaN      NaN      NaN      NaN\n",
       "1989  3133.0   5395.0      NaN      NaN      NaN      NaN      NaN      NaN      NaN      NaN\n",
       "1990  2063.0      NaN      NaN      NaN      NaN      NaN      NaN      NaN      NaN      NaN"
      ]
     },
     "execution_count": 4,
     "metadata": {},
     "output_type": "execute_result"
    }
   ],
   "source": [
    "raa = cl.Triangle(raa_df, origin='origin', development='development', columns='values')\n",
    "raa"
   ]
  },
  {
   "cell_type": "markdown",
   "metadata": {},
   "source": [
    "You can also load the example data directly, using `load_sample`:"
   ]
  },
  {
   "cell_type": "code",
   "execution_count": 5,
   "metadata": {},
   "outputs": [
    {
     "data": {
      "text/html": [
       "<table border=\"1\" class=\"dataframe\">\n",
       "  <thead>\n",
       "    <tr style=\"text-align: right;\">\n",
       "      <th></th>\n",
       "      <th>12</th>\n",
       "      <th>24</th>\n",
       "      <th>36</th>\n",
       "      <th>48</th>\n",
       "      <th>60</th>\n",
       "      <th>72</th>\n",
       "      <th>84</th>\n",
       "      <th>96</th>\n",
       "      <th>108</th>\n",
       "      <th>120</th>\n",
       "    </tr>\n",
       "  </thead>\n",
       "  <tbody>\n",
       "    <tr>\n",
       "      <th>1981</th>\n",
       "      <td>5,012</td>\n",
       "      <td>8,269</td>\n",
       "      <td>10,907</td>\n",
       "      <td>11,805</td>\n",
       "      <td>13,539</td>\n",
       "      <td>16,181</td>\n",
       "      <td>18,009</td>\n",
       "      <td>18,608</td>\n",
       "      <td>18,662</td>\n",
       "      <td>18,834</td>\n",
       "    </tr>\n",
       "    <tr>\n",
       "      <th>1982</th>\n",
       "      <td>106</td>\n",
       "      <td>4,285</td>\n",
       "      <td>5,396</td>\n",
       "      <td>10,666</td>\n",
       "      <td>13,782</td>\n",
       "      <td>15,599</td>\n",
       "      <td>15,496</td>\n",
       "      <td>16,169</td>\n",
       "      <td>16,704</td>\n",
       "      <td>NaN</td>\n",
       "    </tr>\n",
       "    <tr>\n",
       "      <th>1983</th>\n",
       "      <td>3,410</td>\n",
       "      <td>8,992</td>\n",
       "      <td>13,873</td>\n",
       "      <td>16,141</td>\n",
       "      <td>18,735</td>\n",
       "      <td>22,214</td>\n",
       "      <td>22,863</td>\n",
       "      <td>23,466</td>\n",
       "      <td>NaN</td>\n",
       "      <td>NaN</td>\n",
       "    </tr>\n",
       "    <tr>\n",
       "      <th>1984</th>\n",
       "      <td>5,655</td>\n",
       "      <td>11,555</td>\n",
       "      <td>15,766</td>\n",
       "      <td>21,266</td>\n",
       "      <td>23,425</td>\n",
       "      <td>26,083</td>\n",
       "      <td>27,067</td>\n",
       "      <td>NaN</td>\n",
       "      <td>NaN</td>\n",
       "      <td>NaN</td>\n",
       "    </tr>\n",
       "    <tr>\n",
       "      <th>1985</th>\n",
       "      <td>1,092</td>\n",
       "      <td>9,565</td>\n",
       "      <td>15,836</td>\n",
       "      <td>22,169</td>\n",
       "      <td>25,955</td>\n",
       "      <td>26,180</td>\n",
       "      <td>NaN</td>\n",
       "      <td>NaN</td>\n",
       "      <td>NaN</td>\n",
       "      <td>NaN</td>\n",
       "    </tr>\n",
       "    <tr>\n",
       "      <th>1986</th>\n",
       "      <td>1,513</td>\n",
       "      <td>6,445</td>\n",
       "      <td>11,702</td>\n",
       "      <td>12,935</td>\n",
       "      <td>15,852</td>\n",
       "      <td>NaN</td>\n",
       "      <td>NaN</td>\n",
       "      <td>NaN</td>\n",
       "      <td>NaN</td>\n",
       "      <td>NaN</td>\n",
       "    </tr>\n",
       "    <tr>\n",
       "      <th>1987</th>\n",
       "      <td>557</td>\n",
       "      <td>4,020</td>\n",
       "      <td>10,946</td>\n",
       "      <td>12,314</td>\n",
       "      <td>NaN</td>\n",
       "      <td>NaN</td>\n",
       "      <td>NaN</td>\n",
       "      <td>NaN</td>\n",
       "      <td>NaN</td>\n",
       "      <td>NaN</td>\n",
       "    </tr>\n",
       "    <tr>\n",
       "      <th>1988</th>\n",
       "      <td>1,351</td>\n",
       "      <td>6,947</td>\n",
       "      <td>13,112</td>\n",
       "      <td>NaN</td>\n",
       "      <td>NaN</td>\n",
       "      <td>NaN</td>\n",
       "      <td>NaN</td>\n",
       "      <td>NaN</td>\n",
       "      <td>NaN</td>\n",
       "      <td>NaN</td>\n",
       "    </tr>\n",
       "    <tr>\n",
       "      <th>1989</th>\n",
       "      <td>3,133</td>\n",
       "      <td>5,395</td>\n",
       "      <td>NaN</td>\n",
       "      <td>NaN</td>\n",
       "      <td>NaN</td>\n",
       "      <td>NaN</td>\n",
       "      <td>NaN</td>\n",
       "      <td>NaN</td>\n",
       "      <td>NaN</td>\n",
       "      <td>NaN</td>\n",
       "    </tr>\n",
       "    <tr>\n",
       "      <th>1990</th>\n",
       "      <td>2,063</td>\n",
       "      <td>NaN</td>\n",
       "      <td>NaN</td>\n",
       "      <td>NaN</td>\n",
       "      <td>NaN</td>\n",
       "      <td>NaN</td>\n",
       "      <td>NaN</td>\n",
       "      <td>NaN</td>\n",
       "      <td>NaN</td>\n",
       "      <td>NaN</td>\n",
       "    </tr>\n",
       "  </tbody>\n",
       "</table>"
      ],
      "text/plain": [
       "         12       24       36       48       60       72       84       96       108      120\n",
       "1981  5012.0   8269.0  10907.0  11805.0  13539.0  16181.0  18009.0  18608.0  18662.0  18834.0\n",
       "1982   106.0   4285.0   5396.0  10666.0  13782.0  15599.0  15496.0  16169.0  16704.0      NaN\n",
       "1983  3410.0   8992.0  13873.0  16141.0  18735.0  22214.0  22863.0  23466.0      NaN      NaN\n",
       "1984  5655.0  11555.0  15766.0  21266.0  23425.0  26083.0  27067.0      NaN      NaN      NaN\n",
       "1985  1092.0   9565.0  15836.0  22169.0  25955.0  26180.0      NaN      NaN      NaN      NaN\n",
       "1986  1513.0   6445.0  11702.0  12935.0  15852.0      NaN      NaN      NaN      NaN      NaN\n",
       "1987   557.0   4020.0  10946.0  12314.0      NaN      NaN      NaN      NaN      NaN      NaN\n",
       "1988  1351.0   6947.0  13112.0      NaN      NaN      NaN      NaN      NaN      NaN      NaN\n",
       "1989  3133.0   5395.0      NaN      NaN      NaN      NaN      NaN      NaN      NaN      NaN\n",
       "1990  2063.0      NaN      NaN      NaN      NaN      NaN      NaN      NaN      NaN      NaN"
      ]
     },
     "execution_count": 5,
     "metadata": {},
     "output_type": "execute_result"
    }
   ],
   "source": [
    "raa = cl.load_sample('raa')\n",
    "raa"
   ]
  },
  {
   "cell_type": "markdown",
   "metadata": {},
   "source": [
    "A triangle has more properties than just what is displayed.  For example we can see the underlying `link_ratio`s.  Which represent the multiplicative change in amounts from one development period to the next."
   ]
  },
  {
   "cell_type": "code",
   "execution_count": 6,
   "metadata": {},
   "outputs": [
    {
     "data": {
      "text/html": [
       "<table border=\"1\" class=\"dataframe\">\n",
       "  <thead>\n",
       "    <tr style=\"text-align: right;\">\n",
       "      <th></th>\n",
       "      <th>12-24</th>\n",
       "      <th>24-36</th>\n",
       "      <th>36-48</th>\n",
       "      <th>48-60</th>\n",
       "      <th>60-72</th>\n",
       "      <th>72-84</th>\n",
       "      <th>84-96</th>\n",
       "      <th>96-108</th>\n",
       "      <th>108-120</th>\n",
       "    </tr>\n",
       "  </thead>\n",
       "  <tbody>\n",
       "    <tr>\n",
       "      <th>1981</th>\n",
       "      <td>1.6498</td>\n",
       "      <td>1.3190</td>\n",
       "      <td>1.0823</td>\n",
       "      <td>1.1469</td>\n",
       "      <td>1.1951</td>\n",
       "      <td>1.1130</td>\n",
       "      <td>1.0333</td>\n",
       "      <td>1.0029</td>\n",
       "      <td>1.0092</td>\n",
       "    </tr>\n",
       "    <tr>\n",
       "      <th>1982</th>\n",
       "      <td>40.4245</td>\n",
       "      <td>1.2593</td>\n",
       "      <td>1.9766</td>\n",
       "      <td>1.2921</td>\n",
       "      <td>1.1318</td>\n",
       "      <td>0.9934</td>\n",
       "      <td>1.0434</td>\n",
       "      <td>1.0331</td>\n",
       "      <td>NaN</td>\n",
       "    </tr>\n",
       "    <tr>\n",
       "      <th>1983</th>\n",
       "      <td>2.6370</td>\n",
       "      <td>1.5428</td>\n",
       "      <td>1.1635</td>\n",
       "      <td>1.1607</td>\n",
       "      <td>1.1857</td>\n",
       "      <td>1.0292</td>\n",
       "      <td>1.0264</td>\n",
       "      <td>NaN</td>\n",
       "      <td>NaN</td>\n",
       "    </tr>\n",
       "    <tr>\n",
       "      <th>1984</th>\n",
       "      <td>2.0433</td>\n",
       "      <td>1.3644</td>\n",
       "      <td>1.3489</td>\n",
       "      <td>1.1015</td>\n",
       "      <td>1.1135</td>\n",
       "      <td>1.0377</td>\n",
       "      <td>NaN</td>\n",
       "      <td>NaN</td>\n",
       "      <td>NaN</td>\n",
       "    </tr>\n",
       "    <tr>\n",
       "      <th>1985</th>\n",
       "      <td>8.7592</td>\n",
       "      <td>1.6556</td>\n",
       "      <td>1.3999</td>\n",
       "      <td>1.1708</td>\n",
       "      <td>1.0087</td>\n",
       "      <td>NaN</td>\n",
       "      <td>NaN</td>\n",
       "      <td>NaN</td>\n",
       "      <td>NaN</td>\n",
       "    </tr>\n",
       "    <tr>\n",
       "      <th>1986</th>\n",
       "      <td>4.2597</td>\n",
       "      <td>1.8157</td>\n",
       "      <td>1.1054</td>\n",
       "      <td>1.2255</td>\n",
       "      <td>NaN</td>\n",
       "      <td>NaN</td>\n",
       "      <td>NaN</td>\n",
       "      <td>NaN</td>\n",
       "      <td>NaN</td>\n",
       "    </tr>\n",
       "    <tr>\n",
       "      <th>1987</th>\n",
       "      <td>7.2172</td>\n",
       "      <td>2.7229</td>\n",
       "      <td>1.1250</td>\n",
       "      <td>NaN</td>\n",
       "      <td>NaN</td>\n",
       "      <td>NaN</td>\n",
       "      <td>NaN</td>\n",
       "      <td>NaN</td>\n",
       "      <td>NaN</td>\n",
       "    </tr>\n",
       "    <tr>\n",
       "      <th>1988</th>\n",
       "      <td>5.1421</td>\n",
       "      <td>1.8874</td>\n",
       "      <td>NaN</td>\n",
       "      <td>NaN</td>\n",
       "      <td>NaN</td>\n",
       "      <td>NaN</td>\n",
       "      <td>NaN</td>\n",
       "      <td>NaN</td>\n",
       "      <td>NaN</td>\n",
       "    </tr>\n",
       "    <tr>\n",
       "      <th>1989</th>\n",
       "      <td>1.7220</td>\n",
       "      <td>NaN</td>\n",
       "      <td>NaN</td>\n",
       "      <td>NaN</td>\n",
       "      <td>NaN</td>\n",
       "      <td>NaN</td>\n",
       "      <td>NaN</td>\n",
       "      <td>NaN</td>\n",
       "      <td>NaN</td>\n",
       "    </tr>\n",
       "  </tbody>\n",
       "</table>"
      ],
      "text/plain": [
       "          12-24     24-36     36-48     48-60     60-72     72-84     84-96    96-108   108-120\n",
       "1981   1.649840  1.319023  1.082332  1.146887  1.195140  1.112972  1.033261  1.002902  1.009217\n",
       "1982  40.424528  1.259277  1.976649  1.292143  1.131839  0.993397  1.043431  1.033088       NaN\n",
       "1983   2.636950  1.542816  1.163483  1.160709  1.185695  1.029216  1.026374       NaN       NaN\n",
       "1984   2.043324  1.364431  1.348852  1.101524  1.113469  1.037726       NaN       NaN       NaN\n",
       "1985   8.759158  1.655619  1.399912  1.170779  1.008669       NaN       NaN       NaN       NaN\n",
       "1986   4.259749  1.815671  1.105367  1.225512       NaN       NaN       NaN       NaN       NaN\n",
       "1987   7.217235  2.722886  1.124977       NaN       NaN       NaN       NaN       NaN       NaN\n",
       "1988   5.142117  1.887433       NaN       NaN       NaN       NaN       NaN       NaN       NaN\n",
       "1989   1.721992       NaN       NaN       NaN       NaN       NaN       NaN       NaN       NaN"
      ]
     },
     "execution_count": 6,
     "metadata": {},
     "output_type": "execute_result"
    }
   ],
   "source": [
    "raa.link_ratio"
   ]
  },
  {
   "cell_type": "markdown",
   "metadata": {},
   "source": [
    "You can also apply heatmap over the `link_ratio`s, the heatmap is applied over columns."
   ]
  },
  {
   "cell_type": "code",
   "execution_count": 7,
   "metadata": {},
   "outputs": [
    {
     "data": {
      "text/html": [
       "<style  type=\"text/css\" >\n",
       "#T_d9a7a_row0_col0,#T_d9a7a_row0_col2,#T_d9a7a_row0_col7,#T_d9a7a_row0_col8,#T_d9a7a_row1_col1,#T_d9a7a_row1_col5,#T_d9a7a_row1_col8,#T_d9a7a_row2_col6,#T_d9a7a_row2_col8,#T_d9a7a_row3_col3,#T_d9a7a_row3_col8,#T_d9a7a_row4_col4,#T_d9a7a_row4_col8,#T_d9a7a_row5_col8,#T_d9a7a_row6_col8,#T_d9a7a_row7_col8,#T_d9a7a_row8_col0,#T_d9a7a_row8_col8{\n",
       "            background-color:  #fff5f0;\n",
       "            color:  #000000;\n",
       "        }#T_d9a7a_row0_col1{\n",
       "            background-color:  #ffeee7;\n",
       "            color:  #000000;\n",
       "        }#T_d9a7a_row0_col3{\n",
       "            background-color:  #fcbfa7;\n",
       "            color:  #000000;\n",
       "        }#T_d9a7a_row0_col4,#T_d9a7a_row0_col5,#T_d9a7a_row1_col0,#T_d9a7a_row1_col2,#T_d9a7a_row1_col3,#T_d9a7a_row1_col6,#T_d9a7a_row1_col7,#T_d9a7a_row6_col1{\n",
       "            background-color:  #67000d;\n",
       "            color:  #f1f1f1;\n",
       "        }#T_d9a7a_row0_col6{\n",
       "            background-color:  #fc8969;\n",
       "            color:  #000000;\n",
       "        }#T_d9a7a_row1_col4{\n",
       "            background-color:  #e43027;\n",
       "            color:  #f1f1f1;\n",
       "        }#T_d9a7a_row2_col0,#T_d9a7a_row5_col2{\n",
       "            background-color:  #fff1ea;\n",
       "            color:  #000000;\n",
       "        }#T_d9a7a_row2_col1{\n",
       "            background-color:  #fdccb8;\n",
       "            color:  #000000;\n",
       "        }#T_d9a7a_row2_col2,#T_d9a7a_row7_col0{\n",
       "            background-color:  #fee6da;\n",
       "            color:  #000000;\n",
       "        }#T_d9a7a_row2_col3{\n",
       "            background-color:  #fca78b;\n",
       "            color:  #000000;\n",
       "        }#T_d9a7a_row2_col4{\n",
       "            background-color:  #7e0610;\n",
       "            color:  #f1f1f1;\n",
       "        }#T_d9a7a_row2_col5,#T_d9a7a_row3_col2{\n",
       "            background-color:  #fcab8f;\n",
       "            color:  #000000;\n",
       "        }#T_d9a7a_row2_col7,#T_d9a7a_row3_col6,#T_d9a7a_row3_col7,#T_d9a7a_row4_col5,#T_d9a7a_row4_col6,#T_d9a7a_row4_col7,#T_d9a7a_row5_col4,#T_d9a7a_row5_col5,#T_d9a7a_row5_col6,#T_d9a7a_row5_col7,#T_d9a7a_row6_col3,#T_d9a7a_row6_col4,#T_d9a7a_row6_col5,#T_d9a7a_row6_col6,#T_d9a7a_row6_col7,#T_d9a7a_row7_col2,#T_d9a7a_row7_col3,#T_d9a7a_row7_col4,#T_d9a7a_row7_col5,#T_d9a7a_row7_col6,#T_d9a7a_row7_col7,#T_d9a7a_row8_col1,#T_d9a7a_row8_col2,#T_d9a7a_row8_col3,#T_d9a7a_row8_col4,#T_d9a7a_row8_col5,#T_d9a7a_row8_col6,#T_d9a7a_row8_col7{\n",
       "            background-color:  #000000;\n",
       "            color:  #f1f1f1;\n",
       "        }#T_d9a7a_row3_col0{\n",
       "            background-color:  #fff4ee;\n",
       "            color:  #000000;\n",
       "        }#T_d9a7a_row3_col1{\n",
       "            background-color:  #fee9df;\n",
       "            color:  #000000;\n",
       "        }#T_d9a7a_row3_col4{\n",
       "            background-color:  #f5533b;\n",
       "            color:  #000000;\n",
       "        }#T_d9a7a_row3_col5{\n",
       "            background-color:  #fc9474;\n",
       "            color:  #000000;\n",
       "        }#T_d9a7a_row4_col0{\n",
       "            background-color:  #fdd0bc;\n",
       "            color:  #000000;\n",
       "        }#T_d9a7a_row4_col1{\n",
       "            background-color:  #fcb499;\n",
       "            color:  #000000;\n",
       "        }#T_d9a7a_row4_col2{\n",
       "            background-color:  #fc997a;\n",
       "            color:  #000000;\n",
       "        }#T_d9a7a_row4_col3{\n",
       "            background-color:  #fc9576;\n",
       "            color:  #000000;\n",
       "        }#T_d9a7a_row5_col0{\n",
       "            background-color:  #feeae0;\n",
       "            color:  #000000;\n",
       "        }#T_d9a7a_row5_col1{\n",
       "            background-color:  #fc9070;\n",
       "            color:  #000000;\n",
       "        }#T_d9a7a_row5_col3{\n",
       "            background-color:  #e83429;\n",
       "            color:  #f1f1f1;\n",
       "        }#T_d9a7a_row6_col0{\n",
       "            background-color:  #fedbcc;\n",
       "            color:  #000000;\n",
       "        }#T_d9a7a_row6_col2{\n",
       "            background-color:  #ffede5;\n",
       "            color:  #000000;\n",
       "        }#T_d9a7a_row7_col1{\n",
       "            background-color:  #fc8161;\n",
       "            color:  #000000;\n",
       "        }</style><table id=\"T_d9a7a_\" ><thead>    <tr>        <th class=\"blank level0\" ></th>        <th class=\"col_heading level0 col0\" >12-24</th>        <th class=\"col_heading level0 col1\" >24-36</th>        <th class=\"col_heading level0 col2\" >36-48</th>        <th class=\"col_heading level0 col3\" >48-60</th>        <th class=\"col_heading level0 col4\" >60-72</th>        <th class=\"col_heading level0 col5\" >72-84</th>        <th class=\"col_heading level0 col6\" >84-96</th>        <th class=\"col_heading level0 col7\" >96-108</th>        <th class=\"col_heading level0 col8\" >108-120</th>    </tr></thead><tbody>\n",
       "                <tr>\n",
       "                        <th id=\"T_d9a7a_level0_row0\" class=\"row_heading level0 row0\" >1981</th>\n",
       "                        <td id=\"T_d9a7a_row0_col0\" class=\"data row0 col0\" >1.6498</td>\n",
       "                        <td id=\"T_d9a7a_row0_col1\" class=\"data row0 col1\" >1.3190</td>\n",
       "                        <td id=\"T_d9a7a_row0_col2\" class=\"data row0 col2\" >1.0823</td>\n",
       "                        <td id=\"T_d9a7a_row0_col3\" class=\"data row0 col3\" >1.1469</td>\n",
       "                        <td id=\"T_d9a7a_row0_col4\" class=\"data row0 col4\" >1.1951</td>\n",
       "                        <td id=\"T_d9a7a_row0_col5\" class=\"data row0 col5\" >1.1130</td>\n",
       "                        <td id=\"T_d9a7a_row0_col6\" class=\"data row0 col6\" >1.0333</td>\n",
       "                        <td id=\"T_d9a7a_row0_col7\" class=\"data row0 col7\" >1.0029</td>\n",
       "                        <td id=\"T_d9a7a_row0_col8\" class=\"data row0 col8\" >1.0092</td>\n",
       "            </tr>\n",
       "            <tr>\n",
       "                        <th id=\"T_d9a7a_level0_row1\" class=\"row_heading level0 row1\" >1982</th>\n",
       "                        <td id=\"T_d9a7a_row1_col0\" class=\"data row1 col0\" >40.4245</td>\n",
       "                        <td id=\"T_d9a7a_row1_col1\" class=\"data row1 col1\" >1.2593</td>\n",
       "                        <td id=\"T_d9a7a_row1_col2\" class=\"data row1 col2\" >1.9766</td>\n",
       "                        <td id=\"T_d9a7a_row1_col3\" class=\"data row1 col3\" >1.2921</td>\n",
       "                        <td id=\"T_d9a7a_row1_col4\" class=\"data row1 col4\" >1.1318</td>\n",
       "                        <td id=\"T_d9a7a_row1_col5\" class=\"data row1 col5\" >0.9934</td>\n",
       "                        <td id=\"T_d9a7a_row1_col6\" class=\"data row1 col6\" >1.0434</td>\n",
       "                        <td id=\"T_d9a7a_row1_col7\" class=\"data row1 col7\" >1.0331</td>\n",
       "                        <td></td>\n",
       "            </tr>\n",
       "            <tr>\n",
       "                        <th id=\"T_d9a7a_level0_row2\" class=\"row_heading level0 row2\" >1983</th>\n",
       "                        <td id=\"T_d9a7a_row2_col0\" class=\"data row2 col0\" >2.6370</td>\n",
       "                        <td id=\"T_d9a7a_row2_col1\" class=\"data row2 col1\" >1.5428</td>\n",
       "                        <td id=\"T_d9a7a_row2_col2\" class=\"data row2 col2\" >1.1635</td>\n",
       "                        <td id=\"T_d9a7a_row2_col3\" class=\"data row2 col3\" >1.1607</td>\n",
       "                        <td id=\"T_d9a7a_row2_col4\" class=\"data row2 col4\" >1.1857</td>\n",
       "                        <td id=\"T_d9a7a_row2_col5\" class=\"data row2 col5\" >1.0292</td>\n",
       "                        <td id=\"T_d9a7a_row2_col6\" class=\"data row2 col6\" >1.0264</td>\n",
       "                        <td></td>\n",
       "                        <td></td>\n",
       "            </tr>\n",
       "            <tr>\n",
       "                        <th id=\"T_d9a7a_level0_row3\" class=\"row_heading level0 row3\" >1984</th>\n",
       "                        <td id=\"T_d9a7a_row3_col0\" class=\"data row3 col0\" >2.0433</td>\n",
       "                        <td id=\"T_d9a7a_row3_col1\" class=\"data row3 col1\" >1.3644</td>\n",
       "                        <td id=\"T_d9a7a_row3_col2\" class=\"data row3 col2\" >1.3489</td>\n",
       "                        <td id=\"T_d9a7a_row3_col3\" class=\"data row3 col3\" >1.1015</td>\n",
       "                        <td id=\"T_d9a7a_row3_col4\" class=\"data row3 col4\" >1.1135</td>\n",
       "                        <td id=\"T_d9a7a_row3_col5\" class=\"data row3 col5\" >1.0377</td>\n",
       "                        <td></td>\n",
       "                        <td></td>\n",
       "                        <td></td>\n",
       "            </tr>\n",
       "            <tr>\n",
       "                        <th id=\"T_d9a7a_level0_row4\" class=\"row_heading level0 row4\" >1985</th>\n",
       "                        <td id=\"T_d9a7a_row4_col0\" class=\"data row4 col0\" >8.7592</td>\n",
       "                        <td id=\"T_d9a7a_row4_col1\" class=\"data row4 col1\" >1.6556</td>\n",
       "                        <td id=\"T_d9a7a_row4_col2\" class=\"data row4 col2\" >1.3999</td>\n",
       "                        <td id=\"T_d9a7a_row4_col3\" class=\"data row4 col3\" >1.1708</td>\n",
       "                        <td id=\"T_d9a7a_row4_col4\" class=\"data row4 col4\" >1.0087</td>\n",
       "                        <td></td>\n",
       "                        <td></td>\n",
       "                        <td></td>\n",
       "                        <td></td>\n",
       "            </tr>\n",
       "            <tr>\n",
       "                        <th id=\"T_d9a7a_level0_row5\" class=\"row_heading level0 row5\" >1986</th>\n",
       "                        <td id=\"T_d9a7a_row5_col0\" class=\"data row5 col0\" >4.2597</td>\n",
       "                        <td id=\"T_d9a7a_row5_col1\" class=\"data row5 col1\" >1.8157</td>\n",
       "                        <td id=\"T_d9a7a_row5_col2\" class=\"data row5 col2\" >1.1054</td>\n",
       "                        <td id=\"T_d9a7a_row5_col3\" class=\"data row5 col3\" >1.2255</td>\n",
       "                        <td></td>\n",
       "                        <td></td>\n",
       "                        <td></td>\n",
       "                        <td></td>\n",
       "                        <td></td>\n",
       "            </tr>\n",
       "            <tr>\n",
       "                        <th id=\"T_d9a7a_level0_row6\" class=\"row_heading level0 row6\" >1987</th>\n",
       "                        <td id=\"T_d9a7a_row6_col0\" class=\"data row6 col0\" >7.2172</td>\n",
       "                        <td id=\"T_d9a7a_row6_col1\" class=\"data row6 col1\" >2.7229</td>\n",
       "                        <td id=\"T_d9a7a_row6_col2\" class=\"data row6 col2\" >1.1250</td>\n",
       "                        <td></td>\n",
       "                        <td></td>\n",
       "                        <td></td>\n",
       "                        <td></td>\n",
       "                        <td></td>\n",
       "                        <td></td>\n",
       "            </tr>\n",
       "            <tr>\n",
       "                        <th id=\"T_d9a7a_level0_row7\" class=\"row_heading level0 row7\" >1988</th>\n",
       "                        <td id=\"T_d9a7a_row7_col0\" class=\"data row7 col0\" >5.1421</td>\n",
       "                        <td id=\"T_d9a7a_row7_col1\" class=\"data row7 col1\" >1.8874</td>\n",
       "                        <td></td>\n",
       "                        <td></td>\n",
       "                        <td></td>\n",
       "                        <td></td>\n",
       "                        <td></td>\n",
       "                        <td></td>\n",
       "                        <td></td>\n",
       "            </tr>\n",
       "            <tr>\n",
       "                        <th id=\"T_d9a7a_level0_row8\" class=\"row_heading level0 row8\" >1989</th>\n",
       "                        <td id=\"T_d9a7a_row8_col0\" class=\"data row8 col0\" >1.7220</td>\n",
       "                        <td></td>\n",
       "                        <td></td>\n",
       "                        <td></td>\n",
       "                        <td></td>\n",
       "                        <td></td>\n",
       "                        <td></td>\n",
       "                        <td></td>\n",
       "                        <td></td>\n",
       "            </tr>\n",
       "    </tbody></table>"
      ],
      "text/plain": [
       "<IPython.core.display.HTML object>"
      ]
     },
     "execution_count": 7,
     "metadata": {},
     "output_type": "execute_result"
    }
   ],
   "source": [
    "raa.link_ratio.heatmap()"
   ]
  },
  {
   "cell_type": "markdown",
   "metadata": {},
   "source": [
    "We can also view (and manipulate) the `latest_diagonal` of the triangle:"
   ]
  },
  {
   "cell_type": "code",
   "execution_count": 8,
   "metadata": {},
   "outputs": [
    {
     "name": "stderr",
     "output_type": "stream",
     "text": [
      "/opt/anaconda3/lib/python3.8/site-packages/ipykernel/ipkernel.py:283: DeprecationWarning: `should_run_async` will not call `transform_cell` automatically in the future. Please pass the result to `transformed_cell` argument and any exception that happen during thetransform in `preprocessing_exc_tuple` in IPython 7.17 and above.\n",
      "  and should_run_async(code)\n"
     ]
    },
    {
     "data": {
      "text/html": [
       "<table border=\"1\" class=\"dataframe\">\n",
       "  <thead>\n",
       "    <tr style=\"text-align: right;\">\n",
       "      <th></th>\n",
       "      <th>1990</th>\n",
       "    </tr>\n",
       "  </thead>\n",
       "  <tbody>\n",
       "    <tr>\n",
       "      <th>1981</th>\n",
       "      <td>18,834</td>\n",
       "    </tr>\n",
       "    <tr>\n",
       "      <th>1982</th>\n",
       "      <td>16,704</td>\n",
       "    </tr>\n",
       "    <tr>\n",
       "      <th>1983</th>\n",
       "      <td>23,466</td>\n",
       "    </tr>\n",
       "    <tr>\n",
       "      <th>1984</th>\n",
       "      <td>27,067</td>\n",
       "    </tr>\n",
       "    <tr>\n",
       "      <th>1985</th>\n",
       "      <td>26,180</td>\n",
       "    </tr>\n",
       "    <tr>\n",
       "      <th>1986</th>\n",
       "      <td>15,852</td>\n",
       "    </tr>\n",
       "    <tr>\n",
       "      <th>1987</th>\n",
       "      <td>12,314</td>\n",
       "    </tr>\n",
       "    <tr>\n",
       "      <th>1988</th>\n",
       "      <td>13,112</td>\n",
       "    </tr>\n",
       "    <tr>\n",
       "      <th>1989</th>\n",
       "      <td>5,395</td>\n",
       "    </tr>\n",
       "    <tr>\n",
       "      <th>1990</th>\n",
       "      <td>2,063</td>\n",
       "    </tr>\n",
       "  </tbody>\n",
       "</table>"
      ],
      "text/plain": [
       "         1990\n",
       "1981  18834.0\n",
       "1982  16704.0\n",
       "1983  23466.0\n",
       "1984  27067.0\n",
       "1985  26180.0\n",
       "1986  15852.0\n",
       "1987  12314.0\n",
       "1988  13112.0\n",
       "1989   5395.0\n",
       "1990   2063.0"
      ]
     },
     "execution_count": 8,
     "metadata": {},
     "output_type": "execute_result"
    }
   ],
   "source": [
    "raa.latest_diagonal"
   ]
  },
  {
   "cell_type": "code",
   "execution_count": 9,
   "metadata": {},
   "outputs": [
    {
     "name": "stderr",
     "output_type": "stream",
     "text": [
      "/opt/anaconda3/lib/python3.8/site-packages/ipykernel/ipkernel.py:283: DeprecationWarning: `should_run_async` will not call `transform_cell` automatically in the future. Please pass the result to `transformed_cell` argument and any exception that happen during thetransform in `preprocessing_exc_tuple` in IPython 7.17 and above.\n",
      "  and should_run_async(code)\n"
     ]
    },
    {
     "data": {
      "text/html": [
       "<table border=\"1\" class=\"dataframe\">\n",
       "  <thead>\n",
       "    <tr style=\"text-align: right;\">\n",
       "      <th></th>\n",
       "      <th>1990</th>\n",
       "    </tr>\n",
       "  </thead>\n",
       "  <tbody>\n",
       "    <tr>\n",
       "      <th>1981</th>\n",
       "      <td>18.83</td>\n",
       "    </tr>\n",
       "    <tr>\n",
       "      <th>1982</th>\n",
       "      <td>16.70</td>\n",
       "    </tr>\n",
       "    <tr>\n",
       "      <th>1983</th>\n",
       "      <td>23.47</td>\n",
       "    </tr>\n",
       "    <tr>\n",
       "      <th>1984</th>\n",
       "      <td>27.07</td>\n",
       "    </tr>\n",
       "    <tr>\n",
       "      <th>1985</th>\n",
       "      <td>26.18</td>\n",
       "    </tr>\n",
       "    <tr>\n",
       "      <th>1986</th>\n",
       "      <td>15.85</td>\n",
       "    </tr>\n",
       "    <tr>\n",
       "      <th>1987</th>\n",
       "      <td>12.31</td>\n",
       "    </tr>\n",
       "    <tr>\n",
       "      <th>1988</th>\n",
       "      <td>13.11</td>\n",
       "    </tr>\n",
       "    <tr>\n",
       "      <th>1989</th>\n",
       "      <td>5.39</td>\n",
       "    </tr>\n",
       "    <tr>\n",
       "      <th>1990</th>\n",
       "      <td>2.06</td>\n",
       "    </tr>\n",
       "  </tbody>\n",
       "</table>"
      ],
      "text/plain": [
       "        1990\n",
       "1981  18.834\n",
       "1982  16.704\n",
       "1983  23.466\n",
       "1984  27.067\n",
       "1985  26.180\n",
       "1986  15.852\n",
       "1987  12.314\n",
       "1988  13.112\n",
       "1989   5.395\n",
       "1990   2.063"
      ]
     },
     "execution_count": 9,
     "metadata": {},
     "output_type": "execute_result"
    }
   ],
   "source": [
    "raa.latest_diagonal/1000"
   ]
  },
  {
   "cell_type": "markdown",
   "metadata": {},
   "source": [
    "The latest diagonal also corresponds to a `valuation_date`:"
   ]
  },
  {
   "cell_type": "code",
   "execution_count": 10,
   "metadata": {},
   "outputs": [
    {
     "name": "stderr",
     "output_type": "stream",
     "text": [
      "/opt/anaconda3/lib/python3.8/site-packages/ipykernel/ipkernel.py:283: DeprecationWarning: `should_run_async` will not call `transform_cell` automatically in the future. Please pass the result to `transformed_cell` argument and any exception that happen during thetransform in `preprocessing_exc_tuple` in IPython 7.17 and above.\n",
      "  and should_run_async(code)\n"
     ]
    },
    {
     "data": {
      "text/plain": [
       "Timestamp('1990-12-31 23:59:59.999999999')"
      ]
     },
     "execution_count": 10,
     "metadata": {},
     "output_type": "execute_result"
    }
   ],
   "source": [
    "raa.valuation_date"
   ]
  },
  {
   "cell_type": "markdown",
   "metadata": {},
   "source": [
    "We can also tell whether our triangle:\n",
    "* `is_cumulative`: returns True if the data across the development periods is cumulative, or False if it is incremental\n",
    "* `is_ultimate`: returns True if the ultimate values are contained in the triangle\n",
    "* `is_val_tri`: returns True if the development period is stated as a valuation data as opposed to an age, i.e. Schedule P style triangle (True) or more common triangle type by age (False)\n",
    "* `is_full`: returns True if the triangle has been \"squared\""
   ]
  },
  {
   "cell_type": "code",
   "execution_count": 11,
   "metadata": {},
   "outputs": [
    {
     "name": "stdout",
     "output_type": "stream",
     "text": [
      "Is triangle cumulative? True\n",
      "Does triangle contain ultimate projections? False\n",
      "Is this a valuation triangle? False\n",
      "Has the triangle been \"squared\"? False\n"
     ]
    }
   ],
   "source": [
    "print('Is triangle cumulative?', raa.is_cumulative)\n",
    "print('Does triangle contain ultimate projections?', raa.is_ultimate)\n",
    "print('Is this a valuation triangle?', raa.is_val_tri)\n",
    "print('Has the triangle been \"squared\"?', raa.is_full)"
   ]
  },
  {
   "cell_type": "markdown",
   "metadata": {},
   "source": [
    "We can also inspect the triangle to understand its data granularity with `origin_grain` and `development_grain`:"
   ]
  },
  {
   "cell_type": "code",
   "execution_count": 12,
   "metadata": {},
   "outputs": [
    {
     "name": "stdout",
     "output_type": "stream",
     "text": [
      "Origin grain:  Y\n",
      "Development grain:  Y\n"
     ]
    }
   ],
   "source": [
    "print('Origin grain: ', raa.origin_grain)\n",
    "print('Development grain: ', raa.development_grain)"
   ]
  },
  {
   "cell_type": "markdown",
   "metadata": {},
   "source": [
    "`chainladder` supports monthly (\"M\"), quarterly (\"Q\") and yearly (\"Y\") grains for both Origin and Development."
   ]
  },
  {
   "cell_type": "markdown",
   "metadata": {},
   "source": [
    "### The chainladder.Triangle structure\n",
    "The triangle described so far is a two-dimensional (accident date by valuation date) structure that spans multiple cells of data. This is a useful structure for exploring individual triangles, but becomes more problematic when working with **sets** of triangles. Pandas does not have a triangle `dtype`, but if it did, working with sets of triangles would be much more convenient. To facilitate working with more than one triangle at a time the `chainladder.Triangle` acts like a pandas dataframe (with an index and columns) where each cell (row x col) is an individual triangle.  This structure manifests itself as a four-dimensional space. Let's take a look at `clrd`."
   ]
  },
  {
   "cell_type": "code",
   "execution_count": 13,
   "metadata": {},
   "outputs": [
    {
     "data": {
      "text/html": [
       "<div>\n",
       "<style scoped>\n",
       "    .dataframe tbody tr th:only-of-type {\n",
       "        vertical-align: middle;\n",
       "    }\n",
       "\n",
       "    .dataframe tbody tr th {\n",
       "        vertical-align: top;\n",
       "    }\n",
       "\n",
       "    .dataframe thead th {\n",
       "        text-align: right;\n",
       "    }\n",
       "</style>\n",
       "<table border=\"1\" class=\"dataframe\">\n",
       "  <thead>\n",
       "    <tr style=\"text-align: right;\">\n",
       "      <th></th>\n",
       "      <th>GRCODE</th>\n",
       "      <th>GRNAME</th>\n",
       "      <th>AccidentYear</th>\n",
       "      <th>DevelopmentYear</th>\n",
       "      <th>DevelopmentLag</th>\n",
       "      <th>IncurLoss</th>\n",
       "      <th>CumPaidLoss</th>\n",
       "      <th>BulkLoss</th>\n",
       "      <th>EarnedPremDIR</th>\n",
       "      <th>EarnedPremCeded</th>\n",
       "      <th>EarnedPremNet</th>\n",
       "      <th>Single</th>\n",
       "      <th>PostedReserve97</th>\n",
       "      <th>LOB</th>\n",
       "    </tr>\n",
       "  </thead>\n",
       "  <tbody>\n",
       "    <tr>\n",
       "      <th>0</th>\n",
       "      <td>86</td>\n",
       "      <td>Allstate Ins Co Grp</td>\n",
       "      <td>1988</td>\n",
       "      <td>1988</td>\n",
       "      <td>1</td>\n",
       "      <td>367404</td>\n",
       "      <td>70571</td>\n",
       "      <td>127737</td>\n",
       "      <td>400699</td>\n",
       "      <td>5957</td>\n",
       "      <td>394742</td>\n",
       "      <td>0</td>\n",
       "      <td>281872</td>\n",
       "      <td>wkcomp</td>\n",
       "    </tr>\n",
       "    <tr>\n",
       "      <th>1</th>\n",
       "      <td>86</td>\n",
       "      <td>Allstate Ins Co Grp</td>\n",
       "      <td>1988</td>\n",
       "      <td>1989</td>\n",
       "      <td>2</td>\n",
       "      <td>362988</td>\n",
       "      <td>155905</td>\n",
       "      <td>60173</td>\n",
       "      <td>400699</td>\n",
       "      <td>5957</td>\n",
       "      <td>394742</td>\n",
       "      <td>0</td>\n",
       "      <td>281872</td>\n",
       "      <td>wkcomp</td>\n",
       "    </tr>\n",
       "    <tr>\n",
       "      <th>2</th>\n",
       "      <td>86</td>\n",
       "      <td>Allstate Ins Co Grp</td>\n",
       "      <td>1988</td>\n",
       "      <td>1990</td>\n",
       "      <td>3</td>\n",
       "      <td>347288</td>\n",
       "      <td>220744</td>\n",
       "      <td>27763</td>\n",
       "      <td>400699</td>\n",
       "      <td>5957</td>\n",
       "      <td>394742</td>\n",
       "      <td>0</td>\n",
       "      <td>281872</td>\n",
       "      <td>wkcomp</td>\n",
       "    </tr>\n",
       "    <tr>\n",
       "      <th>3</th>\n",
       "      <td>86</td>\n",
       "      <td>Allstate Ins Co Grp</td>\n",
       "      <td>1988</td>\n",
       "      <td>1991</td>\n",
       "      <td>4</td>\n",
       "      <td>330648</td>\n",
       "      <td>251595</td>\n",
       "      <td>15280</td>\n",
       "      <td>400699</td>\n",
       "      <td>5957</td>\n",
       "      <td>394742</td>\n",
       "      <td>0</td>\n",
       "      <td>281872</td>\n",
       "      <td>wkcomp</td>\n",
       "    </tr>\n",
       "    <tr>\n",
       "      <th>4</th>\n",
       "      <td>86</td>\n",
       "      <td>Allstate Ins Co Grp</td>\n",
       "      <td>1988</td>\n",
       "      <td>1992</td>\n",
       "      <td>5</td>\n",
       "      <td>354690</td>\n",
       "      <td>274156</td>\n",
       "      <td>27689</td>\n",
       "      <td>400699</td>\n",
       "      <td>5957</td>\n",
       "      <td>394742</td>\n",
       "      <td>0</td>\n",
       "      <td>281872</td>\n",
       "      <td>wkcomp</td>\n",
       "    </tr>\n",
       "    <tr>\n",
       "      <th>...</th>\n",
       "      <td>...</td>\n",
       "      <td>...</td>\n",
       "      <td>...</td>\n",
       "      <td>...</td>\n",
       "      <td>...</td>\n",
       "      <td>...</td>\n",
       "      <td>...</td>\n",
       "      <td>...</td>\n",
       "      <td>...</td>\n",
       "      <td>...</td>\n",
       "      <td>...</td>\n",
       "      <td>...</td>\n",
       "      <td>...</td>\n",
       "      <td>...</td>\n",
       "    </tr>\n",
       "    <tr>\n",
       "      <th>42840</th>\n",
       "      <td>44598</td>\n",
       "      <td>College Liability Ins Co Ltd RRG</td>\n",
       "      <td>1995</td>\n",
       "      <td>1996</td>\n",
       "      <td>2</td>\n",
       "      <td>343</td>\n",
       "      <td>249</td>\n",
       "      <td>82</td>\n",
       "      <td>397</td>\n",
       "      <td>0</td>\n",
       "      <td>397</td>\n",
       "      <td>1</td>\n",
       "      <td>630</td>\n",
       "      <td>othliab</td>\n",
       "    </tr>\n",
       "    <tr>\n",
       "      <th>42841</th>\n",
       "      <td>44598</td>\n",
       "      <td>College Liability Ins Co Ltd RRG</td>\n",
       "      <td>1995</td>\n",
       "      <td>1997</td>\n",
       "      <td>3</td>\n",
       "      <td>839</td>\n",
       "      <td>575</td>\n",
       "      <td>190</td>\n",
       "      <td>397</td>\n",
       "      <td>0</td>\n",
       "      <td>397</td>\n",
       "      <td>1</td>\n",
       "      <td>630</td>\n",
       "      <td>othliab</td>\n",
       "    </tr>\n",
       "    <tr>\n",
       "      <th>42842</th>\n",
       "      <td>44598</td>\n",
       "      <td>College Liability Ins Co Ltd RRG</td>\n",
       "      <td>1996</td>\n",
       "      <td>1996</td>\n",
       "      <td>1</td>\n",
       "      <td>125</td>\n",
       "      <td>6</td>\n",
       "      <td>98</td>\n",
       "      <td>257</td>\n",
       "      <td>0</td>\n",
       "      <td>257</td>\n",
       "      <td>1</td>\n",
       "      <td>630</td>\n",
       "      <td>othliab</td>\n",
       "    </tr>\n",
       "    <tr>\n",
       "      <th>42843</th>\n",
       "      <td>44598</td>\n",
       "      <td>College Liability Ins Co Ltd RRG</td>\n",
       "      <td>1996</td>\n",
       "      <td>1997</td>\n",
       "      <td>2</td>\n",
       "      <td>95</td>\n",
       "      <td>17</td>\n",
       "      <td>28</td>\n",
       "      <td>257</td>\n",
       "      <td>0</td>\n",
       "      <td>257</td>\n",
       "      <td>1</td>\n",
       "      <td>630</td>\n",
       "      <td>othliab</td>\n",
       "    </tr>\n",
       "    <tr>\n",
       "      <th>42844</th>\n",
       "      <td>44598</td>\n",
       "      <td>College Liability Ins Co Ltd RRG</td>\n",
       "      <td>1997</td>\n",
       "      <td>1997</td>\n",
       "      <td>1</td>\n",
       "      <td>83</td>\n",
       "      <td>4</td>\n",
       "      <td>77</td>\n",
       "      <td>256</td>\n",
       "      <td>0</td>\n",
       "      <td>256</td>\n",
       "      <td>1</td>\n",
       "      <td>630</td>\n",
       "      <td>othliab</td>\n",
       "    </tr>\n",
       "  </tbody>\n",
       "</table>\n",
       "<p>42845 rows × 14 columns</p>\n",
       "</div>"
      ],
      "text/plain": [
       "       GRCODE                            GRNAME  AccidentYear  \\\n",
       "0          86               Allstate Ins Co Grp          1988   \n",
       "1          86               Allstate Ins Co Grp          1988   \n",
       "2          86               Allstate Ins Co Grp          1988   \n",
       "3          86               Allstate Ins Co Grp          1988   \n",
       "4          86               Allstate Ins Co Grp          1988   \n",
       "...       ...                               ...           ...   \n",
       "42840   44598  College Liability Ins Co Ltd RRG          1995   \n",
       "42841   44598  College Liability Ins Co Ltd RRG          1995   \n",
       "42842   44598  College Liability Ins Co Ltd RRG          1996   \n",
       "42843   44598  College Liability Ins Co Ltd RRG          1996   \n",
       "42844   44598  College Liability Ins Co Ltd RRG          1997   \n",
       "\n",
       "       DevelopmentYear  DevelopmentLag  IncurLoss  CumPaidLoss  BulkLoss  \\\n",
       "0                 1988               1     367404        70571    127737   \n",
       "1                 1989               2     362988       155905     60173   \n",
       "2                 1990               3     347288       220744     27763   \n",
       "3                 1991               4     330648       251595     15280   \n",
       "4                 1992               5     354690       274156     27689   \n",
       "...                ...             ...        ...          ...       ...   \n",
       "42840             1996               2        343          249        82   \n",
       "42841             1997               3        839          575       190   \n",
       "42842             1996               1        125            6        98   \n",
       "42843             1997               2         95           17        28   \n",
       "42844             1997               1         83            4        77   \n",
       "\n",
       "       EarnedPremDIR  EarnedPremCeded  EarnedPremNet  Single  PostedReserve97  \\\n",
       "0             400699             5957         394742       0           281872   \n",
       "1             400699             5957         394742       0           281872   \n",
       "2             400699             5957         394742       0           281872   \n",
       "3             400699             5957         394742       0           281872   \n",
       "4             400699             5957         394742       0           281872   \n",
       "...              ...              ...            ...     ...              ...   \n",
       "42840            397                0            397       1              630   \n",
       "42841            397                0            397       1              630   \n",
       "42842            257                0            257       1              630   \n",
       "42843            257                0            257       1              630   \n",
       "42844            256                0            256       1              630   \n",
       "\n",
       "           LOB  \n",
       "0       wkcomp  \n",
       "1       wkcomp  \n",
       "2       wkcomp  \n",
       "3       wkcomp  \n",
       "4       wkcomp  \n",
       "...        ...  \n",
       "42840  othliab  \n",
       "42841  othliab  \n",
       "42842  othliab  \n",
       "42843  othliab  \n",
       "42844  othliab  \n",
       "\n",
       "[42845 rows x 14 columns]"
      ]
     },
     "execution_count": 13,
     "metadata": {},
     "output_type": "execute_result"
    }
   ],
   "source": [
    "triangles_set_df = pd.read_csv(\"../../../../Chainladder-Python/chainladder-python/chainladder/utils/data/clrd.csv\")\n",
    "triangles_set_df"
   ]
  },
  {
   "cell_type": "code",
   "execution_count": 14,
   "metadata": {},
   "outputs": [
    {
     "name": "stderr",
     "output_type": "stream",
     "text": [
      "/opt/anaconda3/lib/python3.8/site-packages/ipykernel/ipkernel.py:283: DeprecationWarning: `should_run_async` will not call `transform_cell` automatically in the future. Please pass the result to `transformed_cell` argument and any exception that happen during thetransform in `preprocessing_exc_tuple` in IPython 7.17 and above.\n",
      "  and should_run_async(code)\n"
     ]
    },
    {
     "data": {
      "text/html": [
       "<table border=\"1\" class=\"dataframe\">\n",
       "  <thead>\n",
       "    <tr style=\"text-align: right;\">\n",
       "      <th></th>\n",
       "      <th>Triangle Summary</th>\n",
       "    </tr>\n",
       "  </thead>\n",
       "  <tbody>\n",
       "    <tr>\n",
       "      <th>Valuation:</th>\n",
       "      <td>1997-12</td>\n",
       "    </tr>\n",
       "    <tr>\n",
       "      <th>Grain:</th>\n",
       "      <td>OYDY</td>\n",
       "    </tr>\n",
       "    <tr>\n",
       "      <th>Shape:</th>\n",
       "      <td>(775, 6, 10, 10)</td>\n",
       "    </tr>\n",
       "    <tr>\n",
       "      <th>Index:</th>\n",
       "      <td>[GRNAME, LOB]</td>\n",
       "    </tr>\n",
       "    <tr>\n",
       "      <th>Columns:</th>\n",
       "      <td>[IncurLoss, CumPaidLoss, BulkLoss, EarnedPremDIR, EarnedPremCeded, EarnedPremNet]</td>\n",
       "    </tr>\n",
       "  </tbody>\n",
       "</table>"
      ],
      "text/plain": [
       "                                             Triangle Summary\n",
       "Valuation:                                            1997-12\n",
       "Grain:                                                   OYDY\n",
       "Shape:                                       (775, 6, 10, 10)\n",
       "Index:                                          [GRNAME, LOB]\n",
       "Columns:    [IncurLoss, CumPaidLoss, BulkLoss, EarnedPremD..."
      ]
     },
     "execution_count": 14,
     "metadata": {},
     "output_type": "execute_result"
    }
   ],
   "source": [
    "triangles_set = cl.load_sample('clrd')\n",
    "triangles_set"
   ]
  },
  {
   "cell_type": "markdown",
   "metadata": {},
   "source": [
    "Since 4D strucures do not fit nicely on 2D screens, we see a summary view instead that describes the structure rather than the underlying data itself. However, this structure behaves very much like a pandas dataframe. For example, we can explore the index and columns much like we would in pandas. \n",
    "\n",
    "We see 5 rows of information:\n",
    "* Valuation: the valuation date\n",
    "* Grain: the granularity of the data, O stands for occurrence, and D stands for development, OYDY represents a triangle with accident year by development year. Other grains that are commonly used are Q for quarterly, and M for monthly\n",
    "* Index: contains 4 numbers:\n",
    "    * 775: the number of segments, which is the combination of `index`, that represents segments. In this case, it is each of the `GRNAME` and `LOB` combination.\n",
    "    * 6: the number of triangles for each segment, which is also the columns `[IncurLoss, CumPaidLoss, BulkLoss, EarnedPremDIR, EarnedPremCeded, EarnedPremNet]`. They could be paid amounts, incurred amounts, reported counts, loss ratios, closure rates, excess losses, premium, etc.\n",
    "    * 10: the number of accident period\n",
    "    * 10: the number of valuation period"
   ]
  },
  {
   "cell_type": "code",
   "execution_count": 15,
   "metadata": {},
   "outputs": [
    {
     "name": "stderr",
     "output_type": "stream",
     "text": [
      "/opt/anaconda3/lib/python3.8/site-packages/ipykernel/ipkernel.py:283: DeprecationWarning: `should_run_async` will not call `transform_cell` automatically in the future. Please pass the result to `transformed_cell` argument and any exception that happen during thetransform in `preprocessing_exc_tuple` in IPython 7.17 and above.\n",
      "  and should_run_async(code)\n"
     ]
    },
    {
     "data": {
      "text/html": [
       "<div>\n",
       "<style scoped>\n",
       "    .dataframe tbody tr th:only-of-type {\n",
       "        vertical-align: middle;\n",
       "    }\n",
       "\n",
       "    .dataframe tbody tr th {\n",
       "        vertical-align: top;\n",
       "    }\n",
       "\n",
       "    .dataframe thead th {\n",
       "        text-align: right;\n",
       "    }\n",
       "</style>\n",
       "<table border=\"1\" class=\"dataframe\">\n",
       "  <thead>\n",
       "    <tr style=\"text-align: right;\">\n",
       "      <th></th>\n",
       "      <th>GRNAME</th>\n",
       "      <th>LOB</th>\n",
       "    </tr>\n",
       "  </thead>\n",
       "  <tbody>\n",
       "    <tr>\n",
       "      <th>0</th>\n",
       "      <td>Adriatic Ins Co</td>\n",
       "      <td>othliab</td>\n",
       "    </tr>\n",
       "    <tr>\n",
       "      <th>1</th>\n",
       "      <td>Adriatic Ins Co</td>\n",
       "      <td>ppauto</td>\n",
       "    </tr>\n",
       "    <tr>\n",
       "      <th>2</th>\n",
       "      <td>Aegis Grp</td>\n",
       "      <td>comauto</td>\n",
       "    </tr>\n",
       "    <tr>\n",
       "      <th>3</th>\n",
       "      <td>Aegis Grp</td>\n",
       "      <td>othliab</td>\n",
       "    </tr>\n",
       "    <tr>\n",
       "      <th>4</th>\n",
       "      <td>Aegis Grp</td>\n",
       "      <td>ppauto</td>\n",
       "    </tr>\n",
       "  </tbody>\n",
       "</table>\n",
       "</div>"
      ],
      "text/plain": [
       "            GRNAME      LOB\n",
       "0  Adriatic Ins Co  othliab\n",
       "1  Adriatic Ins Co   ppauto\n",
       "2        Aegis Grp  comauto\n",
       "3        Aegis Grp  othliab\n",
       "4        Aegis Grp   ppauto"
      ]
     },
     "execution_count": 15,
     "metadata": {},
     "output_type": "execute_result"
    }
   ],
   "source": [
    "triangles_set.index.head()"
   ]
  },
  {
   "cell_type": "markdown",
   "metadata": {},
   "source": [
    "Using index.head() allows us to see the first 5 segments in the set of triangles."
   ]
  },
  {
   "cell_type": "markdown",
   "metadata": {},
   "source": [
    "As a 4D structure, this sample triangle represents a collection of 775x6 or 4,650 triangles that are themselves 10 accident years x 10 development lags.  This can be seen directly in the `__repr__` as well as the calling on the `shape` property of the triangle"
   ]
  },
  {
   "cell_type": "code",
   "execution_count": 16,
   "metadata": {},
   "outputs": [
    {
     "name": "stderr",
     "output_type": "stream",
     "text": [
      "/opt/anaconda3/lib/python3.8/site-packages/ipykernel/ipkernel.py:283: DeprecationWarning: `should_run_async` will not call `transform_cell` automatically in the future. Please pass the result to `transformed_cell` argument and any exception that happen during thetransform in `preprocessing_exc_tuple` in IPython 7.17 and above.\n",
      "  and should_run_async(code)\n"
     ]
    },
    {
     "data": {
      "text/plain": [
       "(775, 6, 10, 10)"
      ]
     },
     "execution_count": 16,
     "metadata": {},
     "output_type": "execute_result"
    }
   ],
   "source": [
    "triangles_set.shape"
   ]
  },
  {
   "cell_type": "markdown",
   "metadata": {},
   "source": [
    "Under the hood, the data structure is a `numpy.ndarray` with the equivalent shape.  Like pandas, you can directly access the underlying numpy structure with the `values` property.  By exposing the underlying `ndarray` you are free to manipulate the underlying data directly with numpy should that be an easier route to solving a problem.  Keep in mind though, the `chainladder.Triangle` has several methods and properties beyond the raw numpy representation and these are kept in sync by using the `chainladder.Triangle` directly."
   ]
  },
  {
   "cell_type": "code",
   "execution_count": 17,
   "metadata": {},
   "outputs": [
    {
     "name": "stdout",
     "output_type": "stream",
     "text": [
      "<class 'numpy.ndarray'>\n",
      "(775, 6, 10, 10)\n",
      "3661713596.0\n"
     ]
    }
   ],
   "source": [
    "print(type(triangles_set.values))\n",
    "print(triangles_set.values.shape)\n",
    "print(np.nansum(triangles_set.values))"
   ]
  },
  {
   "cell_type": "markdown",
   "metadata": {},
   "source": [
    "### pandas-style slicing\n",
    "As mentioned, the 4D structure is intended to behave like a pandas `DataFrame`.  Like pandas, we can subset a dataframe by referencing individual columns by name:"
   ]
  },
  {
   "cell_type": "code",
   "execution_count": 18,
   "metadata": {},
   "outputs": [
    {
     "data": {
      "text/html": [
       "<table border=\"1\" class=\"dataframe\">\n",
       "  <thead>\n",
       "    <tr style=\"text-align: right;\">\n",
       "      <th></th>\n",
       "      <th>Triangle Summary</th>\n",
       "    </tr>\n",
       "  </thead>\n",
       "  <tbody>\n",
       "    <tr>\n",
       "      <th>Valuation:</th>\n",
       "      <td>1997-12</td>\n",
       "    </tr>\n",
       "    <tr>\n",
       "      <th>Grain:</th>\n",
       "      <td>OYDY</td>\n",
       "    </tr>\n",
       "    <tr>\n",
       "      <th>Shape:</th>\n",
       "      <td>(775, 3, 10, 10)</td>\n",
       "    </tr>\n",
       "    <tr>\n",
       "      <th>Index:</th>\n",
       "      <td>[GRNAME, LOB]</td>\n",
       "    </tr>\n",
       "    <tr>\n",
       "      <th>Columns:</th>\n",
       "      <td>[CumPaidLoss, IncurLoss, BulkLoss]</td>\n",
       "    </tr>\n",
       "  </tbody>\n",
       "</table>"
      ],
      "text/plain": [
       "                              Triangle Summary\n",
       "Valuation:                             1997-12\n",
       "Grain:                                    OYDY\n",
       "Shape:                        (775, 3, 10, 10)\n",
       "Index:                           [GRNAME, LOB]\n",
       "Columns:    [CumPaidLoss, IncurLoss, BulkLoss]"
      ]
     },
     "execution_count": 18,
     "metadata": {},
     "output_type": "execute_result"
    }
   ],
   "source": [
    "triangles_set[['CumPaidLoss', 'IncurLoss', 'BulkLoss']]"
   ]
  },
  {
   "cell_type": "markdown",
   "metadata": {},
   "source": [
    "We can also boolean-index the rows of the Triangle."
   ]
  },
  {
   "cell_type": "code",
   "execution_count": 19,
   "metadata": {},
   "outputs": [
    {
     "name": "stderr",
     "output_type": "stream",
     "text": [
      "/opt/anaconda3/lib/python3.8/site-packages/ipykernel/ipkernel.py:283: DeprecationWarning: `should_run_async` will not call `transform_cell` automatically in the future. Please pass the result to `transformed_cell` argument and any exception that happen during thetransform in `preprocessing_exc_tuple` in IPython 7.17 and above.\n",
      "  and should_run_async(code)\n"
     ]
    },
    {
     "data": {
      "text/html": [
       "<table border=\"1\" class=\"dataframe\">\n",
       "  <thead>\n",
       "    <tr style=\"text-align: right;\">\n",
       "      <th></th>\n",
       "      <th>Triangle Summary</th>\n",
       "    </tr>\n",
       "  </thead>\n",
       "  <tbody>\n",
       "    <tr>\n",
       "      <th>Valuation:</th>\n",
       "      <td>1997-12</td>\n",
       "    </tr>\n",
       "    <tr>\n",
       "      <th>Grain:</th>\n",
       "      <td>OYDY</td>\n",
       "    </tr>\n",
       "    <tr>\n",
       "      <th>Shape:</th>\n",
       "      <td>(132, 6, 10, 10)</td>\n",
       "    </tr>\n",
       "    <tr>\n",
       "      <th>Index:</th>\n",
       "      <td>[GRNAME, LOB]</td>\n",
       "    </tr>\n",
       "    <tr>\n",
       "      <th>Columns:</th>\n",
       "      <td>[IncurLoss, CumPaidLoss, BulkLoss, EarnedPremDIR, EarnedPremCeded, EarnedPremNet]</td>\n",
       "    </tr>\n",
       "  </tbody>\n",
       "</table>"
      ],
      "text/plain": [
       "                                             Triangle Summary\n",
       "Valuation:                                            1997-12\n",
       "Grain:                                                   OYDY\n",
       "Shape:                                       (132, 6, 10, 10)\n",
       "Index:                                          [GRNAME, LOB]\n",
       "Columns:    [IncurLoss, CumPaidLoss, BulkLoss, EarnedPremD..."
      ]
     },
     "execution_count": 19,
     "metadata": {},
     "output_type": "execute_result"
    }
   ],
   "source": [
    "triangles_set[triangles_set['LOB']=='wkcomp']"
   ]
  },
  {
   "cell_type": "markdown",
   "metadata": {},
   "source": [
    "We can even use the typical `loc`, `iloc` functionality similar to pandas to access subsets of data.  These features can be chained together as much as you want."
   ]
  },
  {
   "cell_type": "code",
   "execution_count": 20,
   "metadata": {},
   "outputs": [
    {
     "name": "stderr",
     "output_type": "stream",
     "text": [
      "/opt/anaconda3/lib/python3.8/site-packages/ipykernel/ipkernel.py:283: DeprecationWarning: `should_run_async` will not call `transform_cell` automatically in the future. Please pass the result to `transformed_cell` argument and any exception that happen during thetransform in `preprocessing_exc_tuple` in IPython 7.17 and above.\n",
      "  and should_run_async(code)\n"
     ]
    },
    {
     "data": {
      "text/html": [
       "<table border=\"1\" class=\"dataframe\">\n",
       "  <thead>\n",
       "    <tr style=\"text-align: right;\">\n",
       "      <th></th>\n",
       "      <th>12</th>\n",
       "      <th>24</th>\n",
       "      <th>36</th>\n",
       "      <th>48</th>\n",
       "      <th>60</th>\n",
       "      <th>72</th>\n",
       "      <th>84</th>\n",
       "      <th>96</th>\n",
       "      <th>108</th>\n",
       "      <th>120</th>\n",
       "    </tr>\n",
       "  </thead>\n",
       "  <tbody>\n",
       "    <tr>\n",
       "      <th>1988</th>\n",
       "      <td>70,571</td>\n",
       "      <td>155,905</td>\n",
       "      <td>220,744</td>\n",
       "      <td>251,595</td>\n",
       "      <td>274,156</td>\n",
       "      <td>287,676</td>\n",
       "      <td>298,499</td>\n",
       "      <td>304,873</td>\n",
       "      <td>321,808</td>\n",
       "      <td>325,322</td>\n",
       "    </tr>\n",
       "    <tr>\n",
       "      <th>1989</th>\n",
       "      <td>66,547</td>\n",
       "      <td>136,447</td>\n",
       "      <td>179,142</td>\n",
       "      <td>211,343</td>\n",
       "      <td>231,430</td>\n",
       "      <td>244,750</td>\n",
       "      <td>254,557</td>\n",
       "      <td>270,059</td>\n",
       "      <td>273,873</td>\n",
       "      <td>NaN</td>\n",
       "    </tr>\n",
       "    <tr>\n",
       "      <th>1990</th>\n",
       "      <td>52,233</td>\n",
       "      <td>133,370</td>\n",
       "      <td>178,444</td>\n",
       "      <td>204,442</td>\n",
       "      <td>222,193</td>\n",
       "      <td>232,940</td>\n",
       "      <td>253,337</td>\n",
       "      <td>256,788</td>\n",
       "      <td>NaN</td>\n",
       "      <td>NaN</td>\n",
       "    </tr>\n",
       "    <tr>\n",
       "      <th>1991</th>\n",
       "      <td>59,315</td>\n",
       "      <td>128,051</td>\n",
       "      <td>169,793</td>\n",
       "      <td>196,685</td>\n",
       "      <td>213,165</td>\n",
       "      <td>234,676</td>\n",
       "      <td>239,195</td>\n",
       "      <td>NaN</td>\n",
       "      <td>NaN</td>\n",
       "      <td>NaN</td>\n",
       "    </tr>\n",
       "    <tr>\n",
       "      <th>1992</th>\n",
       "      <td>39,991</td>\n",
       "      <td>89,873</td>\n",
       "      <td>114,117</td>\n",
       "      <td>133,003</td>\n",
       "      <td>154,362</td>\n",
       "      <td>159,496</td>\n",
       "      <td>NaN</td>\n",
       "      <td>NaN</td>\n",
       "      <td>NaN</td>\n",
       "      <td>NaN</td>\n",
       "    </tr>\n",
       "    <tr>\n",
       "      <th>1993</th>\n",
       "      <td>19,744</td>\n",
       "      <td>47,229</td>\n",
       "      <td>61,909</td>\n",
       "      <td>85,099</td>\n",
       "      <td>87,215</td>\n",
       "      <td>NaN</td>\n",
       "      <td>NaN</td>\n",
       "      <td>NaN</td>\n",
       "      <td>NaN</td>\n",
       "      <td>NaN</td>\n",
       "    </tr>\n",
       "    <tr>\n",
       "      <th>1994</th>\n",
       "      <td>20,379</td>\n",
       "      <td>46,773</td>\n",
       "      <td>88,636</td>\n",
       "      <td>91,077</td>\n",
       "      <td>NaN</td>\n",
       "      <td>NaN</td>\n",
       "      <td>NaN</td>\n",
       "      <td>NaN</td>\n",
       "      <td>NaN</td>\n",
       "      <td>NaN</td>\n",
       "    </tr>\n",
       "    <tr>\n",
       "      <th>1995</th>\n",
       "      <td>18,756</td>\n",
       "      <td>84,712</td>\n",
       "      <td>87,311</td>\n",
       "      <td>NaN</td>\n",
       "      <td>NaN</td>\n",
       "      <td>NaN</td>\n",
       "      <td>NaN</td>\n",
       "      <td>NaN</td>\n",
       "      <td>NaN</td>\n",
       "      <td>NaN</td>\n",
       "    </tr>\n",
       "    <tr>\n",
       "      <th>1996</th>\n",
       "      <td>42,609</td>\n",
       "      <td>44,916</td>\n",
       "      <td>NaN</td>\n",
       "      <td>NaN</td>\n",
       "      <td>NaN</td>\n",
       "      <td>NaN</td>\n",
       "      <td>NaN</td>\n",
       "      <td>NaN</td>\n",
       "      <td>NaN</td>\n",
       "      <td>NaN</td>\n",
       "    </tr>\n",
       "    <tr>\n",
       "      <th>1997</th>\n",
       "      <td>691</td>\n",
       "      <td>NaN</td>\n",
       "      <td>NaN</td>\n",
       "      <td>NaN</td>\n",
       "      <td>NaN</td>\n",
       "      <td>NaN</td>\n",
       "      <td>NaN</td>\n",
       "      <td>NaN</td>\n",
       "      <td>NaN</td>\n",
       "      <td>NaN</td>\n",
       "    </tr>\n",
       "  </tbody>\n",
       "</table>"
      ],
      "text/plain": [
       "          12        24        36        48        60        72        84        96        108       120\n",
       "1988  70571.0  155905.0  220744.0  251595.0  274156.0  287676.0  298499.0  304873.0  321808.0  325322.0\n",
       "1989  66547.0  136447.0  179142.0  211343.0  231430.0  244750.0  254557.0  270059.0  273873.0       NaN\n",
       "1990  52233.0  133370.0  178444.0  204442.0  222193.0  232940.0  253337.0  256788.0       NaN       NaN\n",
       "1991  59315.0  128051.0  169793.0  196685.0  213165.0  234676.0  239195.0       NaN       NaN       NaN\n",
       "1992  39991.0   89873.0  114117.0  133003.0  154362.0  159496.0       NaN       NaN       NaN       NaN\n",
       "1993  19744.0   47229.0   61909.0   85099.0   87215.0       NaN       NaN       NaN       NaN       NaN\n",
       "1994  20379.0   46773.0   88636.0   91077.0       NaN       NaN       NaN       NaN       NaN       NaN\n",
       "1995  18756.0   84712.0   87311.0       NaN       NaN       NaN       NaN       NaN       NaN       NaN\n",
       "1996  42609.0   44916.0       NaN       NaN       NaN       NaN       NaN       NaN       NaN       NaN\n",
       "1997    691.0       NaN       NaN       NaN       NaN       NaN       NaN       NaN       NaN       NaN"
      ]
     },
     "execution_count": 20,
     "metadata": {},
     "output_type": "execute_result"
    }
   ],
   "source": [
    "triangles_set.loc['Allstate Ins Co Grp'].iloc[-1]['CumPaidLoss']"
   ]
  },
  {
   "cell_type": "markdown",
   "metadata": {},
   "source": [
    "### pandas-style arithmetic\n",
    "With complete flexibility in the ability to slice subsets of triangles, we can use basic arithmetic to form new triangles.  A common approach is to perform column arithmetic to derive new columns."
   ]
  },
  {
   "cell_type": "code",
   "execution_count": 21,
   "metadata": {},
   "outputs": [
    {
     "name": "stderr",
     "output_type": "stream",
     "text": [
      "/opt/anaconda3/lib/python3.8/site-packages/ipykernel/ipkernel.py:283: DeprecationWarning: `should_run_async` will not call `transform_cell` automatically in the future. Please pass the result to `transformed_cell` argument and any exception that happen during thetransform in `preprocessing_exc_tuple` in IPython 7.17 and above.\n",
      "  and should_run_async(code)\n"
     ]
    },
    {
     "data": {
      "text/html": [
       "<table border=\"1\" class=\"dataframe\">\n",
       "  <thead>\n",
       "    <tr style=\"text-align: right;\">\n",
       "      <th></th>\n",
       "      <th>Triangle Summary</th>\n",
       "    </tr>\n",
       "  </thead>\n",
       "  <tbody>\n",
       "    <tr>\n",
       "      <th>Valuation:</th>\n",
       "      <td>1997-12</td>\n",
       "    </tr>\n",
       "    <tr>\n",
       "      <th>Grain:</th>\n",
       "      <td>OYDY</td>\n",
       "    </tr>\n",
       "    <tr>\n",
       "      <th>Shape:</th>\n",
       "      <td>(775, 2, 10, 10)</td>\n",
       "    </tr>\n",
       "    <tr>\n",
       "      <th>Index:</th>\n",
       "      <td>[GRNAME, LOB]</td>\n",
       "    </tr>\n",
       "    <tr>\n",
       "      <th>Columns:</th>\n",
       "      <td>[CaseIncurLoss, PaidToInc]</td>\n",
       "    </tr>\n",
       "  </tbody>\n",
       "</table>"
      ],
      "text/plain": [
       "                      Triangle Summary\n",
       "Valuation:                     1997-12\n",
       "Grain:                            OYDY\n",
       "Shape:                (775, 2, 10, 10)\n",
       "Index:                   [GRNAME, LOB]\n",
       "Columns:    [CaseIncurLoss, PaidToInc]"
      ]
     },
     "execution_count": 21,
     "metadata": {},
     "output_type": "execute_result"
    }
   ],
   "source": [
    "triangles_set['CaseIncurLoss'] = triangles_set['IncurLoss'] - triangles_set['BulkLoss']\n",
    "triangles_set['PaidToInc'] = triangles_set['CumPaidLoss'] / triangles_set['CaseIncurLoss']\n",
    "triangles_set[['CaseIncurLoss', 'PaidToInc']]"
   ]
  },
  {
   "cell_type": "markdown",
   "metadata": {},
   "source": [
    "Another common manipulation is aggregating the values across all rows of a dataframe/triangle"
   ]
  },
  {
   "cell_type": "code",
   "execution_count": 22,
   "metadata": {},
   "outputs": [
    {
     "name": "stderr",
     "output_type": "stream",
     "text": [
      "/opt/anaconda3/lib/python3.8/site-packages/ipykernel/ipkernel.py:283: DeprecationWarning: `should_run_async` will not call `transform_cell` automatically in the future. Please pass the result to `transformed_cell` argument and any exception that happen during thetransform in `preprocessing_exc_tuple` in IPython 7.17 and above.\n",
      "  and should_run_async(code)\n"
     ]
    },
    {
     "data": {
      "text/html": [
       "<table border=\"1\" class=\"dataframe\">\n",
       "  <thead>\n",
       "    <tr style=\"text-align: right;\">\n",
       "      <th></th>\n",
       "      <th>12</th>\n",
       "      <th>24</th>\n",
       "      <th>36</th>\n",
       "      <th>48</th>\n",
       "      <th>60</th>\n",
       "      <th>72</th>\n",
       "      <th>84</th>\n",
       "      <th>96</th>\n",
       "      <th>108</th>\n",
       "      <th>120</th>\n",
       "    </tr>\n",
       "  </thead>\n",
       "  <tbody>\n",
       "    <tr>\n",
       "      <th>1988</th>\n",
       "      <td>3,577,780</td>\n",
       "      <td>7,059,966</td>\n",
       "      <td>8,826,151</td>\n",
       "      <td>9,862,687</td>\n",
       "      <td>10,474,698</td>\n",
       "      <td>10,814,576</td>\n",
       "      <td>10,994,014</td>\n",
       "      <td>11,091,363</td>\n",
       "      <td>11,171,590</td>\n",
       "      <td>11,203,949</td>\n",
       "    </tr>\n",
       "    <tr>\n",
       "      <th>1989</th>\n",
       "      <td>4,090,680</td>\n",
       "      <td>7,964,702</td>\n",
       "      <td>9,937,520</td>\n",
       "      <td>11,098,588</td>\n",
       "      <td>11,766,488</td>\n",
       "      <td>12,118,790</td>\n",
       "      <td>12,311,629</td>\n",
       "      <td>12,434,826</td>\n",
       "      <td>12,492,899</td>\n",
       "      <td>NaN</td>\n",
       "    </tr>\n",
       "    <tr>\n",
       "      <th>1990</th>\n",
       "      <td>4,578,442</td>\n",
       "      <td>8,808,486</td>\n",
       "      <td>10,985,347</td>\n",
       "      <td>12,229,001</td>\n",
       "      <td>12,878,545</td>\n",
       "      <td>13,238,667</td>\n",
       "      <td>13,452,993</td>\n",
       "      <td>13,559,557</td>\n",
       "      <td>NaN</td>\n",
       "      <td>NaN</td>\n",
       "    </tr>\n",
       "    <tr>\n",
       "      <th>1991</th>\n",
       "      <td>4,648,756</td>\n",
       "      <td>8,961,755</td>\n",
       "      <td>11,154,244</td>\n",
       "      <td>12,409,592</td>\n",
       "      <td>13,092,037</td>\n",
       "      <td>13,447,481</td>\n",
       "      <td>13,642,414</td>\n",
       "      <td>NaN</td>\n",
       "      <td>NaN</td>\n",
       "      <td>NaN</td>\n",
       "    </tr>\n",
       "    <tr>\n",
       "      <th>1992</th>\n",
       "      <td>5,139,142</td>\n",
       "      <td>9,757,699</td>\n",
       "      <td>12,027,983</td>\n",
       "      <td>13,289,485</td>\n",
       "      <td>13,992,821</td>\n",
       "      <td>14,347,271</td>\n",
       "      <td>NaN</td>\n",
       "      <td>NaN</td>\n",
       "      <td>NaN</td>\n",
       "      <td>NaN</td>\n",
       "    </tr>\n",
       "    <tr>\n",
       "      <th>1993</th>\n",
       "      <td>5,653,379</td>\n",
       "      <td>10,599,423</td>\n",
       "      <td>12,953,812</td>\n",
       "      <td>14,292,516</td>\n",
       "      <td>15,005,138</td>\n",
       "      <td>NaN</td>\n",
       "      <td>NaN</td>\n",
       "      <td>NaN</td>\n",
       "      <td>NaN</td>\n",
       "      <td>NaN</td>\n",
       "    </tr>\n",
       "    <tr>\n",
       "      <th>1994</th>\n",
       "      <td>6,246,447</td>\n",
       "      <td>11,394,960</td>\n",
       "      <td>13,845,764</td>\n",
       "      <td>15,249,326</td>\n",
       "      <td>NaN</td>\n",
       "      <td>NaN</td>\n",
       "      <td>NaN</td>\n",
       "      <td>NaN</td>\n",
       "      <td>NaN</td>\n",
       "      <td>NaN</td>\n",
       "    </tr>\n",
       "    <tr>\n",
       "      <th>1995</th>\n",
       "      <td>6,473,843</td>\n",
       "      <td>11,612,151</td>\n",
       "      <td>14,010,098</td>\n",
       "      <td>NaN</td>\n",
       "      <td>NaN</td>\n",
       "      <td>NaN</td>\n",
       "      <td>NaN</td>\n",
       "      <td>NaN</td>\n",
       "      <td>NaN</td>\n",
       "      <td>NaN</td>\n",
       "    </tr>\n",
       "    <tr>\n",
       "      <th>1996</th>\n",
       "      <td>6,591,599</td>\n",
       "      <td>11,473,912</td>\n",
       "      <td>NaN</td>\n",
       "      <td>NaN</td>\n",
       "      <td>NaN</td>\n",
       "      <td>NaN</td>\n",
       "      <td>NaN</td>\n",
       "      <td>NaN</td>\n",
       "      <td>NaN</td>\n",
       "      <td>NaN</td>\n",
       "    </tr>\n",
       "    <tr>\n",
       "      <th>1997</th>\n",
       "      <td>6,451,896</td>\n",
       "      <td>NaN</td>\n",
       "      <td>NaN</td>\n",
       "      <td>NaN</td>\n",
       "      <td>NaN</td>\n",
       "      <td>NaN</td>\n",
       "      <td>NaN</td>\n",
       "      <td>NaN</td>\n",
       "      <td>NaN</td>\n",
       "      <td>NaN</td>\n",
       "    </tr>\n",
       "  </tbody>\n",
       "</table>"
      ],
      "text/plain": [
       "            12          24          36          48          60          72          84          96          108         120\n",
       "1988  3577780.0   7059966.0   8826151.0   9862687.0  10474698.0  10814576.0  10994014.0  11091363.0  11171590.0  11203949.0\n",
       "1989  4090680.0   7964702.0   9937520.0  11098588.0  11766488.0  12118790.0  12311629.0  12434826.0  12492899.0         NaN\n",
       "1990  4578442.0   8808486.0  10985347.0  12229001.0  12878545.0  13238667.0  13452993.0  13559557.0         NaN         NaN\n",
       "1991  4648756.0   8961755.0  11154244.0  12409592.0  13092037.0  13447481.0  13642414.0         NaN         NaN         NaN\n",
       "1992  5139142.0   9757699.0  12027983.0  13289485.0  13992821.0  14347271.0         NaN         NaN         NaN         NaN\n",
       "1993  5653379.0  10599423.0  12953812.0  14292516.0  15005138.0         NaN         NaN         NaN         NaN         NaN\n",
       "1994  6246447.0  11394960.0  13845764.0  15249326.0         NaN         NaN         NaN         NaN         NaN         NaN\n",
       "1995  6473843.0  11612151.0  14010098.0         NaN         NaN         NaN         NaN         NaN         NaN         NaN\n",
       "1996  6591599.0  11473912.0         NaN         NaN         NaN         NaN         NaN         NaN         NaN         NaN\n",
       "1997  6451896.0         NaN         NaN         NaN         NaN         NaN         NaN         NaN         NaN         NaN"
      ]
     },
     "execution_count": 22,
     "metadata": {},
     "output_type": "execute_result"
    }
   ],
   "source": [
    "triangles_set['CumPaidLoss'].sum()"
   ]
  },
  {
   "cell_type": "markdown",
   "metadata": {},
   "source": [
    "Aggregating rows is nice, but it is often useful to aggregate across groups of rows using `groupby`.  For example, we may want to group the triangles by Line of Business and get a sum across all companies for each industry."
   ]
  },
  {
   "cell_type": "code",
   "execution_count": 23,
   "metadata": {},
   "outputs": [
    {
     "name": "stderr",
     "output_type": "stream",
     "text": [
      "/opt/anaconda3/lib/python3.8/site-packages/ipykernel/ipkernel.py:283: DeprecationWarning: `should_run_async` will not call `transform_cell` automatically in the future. Please pass the result to `transformed_cell` argument and any exception that happen during thetransform in `preprocessing_exc_tuple` in IPython 7.17 and above.\n",
      "  and should_run_async(code)\n"
     ]
    },
    {
     "data": {
      "text/html": [
       "<table border=\"1\" class=\"dataframe\">\n",
       "  <thead>\n",
       "    <tr style=\"text-align: right;\">\n",
       "      <th></th>\n",
       "      <th>Triangle Summary</th>\n",
       "    </tr>\n",
       "  </thead>\n",
       "  <tbody>\n",
       "    <tr>\n",
       "      <th>Valuation:</th>\n",
       "      <td>1997-12</td>\n",
       "    </tr>\n",
       "    <tr>\n",
       "      <th>Grain:</th>\n",
       "      <td>OYDY</td>\n",
       "    </tr>\n",
       "    <tr>\n",
       "      <th>Shape:</th>\n",
       "      <td>(6, 8, 10, 10)</td>\n",
       "    </tr>\n",
       "    <tr>\n",
       "      <th>Index:</th>\n",
       "      <td>[LOB]</td>\n",
       "    </tr>\n",
       "    <tr>\n",
       "      <th>Columns:</th>\n",
       "      <td>[IncurLoss, CumPaidLoss, BulkLoss, EarnedPremDIR, EarnedPremCeded, EarnedPremNet, CaseIncurLoss, PaidToInc]</td>\n",
       "    </tr>\n",
       "  </tbody>\n",
       "</table>"
      ],
      "text/plain": [
       "                                             Triangle Summary\n",
       "Valuation:                                            1997-12\n",
       "Grain:                                                   OYDY\n",
       "Shape:                                         (6, 8, 10, 10)\n",
       "Index:                                                  [LOB]\n",
       "Columns:    [IncurLoss, CumPaidLoss, BulkLoss, EarnedPremD..."
      ]
     },
     "execution_count": 23,
     "metadata": {},
     "output_type": "execute_result"
    }
   ],
   "source": [
    "triangles_set.groupby('LOB').sum()"
   ]
  },
  {
   "cell_type": "markdown",
   "metadata": {},
   "source": [
    "The aggregate functions, e.g. `sum`, `mean`, `std`, `min`, `max`, etc. don't have to just apply to the `index` axis.  You can apply them to any of the four axes in the triangle object. using either the axis name or number."
   ]
  },
  {
   "cell_type": "code",
   "execution_count": 24,
   "metadata": {},
   "outputs": [
    {
     "name": "stderr",
     "output_type": "stream",
     "text": [
      "/opt/anaconda3/lib/python3.8/site-packages/ipykernel/ipkernel.py:283: DeprecationWarning: `should_run_async` will not call `transform_cell` automatically in the future. Please pass the result to `transformed_cell` argument and any exception that happen during thetransform in `preprocessing_exc_tuple` in IPython 7.17 and above.\n",
      "  and should_run_async(code)\n"
     ]
    },
    {
     "data": {
      "text/html": [
       "<table border=\"1\" class=\"dataframe\">\n",
       "  <thead>\n",
       "    <tr style=\"text-align: right;\">\n",
       "      <th></th>\n",
       "      <th>12</th>\n",
       "      <th>24</th>\n",
       "      <th>36</th>\n",
       "      <th>48</th>\n",
       "      <th>60</th>\n",
       "      <th>72</th>\n",
       "      <th>84</th>\n",
       "      <th>96</th>\n",
       "      <th>108</th>\n",
       "      <th>120</th>\n",
       "    </tr>\n",
       "  </thead>\n",
       "  <tbody>\n",
       "    <tr>\n",
       "      <th>1988</th>\n",
       "      <td>56,387,734</td>\n",
       "      <td>59,928,520</td>\n",
       "      <td>61,653,458</td>\n",
       "      <td>62,644,631</td>\n",
       "      <td>63,182,710</td>\n",
       "      <td>63,438,080</td>\n",
       "      <td>63,440,904</td>\n",
       "      <td>63,452,111</td>\n",
       "      <td>63,522,981</td>\n",
       "      <td>63,518,183</td>\n",
       "    </tr>\n",
       "    <tr>\n",
       "      <th>1989</th>\n",
       "      <td>62,840,448</td>\n",
       "      <td>66,705,570</td>\n",
       "      <td>68,666,928</td>\n",
       "      <td>69,702,283</td>\n",
       "      <td>70,188,013</td>\n",
       "      <td>70,355,679</td>\n",
       "      <td>70,389,857</td>\n",
       "      <td>70,453,158</td>\n",
       "      <td>70,483,269</td>\n",
       "      <td>NaN</td>\n",
       "    </tr>\n",
       "    <tr>\n",
       "      <th>1990</th>\n",
       "      <td>70,064,967</td>\n",
       "      <td>74,084,388</td>\n",
       "      <td>75,879,276</td>\n",
       "      <td>76,812,990</td>\n",
       "      <td>77,179,572</td>\n",
       "      <td>77,240,321</td>\n",
       "      <td>77,283,937</td>\n",
       "      <td>77,345,588</td>\n",
       "      <td>NaN</td>\n",
       "      <td>NaN</td>\n",
       "    </tr>\n",
       "    <tr>\n",
       "      <th>1991</th>\n",
       "      <td>74,611,611</td>\n",
       "      <td>78,513,121</td>\n",
       "      <td>80,235,908</td>\n",
       "      <td>80,967,061</td>\n",
       "      <td>81,178,876</td>\n",
       "      <td>81,185,484</td>\n",
       "      <td>81,278,636</td>\n",
       "      <td>NaN</td>\n",
       "      <td>NaN</td>\n",
       "      <td>NaN</td>\n",
       "    </tr>\n",
       "    <tr>\n",
       "      <th>1992</th>\n",
       "      <td>81,213,791</td>\n",
       "      <td>85,089,370</td>\n",
       "      <td>86,443,882</td>\n",
       "      <td>86,783,107</td>\n",
       "      <td>86,908,610</td>\n",
       "      <td>87,086,637</td>\n",
       "      <td>NaN</td>\n",
       "      <td>NaN</td>\n",
       "      <td>NaN</td>\n",
       "      <td>NaN</td>\n",
       "    </tr>\n",
       "    <tr>\n",
       "      <th>1993</th>\n",
       "      <td>87,896,227</td>\n",
       "      <td>91,685,456</td>\n",
       "      <td>93,018,485</td>\n",
       "      <td>93,167,810</td>\n",
       "      <td>93,473,079</td>\n",
       "      <td>NaN</td>\n",
       "      <td>NaN</td>\n",
       "      <td>NaN</td>\n",
       "      <td>NaN</td>\n",
       "      <td>NaN</td>\n",
       "    </tr>\n",
       "    <tr>\n",
       "      <th>1994</th>\n",
       "      <td>94,593,702</td>\n",
       "      <td>98,130,718</td>\n",
       "      <td>99,071,781</td>\n",
       "      <td>99,809,122</td>\n",
       "      <td>NaN</td>\n",
       "      <td>NaN</td>\n",
       "      <td>NaN</td>\n",
       "      <td>NaN</td>\n",
       "      <td>NaN</td>\n",
       "      <td>NaN</td>\n",
       "    </tr>\n",
       "    <tr>\n",
       "      <th>1995</th>\n",
       "      <td>97,722,814</td>\n",
       "      <td>101,192,332</td>\n",
       "      <td>102,056,680</td>\n",
       "      <td>NaN</td>\n",
       "      <td>NaN</td>\n",
       "      <td>NaN</td>\n",
       "      <td>NaN</td>\n",
       "      <td>NaN</td>\n",
       "      <td>NaN</td>\n",
       "      <td>NaN</td>\n",
       "    </tr>\n",
       "    <tr>\n",
       "      <th>1996</th>\n",
       "      <td>98,497,932</td>\n",
       "      <td>100,917,690</td>\n",
       "      <td>NaN</td>\n",
       "      <td>NaN</td>\n",
       "      <td>NaN</td>\n",
       "      <td>NaN</td>\n",
       "      <td>NaN</td>\n",
       "      <td>NaN</td>\n",
       "      <td>NaN</td>\n",
       "      <td>NaN</td>\n",
       "    </tr>\n",
       "    <tr>\n",
       "      <th>1997</th>\n",
       "      <td>96,832,221</td>\n",
       "      <td>NaN</td>\n",
       "      <td>NaN</td>\n",
       "      <td>NaN</td>\n",
       "      <td>NaN</td>\n",
       "      <td>NaN</td>\n",
       "      <td>NaN</td>\n",
       "      <td>NaN</td>\n",
       "      <td>NaN</td>\n",
       "      <td>NaN</td>\n",
       "    </tr>\n",
       "  </tbody>\n",
       "</table>"
      ],
      "text/plain": [
       "               12            24            36            48            60            72            84            96            108           120\n",
       "1988  5.638773e+07  5.992852e+07  6.165346e+07  6.264463e+07  6.318271e+07  6.343808e+07  6.344090e+07  6.345211e+07  6.352298e+07  6.351818e+07\n",
       "1989  6.284045e+07  6.670557e+07  6.866693e+07  6.970228e+07  7.018801e+07  7.035568e+07  7.038986e+07  7.045316e+07  7.048327e+07           NaN\n",
       "1990  7.006497e+07  7.408439e+07  7.587928e+07  7.681299e+07  7.717957e+07  7.724032e+07  7.728394e+07  7.734559e+07           NaN           NaN\n",
       "1991  7.461161e+07  7.851312e+07  8.023591e+07  8.096706e+07  8.117888e+07  8.118548e+07  8.127864e+07           NaN           NaN           NaN\n",
       "1992  8.121379e+07  8.508937e+07  8.644388e+07  8.678311e+07  8.690861e+07  8.708664e+07           NaN           NaN           NaN           NaN\n",
       "1993  8.789623e+07  9.168546e+07  9.301849e+07  9.316781e+07  9.347308e+07           NaN           NaN           NaN           NaN           NaN\n",
       "1994  9.459370e+07  9.813072e+07  9.907178e+07  9.980912e+07           NaN           NaN           NaN           NaN           NaN           NaN\n",
       "1995  9.772281e+07  1.011923e+08  1.020567e+08           NaN           NaN           NaN           NaN           NaN           NaN           NaN\n",
       "1996  9.849793e+07  1.009177e+08           NaN           NaN           NaN           NaN           NaN           NaN           NaN           NaN\n",
       "1997  9.683222e+07           NaN           NaN           NaN           NaN           NaN           NaN           NaN           NaN           NaN"
      ]
     },
     "execution_count": 24,
     "metadata": {},
     "output_type": "execute_result"
    }
   ],
   "source": [
    "triangles_set.sum(axis=1).sum(axis='index')"
   ]
  },
  {
   "cell_type": "markdown",
   "metadata": {},
   "source": [
    "### Accessor methods\n",
    "Pandas has special 'accessor' methods for `str` and `dt`.  These allow for the manipulation of data within each cell of data:\n",
    "\n",
    "```python\n",
    "df['Last_First'].str.split(',') # splits lastname from first name by a comma-delimiter\n",
    "df['Accident Date'].dt.year # pulls the year out of each date in a dataframe column\n",
    "```\n",
    "\n",
    "`chainladder` also has special 'accessor' methods designed to allow you to manipulate the `origin`, `development` and `valuation`\n",
    "vectors of a triangle.\n",
    "\n",
    "We may want to extract only the latest accident period for every triangle."
   ]
  },
  {
   "cell_type": "code",
   "execution_count": 25,
   "metadata": {},
   "outputs": [
    {
     "name": "stderr",
     "output_type": "stream",
     "text": [
      "/opt/anaconda3/lib/python3.8/site-packages/ipykernel/ipkernel.py:283: DeprecationWarning: `should_run_async` will not call `transform_cell` automatically in the future. Please pass the result to `transformed_cell` argument and any exception that happen during thetransform in `preprocessing_exc_tuple` in IPython 7.17 and above.\n",
      "  and should_run_async(code)\n"
     ]
    },
    {
     "data": {
      "text/html": [
       "<table border=\"1\" class=\"dataframe\">\n",
       "  <thead>\n",
       "    <tr style=\"text-align: right;\">\n",
       "      <th></th>\n",
       "      <th>Triangle Summary</th>\n",
       "    </tr>\n",
       "  </thead>\n",
       "  <tbody>\n",
       "    <tr>\n",
       "      <th>Valuation:</th>\n",
       "      <td>1997-12</td>\n",
       "    </tr>\n",
       "    <tr>\n",
       "      <th>Grain:</th>\n",
       "      <td>OYDY</td>\n",
       "    </tr>\n",
       "    <tr>\n",
       "      <th>Shape:</th>\n",
       "      <td>(775, 8, 1, 10)</td>\n",
       "    </tr>\n",
       "    <tr>\n",
       "      <th>Index:</th>\n",
       "      <td>[GRNAME, LOB]</td>\n",
       "    </tr>\n",
       "    <tr>\n",
       "      <th>Columns:</th>\n",
       "      <td>[IncurLoss, CumPaidLoss, BulkLoss, EarnedPremDIR, EarnedPremCeded, EarnedPremNet, CaseIncurLoss, PaidToInc]</td>\n",
       "    </tr>\n",
       "  </tbody>\n",
       "</table>"
      ],
      "text/plain": [
       "                                             Triangle Summary\n",
       "Valuation:                                            1997-12\n",
       "Grain:                                                   OYDY\n",
       "Shape:                                        (775, 8, 1, 10)\n",
       "Index:                                          [GRNAME, LOB]\n",
       "Columns:    [IncurLoss, CumPaidLoss, BulkLoss, EarnedPremD..."
      ]
     },
     "execution_count": 25,
     "metadata": {},
     "output_type": "execute_result"
    }
   ],
   "source": [
    "triangles_set[triangles_set.origin==triangles_set.origin.max()]"
   ]
  },
  {
   "cell_type": "markdown",
   "metadata": {},
   "source": [
    "We may want to extract particular diagonals from our triangles using its `valuation` vector"
   ]
  },
  {
   "cell_type": "code",
   "execution_count": 26,
   "metadata": {},
   "outputs": [
    {
     "name": "stderr",
     "output_type": "stream",
     "text": [
      "/opt/anaconda3/lib/python3.8/site-packages/ipykernel/ipkernel.py:283: DeprecationWarning: `should_run_async` will not call `transform_cell` automatically in the future. Please pass the result to `transformed_cell` argument and any exception that happen during thetransform in `preprocessing_exc_tuple` in IPython 7.17 and above.\n",
      "  and should_run_async(code)\n"
     ]
    },
    {
     "data": {
      "text/html": [
       "<table border=\"1\" class=\"dataframe\">\n",
       "  <thead>\n",
       "    <tr style=\"text-align: right;\">\n",
       "      <th></th>\n",
       "      <th>12</th>\n",
       "      <th>24</th>\n",
       "      <th>36</th>\n",
       "      <th>48</th>\n",
       "      <th>60</th>\n",
       "      <th>72</th>\n",
       "      <th>84</th>\n",
       "    </tr>\n",
       "  </thead>\n",
       "  <tbody>\n",
       "    <tr>\n",
       "      <th>1988</th>\n",
       "      <td>NaN</td>\n",
       "      <td>NaN</td>\n",
       "      <td>NaN</td>\n",
       "      <td>NaN</td>\n",
       "      <td>NaN</td>\n",
       "      <td>NaN</td>\n",
       "      <td>10,994,014</td>\n",
       "    </tr>\n",
       "    <tr>\n",
       "      <th>1989</th>\n",
       "      <td>NaN</td>\n",
       "      <td>NaN</td>\n",
       "      <td>NaN</td>\n",
       "      <td>NaN</td>\n",
       "      <td>NaN</td>\n",
       "      <td>12,118,790</td>\n",
       "      <td>NaN</td>\n",
       "    </tr>\n",
       "    <tr>\n",
       "      <th>1990</th>\n",
       "      <td>NaN</td>\n",
       "      <td>NaN</td>\n",
       "      <td>NaN</td>\n",
       "      <td>NaN</td>\n",
       "      <td>12,878,545</td>\n",
       "      <td>NaN</td>\n",
       "      <td>NaN</td>\n",
       "    </tr>\n",
       "    <tr>\n",
       "      <th>1991</th>\n",
       "      <td>NaN</td>\n",
       "      <td>NaN</td>\n",
       "      <td>NaN</td>\n",
       "      <td>12,409,592</td>\n",
       "      <td>NaN</td>\n",
       "      <td>NaN</td>\n",
       "      <td>NaN</td>\n",
       "    </tr>\n",
       "    <tr>\n",
       "      <th>1992</th>\n",
       "      <td>NaN</td>\n",
       "      <td>NaN</td>\n",
       "      <td>12,027,983</td>\n",
       "      <td>NaN</td>\n",
       "      <td>NaN</td>\n",
       "      <td>NaN</td>\n",
       "      <td>NaN</td>\n",
       "    </tr>\n",
       "    <tr>\n",
       "      <th>1993</th>\n",
       "      <td>NaN</td>\n",
       "      <td>10,599,423</td>\n",
       "      <td>NaN</td>\n",
       "      <td>NaN</td>\n",
       "      <td>NaN</td>\n",
       "      <td>NaN</td>\n",
       "      <td>NaN</td>\n",
       "    </tr>\n",
       "    <tr>\n",
       "      <th>1994</th>\n",
       "      <td>6,246,447</td>\n",
       "      <td>NaN</td>\n",
       "      <td>NaN</td>\n",
       "      <td>NaN</td>\n",
       "      <td>NaN</td>\n",
       "      <td>NaN</td>\n",
       "      <td>NaN</td>\n",
       "    </tr>\n",
       "  </tbody>\n",
       "</table>"
      ],
      "text/plain": [
       "             12          24          36          48          60          72          84\n",
       "1988        NaN         NaN         NaN         NaN         NaN         NaN  10994014.0\n",
       "1989        NaN         NaN         NaN         NaN         NaN  12118790.0         NaN\n",
       "1990        NaN         NaN         NaN         NaN  12878545.0         NaN         NaN\n",
       "1991        NaN         NaN         NaN  12409592.0         NaN         NaN         NaN\n",
       "1992        NaN         NaN  12027983.0         NaN         NaN         NaN         NaN\n",
       "1993        NaN  10599423.0         NaN         NaN         NaN         NaN         NaN\n",
       "1994  6246447.0         NaN         NaN         NaN         NaN         NaN         NaN"
      ]
     },
     "execution_count": 26,
     "metadata": {},
     "output_type": "execute_result"
    }
   ],
   "source": [
    "triangles_set[(triangles_set.valuation>='1994')&(triangles_set.valuation<='1995')].sum()['CumPaidLoss']"
   ]
  },
  {
   "cell_type": "markdown",
   "metadata": {},
   "source": [
    "We may even want to slice particular development periods to explore aspects of our data by development age."
   ]
  },
  {
   "cell_type": "code",
   "execution_count": 27,
   "metadata": {},
   "outputs": [
    {
     "name": "stderr",
     "output_type": "stream",
     "text": [
      "/opt/anaconda3/lib/python3.8/site-packages/ipykernel/ipkernel.py:283: DeprecationWarning: `should_run_async` will not call `transform_cell` automatically in the future. Please pass the result to `transformed_cell` argument and any exception that happen during thetransform in `preprocessing_exc_tuple` in IPython 7.17 and above.\n",
      "  and should_run_async(code)\n"
     ]
    },
    {
     "data": {
      "image/png": "[encoded data removed]",
      "text/plain": [
       "<Figure size 432x288 with 1 Axes>"
      ]
     },
     "metadata": {
      "needs_background": "light"
     },
     "output_type": "display_data"
    }
   ],
   "source": [
    "triangles_set[triangles_set.development<=24].sum()['CumPaidLoss'].link_ratio.plot();"
   ]
  },
  {
   "cell_type": "markdown",
   "metadata": {},
   "source": [
    "### Moving back to pandas\n",
    "When the shape of a `Triangle` object can be expressed as a 2D structure (i.e. two of its four axes have a length of 1), you can use the `to_frame` method to convert your data into a `pandas.DataFrame`.  The `plot` method above is nothing more than a conversion to pandas and using pandas plot."
   ]
  },
  {
   "cell_type": "code",
   "execution_count": 28,
   "metadata": {},
   "outputs": [
    {
     "name": "stderr",
     "output_type": "stream",
     "text": [
      "/opt/anaconda3/lib/python3.8/site-packages/ipykernel/ipkernel.py:283: DeprecationWarning: `should_run_async` will not call `transform_cell` automatically in the future. Please pass the result to `transformed_cell` argument and any exception that happen during thetransform in `preprocessing_exc_tuple` in IPython 7.17 and above.\n",
      "  and should_run_async(code)\n"
     ]
    },
    {
     "data": {
      "text/html": [
       "<div>\n",
       "<style scoped>\n",
       "    .dataframe tbody tr th:only-of-type {\n",
       "        vertical-align: middle;\n",
       "    }\n",
       "\n",
       "    .dataframe tbody tr th {\n",
       "        vertical-align: top;\n",
       "    }\n",
       "\n",
       "    .dataframe thead th {\n",
       "        text-align: right;\n",
       "    }\n",
       "</style>\n",
       "<table border=\"1\" class=\"dataframe\">\n",
       "  <thead>\n",
       "    <tr style=\"text-align: right;\">\n",
       "      <th>origin</th>\n",
       "      <th>1988</th>\n",
       "      <th>1989</th>\n",
       "      <th>1990</th>\n",
       "      <th>1991</th>\n",
       "      <th>1992</th>\n",
       "      <th>1993</th>\n",
       "      <th>1994</th>\n",
       "      <th>1995</th>\n",
       "      <th>1996</th>\n",
       "      <th>1997</th>\n",
       "    </tr>\n",
       "    <tr>\n",
       "      <th>LOB</th>\n",
       "      <th></th>\n",
       "      <th></th>\n",
       "      <th></th>\n",
       "      <th></th>\n",
       "      <th></th>\n",
       "      <th></th>\n",
       "      <th></th>\n",
       "      <th></th>\n",
       "      <th></th>\n",
       "      <th></th>\n",
       "    </tr>\n",
       "  </thead>\n",
       "  <tbody>\n",
       "    <tr>\n",
       "      <th>comauto</th>\n",
       "      <td>626097</td>\n",
       "      <td>674441</td>\n",
       "      <td>718396</td>\n",
       "      <td>711762</td>\n",
       "      <td>731033</td>\n",
       "      <td>762039</td>\n",
       "      <td>768095</td>\n",
       "      <td>675166</td>\n",
       "      <td>510191</td>\n",
       "      <td>272342</td>\n",
       "    </tr>\n",
       "    <tr>\n",
       "      <th>medmal</th>\n",
       "      <td>217239</td>\n",
       "      <td>222707</td>\n",
       "      <td>235717</td>\n",
       "      <td>275923</td>\n",
       "      <td>267007</td>\n",
       "      <td>276235</td>\n",
       "      <td>252449</td>\n",
       "      <td>209222</td>\n",
       "      <td>107474</td>\n",
       "      <td>20361</td>\n",
       "    </tr>\n",
       "    <tr>\n",
       "      <th>othliab</th>\n",
       "      <td>317889</td>\n",
       "      <td>350684</td>\n",
       "      <td>361103</td>\n",
       "      <td>426085</td>\n",
       "      <td>389250</td>\n",
       "      <td>434995</td>\n",
       "      <td>402244</td>\n",
       "      <td>294332</td>\n",
       "      <td>191258</td>\n",
       "      <td>54130</td>\n",
       "    </tr>\n",
       "    <tr>\n",
       "      <th>ppauto</th>\n",
       "      <td>8690036</td>\n",
       "      <td>9823747</td>\n",
       "      <td>10728411</td>\n",
       "      <td>10713621</td>\n",
       "      <td>11555121</td>\n",
       "      <td>12249826</td>\n",
       "      <td>12600432</td>\n",
       "      <td>11807279</td>\n",
       "      <td>9900842</td>\n",
       "      <td>5754249</td>\n",
       "    </tr>\n",
       "    <tr>\n",
       "      <th>prodliab</th>\n",
       "      <td>110973</td>\n",
       "      <td>112614</td>\n",
       "      <td>121255</td>\n",
       "      <td>100276</td>\n",
       "      <td>76059</td>\n",
       "      <td>94462</td>\n",
       "      <td>111264</td>\n",
       "      <td>62018</td>\n",
       "      <td>28107</td>\n",
       "      <td>10682</td>\n",
       "    </tr>\n",
       "    <tr>\n",
       "      <th>wkcomp</th>\n",
       "      <td>1241715</td>\n",
       "      <td>1308706</td>\n",
       "      <td>1394675</td>\n",
       "      <td>1414747</td>\n",
       "      <td>1328801</td>\n",
       "      <td>1187581</td>\n",
       "      <td>1114842</td>\n",
       "      <td>962081</td>\n",
       "      <td>736040</td>\n",
       "      <td>340132</td>\n",
       "    </tr>\n",
       "  </tbody>\n",
       "</table>\n",
       "</div>"
      ],
      "text/plain": [
       "origin       1988     1989      1990      1991      1992      1993      1994  \\\n",
       "LOB                                                                            \n",
       "comauto    626097   674441    718396    711762    731033    762039    768095   \n",
       "medmal     217239   222707    235717    275923    267007    276235    252449   \n",
       "othliab    317889   350684    361103    426085    389250    434995    402244   \n",
       "ppauto    8690036  9823747  10728411  10713621  11555121  12249826  12600432   \n",
       "prodliab   110973   112614    121255    100276     76059     94462    111264   \n",
       "wkcomp    1241715  1308706   1394675   1414747   1328801   1187581   1114842   \n",
       "\n",
       "origin        1995     1996     1997  \n",
       "LOB                                   \n",
       "comauto     675166   510191   272342  \n",
       "medmal      209222   107474    20361  \n",
       "othliab     294332   191258    54130  \n",
       "ppauto    11807279  9900842  5754249  \n",
       "prodliab     62018    28107    10682  \n",
       "wkcomp      962081   736040   340132  "
      ]
     },
     "execution_count": 28,
     "metadata": {},
     "output_type": "execute_result"
    }
   ],
   "source": [
    "triangles_set.groupby('LOB').sum().latest_diagonal['CumPaidLoss'].to_frame().astype(int)"
   ]
  },
  {
   "cell_type": "markdown",
   "metadata": {},
   "source": [
    "### Exercises"
   ]
  },
  {
   "cell_type": "code",
   "execution_count": 29,
   "metadata": {},
   "outputs": [
    {
     "name": "stderr",
     "output_type": "stream",
     "text": [
      "/opt/anaconda3/lib/python3.8/site-packages/ipykernel/ipkernel.py:283: DeprecationWarning: `should_run_async` will not call `transform_cell` automatically in the future. Please pass the result to `transformed_cell` argument and any exception that happen during thetransform in `preprocessing_exc_tuple` in IPython 7.17 and above.\n",
      "  and should_run_async(code)\n"
     ]
    }
   ],
   "source": [
    "# Create a 'NetPaidLossRatio' column in triangle from the existing columns\n",
    "triangles_set['NetPaidLossRatio'] = triangles_set['CumPaidLoss']/triangles_set['EarnedPremNet']"
   ]
  },
  {
   "cell_type": "code",
   "execution_count": 30,
   "metadata": {},
   "outputs": [
    {
     "data": {
      "text/plain": [
       "4.769123134328358"
      ]
     },
     "execution_count": 30,
     "metadata": {},
     "output_type": "execute_result"
    }
   ],
   "source": [
    "# What is the highest net paid loss ratio for any observation for origin 1997 Age 12\n",
    "triangles_set[triangles_set.origin=='1997'][triangles_set.development==12]['NetPaidLossRatio'].max()"
   ]
  },
  {
   "cell_type": "code",
   "execution_count": 31,
   "metadata": {},
   "outputs": [
    {
     "name": "stderr",
     "output_type": "stream",
     "text": [
      "/opt/anaconda3/lib/python3.8/site-packages/ipykernel/ipkernel.py:283: DeprecationWarning: `should_run_async` will not call `transform_cell` automatically in the future. Please pass the result to `transformed_cell` argument and any exception that happen during thetransform in `preprocessing_exc_tuple` in IPython 7.17 and above.\n",
      "  and should_run_async(code)\n"
     ]
    },
    {
     "data": {
      "text/html": [
       "<table border=\"1\" class=\"dataframe\">\n",
       "  <thead>\n",
       "    <tr style=\"text-align: right;\">\n",
       "      <th></th>\n",
       "      <th>Triangle Summary</th>\n",
       "    </tr>\n",
       "  </thead>\n",
       "  <tbody>\n",
       "    <tr>\n",
       "      <th>Valuation:</th>\n",
       "      <td>1997-12</td>\n",
       "    </tr>\n",
       "    <tr>\n",
       "      <th>Grain:</th>\n",
       "      <td>OYDY</td>\n",
       "    </tr>\n",
       "    <tr>\n",
       "      <th>Shape:</th>\n",
       "      <td>(4, 9, 10, 10)</td>\n",
       "    </tr>\n",
       "    <tr>\n",
       "      <th>Index:</th>\n",
       "      <td>[GRNAME, LOB]</td>\n",
       "    </tr>\n",
       "    <tr>\n",
       "      <th>Columns:</th>\n",
       "      <td>[IncurLoss, CumPaidLoss, BulkLoss, EarnedPremDIR, EarnedPremCeded, EarnedPremNet, CaseIncurLoss, PaidToInc, NetPaidLossRatio]</td>\n",
       "    </tr>\n",
       "  </tbody>\n",
       "</table>"
      ],
      "text/plain": [
       "                                             Triangle Summary\n",
       "Valuation:                                            1997-12\n",
       "Grain:                                                   OYDY\n",
       "Shape:                                         (4, 9, 10, 10)\n",
       "Index:                                          [GRNAME, LOB]\n",
       "Columns:    [IncurLoss, CumPaidLoss, BulkLoss, EarnedPremD..."
      ]
     },
     "execution_count": 31,
     "metadata": {},
     "output_type": "execute_result"
    }
   ],
   "source": [
    "# Subset the overall triangle to just include 'Alaska Nat Ins Co'\n",
    "triangles_set[triangles_set['GRNAME']=='Alaska Nat Ins Co']\n"
   ]
  },
  {
   "cell_type": "code",
   "execution_count": 32,
   "metadata": {},
   "outputs": [
    {
     "name": "stderr",
     "output_type": "stream",
     "text": [
      "/opt/anaconda3/lib/python3.8/site-packages/ipykernel/ipkernel.py:283: DeprecationWarning: `should_run_async` will not call `transform_cell` automatically in the future. Please pass the result to `transformed_cell` argument and any exception that happen during thetransform in `preprocessing_exc_tuple` in IPython 7.17 and above.\n",
      "  and should_run_async(code)\n"
     ]
    },
    {
     "data": {
      "text/html": [
       "<table border=\"1\" class=\"dataframe\">\n",
       "  <thead>\n",
       "    <tr style=\"text-align: right;\">\n",
       "      <th></th>\n",
       "      <th>Triangle Summary</th>\n",
       "    </tr>\n",
       "  </thead>\n",
       "  <tbody>\n",
       "    <tr>\n",
       "      <th>Valuation:</th>\n",
       "      <td>1997-12</td>\n",
       "    </tr>\n",
       "    <tr>\n",
       "      <th>Grain:</th>\n",
       "      <td>OYDY</td>\n",
       "    </tr>\n",
       "    <tr>\n",
       "      <th>Shape:</th>\n",
       "      <td>(31, 9, 10, 10)</td>\n",
       "    </tr>\n",
       "    <tr>\n",
       "      <th>Index:</th>\n",
       "      <td>[GRNAME, LOB]</td>\n",
       "    </tr>\n",
       "    <tr>\n",
       "      <th>Columns:</th>\n",
       "      <td>[IncurLoss, CumPaidLoss, BulkLoss, EarnedPremDIR, EarnedPremCeded, EarnedPremNet, CaseIncurLoss, PaidToInc, NetPaidLossRatio]</td>\n",
       "    </tr>\n",
       "  </tbody>\n",
       "</table>"
      ],
      "text/plain": [
       "                                             Triangle Summary\n",
       "Valuation:                                            1997-12\n",
       "Grain:                                                   OYDY\n",
       "Shape:                                        (31, 9, 10, 10)\n",
       "Index:                                          [GRNAME, LOB]\n",
       "Columns:    [IncurLoss, CumPaidLoss, BulkLoss, EarnedPremD..."
      ]
     },
     "execution_count": 32,
     "metadata": {},
     "output_type": "execute_result"
    }
   ],
   "source": [
    "# Use boolean indexing to create a triangle subset that includes all triangles for companies with names starting with 'B'\n",
    "triangles_set[triangles_set['GRNAME'].str[0]=='B']"
   ]
  },
  {
   "cell_type": "code",
   "execution_count": 33,
   "metadata": {},
   "outputs": [
    {
     "name": "stderr",
     "output_type": "stream",
     "text": [
      "/opt/anaconda3/lib/python3.8/site-packages/ipykernel/ipkernel.py:283: DeprecationWarning: `should_run_async` will not call `transform_cell` automatically in the future. Please pass the result to `transformed_cell` argument and any exception that happen during thetransform in `preprocessing_exc_tuple` in IPython 7.17 and above.\n",
      "  and should_run_async(code)\n"
     ]
    },
    {
     "ename": "IndexError",
     "evalue": "index 8 is out of bounds for axis 3 with size 8",
     "output_type": "error",
     "traceback": [
      "\u001b[0;31m---------------------------------------------------------------------------\u001b[0m",
      "\u001b[0;31mIndexError\u001b[0m                                Traceback (most recent call last)",
      "\u001b[0;32m<ipython-input-33-912e3b7740b0>\u001b[0m in \u001b[0;36m<module>\u001b[0;34m\u001b[0m\n\u001b[1;32m      1\u001b[0m \u001b[0;31m# Which companies are in the top 5 net premium share for 1990?\u001b[0m\u001b[0;34m\u001b[0m\u001b[0;34m\u001b[0m\u001b[0;34m\u001b[0m\u001b[0m\n\u001b[0;32m----> 2\u001b[0;31m \u001b[0mtriangles_set\u001b[0m\u001b[0;34m[\u001b[0m\u001b[0mtriangles_set\u001b[0m\u001b[0;34m.\u001b[0m\u001b[0morigin\u001b[0m\u001b[0;34m==\u001b[0m\u001b[0;34m'1990'\u001b[0m\u001b[0;34m]\u001b[0m\u001b[0;34m[\u001b[0m\u001b[0;34m'EarnedPremNet'\u001b[0m\u001b[0;34m]\u001b[0m\u001b[0;34m.\u001b[0m\u001b[0mlatest_diagonal\u001b[0m\u001b[0;34m.\u001b[0m\u001b[0mgroupby\u001b[0m\u001b[0;34m(\u001b[0m\u001b[0;34m'GRNAME'\u001b[0m\u001b[0;34m)\u001b[0m\u001b[0;34m.\u001b[0m\u001b[0msum\u001b[0m\u001b[0;34m(\u001b[0m\u001b[0;34m)\u001b[0m\u001b[0;34m.\u001b[0m\u001b[0mto_frame\u001b[0m\u001b[0;34m(\u001b[0m\u001b[0;34m)\u001b[0m\u001b[0;34m.\u001b[0m\u001b[0msort_values\u001b[0m\u001b[0;34m(\u001b[0m\u001b[0;34m)\u001b[0m\u001b[0;34m.\u001b[0m\u001b[0miloc\u001b[0m\u001b[0;34m[\u001b[0m\u001b[0;34m-\u001b[0m\u001b[0;36m5\u001b[0m\u001b[0;34m:\u001b[0m\u001b[0;34m]\u001b[0m\u001b[0;34m\u001b[0m\u001b[0;34m\u001b[0m\u001b[0m\n\u001b[0m",
      "\u001b[0;32m/opt/anaconda3/lib/python3.8/site-packages/chainladder/core/triangle.py\u001b[0m in \u001b[0;36mlatest_diagonal\u001b[0;34m(self)\u001b[0m\n\u001b[1;32m    186\u001b[0m     \u001b[0;34m@\u001b[0m\u001b[0mproperty\u001b[0m\u001b[0;34m\u001b[0m\u001b[0;34m\u001b[0m\u001b[0m\n\u001b[1;32m    187\u001b[0m     \u001b[0;32mdef\u001b[0m \u001b[0mlatest_diagonal\u001b[0m\u001b[0;34m(\u001b[0m\u001b[0mself\u001b[0m\u001b[0;34m)\u001b[0m\u001b[0;34m:\u001b[0m\u001b[0;34m\u001b[0m\u001b[0;34m\u001b[0m\u001b[0m\n\u001b[0;32m--> 188\u001b[0;31m         \u001b[0;32mreturn\u001b[0m \u001b[0mself\u001b[0m\u001b[0;34m.\u001b[0m\u001b[0mdev_to_val\u001b[0m\u001b[0;34m(\u001b[0m\u001b[0;34m)\u001b[0m\u001b[0;34m.\u001b[0m\u001b[0miloc\u001b[0m\u001b[0;34m[\u001b[0m\u001b[0;34m...\u001b[0m\u001b[0;34m,\u001b[0m \u001b[0;34m-\u001b[0m\u001b[0;36m1\u001b[0m\u001b[0;34m]\u001b[0m\u001b[0;34m\u001b[0m\u001b[0;34m\u001b[0m\u001b[0m\n\u001b[0m\u001b[1;32m    189\u001b[0m \u001b[0;34m\u001b[0m\u001b[0m\n\u001b[1;32m    190\u001b[0m     \u001b[0;34m@\u001b[0m\u001b[0mproperty\u001b[0m\u001b[0;34m\u001b[0m\u001b[0;34m\u001b[0m\u001b[0m\n",
      "\u001b[0;32m/opt/anaconda3/lib/python3.8/site-packages/chainladder/core/triangle.py\u001b[0m in \u001b[0;36mdev_to_val\u001b[0;34m(self, inplace)\u001b[0m\n\u001b[1;32m    350\u001b[0m                 \u001b[0mobj\u001b[0m \u001b[0;34m=\u001b[0m \u001b[0mconcat\u001b[0m\u001b[0;34m(\u001b[0m\u001b[0;34m(\u001b[0m\u001b[0mobj\u001b[0m\u001b[0;34m,\u001b[0m \u001b[0multimate\u001b[0m\u001b[0;34m)\u001b[0m\u001b[0;34m,\u001b[0m \u001b[0;34m-\u001b[0m\u001b[0;36m1\u001b[0m\u001b[0;34m)\u001b[0m\u001b[0;34m\u001b[0m\u001b[0;34m\u001b[0m\u001b[0m\n\u001b[1;32m    351\u001b[0m             \u001b[0;32mif\u001b[0m \u001b[0mis_cumulative\u001b[0m\u001b[0;34m:\u001b[0m\u001b[0;34m\u001b[0m\u001b[0;34m\u001b[0m\u001b[0m\n\u001b[0;32m--> 352\u001b[0;31m                 \u001b[0mobj\u001b[0m \u001b[0;34m=\u001b[0m \u001b[0mobj\u001b[0m\u001b[0;34m.\u001b[0m\u001b[0mincr_to_cum\u001b[0m\u001b[0;34m(\u001b[0m\u001b[0minplace\u001b[0m\u001b[0;34m=\u001b[0m\u001b[0minplace\u001b[0m\u001b[0;34m)\u001b[0m\u001b[0;34m\u001b[0m\u001b[0;34m\u001b[0m\u001b[0m\n\u001b[0m\u001b[1;32m    353\u001b[0m         \u001b[0;32mreturn\u001b[0m \u001b[0mobj\u001b[0m\u001b[0;34m\u001b[0m\u001b[0;34m\u001b[0m\u001b[0m\n\u001b[1;32m    354\u001b[0m \u001b[0;34m\u001b[0m\u001b[0m\n",
      "\u001b[0;32m/opt/anaconda3/lib/python3.8/site-packages/chainladder/core/triangle.py\u001b[0m in \u001b[0;36mincr_to_cum\u001b[0;34m(self, inplace)\u001b[0m\n\u001b[1;32m    245\u001b[0m             \u001b[0;32mreturn\u001b[0m \u001b[0mself\u001b[0m\u001b[0;34m\u001b[0m\u001b[0;34m\u001b[0m\u001b[0m\n\u001b[1;32m    246\u001b[0m         \u001b[0;32melse\u001b[0m\u001b[0;34m:\u001b[0m\u001b[0;34m\u001b[0m\u001b[0;34m\u001b[0m\u001b[0m\n\u001b[0;32m--> 247\u001b[0;31m             \u001b[0mnew_obj\u001b[0m \u001b[0;34m=\u001b[0m \u001b[0mself\u001b[0m\u001b[0;34m.\u001b[0m\u001b[0mcopy\u001b[0m\u001b[0;34m(\u001b[0m\u001b[0;34m)\u001b[0m\u001b[0;34m\u001b[0m\u001b[0;34m\u001b[0m\u001b[0m\n\u001b[0m\u001b[1;32m    248\u001b[0m             \u001b[0;32mreturn\u001b[0m \u001b[0mnew_obj\u001b[0m\u001b[0;34m.\u001b[0m\u001b[0mincr_to_cum\u001b[0m\u001b[0;34m(\u001b[0m\u001b[0minplace\u001b[0m\u001b[0;34m=\u001b[0m\u001b[0;32mTrue\u001b[0m\u001b[0;34m)\u001b[0m\u001b[0;34m\u001b[0m\u001b[0;34m\u001b[0m\u001b[0m\n\u001b[1;32m    249\u001b[0m \u001b[0;34m\u001b[0m\u001b[0m\n",
      "\u001b[0;32m/opt/anaconda3/lib/python3.8/site-packages/chainladder/core/triangle.py\u001b[0m in \u001b[0;36mcopy\u001b[0;34m(self)\u001b[0m\n\u001b[1;32m    584\u001b[0m         \u001b[0mX\u001b[0m \u001b[0;34m=\u001b[0m \u001b[0mTriangle\u001b[0m\u001b[0;34m(\u001b[0m\u001b[0;34m)\u001b[0m\u001b[0;34m\u001b[0m\u001b[0;34m\u001b[0m\u001b[0m\n\u001b[1;32m    585\u001b[0m         \u001b[0mX\u001b[0m\u001b[0;34m.\u001b[0m\u001b[0m__dict__\u001b[0m\u001b[0;34m.\u001b[0m\u001b[0mupdate\u001b[0m\u001b[0;34m(\u001b[0m\u001b[0mvars\u001b[0m\u001b[0;34m(\u001b[0m\u001b[0mself\u001b[0m\u001b[0;34m)\u001b[0m\u001b[0;34m)\u001b[0m\u001b[0;34m\u001b[0m\u001b[0;34m\u001b[0m\u001b[0m\n\u001b[0;32m--> 586\u001b[0;31m         \u001b[0mX\u001b[0m\u001b[0;34m.\u001b[0m\u001b[0m_set_slicers\u001b[0m\u001b[0;34m(\u001b[0m\u001b[0;34m)\u001b[0m\u001b[0;34m\u001b[0m\u001b[0;34m\u001b[0m\u001b[0m\n\u001b[0m\u001b[1;32m    587\u001b[0m         \u001b[0;32mreturn\u001b[0m \u001b[0mX\u001b[0m\u001b[0;34m\u001b[0m\u001b[0;34m\u001b[0m\u001b[0m\n\u001b[1;32m    588\u001b[0m \u001b[0;34m\u001b[0m\u001b[0m\n",
      "\u001b[0;32m/opt/anaconda3/lib/python3.8/site-packages/chainladder/core/slice.py\u001b[0m in \u001b[0;36m_set_slicers\u001b[0;34m(self)\u001b[0m\n\u001b[1;32m    277\u001b[0m         \u001b[0mself\u001b[0m\u001b[0;34m.\u001b[0m\u001b[0miat\u001b[0m\u001b[0;34m,\u001b[0m \u001b[0mself\u001b[0m\u001b[0;34m.\u001b[0m\u001b[0mat\u001b[0m \u001b[0;34m=\u001b[0m \u001b[0mIat\u001b[0m\u001b[0;34m(\u001b[0m\u001b[0mself\u001b[0m\u001b[0;34m)\u001b[0m\u001b[0;34m,\u001b[0m \u001b[0mAt\u001b[0m\u001b[0;34m(\u001b[0m\u001b[0mself\u001b[0m\u001b[0;34m)\u001b[0m\u001b[0;34m\u001b[0m\u001b[0;34m\u001b[0m\u001b[0m\n\u001b[1;32m    278\u001b[0m         \u001b[0mself\u001b[0m\u001b[0;34m.\u001b[0m\u001b[0mvirtual_columns\u001b[0m \u001b[0;34m=\u001b[0m \u001b[0mVirtualColumns\u001b[0m\u001b[0;34m(\u001b[0m\u001b[0mself\u001b[0m\u001b[0;34m,\u001b[0m \u001b[0mself\u001b[0m\u001b[0;34m.\u001b[0m\u001b[0mvirtual_columns\u001b[0m\u001b[0;34m.\u001b[0m\u001b[0mcolumns\u001b[0m\u001b[0;34m)\u001b[0m\u001b[0;34m\u001b[0m\u001b[0;34m\u001b[0m\u001b[0m\n\u001b[0;32m--> 279\u001b[0;31m         \u001b[0mself\u001b[0m \u001b[0;34m=\u001b[0m \u001b[0mself\u001b[0m\u001b[0;34m.\u001b[0m\u001b[0m_auto_sparse\u001b[0m\u001b[0;34m(\u001b[0m\u001b[0;34m)\u001b[0m\u001b[0;34m\u001b[0m\u001b[0;34m\u001b[0m\u001b[0m\n\u001b[0m\u001b[1;32m    280\u001b[0m \u001b[0;34m\u001b[0m\u001b[0m\n\u001b[1;32m    281\u001b[0m \u001b[0;34m\u001b[0m\u001b[0m\n",
      "\u001b[0;32m/opt/anaconda3/lib/python3.8/site-packages/chainladder/core/base.py\u001b[0m in \u001b[0;36m_auto_sparse\u001b[0;34m(self)\u001b[0m\n\u001b[1;32m    403\u001b[0m             \u001b[0mself\u001b[0m\u001b[0;34m.\u001b[0m\u001b[0mvalues\u001b[0m\u001b[0;34m.\u001b[0m\u001b[0mdensity\u001b[0m \u001b[0;34m<\u001b[0m \u001b[0;36m0.2\u001b[0m \u001b[0;32mand\u001b[0m \u001b[0mn\u001b[0m \u001b[0;34m>\u001b[0m \u001b[0;36m30\u001b[0m\u001b[0;34m\u001b[0m\u001b[0;34m\u001b[0m\u001b[0m\n\u001b[1;32m    404\u001b[0m         ):\n\u001b[0;32m--> 405\u001b[0;31m             \u001b[0mself\u001b[0m\u001b[0;34m.\u001b[0m\u001b[0mset_backend\u001b[0m\u001b[0;34m(\u001b[0m\u001b[0;34m\"numpy\"\u001b[0m\u001b[0;34m,\u001b[0m \u001b[0minplace\u001b[0m\u001b[0;34m=\u001b[0m\u001b[0;32mTrue\u001b[0m\u001b[0;34m)\u001b[0m\u001b[0;34m\u001b[0m\u001b[0;34m\u001b[0m\u001b[0m\n\u001b[0m\u001b[1;32m    406\u001b[0m         \u001b[0;32mreturn\u001b[0m \u001b[0mself\u001b[0m\u001b[0;34m\u001b[0m\u001b[0;34m\u001b[0m\u001b[0m\n\u001b[1;32m    407\u001b[0m \u001b[0;34m\u001b[0m\u001b[0m\n",
      "\u001b[0;32m/opt/anaconda3/lib/python3.8/site-packages/chainladder/core/common.py\u001b[0m in \u001b[0;36mset_backend\u001b[0;34m(self, backend, inplace, deep)\u001b[0m\n\u001b[1;32m    184\u001b[0m                 }\n\u001b[1;32m    185\u001b[0m                 \u001b[0;32mif\u001b[0m \u001b[0mhasattr\u001b[0m\u001b[0;34m(\u001b[0m\u001b[0mself\u001b[0m\u001b[0;34m,\u001b[0m \u001b[0;34m\"values\"\u001b[0m\u001b[0;34m)\u001b[0m\u001b[0;34m:\u001b[0m\u001b[0;34m\u001b[0m\u001b[0;34m\u001b[0m\u001b[0m\n\u001b[0;32m--> 186\u001b[0;31m                     self.values = lookup[backend].get(old_backend, lambda x: x)(\n\u001b[0m\u001b[1;32m    187\u001b[0m                         \u001b[0mself\u001b[0m\u001b[0;34m.\u001b[0m\u001b[0mvalues\u001b[0m\u001b[0;34m\u001b[0m\u001b[0;34m\u001b[0m\u001b[0m\n\u001b[1;32m    188\u001b[0m                     )\n",
      "\u001b[0;32m/opt/anaconda3/lib/python3.8/site-packages/chainladder/core/common.py\u001b[0m in \u001b[0;36m<lambda>\u001b[0;34m(x)\u001b[0m\n\u001b[1;32m    171\u001b[0m                 lookup = {\n\u001b[1;32m    172\u001b[0m                     \"numpy\": {\n\u001b[0;32m--> 173\u001b[0;31m                         \u001b[0;34m\"sparse\"\u001b[0m\u001b[0;34m:\u001b[0m \u001b[0;32mlambda\u001b[0m \u001b[0mx\u001b[0m\u001b[0;34m:\u001b[0m \u001b[0mx\u001b[0m\u001b[0;34m.\u001b[0m\u001b[0mtodense\u001b[0m\u001b[0;34m(\u001b[0m\u001b[0;34m)\u001b[0m\u001b[0;34m,\u001b[0m\u001b[0;34m\u001b[0m\u001b[0;34m\u001b[0m\u001b[0m\n\u001b[0m\u001b[1;32m    174\u001b[0m                         \u001b[0;34m\"cupy\"\u001b[0m\u001b[0;34m:\u001b[0m \u001b[0;32mlambda\u001b[0m \u001b[0mx\u001b[0m\u001b[0;34m:\u001b[0m \u001b[0mcp\u001b[0m\u001b[0;34m.\u001b[0m\u001b[0masnumpy\u001b[0m\u001b[0;34m(\u001b[0m\u001b[0mx\u001b[0m\u001b[0;34m)\u001b[0m\u001b[0;34m,\u001b[0m\u001b[0;34m\u001b[0m\u001b[0;34m\u001b[0m\u001b[0m\n\u001b[1;32m    175\u001b[0m                     },\n",
      "\u001b[0;32m/opt/anaconda3/lib/python3.8/site-packages/sparse/_coo/core.py\u001b[0m in \u001b[0;36mtodense\u001b[0;34m(self)\u001b[0m\n\u001b[1;32m    432\u001b[0m \u001b[0;34m\u001b[0m\u001b[0m\n\u001b[1;32m    433\u001b[0m         \u001b[0;32mif\u001b[0m \u001b[0mcoords\u001b[0m \u001b[0;34m!=\u001b[0m \u001b[0;34m(\u001b[0m\u001b[0;34m)\u001b[0m\u001b[0;34m:\u001b[0m\u001b[0;34m\u001b[0m\u001b[0;34m\u001b[0m\u001b[0m\n\u001b[0;32m--> 434\u001b[0;31m             \u001b[0mx\u001b[0m\u001b[0;34m[\u001b[0m\u001b[0mcoords\u001b[0m\u001b[0;34m]\u001b[0m \u001b[0;34m=\u001b[0m \u001b[0mdata\u001b[0m\u001b[0;34m\u001b[0m\u001b[0;34m\u001b[0m\u001b[0m\n\u001b[0m\u001b[1;32m    435\u001b[0m         \u001b[0;32melse\u001b[0m\u001b[0;34m:\u001b[0m\u001b[0;34m\u001b[0m\u001b[0;34m\u001b[0m\u001b[0m\n\u001b[1;32m    436\u001b[0m             \u001b[0;32mif\u001b[0m \u001b[0mlen\u001b[0m\u001b[0;34m(\u001b[0m\u001b[0mdata\u001b[0m\u001b[0;34m)\u001b[0m \u001b[0;34m!=\u001b[0m \u001b[0;36m0\u001b[0m\u001b[0;34m:\u001b[0m\u001b[0;34m\u001b[0m\u001b[0;34m\u001b[0m\u001b[0m\n",
      "\u001b[0;31mIndexError\u001b[0m: index 8 is out of bounds for axis 3 with size 8"
     ]
    }
   ],
   "source": [
    "# Which companies are in the top 5 net premium share for 1990?\n",
    "triangles_set[triangles_set.origin=='1990']['EarnedPremNet'].latest_diagonal.groupby('GRNAME').sum().to_frame().sort_values().iloc[-5:]"
   ]
  },
  {
   "cell_type": "markdown",
   "metadata": {},
   "source": [
    "### Initializing a triangle with your own data\n",
    "The `chainladder.Triangle`  class is designed to ingest `pandas.DataFrame` objects.  However, you do not need to worry about shaping the dataframe into triangle format yourself.  This happens at the time you ingest the data.\n",
    "\n",
    "Let's look at the initialization signature."
   ]
  },
  {
   "cell_type": "code",
   "execution_count": null,
   "metadata": {},
   "outputs": [],
   "source": [
    "cl.Triangle?"
   ]
  },
  {
   "cell_type": "markdown",
   "metadata": {},
   "source": [
    "We will be using the reserve prism test data to construct our triangles."
   ]
  },
  {
   "cell_type": "code",
   "execution_count": null,
   "metadata": {},
   "outputs": [],
   "source": [
    "data = pd.read_csv('https://raw.githubusercontent.com/casact/chainladder-python/master/chainladder/utils/data/prism.csv')\n",
    "data.head()"
   ]
  },
  {
   "cell_type": "markdown",
   "metadata": {},
   "source": [
    "We must specify the origin, development and columns to create a triangle object.  By limiting our columns to one measure and not specifying an index, we can create a single triangle."
   ]
  },
  {
   "cell_type": "code",
   "execution_count": null,
   "metadata": {},
   "outputs": [],
   "source": [
    "x = cl.Triangle(\n",
    "    data=data.fillna(0), origin='AccidentDate', development='PaymentDate', columns='Paid')\n",
    "x"
   ]
  },
  {
   "cell_type": "markdown",
   "metadata": {},
   "source": [
    "If we want to include more columns or indices we can certainly do so.  Note that as we do so, we move into the 4D arena changing the display of the overall object."
   ]
  },
  {
   "cell_type": "code",
   "execution_count": null,
   "metadata": {},
   "outputs": [],
   "source": [
    "x = cl.Triangle(data=data,\n",
    "            origin='AccidentDate', development='PaymentDate',\n",
    "            columns=['Paid', 'Incurred'])\n",
    "x"
   ]
  },
  {
   "cell_type": "markdown",
   "metadata": {},
   "source": [
    "Though nothing stops us from using the slicing options above to represent 2D triangles"
   ]
  },
  {
   "cell_type": "code",
   "execution_count": null,
   "metadata": {},
   "outputs": [],
   "source": [
    "x['Paid']"
   ]
  },
  {
   "cell_type": "markdown",
   "metadata": {},
   "source": [
    "pandas has wonderful datetime inference functionality that the `Triangle` heavily uses to infer origin and development granularity.  Even still, there are rare occassions where date format inferences can fail and it is better to explicitly tell the triangle the date format."
   ]
  },
  {
   "cell_type": "code",
   "execution_count": null,
   "metadata": {},
   "outputs": [],
   "source": [
    "cl.Triangle(data=data,\n",
    "            origin='AccidentDate', development='PaymentDate',\n",
    "            columns=['Paid', 'Incurred'],\n",
    "            origin_format='%Y-%m-%d', development_format='%Y-%m-%d') # Explicit > Implicit\n",
    "x.incr_to_cum()"
   ]
  },
  {
   "cell_type": "markdown",
   "metadata": {},
   "source": [
    "Up until now, we've been playing with symmetric triangles, i.e. the origin period and the development period are the same grain.  However, nothing precludes us from having a different grain.  Often times in practice the `development` axis is more granular than the `origin` axis.  All the functionality available to symmetric triangles works equally well for asymmetric triangles."
   ]
  },
  {
   "cell_type": "code",
   "execution_count": null,
   "metadata": {},
   "outputs": [],
   "source": [
    "data['AccYr'] = data['AccidentDate'].str[:4]\n",
    "\n",
    "x = cl.Triangle(data=data,\n",
    "            origin='AccYr', development='PaymentDate',\n",
    "            columns=['Paid', 'Incurred'],\n",
    "            origin_format='%Y', development_format='%Y-%m-%d')\n",
    "x"
   ]
  },
  {
   "cell_type": "markdown",
   "metadata": {},
   "source": [
    "While exposure triangles make sense for auditable lines like workers compensation, there are many lines of business where exposure expressed as a 1D vector sufficiently and completely describes the data structure.  `chainladder` arithmetic requires that operations happen between a triangle and either an `int`, `float`, or another `Triangle`.  To create a 1D exposure vector, simply omit the `development` argument at initialization."
   ]
  },
  {
   "cell_type": "code",
   "execution_count": null,
   "metadata": {},
   "outputs": [],
   "source": [
    "data['Premium'] = data['Incurred'] * 3 # Contrived\n",
    "\n",
    "x = cl.Triangle(data=data,\n",
    "            origin='AccidentDate',\n",
    "            columns='Premium',\n",
    "            origin_format='%Y-%m-%d')\n",
    "print(type(x))\n",
    "x"
   ]
  },
  {
   "cell_type": "markdown",
   "metadata": {},
   "source": [
    "We have not created triangles with an index yet, but this is easily done by passing the index argument."
   ]
  },
  {
   "cell_type": "code",
   "execution_count": null,
   "metadata": {},
   "outputs": [],
   "source": [
    "x = cl.Triangle(\n",
    "    data=data,\n",
    "    origin='AccidentDate',\n",
    "    development='PaymentDate',\n",
    "    columns=['Paid', 'Incurred'],\n",
    "    index='Line', # Add index\n",
    "    origin_format='%Y-%m-%d', development_format='%Y-%m-%d')\n",
    "x"
   ]
  },
  {
   "cell_type": "markdown",
   "metadata": {},
   "source": [
    "Just as we are not limited to one single column, we are not limited to a single index either.  Multiple indices can be passed as a list."
   ]
  },
  {
   "cell_type": "code",
   "execution_count": null,
   "metadata": {},
   "outputs": [],
   "source": [
    "x = cl.Triangle(\n",
    "    data=data,\n",
    "    origin='AccidentDate',\n",
    "    development='PaymentDate',\n",
    "    columns=['Paid', 'Incurred'],\n",
    "    index=['Line','Type']) # multiple indices\n",
    "\n",
    "x"
   ]
  },
  {
   "cell_type": "markdown",
   "metadata": {},
   "source": [
    "### Triangle methods not available in pandas\n",
    "Up until now, we've kept pretty close to the pandas API for triangle manipulation.  However, there are data transformations commonly applied to triangles that don't have a nice pandas analogy.\n",
    "\n",
    "For example, the practitioner often wants to convert a triangle from an incremental view into a cumulative view and vice versa.  This is accomplished with the `incr_to_cum` and `cum_to_incr` methods.\n",
    "\n",
    "Since our data is stored incrementally, we want to accumulate the data after we've ingested into a `Triangle`"
   ]
  },
  {
   "cell_type": "code",
   "execution_count": null,
   "metadata": {},
   "outputs": [],
   "source": [
    "x = cl.Triangle(data=data,\n",
    "            origin='AccidentDate', development='PaymentDate',\n",
    "            columns='Paid')\n",
    "x.incr_to_cum()"
   ]
  },
  {
   "cell_type": "markdown",
   "metadata": {},
   "source": [
    "By default (and in concert with the pandas philosophy), the methods associated with the `Triangle` class strive for immutability.  This means that the triangle we just accumulated was thrown away and our original object is incremental.  Many of the `chainladder.Triangle` methods have an `inplace` argument or alternatively you can just use variable reassignment to store the transformation."
   ]
  },
  {
   "cell_type": "code",
   "execution_count": null,
   "metadata": {},
   "outputs": [],
   "source": [
    "# This works\n",
    "x.incr_to_cum(inplace=True)\n",
    "# So does this\n",
    "x = x.incr_to_cum()"
   ]
  },
  {
   "cell_type": "markdown",
   "metadata": {},
   "source": [
    "When dealing with triangles that have an `origin` axis, `development` axis or both at a monthly or quarterly grain, the triangle can be summarized to a higher grain using the `grain` method.\n",
    "\n",
    "The grain to which you want your triangle converted, specified as 'O*x*D*y*' where *x* and *y* can take on values of ``['Y', 'Q', 'M']``\n",
    "For example:\n",
    "* 'OYDY' yields Origin Year/Development Year<br>\n",
    "* 'OQDM' yields Origin quarter/Development Month<br>"
   ]
  },
  {
   "cell_type": "code",
   "execution_count": null,
   "metadata": {},
   "outputs": [],
   "source": [
    "x = x.grain('OYDY')\n",
    "x"
   ]
  },
  {
   "cell_type": "markdown",
   "metadata": {},
   "source": [
    "Depending on the type of analysis being done, it may be more convenient to look at a triangle with its `development` axis expressed as a valuation rather than an age. To do this, the `Triangle` has two methods for toggling between a development triangle and a valuation triangle.  The methods are `dev_to_val` and its inverse `val_to_dev`"
   ]
  },
  {
   "cell_type": "code",
   "execution_count": null,
   "metadata": {},
   "outputs": [],
   "source": [
    "x.dev_to_val()"
   ]
  },
  {
   "cell_type": "markdown",
   "metadata": {},
   "source": [
    "When working with real-world data, the triangles can have holes.  A common issue is that subsets of a triangle might be new programs or lines and others more mature.  In these cases, it doesn't make sense to include empty accident periods or development ages for the new/retired line.  For example the 'Home' line has its latest accidents through '2016-03' whereas the 'Auto' program exhibits losses through '2017-12'.  Sometimes, dropping the non-applicable fields is usefule with the `dropna()` method."
   ]
  },
  {
   "cell_type": "code",
   "execution_count": null,
   "metadata": {},
   "outputs": [],
   "source": [
    "x = cl.Triangle(\n",
    "    data=data,\n",
    "    origin='AccidentDate',\n",
    "    development='PaymentDate',\n",
    "    columns=['Paid'],\n",
    "    index=['Line']).incr_to_cum().grain('OYDY')\n",
    "x.loc['Home']"
   ]
  },
  {
   "cell_type": "markdown",
   "metadata": {},
   "source": [
    "Note that the `dropna()` method will retain empty periods if they are surrounded by non-empty periods with valid data."
   ]
  },
  {
   "cell_type": "code",
   "execution_count": null,
   "metadata": {},
   "outputs": [],
   "source": [
    "x.loc['Home'].dropna()"
   ]
  },
  {
   "cell_type": "markdown",
   "metadata": {},
   "source": [
    "### Commutative properties of Triangle methods\n",
    "Where it makes sense, (which is in most cases), the methods described above are commutative and can be applied in any order."
   ]
  },
  {
   "cell_type": "code",
   "execution_count": null,
   "metadata": {},
   "outputs": [],
   "source": [
    "print('Commutative? ', x.sum().latest_diagonal == x.latest_diagonal.sum())\n",
    "print('Commutative? ', x.loc['Auto'].link_ratio == x.link_ratio.loc['Auto'])\n",
    "print('Commutative? ', x.grain('OYDY').sum() == x.sum().grain('OYDY'))"
   ]
  },
  {
   "cell_type": "markdown",
   "metadata": {},
   "source": [
    "### Triangle import/export\n",
    "\n",
    "To the extent the `Triangle` can be expressed as a `pandas.DataFrame`, you can use any of the pandas IO to send the data out.  Note that converting to pandas is a one-way ticket with no inverse functions."
   ]
  },
  {
   "cell_type": "code",
   "execution_count": null,
   "metadata": {},
   "outputs": [],
   "source": [
    "x.sum().to_clipboard() # Automatically converts to a pandas dataframe and puts in the clipboard for pasting in Excel"
   ]
  },
  {
   "cell_type": "markdown",
   "metadata": {},
   "source": [
    "Alternatively, if you want to store the triangle elsewhere but be able to reconstitute a triangle out of it later, then you can use:\n",
    "* `Triangle.to_json` and its inverse `cl.read_json` for json format<br>\n",
    "* `Triangle.to_pickle` and its inverse `cl.read_pickle` for pickle format<br>\n",
    "\n",
    "These have the added benefit of working on multi-dimensional triangles that don't fit into a DataFrame."
   ]
  },
  {
   "cell_type": "code",
   "execution_count": null,
   "metadata": {},
   "outputs": [],
   "source": [
    "y = x.to_json() # store as JSON string\n",
    "x == cl.read_json(y) # reconstitute and compare to original object"
   ]
  },
  {
   "cell_type": "code",
   "execution_count": null,
   "metadata": {},
   "outputs": [],
   "source": [
    "x.to_pickle('triangle.pkl') # store on pickle bytecode\n",
    "x == cl.read_pickle('triangle.pkl') # reconstitute and compare to original object"
   ]
  },
  {
   "cell_type": "markdown",
   "metadata": {},
   "source": [
    "### Exercises"
   ]
  },
  {
   "cell_type": "code",
   "execution_count": null,
   "metadata": {},
   "outputs": [],
   "source": [
    "x = cl.Triangle(\n",
    "    data=data,\n",
    "    origin='AccidentDate',\n",
    "    development='PaymentDate',\n",
    "    columns=['Paid', 'Incurred'],\n",
    "    index=['Line', 'Type']).incr_to_cum() # multiple indices\n",
    "x"
   ]
  },
  {
   "cell_type": "code",
   "execution_count": null,
   "metadata": {},
   "outputs": [],
   "source": [
    "# What is the case incurred activity for calendar period 2015Q2 by Line?\n",
    "y = x.groupby('Line').sum().cum_to_incr()['Incurred'].dev_to_val()\n",
    "y[(y.valuation>'2015-07-01')&(y.valuation<'2015-10-01')].sum('origin').to_frame().astype(int)"
   ]
  },
  {
   "cell_type": "code",
   "execution_count": null,
   "metadata": {},
   "outputs": [],
   "source": [
    "# What proportion of our Paid come from each 'Type' for Accident year 2015?\n",
    "count_by_type = x[x.origin=='2015'].latest_diagonal['Paid'].groupby('Type').sum().to_frame()\n",
    "(count_by_type/count_by_type.sum())"
   ]
  },
  {
   "cell_type": "code",
   "execution_count": null,
   "metadata": {},
   "outputs": [],
   "source": []
  }
 ],
 "metadata": {
  "kernelspec": {
   "display_name": "Python 3",
   "language": "python",
   "name": "python3"
  },
  "language_info": {
   "codemirror_mode": {
    "name": "ipython",
    "version": 3
   },
   "file_extension": ".py",
   "mimetype": "text/x-python",
   "name": "python",
   "nbconvert_exporter": "python",
   "pygments_lexer": "ipython3",
   "version": "3.8.10"
  }
 },
 "nbformat": 4,
 "nbformat_minor": 4
}
