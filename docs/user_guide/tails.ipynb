{
 "cells": [
  {
   "cell_type": "markdown",
   "id": "0a0a49ca-8a9d-42e0-966f-283362624557",
   "metadata": {},
   "source": [
    "# Tail Estimators\n",
    "Unobserved loss experience beyond the edge of a Triangle can be substantial and is a necessary part of an actuary's analysis. This is particularly so for long tailed lines more common in commercial insurance or excess layers of loss.\n",
    "\n",
    "With all tail estimation, we are *extrapolating* beyond the known data which comes with its own challenges. It tends to be more difficult to validate assumptions when performing tail estimation.  Additionally, many of the techniques carry a high degree of sensitivity to the assumptions you will choose when conducting analysis. \n",
    "\n",
    "Nevertheless, it is a necessary part of the actuary's toolkit in estimating reserve liabilities."
   ]
  },
  {
   "cell_type": "code",
   "execution_count": 1,
   "id": "5ee2a1e0-80ae-455e-85fa-487c838fd07d",
   "metadata": {
    "tags": [
     "hide-input"
    ]
   },
   "outputs": [],
   "source": [
    "import chainladder as cl\n",
    "import pandas as pd\n",
    "import numpy as np\n",
    "import matplotlib.pyplot as plt\n",
    "plt.style.use('ggplot')\n",
    "%config InlineBackend.figure_format = 'retina'"
   ]
  },
  {
   "cell_type": "markdown",
   "id": "2f3423ed-d0fd-4d5e-b4de-f708f832b074",
   "metadata": {},
   "source": [
    "## Basics and Commonalities\n",
    "As with the `Development` family of estimators, the `Tail` module provides a variety of tail **transformers** that allow for the extrapolation of development patterns beyond the end of the triangle. Being transformers, we can expect that each estimator has a `fit` and a `transform` method.  It is also expected that the `transform` method will give us back our Triangle with additional estimated parameters for incorporating our tail review in our IBNR estimates. \n",
    "\n",
    "### Tail\n",
    "Every tail estimator produced a `tail_` attribute which represents the point estimate of the tail of the Triangle.\n",
    "```{tip}\n",
    "Recall that the trailing `underscore_` implies that these parameters are only available once we've `fit` our estimator.\n",
    "```\n",
    "\n",
    "We will demonstrate this property using the [TailConstant](tails:tailconstant) estimator which we explore further below."
   ]
  },
  {
   "cell_type": "code",
   "execution_count": 82,
   "id": "6bc8412b-d6bb-4083-b12f-480481ddf6ba",
   "metadata": {},
   "outputs": [
    {
     "data": {
      "text/html": [
       "<div>\n",
       "<style scoped>\n",
       "    .dataframe tbody tr th:only-of-type {\n",
       "        vertical-align: middle;\n",
       "    }\n",
       "\n",
       "    .dataframe tbody tr th {\n",
       "        vertical-align: top;\n",
       "    }\n",
       "\n",
       "    .dataframe thead th {\n",
       "        text-align: right;\n",
       "    }\n",
       "</style>\n",
       "<table border=\"1\" class=\"dataframe\">\n",
       "  <thead>\n",
       "    <tr style=\"text-align: right;\">\n",
       "      <th></th>\n",
       "      <th>120-Ult</th>\n",
       "    </tr>\n",
       "  </thead>\n",
       "  <tbody>\n",
       "    <tr>\n",
       "      <th>(All)</th>\n",
       "      <td>1.1</td>\n",
       "    </tr>\n",
       "  </tbody>\n",
       "</table>\n",
       "</div>"
      ],
      "text/plain": [
       "       120-Ult\n",
       "(All)      1.1"
      ]
     },
     "execution_count": 82,
     "metadata": {},
     "output_type": "execute_result"
    }
   ],
   "source": [
    "triangle = cl.load_sample('genins')\n",
    "tail = cl.TailConstant(1.10).fit_transform(triangle)\n",
    "tail.tail_"
   ]
  },
  {
   "cell_type": "markdown",
   "id": "658908cf-c915-4c62-adb2-b62675a506a2",
   "metadata": {},
   "source": [
    "### Run Off\n",
    "\n",
    "In addition to point estimates, tail estimators support run-off analysis.  The\n",
    "`ldf_` and `cdf_` attribute splits the tail point estimate into enough\n",
    "development patterns to allow for tail run-off to be examined for at least another\n",
    "valuation year by default. For an annual `development_grain` grain, the development pattterns\n",
    "include two additional patterns."
   ]
  },
  {
   "cell_type": "code",
   "execution_count": 83,
   "id": "e106a1a3-d18c-4467-ad8d-3db2bf46178e",
   "metadata": {},
   "outputs": [
    {
     "data": {
      "text/html": [
       "<table border=\"1\" class=\"dataframe\">\n",
       "  <thead>\n",
       "    <tr style=\"text-align: right;\">\n",
       "      <th></th>\n",
       "      <th>12-Ult</th>\n",
       "      <th>24-Ult</th>\n",
       "      <th>36-Ult</th>\n",
       "      <th>48-Ult</th>\n",
       "      <th>60-Ult</th>\n",
       "      <th>72-Ult</th>\n",
       "      <th>84-Ult</th>\n",
       "      <th>96-Ult</th>\n",
       "      <th>108-Ult</th>\n",
       "      <th>120-Ult</th>\n",
       "      <th>132-Ult</th>\n",
       "    </tr>\n",
       "  </thead>\n",
       "  <tbody>\n",
       "    <tr>\n",
       "      <th>(All)</th>\n",
       "      <td>15.8912</td>\n",
       "      <td>4.5526</td>\n",
       "      <td>2.6054</td>\n",
       "      <td>1.7877</td>\n",
       "      <td>1.5229</td>\n",
       "      <td>1.3797</td>\n",
       "      <td>1.2701</td>\n",
       "      <td>1.2052</td>\n",
       "      <td>1.1195</td>\n",
       "      <td>1.1000</td>\n",
       "      <td>1.0514</td>\n",
       "    </tr>\n",
       "  </tbody>\n",
       "</table>"
      ],
      "text/plain": [
       "          12-Ult    24-Ult   36-Ult    48-Ult    60-Ult    72-Ult   84-Ult    96-Ult   108-Ult  120-Ult   132-Ult\n",
       "(All)  15.891235  4.552571  2.60544  1.787716  1.522949  1.379703  1.27013  1.205201  1.119497      1.1  1.051394"
      ]
     },
     "execution_count": 83,
     "metadata": {},
     "output_type": "execute_result"
    }
   ],
   "source": [
    "tail.cdf_"
   ]
  },
  {
   "cell_type": "markdown",
   "id": "2a15cc1a-1eaf-4830-be69-8b4dfaa281d9",
   "metadata": {},
   "source": [
    "```{note}\n",
    "When fitting a tail estimator without first specifying a `Development` estimator first, `chainladder` assumes a volume-weighted `Development`.   To override this, you should declare transform your triangle with a development transformer first.\n",
    "```\n",
    "\n",
    "For quarterly grain, there are five additional development patterns and for monthly\n",
    "there are thirteen.\n",
    "\n"
   ]
  },
  {
   "cell_type": "code",
   "execution_count": 84,
   "id": "09b4ef13-881f-4475-b724-987a071729a3",
   "metadata": {},
   "outputs": [
    {
     "data": {
      "text/html": [
       "<table border=\"1\" class=\"dataframe\">\n",
       "  <thead>\n",
       "    <tr style=\"text-align: right;\">\n",
       "      <th></th>\n",
       "      <th>135-Ult</th>\n",
       "      <th>138-Ult</th>\n",
       "      <th>141-Ult</th>\n",
       "      <th>144-Ult</th>\n",
       "      <th>147-Ult</th>\n",
       "    </tr>\n",
       "  </thead>\n",
       "  <tbody>\n",
       "    <tr>\n",
       "      <th>(All)</th>\n",
       "      <td>1.0006</td>\n",
       "      <td>1.0005</td>\n",
       "      <td>1.0004</td>\n",
       "      <td>1.0004</td>\n",
       "      <td>1.0003</td>\n",
       "    </tr>\n",
       "  </tbody>\n",
       "</table>"
      ],
      "text/plain": [
       "       135-Ult   138-Ult   141-Ult   144-Ult  147-Ult\n",
       "(All)  1.00065  1.000531  1.000434  1.000355  1.00029"
      ]
     },
     "execution_count": 84,
     "metadata": {},
     "output_type": "execute_result"
    }
   ],
   "source": [
    "triangle = cl.load_sample('quarterly')['paid']\n",
    "tail = cl.TailCurve().fit(triangle)\n",
    "# Slice just the tail entries\n",
    "tail.cdf_[~tail.ldf_.development.isin(triangle.link_ratio.development)]"
   ]
  },
  {
   "cell_type": "markdown",
   "id": "60d40444-6bbb-42db-9335-f31634322224",
   "metadata": {},
   "source": [
    "```{note}\n",
    "The point estimate `tail_` of the tail is the CDF for 135-Ult. The remaining CDFs simply represent the run-off of this tail as specified by the Tail estimator in use.\n",
    "```\n",
    "\n",
    "### Attachment Age\n",
    "\n",
    "By default, tail estimators attach to the oldest `development` age of the `Triangle`.\n",
    "In practice, the last several known development factors of a `Triangle` can be\n",
    "unreliable and attaching the tail earlier and using it as a smoothing mechanism\n",
    "is preferred.  All tail estimators have an `attachment_age` parameter that\n",
    "allows you to select the development age to which the tail will attach."
   ]
  },
  {
   "cell_type": "code",
   "execution_count": 85,
   "id": "f8aa14fb-a12f-489d-aa28-548877085bff",
   "metadata": {},
   "outputs": [],
   "source": [
    "triangle = cl.load_sample('genins')\n",
    "unsmoothed = cl.TailCurve().fit(triangle).ldf_\n",
    "smoothed = cl.TailCurve(attachment_age=24).fit(triangle).ldf_"
   ]
  },
  {
   "cell_type": "markdown",
   "id": "daf318e0-f6b5-4126-876e-883910af86e3",
   "metadata": {},
   "source": [
    "In this way, we can smooth over any volatile development patterns."
   ]
  },
  {
   "cell_type": "code",
   "execution_count": 86,
   "id": "27bd974b-481b-4899-bffe-59fc7289510c",
   "metadata": {
    "tags": [
     "hide-input"
    ]
   },
   "outputs": [
    {
     "data": {
      "image/svg+xml": "<?xml version=\"1.0\" encoding=\"utf-8\" standalone=\"no\"?>\r\n<!DOCTYPE svg PUBLIC \"-//W3C//DTD SVG 1.1//EN\"\r\n  \"http://www.w3.org/Graphics/SVG/1.1/DTD/svg11.dtd\">\r\n<svg height=\"265.459875pt\" version=\"1.1\" viewBox=\"0 0 393.390099 265.459875\" width=\"393.390099pt\" xmlns=\"http://www.w3.org/2000/svg\" xmlns:xlink=\"http://www.w3.org/1999/xlink\">\r\n <metadata>\r\n  <rdf:RDF xmlns:cc=\"http://creativecommons.org/ns#\" xmlns:dc=\"http://purl.org/dc/elements/1.1/\" xmlns:rdf=\"http://www.w3.org/1999/02/22-rdf-syntax-ns#\">\r\n   <cc:Work>\r\n    <dc:type rdf:resource=\"http://purl.org/dc/dcmitype/StillImage\"/>\r\n    <dc:date>2021-10-06T18:17:54.184267</dc:date>\r\n    <dc:format>image/svg+xml</dc:format>\r\n    <dc:creator>\r\n     <cc:Agent>\r\n      <dc:title>Matplotlib v3.4.2, https://matplotlib.org/</dc:title>\r\n     </cc:Agent>\r\n    </dc:creator>\r\n   </cc:Work>\r\n  </rdf:RDF>\r\n </metadata>\r\n <defs>\r\n  <style type=\"text/css\">*{stroke-linecap:butt;stroke-linejoin:round;}</style>\r\n </defs>\r\n <g id=\"figure_1\">\r\n  <g id=\"patch_1\">\r\n   <path d=\"M 0 265.459875 \r\nL 393.390099 265.459875 \r\nL 393.390099 0 \r\nL 0 0 \r\nz\r\n\" style=\"fill:#ffffff;\"/>\r\n  </g>\r\n  <g id=\"axes_1\">\r\n   <g id=\"patch_2\">\r\n    <path d=\"M 45.716875 241.58175 \r\nL 380.516875 241.58175 \r\nL 380.516875 24.14175 \r\nL 45.716875 24.14175 \r\nz\r\n\" style=\"fill:#e5e5e5;\"/>\r\n   </g>\r\n   <g id=\"matplotlib.axis_1\">\r\n    <g id=\"xtick_1\">\r\n     <g id=\"line2d_1\">\r\n      <path clip-path=\"url(#p8a2dfc1b69)\" d=\"M 60.935057 241.58175 \r\nL 60.935057 24.14175 \r\n\" style=\"fill:none;stroke:#ffffff;stroke-linecap:square;stroke-width:0.8;\"/>\r\n     </g>\r\n     <g id=\"line2d_2\">\r\n      <defs>\r\n       <path d=\"M 0 0 \r\nL 0 3.5 \r\n\" id=\"m82cb1fd9fc\" style=\"stroke:#555555;stroke-width:0.8;\"/>\r\n      </defs>\r\n      <g>\r\n       <use style=\"fill:#555555;stroke:#555555;stroke-width:0.8;\" x=\"60.935057\" xlink:href=\"#m82cb1fd9fc\" y=\"241.58175\"/>\r\n      </g>\r\n     </g>\r\n     <g id=\"text_1\">\r\n      <!-- 12-24 -->\r\n      <g style=\"fill:#555555;\" transform=\"translate(46.406151 256.180187)scale(0.1 -0.1)\">\r\n       <defs>\r\n        <path d=\"M 794 531 \r\nL 1825 531 \r\nL 1825 4091 \r\nL 703 3866 \r\nL 703 4441 \r\nL 1819 4666 \r\nL 2450 4666 \r\nL 2450 531 \r\nL 3481 531 \r\nL 3481 0 \r\nL 794 0 \r\nL 794 531 \r\nz\r\n\" id=\"DejaVuSans-31\" transform=\"scale(0.015625)\"/>\r\n        <path d=\"M 1228 531 \r\nL 3431 531 \r\nL 3431 0 \r\nL 469 0 \r\nL 469 531 \r\nQ 828 903 1448 1529 \r\nQ 2069 2156 2228 2338 \r\nQ 2531 2678 2651 2914 \r\nQ 2772 3150 2772 3378 \r\nQ 2772 3750 2511 3984 \r\nQ 2250 4219 1831 4219 \r\nQ 1534 4219 1204 4116 \r\nQ 875 4013 500 3803 \r\nL 500 4441 \r\nQ 881 4594 1212 4672 \r\nQ 1544 4750 1819 4750 \r\nQ 2544 4750 2975 4387 \r\nQ 3406 4025 3406 3419 \r\nQ 3406 3131 3298 2873 \r\nQ 3191 2616 2906 2266 \r\nQ 2828 2175 2409 1742 \r\nQ 1991 1309 1228 531 \r\nz\r\n\" id=\"DejaVuSans-32\" transform=\"scale(0.015625)\"/>\r\n        <path d=\"M 313 2009 \r\nL 1997 2009 \r\nL 1997 1497 \r\nL 313 1497 \r\nL 313 2009 \r\nz\r\n\" id=\"DejaVuSans-2d\" transform=\"scale(0.015625)\"/>\r\n        <path d=\"M 2419 4116 \r\nL 825 1625 \r\nL 2419 1625 \r\nL 2419 4116 \r\nz\r\nM 2253 4666 \r\nL 3047 4666 \r\nL 3047 1625 \r\nL 3713 1625 \r\nL 3713 1100 \r\nL 3047 1100 \r\nL 3047 0 \r\nL 2419 0 \r\nL 2419 1100 \r\nL 313 1100 \r\nL 313 1709 \r\nL 2253 4666 \r\nz\r\n\" id=\"DejaVuSans-34\" transform=\"scale(0.015625)\"/>\r\n       </defs>\r\n       <use xlink:href=\"#DejaVuSans-31\"/>\r\n       <use x=\"63.623047\" xlink:href=\"#DejaVuSans-32\"/>\r\n       <use x=\"127.246094\" xlink:href=\"#DejaVuSans-2d\"/>\r\n       <use x=\"163.330078\" xlink:href=\"#DejaVuSans-32\"/>\r\n       <use x=\"226.953125\" xlink:href=\"#DejaVuSans-34\"/>\r\n      </g>\r\n     </g>\r\n    </g>\r\n    <g id=\"xtick_2\">\r\n     <g id=\"line2d_3\">\r\n      <path clip-path=\"url(#p8a2dfc1b69)\" d=\"M 121.807784 241.58175 \r\nL 121.807784 24.14175 \r\n\" style=\"fill:none;stroke:#ffffff;stroke-linecap:square;stroke-width:0.8;\"/>\r\n     </g>\r\n     <g id=\"line2d_4\">\r\n      <g>\r\n       <use style=\"fill:#555555;stroke:#555555;stroke-width:0.8;\" x=\"121.807784\" xlink:href=\"#m82cb1fd9fc\" y=\"241.58175\"/>\r\n      </g>\r\n     </g>\r\n     <g id=\"text_2\">\r\n      <!-- 36-48 -->\r\n      <g style=\"fill:#555555;\" transform=\"translate(107.278878 256.180187)scale(0.1 -0.1)\">\r\n       <defs>\r\n        <path d=\"M 2597 2516 \r\nQ 3050 2419 3304 2112 \r\nQ 3559 1806 3559 1356 \r\nQ 3559 666 3084 287 \r\nQ 2609 -91 1734 -91 \r\nQ 1441 -91 1130 -33 \r\nQ 819 25 488 141 \r\nL 488 750 \r\nQ 750 597 1062 519 \r\nQ 1375 441 1716 441 \r\nQ 2309 441 2620 675 \r\nQ 2931 909 2931 1356 \r\nQ 2931 1769 2642 2001 \r\nQ 2353 2234 1838 2234 \r\nL 1294 2234 \r\nL 1294 2753 \r\nL 1863 2753 \r\nQ 2328 2753 2575 2939 \r\nQ 2822 3125 2822 3475 \r\nQ 2822 3834 2567 4026 \r\nQ 2313 4219 1838 4219 \r\nQ 1578 4219 1281 4162 \r\nQ 984 4106 628 3988 \r\nL 628 4550 \r\nQ 988 4650 1302 4700 \r\nQ 1616 4750 1894 4750 \r\nQ 2613 4750 3031 4423 \r\nQ 3450 4097 3450 3541 \r\nQ 3450 3153 3228 2886 \r\nQ 3006 2619 2597 2516 \r\nz\r\n\" id=\"DejaVuSans-33\" transform=\"scale(0.015625)\"/>\r\n        <path d=\"M 2113 2584 \r\nQ 1688 2584 1439 2293 \r\nQ 1191 2003 1191 1497 \r\nQ 1191 994 1439 701 \r\nQ 1688 409 2113 409 \r\nQ 2538 409 2786 701 \r\nQ 3034 994 3034 1497 \r\nQ 3034 2003 2786 2293 \r\nQ 2538 2584 2113 2584 \r\nz\r\nM 3366 4563 \r\nL 3366 3988 \r\nQ 3128 4100 2886 4159 \r\nQ 2644 4219 2406 4219 \r\nQ 1781 4219 1451 3797 \r\nQ 1122 3375 1075 2522 \r\nQ 1259 2794 1537 2939 \r\nQ 1816 3084 2150 3084 \r\nQ 2853 3084 3261 2657 \r\nQ 3669 2231 3669 1497 \r\nQ 3669 778 3244 343 \r\nQ 2819 -91 2113 -91 \r\nQ 1303 -91 875 529 \r\nQ 447 1150 447 2328 \r\nQ 447 3434 972 4092 \r\nQ 1497 4750 2381 4750 \r\nQ 2619 4750 2861 4703 \r\nQ 3103 4656 3366 4563 \r\nz\r\n\" id=\"DejaVuSans-36\" transform=\"scale(0.015625)\"/>\r\n        <path d=\"M 2034 2216 \r\nQ 1584 2216 1326 1975 \r\nQ 1069 1734 1069 1313 \r\nQ 1069 891 1326 650 \r\nQ 1584 409 2034 409 \r\nQ 2484 409 2743 651 \r\nQ 3003 894 3003 1313 \r\nQ 3003 1734 2745 1975 \r\nQ 2488 2216 2034 2216 \r\nz\r\nM 1403 2484 \r\nQ 997 2584 770 2862 \r\nQ 544 3141 544 3541 \r\nQ 544 4100 942 4425 \r\nQ 1341 4750 2034 4750 \r\nQ 2731 4750 3128 4425 \r\nQ 3525 4100 3525 3541 \r\nQ 3525 3141 3298 2862 \r\nQ 3072 2584 2669 2484 \r\nQ 3125 2378 3379 2068 \r\nQ 3634 1759 3634 1313 \r\nQ 3634 634 3220 271 \r\nQ 2806 -91 2034 -91 \r\nQ 1263 -91 848 271 \r\nQ 434 634 434 1313 \r\nQ 434 1759 690 2068 \r\nQ 947 2378 1403 2484 \r\nz\r\nM 1172 3481 \r\nQ 1172 3119 1398 2916 \r\nQ 1625 2713 2034 2713 \r\nQ 2441 2713 2670 2916 \r\nQ 2900 3119 2900 3481 \r\nQ 2900 3844 2670 4047 \r\nQ 2441 4250 2034 4250 \r\nQ 1625 4250 1398 4047 \r\nQ 1172 3844 1172 3481 \r\nz\r\n\" id=\"DejaVuSans-38\" transform=\"scale(0.015625)\"/>\r\n       </defs>\r\n       <use xlink:href=\"#DejaVuSans-33\"/>\r\n       <use x=\"63.623047\" xlink:href=\"#DejaVuSans-36\"/>\r\n       <use x=\"127.246094\" xlink:href=\"#DejaVuSans-2d\"/>\r\n       <use x=\"163.330078\" xlink:href=\"#DejaVuSans-34\"/>\r\n       <use x=\"226.953125\" xlink:href=\"#DejaVuSans-38\"/>\r\n      </g>\r\n     </g>\r\n    </g>\r\n    <g id=\"xtick_3\">\r\n     <g id=\"line2d_5\">\r\n      <path clip-path=\"url(#p8a2dfc1b69)\" d=\"M 182.680511 241.58175 \r\nL 182.680511 24.14175 \r\n\" style=\"fill:none;stroke:#ffffff;stroke-linecap:square;stroke-width:0.8;\"/>\r\n     </g>\r\n     <g id=\"line2d_6\">\r\n      <g>\r\n       <use style=\"fill:#555555;stroke:#555555;stroke-width:0.8;\" x=\"182.680511\" xlink:href=\"#m82cb1fd9fc\" y=\"241.58175\"/>\r\n      </g>\r\n     </g>\r\n     <g id=\"text_3\">\r\n      <!-- 60-72 -->\r\n      <g style=\"fill:#555555;\" transform=\"translate(168.151605 256.180187)scale(0.1 -0.1)\">\r\n       <defs>\r\n        <path d=\"M 2034 4250 \r\nQ 1547 4250 1301 3770 \r\nQ 1056 3291 1056 2328 \r\nQ 1056 1369 1301 889 \r\nQ 1547 409 2034 409 \r\nQ 2525 409 2770 889 \r\nQ 3016 1369 3016 2328 \r\nQ 3016 3291 2770 3770 \r\nQ 2525 4250 2034 4250 \r\nz\r\nM 2034 4750 \r\nQ 2819 4750 3233 4129 \r\nQ 3647 3509 3647 2328 \r\nQ 3647 1150 3233 529 \r\nQ 2819 -91 2034 -91 \r\nQ 1250 -91 836 529 \r\nQ 422 1150 422 2328 \r\nQ 422 3509 836 4129 \r\nQ 1250 4750 2034 4750 \r\nz\r\n\" id=\"DejaVuSans-30\" transform=\"scale(0.015625)\"/>\r\n        <path d=\"M 525 4666 \r\nL 3525 4666 \r\nL 3525 4397 \r\nL 1831 0 \r\nL 1172 0 \r\nL 2766 4134 \r\nL 525 4134 \r\nL 525 4666 \r\nz\r\n\" id=\"DejaVuSans-37\" transform=\"scale(0.015625)\"/>\r\n       </defs>\r\n       <use xlink:href=\"#DejaVuSans-36\"/>\r\n       <use x=\"63.623047\" xlink:href=\"#DejaVuSans-30\"/>\r\n       <use x=\"127.246094\" xlink:href=\"#DejaVuSans-2d\"/>\r\n       <use x=\"163.330078\" xlink:href=\"#DejaVuSans-37\"/>\r\n       <use x=\"226.953125\" xlink:href=\"#DejaVuSans-32\"/>\r\n      </g>\r\n     </g>\r\n    </g>\r\n    <g id=\"xtick_4\">\r\n     <g id=\"line2d_7\">\r\n      <path clip-path=\"url(#p8a2dfc1b69)\" d=\"M 243.553239 241.58175 \r\nL 243.553239 24.14175 \r\n\" style=\"fill:none;stroke:#ffffff;stroke-linecap:square;stroke-width:0.8;\"/>\r\n     </g>\r\n     <g id=\"line2d_8\">\r\n      <g>\r\n       <use style=\"fill:#555555;stroke:#555555;stroke-width:0.8;\" x=\"243.553239\" xlink:href=\"#m82cb1fd9fc\" y=\"241.58175\"/>\r\n      </g>\r\n     </g>\r\n     <g id=\"text_4\">\r\n      <!-- 84-96 -->\r\n      <g style=\"fill:#555555;\" transform=\"translate(229.024332 256.180187)scale(0.1 -0.1)\">\r\n       <defs>\r\n        <path d=\"M 703 97 \r\nL 703 672 \r\nQ 941 559 1184 500 \r\nQ 1428 441 1663 441 \r\nQ 2288 441 2617 861 \r\nQ 2947 1281 2994 2138 \r\nQ 2813 1869 2534 1725 \r\nQ 2256 1581 1919 1581 \r\nQ 1219 1581 811 2004 \r\nQ 403 2428 403 3163 \r\nQ 403 3881 828 4315 \r\nQ 1253 4750 1959 4750 \r\nQ 2769 4750 3195 4129 \r\nQ 3622 3509 3622 2328 \r\nQ 3622 1225 3098 567 \r\nQ 2575 -91 1691 -91 \r\nQ 1453 -91 1209 -44 \r\nQ 966 3 703 97 \r\nz\r\nM 1959 2075 \r\nQ 2384 2075 2632 2365 \r\nQ 2881 2656 2881 3163 \r\nQ 2881 3666 2632 3958 \r\nQ 2384 4250 1959 4250 \r\nQ 1534 4250 1286 3958 \r\nQ 1038 3666 1038 3163 \r\nQ 1038 2656 1286 2365 \r\nQ 1534 2075 1959 2075 \r\nz\r\n\" id=\"DejaVuSans-39\" transform=\"scale(0.015625)\"/>\r\n       </defs>\r\n       <use xlink:href=\"#DejaVuSans-38\"/>\r\n       <use x=\"63.623047\" xlink:href=\"#DejaVuSans-34\"/>\r\n       <use x=\"127.246094\" xlink:href=\"#DejaVuSans-2d\"/>\r\n       <use x=\"163.330078\" xlink:href=\"#DejaVuSans-39\"/>\r\n       <use x=\"226.953125\" xlink:href=\"#DejaVuSans-36\"/>\r\n      </g>\r\n     </g>\r\n    </g>\r\n    <g id=\"xtick_5\">\r\n     <g id=\"line2d_9\">\r\n      <path clip-path=\"url(#p8a2dfc1b69)\" d=\"M 304.425966 241.58175 \r\nL 304.425966 24.14175 \r\n\" style=\"fill:none;stroke:#ffffff;stroke-linecap:square;stroke-width:0.8;\"/>\r\n     </g>\r\n     <g id=\"line2d_10\">\r\n      <g>\r\n       <use style=\"fill:#555555;stroke:#555555;stroke-width:0.8;\" x=\"304.425966\" xlink:href=\"#m82cb1fd9fc\" y=\"241.58175\"/>\r\n      </g>\r\n     </g>\r\n     <g id=\"text_5\">\r\n      <!-- 108-120 -->\r\n      <g style=\"fill:#555555;\" transform=\"translate(283.53456 256.180187)scale(0.1 -0.1)\">\r\n       <use xlink:href=\"#DejaVuSans-31\"/>\r\n       <use x=\"63.623047\" xlink:href=\"#DejaVuSans-30\"/>\r\n       <use x=\"127.246094\" xlink:href=\"#DejaVuSans-38\"/>\r\n       <use x=\"190.869141\" xlink:href=\"#DejaVuSans-2d\"/>\r\n       <use x=\"226.953125\" xlink:href=\"#DejaVuSans-31\"/>\r\n       <use x=\"290.576172\" xlink:href=\"#DejaVuSans-32\"/>\r\n       <use x=\"354.199219\" xlink:href=\"#DejaVuSans-30\"/>\r\n      </g>\r\n     </g>\r\n    </g>\r\n    <g id=\"xtick_6\">\r\n     <g id=\"line2d_11\">\r\n      <path clip-path=\"url(#p8a2dfc1b69)\" d=\"M 365.298693 241.58175 \r\nL 365.298693 24.14175 \r\n\" style=\"fill:none;stroke:#ffffff;stroke-linecap:square;stroke-width:0.8;\"/>\r\n     </g>\r\n     <g id=\"line2d_12\">\r\n      <g>\r\n       <use style=\"fill:#555555;stroke:#555555;stroke-width:0.8;\" x=\"365.298693\" xlink:href=\"#m82cb1fd9fc\" y=\"241.58175\"/>\r\n      </g>\r\n     </g>\r\n     <g id=\"text_6\">\r\n      <!-- 132-144 -->\r\n      <g style=\"fill:#555555;\" transform=\"translate(344.407287 256.180187)scale(0.1 -0.1)\">\r\n       <use xlink:href=\"#DejaVuSans-31\"/>\r\n       <use x=\"63.623047\" xlink:href=\"#DejaVuSans-33\"/>\r\n       <use x=\"127.246094\" xlink:href=\"#DejaVuSans-32\"/>\r\n       <use x=\"190.869141\" xlink:href=\"#DejaVuSans-2d\"/>\r\n       <use x=\"226.953125\" xlink:href=\"#DejaVuSans-31\"/>\r\n       <use x=\"290.576172\" xlink:href=\"#DejaVuSans-34\"/>\r\n       <use x=\"354.199219\" xlink:href=\"#DejaVuSans-34\"/>\r\n      </g>\r\n     </g>\r\n    </g>\r\n   </g>\r\n   <g id=\"matplotlib.axis_2\">\r\n    <g id=\"ytick_1\">\r\n     <g id=\"line2d_13\">\r\n      <path clip-path=\"url(#p8a2dfc1b69)\" d=\"M 45.716875 232.650835 \r\nL 380.516875 232.650835 \r\n\" style=\"fill:none;stroke:#ffffff;stroke-linecap:square;stroke-width:0.8;\"/>\r\n     </g>\r\n     <g id=\"line2d_14\">\r\n      <defs>\r\n       <path d=\"M 0 0 \r\nL -3.5 0 \r\n\" id=\"m070254adcb\" style=\"stroke:#555555;stroke-width:0.8;\"/>\r\n      </defs>\r\n      <g>\r\n       <use style=\"fill:#555555;stroke:#555555;stroke-width:0.8;\" x=\"45.716875\" xlink:href=\"#m070254adcb\" y=\"232.650835\"/>\r\n      </g>\r\n     </g>\r\n     <g id=\"text_7\">\r\n      <!-- 1.0 -->\r\n      <g style=\"fill:#555555;\" transform=\"translate(22.81375 236.450053)scale(0.1 -0.1)\">\r\n       <defs>\r\n        <path d=\"M 684 794 \r\nL 1344 794 \r\nL 1344 0 \r\nL 684 0 \r\nL 684 794 \r\nz\r\n\" id=\"DejaVuSans-2e\" transform=\"scale(0.015625)\"/>\r\n       </defs>\r\n       <use xlink:href=\"#DejaVuSans-31\"/>\r\n       <use x=\"63.623047\" xlink:href=\"#DejaVuSans-2e\"/>\r\n       <use x=\"95.410156\" xlink:href=\"#DejaVuSans-30\"/>\r\n      </g>\r\n     </g>\r\n    </g>\r\n    <g id=\"ytick_2\">\r\n     <g id=\"line2d_15\">\r\n      <path clip-path=\"url(#p8a2dfc1b69)\" d=\"M 45.716875 192.77592 \r\nL 380.516875 192.77592 \r\n\" style=\"fill:none;stroke:#ffffff;stroke-linecap:square;stroke-width:0.8;\"/>\r\n     </g>\r\n     <g id=\"line2d_16\">\r\n      <g>\r\n       <use style=\"fill:#555555;stroke:#555555;stroke-width:0.8;\" x=\"45.716875\" xlink:href=\"#m070254adcb\" y=\"192.77592\"/>\r\n      </g>\r\n     </g>\r\n     <g id=\"text_8\">\r\n      <!-- 1.5 -->\r\n      <g style=\"fill:#555555;\" transform=\"translate(22.81375 196.575138)scale(0.1 -0.1)\">\r\n       <defs>\r\n        <path d=\"M 691 4666 \r\nL 3169 4666 \r\nL 3169 4134 \r\nL 1269 4134 \r\nL 1269 2991 \r\nQ 1406 3038 1543 3061 \r\nQ 1681 3084 1819 3084 \r\nQ 2600 3084 3056 2656 \r\nQ 3513 2228 3513 1497 \r\nQ 3513 744 3044 326 \r\nQ 2575 -91 1722 -91 \r\nQ 1428 -91 1123 -41 \r\nQ 819 9 494 109 \r\nL 494 744 \r\nQ 775 591 1075 516 \r\nQ 1375 441 1709 441 \r\nQ 2250 441 2565 725 \r\nQ 2881 1009 2881 1497 \r\nQ 2881 1984 2565 2268 \r\nQ 2250 2553 1709 2553 \r\nQ 1456 2553 1204 2497 \r\nQ 953 2441 691 2322 \r\nL 691 4666 \r\nz\r\n\" id=\"DejaVuSans-35\" transform=\"scale(0.015625)\"/>\r\n       </defs>\r\n       <use xlink:href=\"#DejaVuSans-31\"/>\r\n       <use x=\"63.623047\" xlink:href=\"#DejaVuSans-2e\"/>\r\n       <use x=\"95.410156\" xlink:href=\"#DejaVuSans-35\"/>\r\n      </g>\r\n     </g>\r\n    </g>\r\n    <g id=\"ytick_3\">\r\n     <g id=\"line2d_17\">\r\n      <path clip-path=\"url(#p8a2dfc1b69)\" d=\"M 45.716875 152.901005 \r\nL 380.516875 152.901005 \r\n\" style=\"fill:none;stroke:#ffffff;stroke-linecap:square;stroke-width:0.8;\"/>\r\n     </g>\r\n     <g id=\"line2d_18\">\r\n      <g>\r\n       <use style=\"fill:#555555;stroke:#555555;stroke-width:0.8;\" x=\"45.716875\" xlink:href=\"#m070254adcb\" y=\"152.901005\"/>\r\n      </g>\r\n     </g>\r\n     <g id=\"text_9\">\r\n      <!-- 2.0 -->\r\n      <g style=\"fill:#555555;\" transform=\"translate(22.81375 156.700224)scale(0.1 -0.1)\">\r\n       <use xlink:href=\"#DejaVuSans-32\"/>\r\n       <use x=\"63.623047\" xlink:href=\"#DejaVuSans-2e\"/>\r\n       <use x=\"95.410156\" xlink:href=\"#DejaVuSans-30\"/>\r\n      </g>\r\n     </g>\r\n    </g>\r\n    <g id=\"ytick_4\">\r\n     <g id=\"line2d_19\">\r\n      <path clip-path=\"url(#p8a2dfc1b69)\" d=\"M 45.716875 113.02609 \r\nL 380.516875 113.02609 \r\n\" style=\"fill:none;stroke:#ffffff;stroke-linecap:square;stroke-width:0.8;\"/>\r\n     </g>\r\n     <g id=\"line2d_20\">\r\n      <g>\r\n       <use style=\"fill:#555555;stroke:#555555;stroke-width:0.8;\" x=\"45.716875\" xlink:href=\"#m070254adcb\" y=\"113.02609\"/>\r\n      </g>\r\n     </g>\r\n     <g id=\"text_10\">\r\n      <!-- 2.5 -->\r\n      <g style=\"fill:#555555;\" transform=\"translate(22.81375 116.825309)scale(0.1 -0.1)\">\r\n       <use xlink:href=\"#DejaVuSans-32\"/>\r\n       <use x=\"63.623047\" xlink:href=\"#DejaVuSans-2e\"/>\r\n       <use x=\"95.410156\" xlink:href=\"#DejaVuSans-35\"/>\r\n      </g>\r\n     </g>\r\n    </g>\r\n    <g id=\"ytick_5\">\r\n     <g id=\"line2d_21\">\r\n      <path clip-path=\"url(#p8a2dfc1b69)\" d=\"M 45.716875 73.151175 \r\nL 380.516875 73.151175 \r\n\" style=\"fill:none;stroke:#ffffff;stroke-linecap:square;stroke-width:0.8;\"/>\r\n     </g>\r\n     <g id=\"line2d_22\">\r\n      <g>\r\n       <use style=\"fill:#555555;stroke:#555555;stroke-width:0.8;\" x=\"45.716875\" xlink:href=\"#m070254adcb\" y=\"73.151175\"/>\r\n      </g>\r\n     </g>\r\n     <g id=\"text_11\">\r\n      <!-- 3.0 -->\r\n      <g style=\"fill:#555555;\" transform=\"translate(22.81375 76.950394)scale(0.1 -0.1)\">\r\n       <use xlink:href=\"#DejaVuSans-33\"/>\r\n       <use x=\"63.623047\" xlink:href=\"#DejaVuSans-2e\"/>\r\n       <use x=\"95.410156\" xlink:href=\"#DejaVuSans-30\"/>\r\n      </g>\r\n     </g>\r\n    </g>\r\n    <g id=\"ytick_6\">\r\n     <g id=\"line2d_23\">\r\n      <path clip-path=\"url(#p8a2dfc1b69)\" d=\"M 45.716875 33.27626 \r\nL 380.516875 33.27626 \r\n\" style=\"fill:none;stroke:#ffffff;stroke-linecap:square;stroke-width:0.8;\"/>\r\n     </g>\r\n     <g id=\"line2d_24\">\r\n      <g>\r\n       <use style=\"fill:#555555;stroke:#555555;stroke-width:0.8;\" x=\"45.716875\" xlink:href=\"#m070254adcb\" y=\"33.27626\"/>\r\n      </g>\r\n     </g>\r\n     <g id=\"text_12\">\r\n      <!-- 3.5 -->\r\n      <g style=\"fill:#555555;\" transform=\"translate(22.81375 37.075479)scale(0.1 -0.1)\">\r\n       <use xlink:href=\"#DejaVuSans-33\"/>\r\n       <use x=\"63.623047\" xlink:href=\"#DejaVuSans-2e\"/>\r\n       <use x=\"95.410156\" xlink:href=\"#DejaVuSans-35\"/>\r\n      </g>\r\n     </g>\r\n    </g>\r\n    <g id=\"text_13\">\r\n     <!-- LDF -->\r\n     <g style=\"fill:#555555;\" transform=\"translate(16.318125 144.275813)rotate(-90)scale(0.12 -0.12)\">\r\n      <defs>\r\n       <path d=\"M 628 4666 \r\nL 1259 4666 \r\nL 1259 531 \r\nL 3531 531 \r\nL 3531 0 \r\nL 628 0 \r\nL 628 4666 \r\nz\r\n\" id=\"DejaVuSans-4c\" transform=\"scale(0.015625)\"/>\r\n       <path d=\"M 1259 4147 \r\nL 1259 519 \r\nL 2022 519 \r\nQ 2988 519 3436 956 \r\nQ 3884 1394 3884 2338 \r\nQ 3884 3275 3436 3711 \r\nQ 2988 4147 2022 4147 \r\nL 1259 4147 \r\nz\r\nM 628 4666 \r\nL 1925 4666 \r\nQ 3281 4666 3915 4102 \r\nQ 4550 3538 4550 2338 \r\nQ 4550 1131 3912 565 \r\nQ 3275 0 1925 0 \r\nL 628 0 \r\nL 628 4666 \r\nz\r\n\" id=\"DejaVuSans-44\" transform=\"scale(0.015625)\"/>\r\n       <path d=\"M 628 4666 \r\nL 3309 4666 \r\nL 3309 4134 \r\nL 1259 4134 \r\nL 1259 2759 \r\nL 3109 2759 \r\nL 3109 2228 \r\nL 1259 2228 \r\nL 1259 0 \r\nL 628 0 \r\nL 628 4666 \r\nz\r\n\" id=\"DejaVuSans-46\" transform=\"scale(0.015625)\"/>\r\n      </defs>\r\n      <use xlink:href=\"#DejaVuSans-4c\"/>\r\n      <use x=\"55.712891\" xlink:href=\"#DejaVuSans-44\"/>\r\n      <use x=\"132.714844\" xlink:href=\"#DejaVuSans-46\"/>\r\n     </g>\r\n    </g>\r\n   </g>\r\n   <g id=\"line2d_25\">\r\n    <path clip-path=\"url(#p8a2dfc1b69)\" d=\"M 60.935057 34.025386 \r\nL 91.37142 173.051184 \r\nL 121.807784 196.172239 \r\nL 152.244148 218.78619 \r\nL 182.680511 224.370926 \r\nL 213.116875 225.770867 \r\nL 243.553239 228.354364 \r\nL 273.989602 226.545572 \r\nL 304.425966 231.237291 \r\nL 334.86233 231.698114 \r\nL 365.298693 231.267527 \r\n\" style=\"fill:none;stroke:#e24a33;stroke-linecap:square;stroke-width:1.5;\"/>\r\n    <defs>\r\n     <path d=\"M 0 3 \r\nC 0.795609 3 1.55874 2.683901 2.12132 2.12132 \r\nC 2.683901 1.55874 3 0.795609 3 0 \r\nC 3 -0.795609 2.683901 -1.55874 2.12132 -2.12132 \r\nC 1.55874 -2.683901 0.795609 -3 0 -3 \r\nC -0.795609 -3 -1.55874 -2.683901 -2.12132 -2.12132 \r\nC -2.683901 -1.55874 -3 -0.795609 -3 0 \r\nC -3 0.795609 -2.683901 1.55874 -2.12132 2.12132 \r\nC -1.55874 2.683901 -0.795609 3 0 3 \r\nz\r\n\" id=\"m6432815652\" style=\"stroke:#e24a33;\"/>\r\n    </defs>\r\n    <g clip-path=\"url(#p8a2dfc1b69)\">\r\n     <use style=\"fill:#e24a33;stroke:#e24a33;\" x=\"60.935057\" xlink:href=\"#m6432815652\" y=\"34.025386\"/>\r\n     <use style=\"fill:#e24a33;stroke:#e24a33;\" x=\"91.37142\" xlink:href=\"#m6432815652\" y=\"173.051184\"/>\r\n     <use style=\"fill:#e24a33;stroke:#e24a33;\" x=\"121.807784\" xlink:href=\"#m6432815652\" y=\"196.172239\"/>\r\n     <use style=\"fill:#e24a33;stroke:#e24a33;\" x=\"152.244148\" xlink:href=\"#m6432815652\" y=\"218.78619\"/>\r\n     <use style=\"fill:#e24a33;stroke:#e24a33;\" x=\"182.680511\" xlink:href=\"#m6432815652\" y=\"224.370926\"/>\r\n     <use style=\"fill:#e24a33;stroke:#e24a33;\" x=\"213.116875\" xlink:href=\"#m6432815652\" y=\"225.770867\"/>\r\n     <use style=\"fill:#e24a33;stroke:#e24a33;\" x=\"243.553239\" xlink:href=\"#m6432815652\" y=\"228.354364\"/>\r\n     <use style=\"fill:#e24a33;stroke:#e24a33;\" x=\"273.989602\" xlink:href=\"#m6432815652\" y=\"226.545572\"/>\r\n     <use style=\"fill:#e24a33;stroke:#e24a33;\" x=\"304.425966\" xlink:href=\"#m6432815652\" y=\"231.237291\"/>\r\n     <use style=\"fill:#e24a33;stroke:#e24a33;\" x=\"334.86233\" xlink:href=\"#m6432815652\" y=\"231.698114\"/>\r\n     <use style=\"fill:#e24a33;stroke:#e24a33;\" x=\"365.298693\" xlink:href=\"#m6432815652\" y=\"231.267527\"/>\r\n    </g>\r\n   </g>\r\n   <g id=\"line2d_26\">\r\n    <path clip-path=\"url(#p8a2dfc1b69)\" d=\"M 60.935057 34.025386 \r\nL 91.37142 168.304311 \r\nL 121.807784 194.64676 \r\nL 152.244148 210.205027 \r\nL 182.680511 219.393985 \r\nL 213.116875 224.82113 \r\nL 243.553239 228.026487 \r\nL 273.989602 229.919622 \r\nL 304.425966 231.037737 \r\nL 334.86233 231.698114 \r\nL 365.298693 231.267527 \r\n\" style=\"fill:none;stroke:#348abd;stroke-linecap:square;stroke-width:1.5;\"/>\r\n    <defs>\r\n     <path d=\"M 0 3 \r\nC 0.795609 3 1.55874 2.683901 2.12132 2.12132 \r\nC 2.683901 1.55874 3 0.795609 3 0 \r\nC 3 -0.795609 2.683901 -1.55874 2.12132 -2.12132 \r\nC 1.55874 -2.683901 0.795609 -3 0 -3 \r\nC -0.795609 -3 -1.55874 -2.683901 -2.12132 -2.12132 \r\nC -2.683901 -1.55874 -3 -0.795609 -3 0 \r\nC -3 0.795609 -2.683901 1.55874 -2.12132 2.12132 \r\nC -1.55874 2.683901 -0.795609 3 0 3 \r\nz\r\n\" id=\"mba89c1bfe8\" style=\"stroke:#348abd;\"/>\r\n    </defs>\r\n    <g clip-path=\"url(#p8a2dfc1b69)\">\r\n     <use style=\"fill:#348abd;stroke:#348abd;\" x=\"60.935057\" xlink:href=\"#mba89c1bfe8\" y=\"34.025386\"/>\r\n     <use style=\"fill:#348abd;stroke:#348abd;\" x=\"91.37142\" xlink:href=\"#mba89c1bfe8\" y=\"168.304311\"/>\r\n     <use style=\"fill:#348abd;stroke:#348abd;\" x=\"121.807784\" xlink:href=\"#mba89c1bfe8\" y=\"194.64676\"/>\r\n     <use style=\"fill:#348abd;stroke:#348abd;\" x=\"152.244148\" xlink:href=\"#mba89c1bfe8\" y=\"210.205027\"/>\r\n     <use style=\"fill:#348abd;stroke:#348abd;\" x=\"182.680511\" xlink:href=\"#mba89c1bfe8\" y=\"219.393985\"/>\r\n     <use style=\"fill:#348abd;stroke:#348abd;\" x=\"213.116875\" xlink:href=\"#mba89c1bfe8\" y=\"224.82113\"/>\r\n     <use style=\"fill:#348abd;stroke:#348abd;\" x=\"243.553239\" xlink:href=\"#mba89c1bfe8\" y=\"228.026487\"/>\r\n     <use style=\"fill:#348abd;stroke:#348abd;\" x=\"273.989602\" xlink:href=\"#mba89c1bfe8\" y=\"229.919622\"/>\r\n     <use style=\"fill:#348abd;stroke:#348abd;\" x=\"304.425966\" xlink:href=\"#mba89c1bfe8\" y=\"231.037737\"/>\r\n     <use style=\"fill:#348abd;stroke:#348abd;\" x=\"334.86233\" xlink:href=\"#mba89c1bfe8\" y=\"231.698114\"/>\r\n     <use style=\"fill:#348abd;stroke:#348abd;\" x=\"365.298693\" xlink:href=\"#mba89c1bfe8\" y=\"231.267527\"/>\r\n    </g>\r\n   </g>\r\n   <g id=\"patch_3\">\r\n    <path d=\"M 45.716875 241.58175 \r\nL 45.716875 24.14175 \r\n\" style=\"fill:none;stroke:#ffffff;stroke-linecap:square;stroke-linejoin:miter;\"/>\r\n   </g>\r\n   <g id=\"patch_4\">\r\n    <path d=\"M 380.516875 241.58175 \r\nL 380.516875 24.14175 \r\n\" style=\"fill:none;stroke:#ffffff;stroke-linecap:square;stroke-linejoin:miter;\"/>\r\n   </g>\r\n   <g id=\"patch_5\">\r\n    <path d=\"M 45.716875 241.58175 \r\nL 380.516875 241.58175 \r\n\" style=\"fill:none;stroke:#ffffff;stroke-linecap:square;stroke-linejoin:miter;\"/>\r\n   </g>\r\n   <g id=\"patch_6\">\r\n    <path d=\"M 45.716875 24.14175 \r\nL 380.516875 24.14175 \r\n\" style=\"fill:none;stroke:#ffffff;stroke-linecap:square;stroke-linejoin:miter;\"/>\r\n   </g>\r\n   <g id=\"text_14\">\r\n    <!-- Selected Link Ratio -->\r\n    <g transform=\"translate(144.100375 18.14175)scale(0.144 -0.144)\">\r\n     <defs>\r\n      <path d=\"M 3425 4513 \r\nL 3425 3897 \r\nQ 3066 4069 2747 4153 \r\nQ 2428 4238 2131 4238 \r\nQ 1616 4238 1336 4038 \r\nQ 1056 3838 1056 3469 \r\nQ 1056 3159 1242 3001 \r\nQ 1428 2844 1947 2747 \r\nL 2328 2669 \r\nQ 3034 2534 3370 2195 \r\nQ 3706 1856 3706 1288 \r\nQ 3706 609 3251 259 \r\nQ 2797 -91 1919 -91 \r\nQ 1588 -91 1214 -16 \r\nQ 841 59 441 206 \r\nL 441 856 \r\nQ 825 641 1194 531 \r\nQ 1563 422 1919 422 \r\nQ 2459 422 2753 634 \r\nQ 3047 847 3047 1241 \r\nQ 3047 1584 2836 1778 \r\nQ 2625 1972 2144 2069 \r\nL 1759 2144 \r\nQ 1053 2284 737 2584 \r\nQ 422 2884 422 3419 \r\nQ 422 4038 858 4394 \r\nQ 1294 4750 2059 4750 \r\nQ 2388 4750 2728 4690 \r\nQ 3069 4631 3425 4513 \r\nz\r\n\" id=\"DejaVuSans-53\" transform=\"scale(0.015625)\"/>\r\n      <path d=\"M 3597 1894 \r\nL 3597 1613 \r\nL 953 1613 \r\nQ 991 1019 1311 708 \r\nQ 1631 397 2203 397 \r\nQ 2534 397 2845 478 \r\nQ 3156 559 3463 722 \r\nL 3463 178 \r\nQ 3153 47 2828 -22 \r\nQ 2503 -91 2169 -91 \r\nQ 1331 -91 842 396 \r\nQ 353 884 353 1716 \r\nQ 353 2575 817 3079 \r\nQ 1281 3584 2069 3584 \r\nQ 2775 3584 3186 3129 \r\nQ 3597 2675 3597 1894 \r\nz\r\nM 3022 2063 \r\nQ 3016 2534 2758 2815 \r\nQ 2500 3097 2075 3097 \r\nQ 1594 3097 1305 2825 \r\nQ 1016 2553 972 2059 \r\nL 3022 2063 \r\nz\r\n\" id=\"DejaVuSans-65\" transform=\"scale(0.015625)\"/>\r\n      <path d=\"M 603 4863 \r\nL 1178 4863 \r\nL 1178 0 \r\nL 603 0 \r\nL 603 4863 \r\nz\r\n\" id=\"DejaVuSans-6c\" transform=\"scale(0.015625)\"/>\r\n      <path d=\"M 3122 3366 \r\nL 3122 2828 \r\nQ 2878 2963 2633 3030 \r\nQ 2388 3097 2138 3097 \r\nQ 1578 3097 1268 2742 \r\nQ 959 2388 959 1747 \r\nQ 959 1106 1268 751 \r\nQ 1578 397 2138 397 \r\nQ 2388 397 2633 464 \r\nQ 2878 531 3122 666 \r\nL 3122 134 \r\nQ 2881 22 2623 -34 \r\nQ 2366 -91 2075 -91 \r\nQ 1284 -91 818 406 \r\nQ 353 903 353 1747 \r\nQ 353 2603 823 3093 \r\nQ 1294 3584 2113 3584 \r\nQ 2378 3584 2631 3529 \r\nQ 2884 3475 3122 3366 \r\nz\r\n\" id=\"DejaVuSans-63\" transform=\"scale(0.015625)\"/>\r\n      <path d=\"M 1172 4494 \r\nL 1172 3500 \r\nL 2356 3500 \r\nL 2356 3053 \r\nL 1172 3053 \r\nL 1172 1153 \r\nQ 1172 725 1289 603 \r\nQ 1406 481 1766 481 \r\nL 2356 481 \r\nL 2356 0 \r\nL 1766 0 \r\nQ 1100 0 847 248 \r\nQ 594 497 594 1153 \r\nL 594 3053 \r\nL 172 3053 \r\nL 172 3500 \r\nL 594 3500 \r\nL 594 4494 \r\nL 1172 4494 \r\nz\r\n\" id=\"DejaVuSans-74\" transform=\"scale(0.015625)\"/>\r\n      <path d=\"M 2906 2969 \r\nL 2906 4863 \r\nL 3481 4863 \r\nL 3481 0 \r\nL 2906 0 \r\nL 2906 525 \r\nQ 2725 213 2448 61 \r\nQ 2172 -91 1784 -91 \r\nQ 1150 -91 751 415 \r\nQ 353 922 353 1747 \r\nQ 353 2572 751 3078 \r\nQ 1150 3584 1784 3584 \r\nQ 2172 3584 2448 3432 \r\nQ 2725 3281 2906 2969 \r\nz\r\nM 947 1747 \r\nQ 947 1113 1208 752 \r\nQ 1469 391 1925 391 \r\nQ 2381 391 2643 752 \r\nQ 2906 1113 2906 1747 \r\nQ 2906 2381 2643 2742 \r\nQ 2381 3103 1925 3103 \r\nQ 1469 3103 1208 2742 \r\nQ 947 2381 947 1747 \r\nz\r\n\" id=\"DejaVuSans-64\" transform=\"scale(0.015625)\"/>\r\n      <path id=\"DejaVuSans-20\" transform=\"scale(0.015625)\"/>\r\n      <path d=\"M 603 3500 \r\nL 1178 3500 \r\nL 1178 0 \r\nL 603 0 \r\nL 603 3500 \r\nz\r\nM 603 4863 \r\nL 1178 4863 \r\nL 1178 4134 \r\nL 603 4134 \r\nL 603 4863 \r\nz\r\n\" id=\"DejaVuSans-69\" transform=\"scale(0.015625)\"/>\r\n      <path d=\"M 3513 2113 \r\nL 3513 0 \r\nL 2938 0 \r\nL 2938 2094 \r\nQ 2938 2591 2744 2837 \r\nQ 2550 3084 2163 3084 \r\nQ 1697 3084 1428 2787 \r\nQ 1159 2491 1159 1978 \r\nL 1159 0 \r\nL 581 0 \r\nL 581 3500 \r\nL 1159 3500 \r\nL 1159 2956 \r\nQ 1366 3272 1645 3428 \r\nQ 1925 3584 2291 3584 \r\nQ 2894 3584 3203 3211 \r\nQ 3513 2838 3513 2113 \r\nz\r\n\" id=\"DejaVuSans-6e\" transform=\"scale(0.015625)\"/>\r\n      <path d=\"M 581 4863 \r\nL 1159 4863 \r\nL 1159 1991 \r\nL 2875 3500 \r\nL 3609 3500 \r\nL 1753 1863 \r\nL 3688 0 \r\nL 2938 0 \r\nL 1159 1709 \r\nL 1159 0 \r\nL 581 0 \r\nL 581 4863 \r\nz\r\n\" id=\"DejaVuSans-6b\" transform=\"scale(0.015625)\"/>\r\n      <path d=\"M 2841 2188 \r\nQ 3044 2119 3236 1894 \r\nQ 3428 1669 3622 1275 \r\nL 4263 0 \r\nL 3584 0 \r\nL 2988 1197 \r\nQ 2756 1666 2539 1819 \r\nQ 2322 1972 1947 1972 \r\nL 1259 1972 \r\nL 1259 0 \r\nL 628 0 \r\nL 628 4666 \r\nL 2053 4666 \r\nQ 2853 4666 3247 4331 \r\nQ 3641 3997 3641 3322 \r\nQ 3641 2881 3436 2590 \r\nQ 3231 2300 2841 2188 \r\nz\r\nM 1259 4147 \r\nL 1259 2491 \r\nL 2053 2491 \r\nQ 2509 2491 2742 2702 \r\nQ 2975 2913 2975 3322 \r\nQ 2975 3731 2742 3939 \r\nQ 2509 4147 2053 4147 \r\nL 1259 4147 \r\nz\r\n\" id=\"DejaVuSans-52\" transform=\"scale(0.015625)\"/>\r\n      <path d=\"M 2194 1759 \r\nQ 1497 1759 1228 1600 \r\nQ 959 1441 959 1056 \r\nQ 959 750 1161 570 \r\nQ 1363 391 1709 391 \r\nQ 2188 391 2477 730 \r\nQ 2766 1069 2766 1631 \r\nL 2766 1759 \r\nL 2194 1759 \r\nz\r\nM 3341 1997 \r\nL 3341 0 \r\nL 2766 0 \r\nL 2766 531 \r\nQ 2569 213 2275 61 \r\nQ 1981 -91 1556 -91 \r\nQ 1019 -91 701 211 \r\nQ 384 513 384 1019 \r\nQ 384 1609 779 1909 \r\nQ 1175 2209 1959 2209 \r\nL 2766 2209 \r\nL 2766 2266 \r\nQ 2766 2663 2505 2880 \r\nQ 2244 3097 1772 3097 \r\nQ 1472 3097 1187 3025 \r\nQ 903 2953 641 2809 \r\nL 641 3341 \r\nQ 956 3463 1253 3523 \r\nQ 1550 3584 1831 3584 \r\nQ 2591 3584 2966 3190 \r\nQ 3341 2797 3341 1997 \r\nz\r\n\" id=\"DejaVuSans-61\" transform=\"scale(0.015625)\"/>\r\n      <path d=\"M 1959 3097 \r\nQ 1497 3097 1228 2736 \r\nQ 959 2375 959 1747 \r\nQ 959 1119 1226 758 \r\nQ 1494 397 1959 397 \r\nQ 2419 397 2687 759 \r\nQ 2956 1122 2956 1747 \r\nQ 2956 2369 2687 2733 \r\nQ 2419 3097 1959 3097 \r\nz\r\nM 1959 3584 \r\nQ 2709 3584 3137 3096 \r\nQ 3566 2609 3566 1747 \r\nQ 3566 888 3137 398 \r\nQ 2709 -91 1959 -91 \r\nQ 1206 -91 779 398 \r\nQ 353 888 353 1747 \r\nQ 353 2609 779 3096 \r\nQ 1206 3584 1959 3584 \r\nz\r\n\" id=\"DejaVuSans-6f\" transform=\"scale(0.015625)\"/>\r\n     </defs>\r\n     <use xlink:href=\"#DejaVuSans-53\"/>\r\n     <use x=\"63.476562\" xlink:href=\"#DejaVuSans-65\"/>\r\n     <use x=\"125\" xlink:href=\"#DejaVuSans-6c\"/>\r\n     <use x=\"152.783203\" xlink:href=\"#DejaVuSans-65\"/>\r\n     <use x=\"214.306641\" xlink:href=\"#DejaVuSans-63\"/>\r\n     <use x=\"269.287109\" xlink:href=\"#DejaVuSans-74\"/>\r\n     <use x=\"308.496094\" xlink:href=\"#DejaVuSans-65\"/>\r\n     <use x=\"370.019531\" xlink:href=\"#DejaVuSans-64\"/>\r\n     <use x=\"433.496094\" xlink:href=\"#DejaVuSans-20\"/>\r\n     <use x=\"465.283203\" xlink:href=\"#DejaVuSans-4c\"/>\r\n     <use x=\"520.996094\" xlink:href=\"#DejaVuSans-69\"/>\r\n     <use x=\"548.779297\" xlink:href=\"#DejaVuSans-6e\"/>\r\n     <use x=\"612.158203\" xlink:href=\"#DejaVuSans-6b\"/>\r\n     <use x=\"670.068359\" xlink:href=\"#DejaVuSans-20\"/>\r\n     <use x=\"701.855469\" xlink:href=\"#DejaVuSans-52\"/>\r\n     <use x=\"769.087891\" xlink:href=\"#DejaVuSans-61\"/>\r\n     <use x=\"830.367188\" xlink:href=\"#DejaVuSans-74\"/>\r\n     <use x=\"869.576172\" xlink:href=\"#DejaVuSans-69\"/>\r\n     <use x=\"897.359375\" xlink:href=\"#DejaVuSans-6f\"/>\r\n    </g>\r\n   </g>\r\n   <g id=\"legend_1\">\r\n    <g id=\"patch_7\">\r\n     <path d=\"M 243.627813 61.498 \r\nL 373.516875 61.498 \r\nQ 375.516875 61.498 375.516875 59.498 \r\nL 375.516875 31.14175 \r\nQ 375.516875 29.14175 373.516875 29.14175 \r\nL 243.627813 29.14175 \r\nQ 241.627813 29.14175 241.627813 31.14175 \r\nL 241.627813 59.498 \r\nQ 241.627813 61.498 243.627813 61.498 \r\nz\r\n\" style=\"fill:#e5e5e5;opacity:0.8;stroke:#cccccc;stroke-linejoin:miter;stroke-width:0.5;\"/>\r\n    </g>\r\n    <g id=\"line2d_27\">\r\n     <path d=\"M 245.627813 37.240187 \r\nL 265.627813 37.240187 \r\n\" style=\"fill:none;stroke:#e24a33;stroke-linecap:square;stroke-width:1.5;\"/>\r\n    </g>\r\n    <g id=\"line2d_28\">\r\n     <g>\r\n      <use style=\"fill:#e24a33;stroke:#e24a33;\" x=\"255.627813\" xlink:href=\"#m6432815652\" y=\"37.240187\"/>\r\n     </g>\r\n    </g>\r\n    <g id=\"text_15\">\r\n     <!-- Unsmoothed -->\r\n     <g transform=\"translate(273.627813 40.740187)scale(0.1 -0.1)\">\r\n      <defs>\r\n       <path d=\"M 556 4666 \r\nL 1191 4666 \r\nL 1191 1831 \r\nQ 1191 1081 1462 751 \r\nQ 1734 422 2344 422 \r\nQ 2950 422 3222 751 \r\nQ 3494 1081 3494 1831 \r\nL 3494 4666 \r\nL 4128 4666 \r\nL 4128 1753 \r\nQ 4128 841 3676 375 \r\nQ 3225 -91 2344 -91 \r\nQ 1459 -91 1007 375 \r\nQ 556 841 556 1753 \r\nL 556 4666 \r\nz\r\n\" id=\"DejaVuSans-55\" transform=\"scale(0.015625)\"/>\r\n       <path d=\"M 2834 3397 \r\nL 2834 2853 \r\nQ 2591 2978 2328 3040 \r\nQ 2066 3103 1784 3103 \r\nQ 1356 3103 1142 2972 \r\nQ 928 2841 928 2578 \r\nQ 928 2378 1081 2264 \r\nQ 1234 2150 1697 2047 \r\nL 1894 2003 \r\nQ 2506 1872 2764 1633 \r\nQ 3022 1394 3022 966 \r\nQ 3022 478 2636 193 \r\nQ 2250 -91 1575 -91 \r\nQ 1294 -91 989 -36 \r\nQ 684 19 347 128 \r\nL 347 722 \r\nQ 666 556 975 473 \r\nQ 1284 391 1588 391 \r\nQ 1994 391 2212 530 \r\nQ 2431 669 2431 922 \r\nQ 2431 1156 2273 1281 \r\nQ 2116 1406 1581 1522 \r\nL 1381 1569 \r\nQ 847 1681 609 1914 \r\nQ 372 2147 372 2553 \r\nQ 372 3047 722 3315 \r\nQ 1072 3584 1716 3584 \r\nQ 2034 3584 2315 3537 \r\nQ 2597 3491 2834 3397 \r\nz\r\n\" id=\"DejaVuSans-73\" transform=\"scale(0.015625)\"/>\r\n       <path d=\"M 3328 2828 \r\nQ 3544 3216 3844 3400 \r\nQ 4144 3584 4550 3584 \r\nQ 5097 3584 5394 3201 \r\nQ 5691 2819 5691 2113 \r\nL 5691 0 \r\nL 5113 0 \r\nL 5113 2094 \r\nQ 5113 2597 4934 2840 \r\nQ 4756 3084 4391 3084 \r\nQ 3944 3084 3684 2787 \r\nQ 3425 2491 3425 1978 \r\nL 3425 0 \r\nL 2847 0 \r\nL 2847 2094 \r\nQ 2847 2600 2669 2842 \r\nQ 2491 3084 2119 3084 \r\nQ 1678 3084 1418 2786 \r\nQ 1159 2488 1159 1978 \r\nL 1159 0 \r\nL 581 0 \r\nL 581 3500 \r\nL 1159 3500 \r\nL 1159 2956 \r\nQ 1356 3278 1631 3431 \r\nQ 1906 3584 2284 3584 \r\nQ 2666 3584 2933 3390 \r\nQ 3200 3197 3328 2828 \r\nz\r\n\" id=\"DejaVuSans-6d\" transform=\"scale(0.015625)\"/>\r\n       <path d=\"M 3513 2113 \r\nL 3513 0 \r\nL 2938 0 \r\nL 2938 2094 \r\nQ 2938 2591 2744 2837 \r\nQ 2550 3084 2163 3084 \r\nQ 1697 3084 1428 2787 \r\nQ 1159 2491 1159 1978 \r\nL 1159 0 \r\nL 581 0 \r\nL 581 4863 \r\nL 1159 4863 \r\nL 1159 2956 \r\nQ 1366 3272 1645 3428 \r\nQ 1925 3584 2291 3584 \r\nQ 2894 3584 3203 3211 \r\nQ 3513 2838 3513 2113 \r\nz\r\n\" id=\"DejaVuSans-68\" transform=\"scale(0.015625)\"/>\r\n      </defs>\r\n      <use xlink:href=\"#DejaVuSans-55\"/>\r\n      <use x=\"73.193359\" xlink:href=\"#DejaVuSans-6e\"/>\r\n      <use x=\"136.572266\" xlink:href=\"#DejaVuSans-73\"/>\r\n      <use x=\"188.671875\" xlink:href=\"#DejaVuSans-6d\"/>\r\n      <use x=\"286.083984\" xlink:href=\"#DejaVuSans-6f\"/>\r\n      <use x=\"347.265625\" xlink:href=\"#DejaVuSans-6f\"/>\r\n      <use x=\"408.447266\" xlink:href=\"#DejaVuSans-74\"/>\r\n      <use x=\"447.65625\" xlink:href=\"#DejaVuSans-68\"/>\r\n      <use x=\"511.035156\" xlink:href=\"#DejaVuSans-65\"/>\r\n      <use x=\"572.558594\" xlink:href=\"#DejaVuSans-64\"/>\r\n     </g>\r\n    </g>\r\n    <g id=\"line2d_29\">\r\n     <path d=\"M 245.627813 51.918312 \r\nL 265.627813 51.918312 \r\n\" style=\"fill:none;stroke:#348abd;stroke-linecap:square;stroke-width:1.5;\"/>\r\n    </g>\r\n    <g id=\"line2d_30\">\r\n     <g>\r\n      <use style=\"fill:#348abd;stroke:#348abd;\" x=\"255.627813\" xlink:href=\"#mba89c1bfe8\" y=\"51.918312\"/>\r\n     </g>\r\n    </g>\r\n    <g id=\"text_16\">\r\n     <!-- Age 24+ Smoothed -->\r\n     <g transform=\"translate(273.627813 55.418312)scale(0.1 -0.1)\">\r\n      <defs>\r\n       <path d=\"M 2188 4044 \r\nL 1331 1722 \r\nL 3047 1722 \r\nL 2188 4044 \r\nz\r\nM 1831 4666 \r\nL 2547 4666 \r\nL 4325 0 \r\nL 3669 0 \r\nL 3244 1197 \r\nL 1141 1197 \r\nL 716 0 \r\nL 50 0 \r\nL 1831 4666 \r\nz\r\n\" id=\"DejaVuSans-41\" transform=\"scale(0.015625)\"/>\r\n       <path d=\"M 2906 1791 \r\nQ 2906 2416 2648 2759 \r\nQ 2391 3103 1925 3103 \r\nQ 1463 3103 1205 2759 \r\nQ 947 2416 947 1791 \r\nQ 947 1169 1205 825 \r\nQ 1463 481 1925 481 \r\nQ 2391 481 2648 825 \r\nQ 2906 1169 2906 1791 \r\nz\r\nM 3481 434 \r\nQ 3481 -459 3084 -895 \r\nQ 2688 -1331 1869 -1331 \r\nQ 1566 -1331 1297 -1286 \r\nQ 1028 -1241 775 -1147 \r\nL 775 -588 \r\nQ 1028 -725 1275 -790 \r\nQ 1522 -856 1778 -856 \r\nQ 2344 -856 2625 -561 \r\nQ 2906 -266 2906 331 \r\nL 2906 616 \r\nQ 2728 306 2450 153 \r\nQ 2172 0 1784 0 \r\nQ 1141 0 747 490 \r\nQ 353 981 353 1791 \r\nQ 353 2603 747 3093 \r\nQ 1141 3584 1784 3584 \r\nQ 2172 3584 2450 3431 \r\nQ 2728 3278 2906 2969 \r\nL 2906 3500 \r\nL 3481 3500 \r\nL 3481 434 \r\nz\r\n\" id=\"DejaVuSans-67\" transform=\"scale(0.015625)\"/>\r\n       <path d=\"M 2944 4013 \r\nL 2944 2272 \r\nL 4684 2272 \r\nL 4684 1741 \r\nL 2944 1741 \r\nL 2944 0 \r\nL 2419 0 \r\nL 2419 1741 \r\nL 678 1741 \r\nL 678 2272 \r\nL 2419 2272 \r\nL 2419 4013 \r\nL 2944 4013 \r\nz\r\n\" id=\"DejaVuSans-2b\" transform=\"scale(0.015625)\"/>\r\n      </defs>\r\n      <use xlink:href=\"#DejaVuSans-41\"/>\r\n      <use x=\"68.408203\" xlink:href=\"#DejaVuSans-67\"/>\r\n      <use x=\"131.884766\" xlink:href=\"#DejaVuSans-65\"/>\r\n      <use x=\"193.408203\" xlink:href=\"#DejaVuSans-20\"/>\r\n      <use x=\"225.195312\" xlink:href=\"#DejaVuSans-32\"/>\r\n      <use x=\"288.818359\" xlink:href=\"#DejaVuSans-34\"/>\r\n      <use x=\"352.441406\" xlink:href=\"#DejaVuSans-2b\"/>\r\n      <use x=\"436.230469\" xlink:href=\"#DejaVuSans-20\"/>\r\n      <use x=\"468.017578\" xlink:href=\"#DejaVuSans-53\"/>\r\n      <use x=\"531.494141\" xlink:href=\"#DejaVuSans-6d\"/>\r\n      <use x=\"628.90625\" xlink:href=\"#DejaVuSans-6f\"/>\r\n      <use x=\"690.087891\" xlink:href=\"#DejaVuSans-6f\"/>\r\n      <use x=\"751.269531\" xlink:href=\"#DejaVuSans-74\"/>\r\n      <use x=\"790.478516\" xlink:href=\"#DejaVuSans-68\"/>\r\n      <use x=\"853.857422\" xlink:href=\"#DejaVuSans-65\"/>\r\n      <use x=\"915.380859\" xlink:href=\"#DejaVuSans-64\"/>\r\n     </g>\r\n    </g>\r\n   </g>\r\n  </g>\r\n </g>\r\n <defs>\r\n  <clipPath id=\"p8a2dfc1b69\">\r\n   <rect height=\"217.44\" width=\"334.8\" x=\"45.716875\" y=\"24.14175\"/>\r\n  </clipPath>\r\n </defs>\r\n</svg>\r\n",
      "text/plain": [
       "<Figure size 432x288 with 1 Axes>"
      ]
     },
     "metadata": {},
     "output_type": "display_data"
    }
   ],
   "source": [
    "pd.concat((\n",
    "    unsmoothed.T.iloc[:, 0].rename('Unsmoothed'),\n",
    "    smoothed.T.iloc[:, 0].rename('Age 24+ Smoothed')),\n",
    "    axis=1).plot(marker='o', title='Selected Link Ratio', ylabel='LDF');"
   ]
  },
  {
   "cell_type": "markdown",
   "id": "6081c268-58a0-449f-83c0-0bd72e65c3d5",
   "metadata": {},
   "source": [
    "### Projection period\n",
    "\n",
    "Regardless of where you attach a tail, there will be incremental patterns to at\n",
    "least one year past the end of the `Triangle` to support run-off analysis.\n",
    "\n",
    "This accommodates views of run-off for the oldest origin periods in your triangle for at least another year.  As actuarial reviews typically occur no less than annually, this should be sufficient for examining run-off performance between actuarial valuations.\n",
    "\n",
    "Cases arise where modeling run-off on a longer time horizon is desired.  For these cases, it is possible to modify the `projection_period` (in months) of all Tail Esimtators by specifying the number of months you wish to extend your patterns."
   ]
  },
  {
   "cell_type": "code",
   "execution_count": 89,
   "id": "1ffb22de-fd73-46fc-a1f1-5e61514315be",
   "metadata": {},
   "outputs": [
    {
     "data": {
      "text/html": [
       "<table border=\"1\" class=\"dataframe\">\n",
       "  <thead>\n",
       "    <tr style=\"text-align: right;\">\n",
       "      <th></th>\n",
       "      <th>120-132</th>\n",
       "      <th>132-144</th>\n",
       "      <th>144-156</th>\n",
       "      <th>156-168</th>\n",
       "      <th>168-180</th>\n",
       "    </tr>\n",
       "  </thead>\n",
       "  <tbody>\n",
       "    <tr>\n",
       "      <th>(All)</th>\n",
       "      <td>1.0119</td>\n",
       "      <td>1.0071</td>\n",
       "      <td>1.0042</td>\n",
       "      <td>1.0025</td>\n",
       "      <td>1.0036</td>\n",
       "    </tr>\n",
       "  </tbody>\n",
       "</table>"
      ],
      "text/plain": [
       "        120-132   132-144   144-156   156-168   168-180\n",
       "(All)  1.011946  1.007056  1.004167  1.002461  1.003555"
      ]
     },
     "execution_count": 89,
     "metadata": {},
     "output_type": "execute_result"
    }
   ],
   "source": [
    "# Extend tail run-off 4 years past end of Triangle.\n",
    "tail = cl.TailCurve(projection_period=12*4).fit(triangle)\n",
    "tail.ldf_[~tail.ldf_.development.isin(triangle.link_ratio.development)]"
   ]
  },
  {
   "cell_type": "markdown",
   "id": "d21599f9-b4e2-4b28-8429-bd71e4be6bcd",
   "metadata": {},
   "source": [
    "In this example, we see a higher development pattern for the last period than the ones prior.  This is because the true tail run-off exceeds four years.  To be clear, the `projection_period` has no effect on the actual estimated tail, it simply provides a longer time horizon for measuring run-off."
   ]
  },
  {
   "cell_type": "markdown",
   "id": "4c8969bc-e01e-40cc-a794-37a13104b49a",
   "metadata": {},
   "source": [
    "(tails:tailconstant)=\n",
    "## TailConstant\n",
    "\n",
    "`TailConstant` allows you to input a tail factor as a constant.  This is\n",
    "useful when relying on tail selections from an external source like industry data.\n",
    "\n",
    "The tail factor supplied applies to all individual triangles contained within\n",
    "the Triangle object.  If this is not the desired outcome, slicing individual\n",
    "triangles and applying `TailConstant` separately to each can be done.\n",
    "\n",
    "### Decay\n",
    "\n",
    "For run-off analysis, you can control the decay of your tail.  An exponential\n",
    "`decay` parameter is also available to facilitate the run off analysis described\n",
    "above."
   ]
  },
  {
   "cell_type": "code",
   "execution_count": 80,
   "id": "531ffe4a-8c12-4c34-a519-2cbcf0fae4be",
   "metadata": {},
   "outputs": [
    {
     "data": {
      "text/html": [
       "<table border=\"1\" class=\"dataframe\">\n",
       "  <thead>\n",
       "    <tr style=\"text-align: right;\">\n",
       "      <th></th>\n",
       "      <th>12-24</th>\n",
       "      <th>24-36</th>\n",
       "      <th>36-48</th>\n",
       "      <th>48-60</th>\n",
       "      <th>60-72</th>\n",
       "      <th>72-84</th>\n",
       "      <th>84-96</th>\n",
       "      <th>96-108</th>\n",
       "      <th>108-120</th>\n",
       "      <th>120-132</th>\n",
       "      <th>132-144</th>\n",
       "    </tr>\n",
       "  </thead>\n",
       "  <tbody>\n",
       "    <tr>\n",
       "      <th>(All)</th>\n",
       "      <td>3.4906</td>\n",
       "      <td>1.7473</td>\n",
       "      <td>1.4574</td>\n",
       "      <td>1.1739</td>\n",
       "      <td>1.1038</td>\n",
       "      <td>1.0863</td>\n",
       "      <td>1.0539</td>\n",
       "      <td>1.0766</td>\n",
       "      <td>1.0177</td>\n",
       "      <td>1.0024</td>\n",
       "      <td>1.0474</td>\n",
       "    </tr>\n",
       "  </tbody>\n",
       "</table>"
      ],
      "text/plain": [
       "          12-24     24-36     36-48     48-60     60-72     72-84     84-96    96-108   108-120   120-132   132-144\n",
       "(All)  3.490607  1.747333  1.457413  1.173852  1.103824  1.086269  1.053874  1.076555  1.017725  1.002436  1.047448"
      ]
     },
     "execution_count": 80,
     "metadata": {},
     "output_type": "execute_result"
    }
   ],
   "source": [
    "tail = cl.TailConstant(tail=1.05, decay=0.95).fit_transform(triangle)\n",
    "tail.ldf_"
   ]
  },
  {
   "cell_type": "markdown",
   "id": "c20918a2-42d1-4b51-9420-98b8b0de316e",
   "metadata": {},
   "source": [
    "As we can see in the example, the 5% tail in the example is split between the\n",
    "amount to run-off over the subsequent calendar period **132-144**, and the\n",
    "remainder, **144-Ult**.  The split is controlled by the `decay` parameter. We\n",
    "can always reference our `tail_` point estimate."
   ]
  },
  {
   "cell_type": "code",
   "execution_count": 81,
   "id": "5cb579be-7e25-40d1-8756-816d54ddeb95",
   "metadata": {},
   "outputs": [
    {
     "data": {
      "text/html": [
       "<div>\n",
       "<style scoped>\n",
       "    .dataframe tbody tr th:only-of-type {\n",
       "        vertical-align: middle;\n",
       "    }\n",
       "\n",
       "    .dataframe tbody tr th {\n",
       "        vertical-align: top;\n",
       "    }\n",
       "\n",
       "    .dataframe thead th {\n",
       "        text-align: right;\n",
       "    }\n",
       "</style>\n",
       "<table border=\"1\" class=\"dataframe\">\n",
       "  <thead>\n",
       "    <tr style=\"text-align: right;\">\n",
       "      <th></th>\n",
       "      <th>120-Ult</th>\n",
       "    </tr>\n",
       "  </thead>\n",
       "  <tbody>\n",
       "    <tr>\n",
       "      <th>(All)</th>\n",
       "      <td>1.05</td>\n",
       "    </tr>\n",
       "  </tbody>\n",
       "</table>\n",
       "</div>"
      ],
      "text/plain": [
       "       120-Ult\n",
       "(All)     1.05"
      ]
     },
     "execution_count": 81,
     "metadata": {},
     "output_type": "execute_result"
    }
   ],
   "source": [
    "tail.tail_"
   ]
  },
  {
   "cell_type": "markdown",
   "id": "40e0f469-249b-4ddd-9a45-6bee5edadcc9",
   "metadata": {},
   "source": [
    "### Examples\n",
    "\n",
    ":::{panels}\n",
    ":column: col-lg-4 px-2 py-2\n",
    "\n",
    "---\n",
    "**[DevelopmentConstant Callable](plot_callable_dev_constant)**\n",
    "```{glue:} plot_callable_dev_constant\n",
    "```\n",
    "+++\n",
    "{bdg-danger}`hard`\n",
    ":::"
   ]
  },
  {
   "cell_type": "markdown",
   "metadata": {},
   "source": [
    "(tails:tailcurve)=\n",
    "## TailCurve\n",
    "\n",
    "`TailCurve` allows for extrapolating a tail factor using curve fitting.\n",
    "Currently, exponential decay of LDFs and inverse power curve are supported."
   ]
  },
  {
   "cell_type": "code",
   "execution_count": 11,
   "id": "736e0edd-293a-4a0f-a4cb-661804518431",
   "metadata": {},
   "outputs": [],
   "source": [
    "clrd = cl.load_sample('clrd').groupby('LOB').sum()['CumPaidLoss']\n",
    "cdf_ip = cl.TailCurve(curve='inverse_power').fit(clrd).tail_\n",
    "cdf_xp = cl.TailCurve(curve='exponential').fit(clrd).tail_"
   ]
  },
  {
   "cell_type": "code",
   "execution_count": 12,
   "id": "aaba2663-25c5-45eb-ac76-99440baa1b1c",
   "metadata": {
    "tags": [
     "hide-input"
    ]
   },
   "outputs": [
    {
     "data": {
      "image/svg+xml": "<?xml version=\"1.0\" encoding=\"utf-8\" standalone=\"no\"?>\r\n<!DOCTYPE svg PUBLIC \"-//W3C//DTD SVG 1.1//EN\"\r\n  \"http://www.w3.org/Graphics/SVG/1.1/DTD/svg11.dtd\">\r\n<svg height=\"333.724813pt\" version=\"1.1\" viewBox=\"0 0 387.716875 333.724813\" width=\"387.716875pt\" xmlns=\"http://www.w3.org/2000/svg\" xmlns:xlink=\"http://www.w3.org/1999/xlink\">\r\n <metadata>\r\n  <rdf:RDF xmlns:cc=\"http://creativecommons.org/ns#\" xmlns:dc=\"http://purl.org/dc/elements/1.1/\" xmlns:rdf=\"http://www.w3.org/1999/02/22-rdf-syntax-ns#\">\r\n   <cc:Work>\r\n    <dc:type rdf:resource=\"http://purl.org/dc/dcmitype/StillImage\"/>\r\n    <dc:date>2021-10-06T11:19:23.654974</dc:date>\r\n    <dc:format>image/svg+xml</dc:format>\r\n    <dc:creator>\r\n     <cc:Agent>\r\n      <dc:title>Matplotlib v3.4.2, https://matplotlib.org/</dc:title>\r\n     </cc:Agent>\r\n    </dc:creator>\r\n   </cc:Work>\r\n  </rdf:RDF>\r\n </metadata>\r\n <defs>\r\n  <style type=\"text/css\">*{stroke-linecap:butt;stroke-linejoin:round;}</style>\r\n </defs>\r\n <g id=\"figure_1\">\r\n  <g id=\"patch_1\">\r\n   <path d=\"M 0 333.724813 \r\nL 387.716875 333.724813 \r\nL 387.716875 0 \r\nL 0 0 \r\nz\r\n\" style=\"fill:#ffffff;\"/>\r\n  </g>\r\n  <g id=\"axes_1\">\r\n   <g id=\"patch_2\">\r\n    <path d=\"M 45.716875 241.58175 \r\nL 380.516875 241.58175 \r\nL 380.516875 24.14175 \r\nL 45.716875 24.14175 \r\nz\r\n\" style=\"fill:#e5e5e5;\"/>\r\n   </g>\r\n   <g id=\"matplotlib.axis_1\">\r\n    <g id=\"xtick_1\">\r\n     <g id=\"line2d_1\">\r\n      <path clip-path=\"url(#pfbb0aa39f2)\" d=\"M 73.616875 241.58175 \r\nL 73.616875 24.14175 \r\n\" style=\"fill:none;stroke:#ffffff;stroke-linecap:square;stroke-width:0.8;\"/>\r\n     </g>\r\n     <g id=\"line2d_2\">\r\n      <defs>\r\n       <path d=\"M 0 0 \r\nL 0 3.5 \r\n\" id=\"m3da9fb7660\" style=\"stroke:#555555;stroke-width:0.8;\"/>\r\n      </defs>\r\n      <g>\r\n       <use style=\"fill:#555555;stroke:#555555;stroke-width:0.8;\" x=\"73.616875\" xlink:href=\"#m3da9fb7660\" y=\"241.58175\"/>\r\n      </g>\r\n     </g>\r\n     <g id=\"text_1\">\r\n      <!-- comauto -->\r\n      <g style=\"fill:#555555;\" transform=\"translate(76.37625 292.44425)rotate(-90)scale(0.1 -0.1)\">\r\n       <defs>\r\n        <path d=\"M 3122 3366 \r\nL 3122 2828 \r\nQ 2878 2963 2633 3030 \r\nQ 2388 3097 2138 3097 \r\nQ 1578 3097 1268 2742 \r\nQ 959 2388 959 1747 \r\nQ 959 1106 1268 751 \r\nQ 1578 397 2138 397 \r\nQ 2388 397 2633 464 \r\nQ 2878 531 3122 666 \r\nL 3122 134 \r\nQ 2881 22 2623 -34 \r\nQ 2366 -91 2075 -91 \r\nQ 1284 -91 818 406 \r\nQ 353 903 353 1747 \r\nQ 353 2603 823 3093 \r\nQ 1294 3584 2113 3584 \r\nQ 2378 3584 2631 3529 \r\nQ 2884 3475 3122 3366 \r\nz\r\n\" id=\"DejaVuSans-63\" transform=\"scale(0.015625)\"/>\r\n        <path d=\"M 1959 3097 \r\nQ 1497 3097 1228 2736 \r\nQ 959 2375 959 1747 \r\nQ 959 1119 1226 758 \r\nQ 1494 397 1959 397 \r\nQ 2419 397 2687 759 \r\nQ 2956 1122 2956 1747 \r\nQ 2956 2369 2687 2733 \r\nQ 2419 3097 1959 3097 \r\nz\r\nM 1959 3584 \r\nQ 2709 3584 3137 3096 \r\nQ 3566 2609 3566 1747 \r\nQ 3566 888 3137 398 \r\nQ 2709 -91 1959 -91 \r\nQ 1206 -91 779 398 \r\nQ 353 888 353 1747 \r\nQ 353 2609 779 3096 \r\nQ 1206 3584 1959 3584 \r\nz\r\n\" id=\"DejaVuSans-6f\" transform=\"scale(0.015625)\"/>\r\n        <path d=\"M 3328 2828 \r\nQ 3544 3216 3844 3400 \r\nQ 4144 3584 4550 3584 \r\nQ 5097 3584 5394 3201 \r\nQ 5691 2819 5691 2113 \r\nL 5691 0 \r\nL 5113 0 \r\nL 5113 2094 \r\nQ 5113 2597 4934 2840 \r\nQ 4756 3084 4391 3084 \r\nQ 3944 3084 3684 2787 \r\nQ 3425 2491 3425 1978 \r\nL 3425 0 \r\nL 2847 0 \r\nL 2847 2094 \r\nQ 2847 2600 2669 2842 \r\nQ 2491 3084 2119 3084 \r\nQ 1678 3084 1418 2786 \r\nQ 1159 2488 1159 1978 \r\nL 1159 0 \r\nL 581 0 \r\nL 581 3500 \r\nL 1159 3500 \r\nL 1159 2956 \r\nQ 1356 3278 1631 3431 \r\nQ 1906 3584 2284 3584 \r\nQ 2666 3584 2933 3390 \r\nQ 3200 3197 3328 2828 \r\nz\r\n\" id=\"DejaVuSans-6d\" transform=\"scale(0.015625)\"/>\r\n        <path d=\"M 2194 1759 \r\nQ 1497 1759 1228 1600 \r\nQ 959 1441 959 1056 \r\nQ 959 750 1161 570 \r\nQ 1363 391 1709 391 \r\nQ 2188 391 2477 730 \r\nQ 2766 1069 2766 1631 \r\nL 2766 1759 \r\nL 2194 1759 \r\nz\r\nM 3341 1997 \r\nL 3341 0 \r\nL 2766 0 \r\nL 2766 531 \r\nQ 2569 213 2275 61 \r\nQ 1981 -91 1556 -91 \r\nQ 1019 -91 701 211 \r\nQ 384 513 384 1019 \r\nQ 384 1609 779 1909 \r\nQ 1175 2209 1959 2209 \r\nL 2766 2209 \r\nL 2766 2266 \r\nQ 2766 2663 2505 2880 \r\nQ 2244 3097 1772 3097 \r\nQ 1472 3097 1187 3025 \r\nQ 903 2953 641 2809 \r\nL 641 3341 \r\nQ 956 3463 1253 3523 \r\nQ 1550 3584 1831 3584 \r\nQ 2591 3584 2966 3190 \r\nQ 3341 2797 3341 1997 \r\nz\r\n\" id=\"DejaVuSans-61\" transform=\"scale(0.015625)\"/>\r\n        <path d=\"M 544 1381 \r\nL 544 3500 \r\nL 1119 3500 \r\nL 1119 1403 \r\nQ 1119 906 1312 657 \r\nQ 1506 409 1894 409 \r\nQ 2359 409 2629 706 \r\nQ 2900 1003 2900 1516 \r\nL 2900 3500 \r\nL 3475 3500 \r\nL 3475 0 \r\nL 2900 0 \r\nL 2900 538 \r\nQ 2691 219 2414 64 \r\nQ 2138 -91 1772 -91 \r\nQ 1169 -91 856 284 \r\nQ 544 659 544 1381 \r\nz\r\nM 1991 3584 \r\nL 1991 3584 \r\nz\r\n\" id=\"DejaVuSans-75\" transform=\"scale(0.015625)\"/>\r\n        <path d=\"M 1172 4494 \r\nL 1172 3500 \r\nL 2356 3500 \r\nL 2356 3053 \r\nL 1172 3053 \r\nL 1172 1153 \r\nQ 1172 725 1289 603 \r\nQ 1406 481 1766 481 \r\nL 2356 481 \r\nL 2356 0 \r\nL 1766 0 \r\nQ 1100 0 847 248 \r\nQ 594 497 594 1153 \r\nL 594 3053 \r\nL 172 3053 \r\nL 172 3500 \r\nL 594 3500 \r\nL 594 4494 \r\nL 1172 4494 \r\nz\r\n\" id=\"DejaVuSans-74\" transform=\"scale(0.015625)\"/>\r\n       </defs>\r\n       <use xlink:href=\"#DejaVuSans-63\"/>\r\n       <use x=\"54.980469\" xlink:href=\"#DejaVuSans-6f\"/>\r\n       <use x=\"116.162109\" xlink:href=\"#DejaVuSans-6d\"/>\r\n       <use x=\"213.574219\" xlink:href=\"#DejaVuSans-61\"/>\r\n       <use x=\"274.853516\" xlink:href=\"#DejaVuSans-75\"/>\r\n       <use x=\"338.232422\" xlink:href=\"#DejaVuSans-74\"/>\r\n       <use x=\"377.441406\" xlink:href=\"#DejaVuSans-6f\"/>\r\n      </g>\r\n     </g>\r\n    </g>\r\n    <g id=\"xtick_2\">\r\n     <g id=\"line2d_3\">\r\n      <path clip-path=\"url(#pfbb0aa39f2)\" d=\"M 129.416875 241.58175 \r\nL 129.416875 24.14175 \r\n\" style=\"fill:none;stroke:#ffffff;stroke-linecap:square;stroke-width:0.8;\"/>\r\n     </g>\r\n     <g id=\"line2d_4\">\r\n      <g>\r\n       <use style=\"fill:#555555;stroke:#555555;stroke-width:0.8;\" x=\"129.416875\" xlink:href=\"#m3da9fb7660\" y=\"241.58175\"/>\r\n      </g>\r\n     </g>\r\n     <g id=\"text_2\">\r\n      <!-- medmal -->\r\n      <g style=\"fill:#555555;\" transform=\"translate(132.17625 289.470813)rotate(-90)scale(0.1 -0.1)\">\r\n       <defs>\r\n        <path d=\"M 3597 1894 \r\nL 3597 1613 \r\nL 953 1613 \r\nQ 991 1019 1311 708 \r\nQ 1631 397 2203 397 \r\nQ 2534 397 2845 478 \r\nQ 3156 559 3463 722 \r\nL 3463 178 \r\nQ 3153 47 2828 -22 \r\nQ 2503 -91 2169 -91 \r\nQ 1331 -91 842 396 \r\nQ 353 884 353 1716 \r\nQ 353 2575 817 3079 \r\nQ 1281 3584 2069 3584 \r\nQ 2775 3584 3186 3129 \r\nQ 3597 2675 3597 1894 \r\nz\r\nM 3022 2063 \r\nQ 3016 2534 2758 2815 \r\nQ 2500 3097 2075 3097 \r\nQ 1594 3097 1305 2825 \r\nQ 1016 2553 972 2059 \r\nL 3022 2063 \r\nz\r\n\" id=\"DejaVuSans-65\" transform=\"scale(0.015625)\"/>\r\n        <path d=\"M 2906 2969 \r\nL 2906 4863 \r\nL 3481 4863 \r\nL 3481 0 \r\nL 2906 0 \r\nL 2906 525 \r\nQ 2725 213 2448 61 \r\nQ 2172 -91 1784 -91 \r\nQ 1150 -91 751 415 \r\nQ 353 922 353 1747 \r\nQ 353 2572 751 3078 \r\nQ 1150 3584 1784 3584 \r\nQ 2172 3584 2448 3432 \r\nQ 2725 3281 2906 2969 \r\nz\r\nM 947 1747 \r\nQ 947 1113 1208 752 \r\nQ 1469 391 1925 391 \r\nQ 2381 391 2643 752 \r\nQ 2906 1113 2906 1747 \r\nQ 2906 2381 2643 2742 \r\nQ 2381 3103 1925 3103 \r\nQ 1469 3103 1208 2742 \r\nQ 947 2381 947 1747 \r\nz\r\n\" id=\"DejaVuSans-64\" transform=\"scale(0.015625)\"/>\r\n        <path d=\"M 603 4863 \r\nL 1178 4863 \r\nL 1178 0 \r\nL 603 0 \r\nL 603 4863 \r\nz\r\n\" id=\"DejaVuSans-6c\" transform=\"scale(0.015625)\"/>\r\n       </defs>\r\n       <use xlink:href=\"#DejaVuSans-6d\"/>\r\n       <use x=\"97.412109\" xlink:href=\"#DejaVuSans-65\"/>\r\n       <use x=\"158.935547\" xlink:href=\"#DejaVuSans-64\"/>\r\n       <use x=\"222.412109\" xlink:href=\"#DejaVuSans-6d\"/>\r\n       <use x=\"319.824219\" xlink:href=\"#DejaVuSans-61\"/>\r\n       <use x=\"381.103516\" xlink:href=\"#DejaVuSans-6c\"/>\r\n      </g>\r\n     </g>\r\n    </g>\r\n    <g id=\"xtick_3\">\r\n     <g id=\"line2d_5\">\r\n      <path clip-path=\"url(#pfbb0aa39f2)\" d=\"M 185.216875 241.58175 \r\nL 185.216875 24.14175 \r\n\" style=\"fill:none;stroke:#ffffff;stroke-linecap:square;stroke-width:0.8;\"/>\r\n     </g>\r\n     <g id=\"line2d_6\">\r\n      <g>\r\n       <use style=\"fill:#555555;stroke:#555555;stroke-width:0.8;\" x=\"185.216875\" xlink:href=\"#m3da9fb7660\" y=\"241.58175\"/>\r\n      </g>\r\n     </g>\r\n     <g id=\"text_3\">\r\n      <!-- othliab -->\r\n      <g style=\"fill:#555555;\" transform=\"translate(187.97625 282.991125)rotate(-90)scale(0.1 -0.1)\">\r\n       <defs>\r\n        <path d=\"M 3513 2113 \r\nL 3513 0 \r\nL 2938 0 \r\nL 2938 2094 \r\nQ 2938 2591 2744 2837 \r\nQ 2550 3084 2163 3084 \r\nQ 1697 3084 1428 2787 \r\nQ 1159 2491 1159 1978 \r\nL 1159 0 \r\nL 581 0 \r\nL 581 4863 \r\nL 1159 4863 \r\nL 1159 2956 \r\nQ 1366 3272 1645 3428 \r\nQ 1925 3584 2291 3584 \r\nQ 2894 3584 3203 3211 \r\nQ 3513 2838 3513 2113 \r\nz\r\n\" id=\"DejaVuSans-68\" transform=\"scale(0.015625)\"/>\r\n        <path d=\"M 603 3500 \r\nL 1178 3500 \r\nL 1178 0 \r\nL 603 0 \r\nL 603 3500 \r\nz\r\nM 603 4863 \r\nL 1178 4863 \r\nL 1178 4134 \r\nL 603 4134 \r\nL 603 4863 \r\nz\r\n\" id=\"DejaVuSans-69\" transform=\"scale(0.015625)\"/>\r\n        <path d=\"M 3116 1747 \r\nQ 3116 2381 2855 2742 \r\nQ 2594 3103 2138 3103 \r\nQ 1681 3103 1420 2742 \r\nQ 1159 2381 1159 1747 \r\nQ 1159 1113 1420 752 \r\nQ 1681 391 2138 391 \r\nQ 2594 391 2855 752 \r\nQ 3116 1113 3116 1747 \r\nz\r\nM 1159 2969 \r\nQ 1341 3281 1617 3432 \r\nQ 1894 3584 2278 3584 \r\nQ 2916 3584 3314 3078 \r\nQ 3713 2572 3713 1747 \r\nQ 3713 922 3314 415 \r\nQ 2916 -91 2278 -91 \r\nQ 1894 -91 1617 61 \r\nQ 1341 213 1159 525 \r\nL 1159 0 \r\nL 581 0 \r\nL 581 4863 \r\nL 1159 4863 \r\nL 1159 2969 \r\nz\r\n\" id=\"DejaVuSans-62\" transform=\"scale(0.015625)\"/>\r\n       </defs>\r\n       <use xlink:href=\"#DejaVuSans-6f\"/>\r\n       <use x=\"61.181641\" xlink:href=\"#DejaVuSans-74\"/>\r\n       <use x=\"100.390625\" xlink:href=\"#DejaVuSans-68\"/>\r\n       <use x=\"163.769531\" xlink:href=\"#DejaVuSans-6c\"/>\r\n       <use x=\"191.552734\" xlink:href=\"#DejaVuSans-69\"/>\r\n       <use x=\"219.335938\" xlink:href=\"#DejaVuSans-61\"/>\r\n       <use x=\"280.615234\" xlink:href=\"#DejaVuSans-62\"/>\r\n      </g>\r\n     </g>\r\n    </g>\r\n    <g id=\"xtick_4\">\r\n     <g id=\"line2d_7\">\r\n      <path clip-path=\"url(#pfbb0aa39f2)\" d=\"M 241.016875 241.58175 \r\nL 241.016875 24.14175 \r\n\" style=\"fill:none;stroke:#ffffff;stroke-linecap:square;stroke-width:0.8;\"/>\r\n     </g>\r\n     <g id=\"line2d_8\">\r\n      <g>\r\n       <use style=\"fill:#555555;stroke:#555555;stroke-width:0.8;\" x=\"241.016875\" xlink:href=\"#m3da9fb7660\" y=\"241.58175\"/>\r\n      </g>\r\n     </g>\r\n     <g id=\"text_4\">\r\n      <!-- ppauto -->\r\n      <g style=\"fill:#555555;\" transform=\"translate(243.77625 283.783313)rotate(-90)scale(0.1 -0.1)\">\r\n       <defs>\r\n        <path d=\"M 1159 525 \r\nL 1159 -1331 \r\nL 581 -1331 \r\nL 581 3500 \r\nL 1159 3500 \r\nL 1159 2969 \r\nQ 1341 3281 1617 3432 \r\nQ 1894 3584 2278 3584 \r\nQ 2916 3584 3314 3078 \r\nQ 3713 2572 3713 1747 \r\nQ 3713 922 3314 415 \r\nQ 2916 -91 2278 -91 \r\nQ 1894 -91 1617 61 \r\nQ 1341 213 1159 525 \r\nz\r\nM 3116 1747 \r\nQ 3116 2381 2855 2742 \r\nQ 2594 3103 2138 3103 \r\nQ 1681 3103 1420 2742 \r\nQ 1159 2381 1159 1747 \r\nQ 1159 1113 1420 752 \r\nQ 1681 391 2138 391 \r\nQ 2594 391 2855 752 \r\nQ 3116 1113 3116 1747 \r\nz\r\n\" id=\"DejaVuSans-70\" transform=\"scale(0.015625)\"/>\r\n       </defs>\r\n       <use xlink:href=\"#DejaVuSans-70\"/>\r\n       <use x=\"63.476562\" xlink:href=\"#DejaVuSans-70\"/>\r\n       <use x=\"126.953125\" xlink:href=\"#DejaVuSans-61\"/>\r\n       <use x=\"188.232422\" xlink:href=\"#DejaVuSans-75\"/>\r\n       <use x=\"251.611328\" xlink:href=\"#DejaVuSans-74\"/>\r\n       <use x=\"290.820312\" xlink:href=\"#DejaVuSans-6f\"/>\r\n      </g>\r\n     </g>\r\n    </g>\r\n    <g id=\"xtick_5\">\r\n     <g id=\"line2d_9\">\r\n      <path clip-path=\"url(#pfbb0aa39f2)\" d=\"M 296.816875 241.58175 \r\nL 296.816875 24.14175 \r\n\" style=\"fill:none;stroke:#ffffff;stroke-linecap:square;stroke-width:0.8;\"/>\r\n     </g>\r\n     <g id=\"line2d_10\">\r\n      <g>\r\n       <use style=\"fill:#555555;stroke:#555555;stroke-width:0.8;\" x=\"296.816875\" xlink:href=\"#m3da9fb7660\" y=\"241.58175\"/>\r\n      </g>\r\n     </g>\r\n     <g id=\"text_5\">\r\n      <!-- prodliab -->\r\n      <g style=\"fill:#555555;\" transform=\"translate(299.57625 289.316125)rotate(-90)scale(0.1 -0.1)\">\r\n       <defs>\r\n        <path d=\"M 2631 2963 \r\nQ 2534 3019 2420 3045 \r\nQ 2306 3072 2169 3072 \r\nQ 1681 3072 1420 2755 \r\nQ 1159 2438 1159 1844 \r\nL 1159 0 \r\nL 581 0 \r\nL 581 3500 \r\nL 1159 3500 \r\nL 1159 2956 \r\nQ 1341 3275 1631 3429 \r\nQ 1922 3584 2338 3584 \r\nQ 2397 3584 2469 3576 \r\nQ 2541 3569 2628 3553 \r\nL 2631 2963 \r\nz\r\n\" id=\"DejaVuSans-72\" transform=\"scale(0.015625)\"/>\r\n       </defs>\r\n       <use xlink:href=\"#DejaVuSans-70\"/>\r\n       <use x=\"63.476562\" xlink:href=\"#DejaVuSans-72\"/>\r\n       <use x=\"102.339844\" xlink:href=\"#DejaVuSans-6f\"/>\r\n       <use x=\"163.521484\" xlink:href=\"#DejaVuSans-64\"/>\r\n       <use x=\"226.998047\" xlink:href=\"#DejaVuSans-6c\"/>\r\n       <use x=\"254.78125\" xlink:href=\"#DejaVuSans-69\"/>\r\n       <use x=\"282.564453\" xlink:href=\"#DejaVuSans-61\"/>\r\n       <use x=\"343.84375\" xlink:href=\"#DejaVuSans-62\"/>\r\n      </g>\r\n     </g>\r\n    </g>\r\n    <g id=\"xtick_6\">\r\n     <g id=\"line2d_11\">\r\n      <path clip-path=\"url(#pfbb0aa39f2)\" d=\"M 352.616875 241.58175 \r\nL 352.616875 24.14175 \r\n\" style=\"fill:none;stroke:#ffffff;stroke-linecap:square;stroke-width:0.8;\"/>\r\n     </g>\r\n     <g id=\"line2d_12\">\r\n      <g>\r\n       <use style=\"fill:#555555;stroke:#555555;stroke-width:0.8;\" x=\"352.616875\" xlink:href=\"#m3da9fb7660\" y=\"241.58175\"/>\r\n      </g>\r\n     </g>\r\n     <g id=\"text_6\">\r\n      <!-- wkcomp -->\r\n      <g style=\"fill:#555555;\" transform=\"translate(355.37625 290.25675)rotate(-90)scale(0.1 -0.1)\">\r\n       <defs>\r\n        <path d=\"M 269 3500 \r\nL 844 3500 \r\nL 1563 769 \r\nL 2278 3500 \r\nL 2956 3500 \r\nL 3675 769 \r\nL 4391 3500 \r\nL 4966 3500 \r\nL 4050 0 \r\nL 3372 0 \r\nL 2619 2869 \r\nL 1863 0 \r\nL 1184 0 \r\nL 269 3500 \r\nz\r\n\" id=\"DejaVuSans-77\" transform=\"scale(0.015625)\"/>\r\n        <path d=\"M 581 4863 \r\nL 1159 4863 \r\nL 1159 1991 \r\nL 2875 3500 \r\nL 3609 3500 \r\nL 1753 1863 \r\nL 3688 0 \r\nL 2938 0 \r\nL 1159 1709 \r\nL 1159 0 \r\nL 581 0 \r\nL 581 4863 \r\nz\r\n\" id=\"DejaVuSans-6b\" transform=\"scale(0.015625)\"/>\r\n       </defs>\r\n       <use xlink:href=\"#DejaVuSans-77\"/>\r\n       <use x=\"81.787109\" xlink:href=\"#DejaVuSans-6b\"/>\r\n       <use x=\"139.697266\" xlink:href=\"#DejaVuSans-63\"/>\r\n       <use x=\"194.677734\" xlink:href=\"#DejaVuSans-6f\"/>\r\n       <use x=\"255.859375\" xlink:href=\"#DejaVuSans-6d\"/>\r\n       <use x=\"353.271484\" xlink:href=\"#DejaVuSans-70\"/>\r\n      </g>\r\n     </g>\r\n    </g>\r\n    <g id=\"text_7\">\r\n     <!-- Industry -->\r\n     <g style=\"fill:#555555;\" transform=\"translate(188.437187 305.562375)scale(0.12 -0.12)\">\r\n      <defs>\r\n       <path d=\"M 628 4666 \r\nL 1259 4666 \r\nL 1259 0 \r\nL 628 0 \r\nL 628 4666 \r\nz\r\n\" id=\"DejaVuSans-49\" transform=\"scale(0.015625)\"/>\r\n       <path d=\"M 3513 2113 \r\nL 3513 0 \r\nL 2938 0 \r\nL 2938 2094 \r\nQ 2938 2591 2744 2837 \r\nQ 2550 3084 2163 3084 \r\nQ 1697 3084 1428 2787 \r\nQ 1159 2491 1159 1978 \r\nL 1159 0 \r\nL 581 0 \r\nL 581 3500 \r\nL 1159 3500 \r\nL 1159 2956 \r\nQ 1366 3272 1645 3428 \r\nQ 1925 3584 2291 3584 \r\nQ 2894 3584 3203 3211 \r\nQ 3513 2838 3513 2113 \r\nz\r\n\" id=\"DejaVuSans-6e\" transform=\"scale(0.015625)\"/>\r\n       <path d=\"M 2834 3397 \r\nL 2834 2853 \r\nQ 2591 2978 2328 3040 \r\nQ 2066 3103 1784 3103 \r\nQ 1356 3103 1142 2972 \r\nQ 928 2841 928 2578 \r\nQ 928 2378 1081 2264 \r\nQ 1234 2150 1697 2047 \r\nL 1894 2003 \r\nQ 2506 1872 2764 1633 \r\nQ 3022 1394 3022 966 \r\nQ 3022 478 2636 193 \r\nQ 2250 -91 1575 -91 \r\nQ 1294 -91 989 -36 \r\nQ 684 19 347 128 \r\nL 347 722 \r\nQ 666 556 975 473 \r\nQ 1284 391 1588 391 \r\nQ 1994 391 2212 530 \r\nQ 2431 669 2431 922 \r\nQ 2431 1156 2273 1281 \r\nQ 2116 1406 1581 1522 \r\nL 1381 1569 \r\nQ 847 1681 609 1914 \r\nQ 372 2147 372 2553 \r\nQ 372 3047 722 3315 \r\nQ 1072 3584 1716 3584 \r\nQ 2034 3584 2315 3537 \r\nQ 2597 3491 2834 3397 \r\nz\r\n\" id=\"DejaVuSans-73\" transform=\"scale(0.015625)\"/>\r\n       <path d=\"M 2059 -325 \r\nQ 1816 -950 1584 -1140 \r\nQ 1353 -1331 966 -1331 \r\nL 506 -1331 \r\nL 506 -850 \r\nL 844 -850 \r\nQ 1081 -850 1212 -737 \r\nQ 1344 -625 1503 -206 \r\nL 1606 56 \r\nL 191 3500 \r\nL 800 3500 \r\nL 1894 763 \r\nL 2988 3500 \r\nL 3597 3500 \r\nL 2059 -325 \r\nz\r\n\" id=\"DejaVuSans-79\" transform=\"scale(0.015625)\"/>\r\n      </defs>\r\n      <use xlink:href=\"#DejaVuSans-49\"/>\r\n      <use x=\"29.492188\" xlink:href=\"#DejaVuSans-6e\"/>\r\n      <use x=\"92.871094\" xlink:href=\"#DejaVuSans-64\"/>\r\n      <use x=\"156.347656\" xlink:href=\"#DejaVuSans-75\"/>\r\n      <use x=\"219.726562\" xlink:href=\"#DejaVuSans-73\"/>\r\n      <use x=\"271.826172\" xlink:href=\"#DejaVuSans-74\"/>\r\n      <use x=\"311.035156\" xlink:href=\"#DejaVuSans-72\"/>\r\n      <use x=\"352.148438\" xlink:href=\"#DejaVuSans-79\"/>\r\n     </g>\r\n    </g>\r\n   </g>\r\n   <g id=\"matplotlib.axis_2\">\r\n    <g id=\"ytick_1\">\r\n     <g id=\"line2d_13\">\r\n      <path clip-path=\"url(#pfbb0aa39f2)\" d=\"M 45.716875 241.58175 \r\nL 380.516875 241.58175 \r\n\" style=\"fill:none;stroke:#ffffff;stroke-linecap:square;stroke-width:0.8;\"/>\r\n     </g>\r\n     <g id=\"line2d_14\">\r\n      <defs>\r\n       <path d=\"M 0 0 \r\nL -3.5 0 \r\n\" id=\"m8862aaebed\" style=\"stroke:#555555;stroke-width:0.8;\"/>\r\n      </defs>\r\n      <g>\r\n       <use style=\"fill:#555555;stroke:#555555;stroke-width:0.8;\" x=\"45.716875\" xlink:href=\"#m8862aaebed\" y=\"241.58175\"/>\r\n      </g>\r\n     </g>\r\n     <g id=\"text_8\">\r\n      <!-- 0.0 -->\r\n      <g style=\"fill:#555555;\" transform=\"translate(22.81375 245.380969)scale(0.1 -0.1)\">\r\n       <defs>\r\n        <path d=\"M 2034 4250 \r\nQ 1547 4250 1301 3770 \r\nQ 1056 3291 1056 2328 \r\nQ 1056 1369 1301 889 \r\nQ 1547 409 2034 409 \r\nQ 2525 409 2770 889 \r\nQ 3016 1369 3016 2328 \r\nQ 3016 3291 2770 3770 \r\nQ 2525 4250 2034 4250 \r\nz\r\nM 2034 4750 \r\nQ 2819 4750 3233 4129 \r\nQ 3647 3509 3647 2328 \r\nQ 3647 1150 3233 529 \r\nQ 2819 -91 2034 -91 \r\nQ 1250 -91 836 529 \r\nQ 422 1150 422 2328 \r\nQ 422 3509 836 4129 \r\nQ 1250 4750 2034 4750 \r\nz\r\n\" id=\"DejaVuSans-30\" transform=\"scale(0.015625)\"/>\r\n        <path d=\"M 684 794 \r\nL 1344 794 \r\nL 1344 0 \r\nL 684 0 \r\nL 684 794 \r\nz\r\n\" id=\"DejaVuSans-2e\" transform=\"scale(0.015625)\"/>\r\n       </defs>\r\n       <use xlink:href=\"#DejaVuSans-30\"/>\r\n       <use x=\"63.623047\" xlink:href=\"#DejaVuSans-2e\"/>\r\n       <use x=\"95.410156\" xlink:href=\"#DejaVuSans-30\"/>\r\n      </g>\r\n     </g>\r\n    </g>\r\n    <g id=\"ytick_2\">\r\n     <g id=\"line2d_15\">\r\n      <path clip-path=\"url(#pfbb0aa39f2)\" d=\"M 45.716875 206.465895 \r\nL 380.516875 206.465895 \r\n\" style=\"fill:none;stroke:#ffffff;stroke-linecap:square;stroke-width:0.8;\"/>\r\n     </g>\r\n     <g id=\"line2d_16\">\r\n      <g>\r\n       <use style=\"fill:#555555;stroke:#555555;stroke-width:0.8;\" x=\"45.716875\" xlink:href=\"#m8862aaebed\" y=\"206.465895\"/>\r\n      </g>\r\n     </g>\r\n     <g id=\"text_9\">\r\n      <!-- 0.2 -->\r\n      <g style=\"fill:#555555;\" transform=\"translate(22.81375 210.265113)scale(0.1 -0.1)\">\r\n       <defs>\r\n        <path d=\"M 1228 531 \r\nL 3431 531 \r\nL 3431 0 \r\nL 469 0 \r\nL 469 531 \r\nQ 828 903 1448 1529 \r\nQ 2069 2156 2228 2338 \r\nQ 2531 2678 2651 2914 \r\nQ 2772 3150 2772 3378 \r\nQ 2772 3750 2511 3984 \r\nQ 2250 4219 1831 4219 \r\nQ 1534 4219 1204 4116 \r\nQ 875 4013 500 3803 \r\nL 500 4441 \r\nQ 881 4594 1212 4672 \r\nQ 1544 4750 1819 4750 \r\nQ 2544 4750 2975 4387 \r\nQ 3406 4025 3406 3419 \r\nQ 3406 3131 3298 2873 \r\nQ 3191 2616 2906 2266 \r\nQ 2828 2175 2409 1742 \r\nQ 1991 1309 1228 531 \r\nz\r\n\" id=\"DejaVuSans-32\" transform=\"scale(0.015625)\"/>\r\n       </defs>\r\n       <use xlink:href=\"#DejaVuSans-30\"/>\r\n       <use x=\"63.623047\" xlink:href=\"#DejaVuSans-2e\"/>\r\n       <use x=\"95.410156\" xlink:href=\"#DejaVuSans-32\"/>\r\n      </g>\r\n     </g>\r\n    </g>\r\n    <g id=\"ytick_3\">\r\n     <g id=\"line2d_17\">\r\n      <path clip-path=\"url(#pfbb0aa39f2)\" d=\"M 45.716875 171.350039 \r\nL 380.516875 171.350039 \r\n\" style=\"fill:none;stroke:#ffffff;stroke-linecap:square;stroke-width:0.8;\"/>\r\n     </g>\r\n     <g id=\"line2d_18\">\r\n      <g>\r\n       <use style=\"fill:#555555;stroke:#555555;stroke-width:0.8;\" x=\"45.716875\" xlink:href=\"#m8862aaebed\" y=\"171.350039\"/>\r\n      </g>\r\n     </g>\r\n     <g id=\"text_10\">\r\n      <!-- 0.4 -->\r\n      <g style=\"fill:#555555;\" transform=\"translate(22.81375 175.149258)scale(0.1 -0.1)\">\r\n       <defs>\r\n        <path d=\"M 2419 4116 \r\nL 825 1625 \r\nL 2419 1625 \r\nL 2419 4116 \r\nz\r\nM 2253 4666 \r\nL 3047 4666 \r\nL 3047 1625 \r\nL 3713 1625 \r\nL 3713 1100 \r\nL 3047 1100 \r\nL 3047 0 \r\nL 2419 0 \r\nL 2419 1100 \r\nL 313 1100 \r\nL 313 1709 \r\nL 2253 4666 \r\nz\r\n\" id=\"DejaVuSans-34\" transform=\"scale(0.015625)\"/>\r\n       </defs>\r\n       <use xlink:href=\"#DejaVuSans-30\"/>\r\n       <use x=\"63.623047\" xlink:href=\"#DejaVuSans-2e\"/>\r\n       <use x=\"95.410156\" xlink:href=\"#DejaVuSans-34\"/>\r\n      </g>\r\n     </g>\r\n    </g>\r\n    <g id=\"ytick_4\">\r\n     <g id=\"line2d_19\">\r\n      <path clip-path=\"url(#pfbb0aa39f2)\" d=\"M 45.716875 136.234184 \r\nL 380.516875 136.234184 \r\n\" style=\"fill:none;stroke:#ffffff;stroke-linecap:square;stroke-width:0.8;\"/>\r\n     </g>\r\n     <g id=\"line2d_20\">\r\n      <g>\r\n       <use style=\"fill:#555555;stroke:#555555;stroke-width:0.8;\" x=\"45.716875\" xlink:href=\"#m8862aaebed\" y=\"136.234184\"/>\r\n      </g>\r\n     </g>\r\n     <g id=\"text_11\">\r\n      <!-- 0.6 -->\r\n      <g style=\"fill:#555555;\" transform=\"translate(22.81375 140.033403)scale(0.1 -0.1)\">\r\n       <defs>\r\n        <path d=\"M 2113 2584 \r\nQ 1688 2584 1439 2293 \r\nQ 1191 2003 1191 1497 \r\nQ 1191 994 1439 701 \r\nQ 1688 409 2113 409 \r\nQ 2538 409 2786 701 \r\nQ 3034 994 3034 1497 \r\nQ 3034 2003 2786 2293 \r\nQ 2538 2584 2113 2584 \r\nz\r\nM 3366 4563 \r\nL 3366 3988 \r\nQ 3128 4100 2886 4159 \r\nQ 2644 4219 2406 4219 \r\nQ 1781 4219 1451 3797 \r\nQ 1122 3375 1075 2522 \r\nQ 1259 2794 1537 2939 \r\nQ 1816 3084 2150 3084 \r\nQ 2853 3084 3261 2657 \r\nQ 3669 2231 3669 1497 \r\nQ 3669 778 3244 343 \r\nQ 2819 -91 2113 -91 \r\nQ 1303 -91 875 529 \r\nQ 447 1150 447 2328 \r\nQ 447 3434 972 4092 \r\nQ 1497 4750 2381 4750 \r\nQ 2619 4750 2861 4703 \r\nQ 3103 4656 3366 4563 \r\nz\r\n\" id=\"DejaVuSans-36\" transform=\"scale(0.015625)\"/>\r\n       </defs>\r\n       <use xlink:href=\"#DejaVuSans-30\"/>\r\n       <use x=\"63.623047\" xlink:href=\"#DejaVuSans-2e\"/>\r\n       <use x=\"95.410156\" xlink:href=\"#DejaVuSans-36\"/>\r\n      </g>\r\n     </g>\r\n    </g>\r\n    <g id=\"ytick_5\">\r\n     <g id=\"line2d_21\">\r\n      <path clip-path=\"url(#pfbb0aa39f2)\" d=\"M 45.716875 101.118329 \r\nL 380.516875 101.118329 \r\n\" style=\"fill:none;stroke:#ffffff;stroke-linecap:square;stroke-width:0.8;\"/>\r\n     </g>\r\n     <g id=\"line2d_22\">\r\n      <g>\r\n       <use style=\"fill:#555555;stroke:#555555;stroke-width:0.8;\" x=\"45.716875\" xlink:href=\"#m8862aaebed\" y=\"101.118329\"/>\r\n      </g>\r\n     </g>\r\n     <g id=\"text_12\">\r\n      <!-- 0.8 -->\r\n      <g style=\"fill:#555555;\" transform=\"translate(22.81375 104.917548)scale(0.1 -0.1)\">\r\n       <defs>\r\n        <path d=\"M 2034 2216 \r\nQ 1584 2216 1326 1975 \r\nQ 1069 1734 1069 1313 \r\nQ 1069 891 1326 650 \r\nQ 1584 409 2034 409 \r\nQ 2484 409 2743 651 \r\nQ 3003 894 3003 1313 \r\nQ 3003 1734 2745 1975 \r\nQ 2488 2216 2034 2216 \r\nz\r\nM 1403 2484 \r\nQ 997 2584 770 2862 \r\nQ 544 3141 544 3541 \r\nQ 544 4100 942 4425 \r\nQ 1341 4750 2034 4750 \r\nQ 2731 4750 3128 4425 \r\nQ 3525 4100 3525 3541 \r\nQ 3525 3141 3298 2862 \r\nQ 3072 2584 2669 2484 \r\nQ 3125 2378 3379 2068 \r\nQ 3634 1759 3634 1313 \r\nQ 3634 634 3220 271 \r\nQ 2806 -91 2034 -91 \r\nQ 1263 -91 848 271 \r\nQ 434 634 434 1313 \r\nQ 434 1759 690 2068 \r\nQ 947 2378 1403 2484 \r\nz\r\nM 1172 3481 \r\nQ 1172 3119 1398 2916 \r\nQ 1625 2713 2034 2713 \r\nQ 2441 2713 2670 2916 \r\nQ 2900 3119 2900 3481 \r\nQ 2900 3844 2670 4047 \r\nQ 2441 4250 2034 4250 \r\nQ 1625 4250 1398 4047 \r\nQ 1172 3844 1172 3481 \r\nz\r\n\" id=\"DejaVuSans-38\" transform=\"scale(0.015625)\"/>\r\n       </defs>\r\n       <use xlink:href=\"#DejaVuSans-30\"/>\r\n       <use x=\"63.623047\" xlink:href=\"#DejaVuSans-2e\"/>\r\n       <use x=\"95.410156\" xlink:href=\"#DejaVuSans-38\"/>\r\n      </g>\r\n     </g>\r\n    </g>\r\n    <g id=\"ytick_6\">\r\n     <g id=\"line2d_23\">\r\n      <path clip-path=\"url(#pfbb0aa39f2)\" d=\"M 45.716875 66.002474 \r\nL 380.516875 66.002474 \r\n\" style=\"fill:none;stroke:#ffffff;stroke-linecap:square;stroke-width:0.8;\"/>\r\n     </g>\r\n     <g id=\"line2d_24\">\r\n      <g>\r\n       <use style=\"fill:#555555;stroke:#555555;stroke-width:0.8;\" x=\"45.716875\" xlink:href=\"#m8862aaebed\" y=\"66.002474\"/>\r\n      </g>\r\n     </g>\r\n     <g id=\"text_13\">\r\n      <!-- 1.0 -->\r\n      <g style=\"fill:#555555;\" transform=\"translate(22.81375 69.801692)scale(0.1 -0.1)\">\r\n       <defs>\r\n        <path d=\"M 794 531 \r\nL 1825 531 \r\nL 1825 4091 \r\nL 703 3866 \r\nL 703 4441 \r\nL 1819 4666 \r\nL 2450 4666 \r\nL 2450 531 \r\nL 3481 531 \r\nL 3481 0 \r\nL 794 0 \r\nL 794 531 \r\nz\r\n\" id=\"DejaVuSans-31\" transform=\"scale(0.015625)\"/>\r\n       </defs>\r\n       <use xlink:href=\"#DejaVuSans-31\"/>\r\n       <use x=\"63.623047\" xlink:href=\"#DejaVuSans-2e\"/>\r\n       <use x=\"95.410156\" xlink:href=\"#DejaVuSans-30\"/>\r\n      </g>\r\n     </g>\r\n    </g>\r\n    <g id=\"ytick_7\">\r\n     <g id=\"line2d_25\">\r\n      <path clip-path=\"url(#pfbb0aa39f2)\" d=\"M 45.716875 30.886618 \r\nL 380.516875 30.886618 \r\n\" style=\"fill:none;stroke:#ffffff;stroke-linecap:square;stroke-width:0.8;\"/>\r\n     </g>\r\n     <g id=\"line2d_26\">\r\n      <g>\r\n       <use style=\"fill:#555555;stroke:#555555;stroke-width:0.8;\" x=\"45.716875\" xlink:href=\"#m8862aaebed\" y=\"30.886618\"/>\r\n      </g>\r\n     </g>\r\n     <g id=\"text_14\">\r\n      <!-- 1.2 -->\r\n      <g style=\"fill:#555555;\" transform=\"translate(22.81375 34.685837)scale(0.1 -0.1)\">\r\n       <use xlink:href=\"#DejaVuSans-31\"/>\r\n       <use x=\"63.623047\" xlink:href=\"#DejaVuSans-2e\"/>\r\n       <use x=\"95.410156\" xlink:href=\"#DejaVuSans-32\"/>\r\n      </g>\r\n     </g>\r\n    </g>\r\n    <g id=\"text_15\">\r\n     <!-- Tail Factor -->\r\n     <g style=\"fill:#555555;\" transform=\"translate(16.318125 162.823313)rotate(-90)scale(0.12 -0.12)\">\r\n      <defs>\r\n       <path d=\"M -19 4666 \r\nL 3928 4666 \r\nL 3928 4134 \r\nL 2272 4134 \r\nL 2272 0 \r\nL 1638 0 \r\nL 1638 4134 \r\nL -19 4134 \r\nL -19 4666 \r\nz\r\n\" id=\"DejaVuSans-54\" transform=\"scale(0.015625)\"/>\r\n       <path id=\"DejaVuSans-20\" transform=\"scale(0.015625)\"/>\r\n       <path d=\"M 628 4666 \r\nL 3309 4666 \r\nL 3309 4134 \r\nL 1259 4134 \r\nL 1259 2759 \r\nL 3109 2759 \r\nL 3109 2228 \r\nL 1259 2228 \r\nL 1259 0 \r\nL 628 0 \r\nL 628 4666 \r\nz\r\n\" id=\"DejaVuSans-46\" transform=\"scale(0.015625)\"/>\r\n      </defs>\r\n      <use xlink:href=\"#DejaVuSans-54\"/>\r\n      <use x=\"44.583984\" xlink:href=\"#DejaVuSans-61\"/>\r\n      <use x=\"105.863281\" xlink:href=\"#DejaVuSans-69\"/>\r\n      <use x=\"133.646484\" xlink:href=\"#DejaVuSans-6c\"/>\r\n      <use x=\"161.429688\" xlink:href=\"#DejaVuSans-20\"/>\r\n      <use x=\"193.216797\" xlink:href=\"#DejaVuSans-46\"/>\r\n      <use x=\"241.611328\" xlink:href=\"#DejaVuSans-61\"/>\r\n      <use x=\"302.890625\" xlink:href=\"#DejaVuSans-63\"/>\r\n      <use x=\"357.871094\" xlink:href=\"#DejaVuSans-74\"/>\r\n      <use x=\"397.080078\" xlink:href=\"#DejaVuSans-6f\"/>\r\n      <use x=\"458.261719\" xlink:href=\"#DejaVuSans-72\"/>\r\n     </g>\r\n    </g>\r\n   </g>\r\n   <g id=\"patch_3\">\r\n    <path clip-path=\"url(#pfbb0aa39f2)\" d=\"M 59.666875 241.58175 \r\nL 73.616875 241.58175 \r\nL 73.616875 59.202885 \r\nL 59.666875 59.202885 \r\nz\r\n\" style=\"fill:#e24a33;\"/>\r\n   </g>\r\n   <g id=\"patch_4\">\r\n    <path clip-path=\"url(#pfbb0aa39f2)\" d=\"M 115.466875 241.58175 \r\nL 129.416875 241.58175 \r\nL 129.416875 44.530579 \r\nL 115.466875 44.530579 \r\nz\r\n\" style=\"fill:#e24a33;\"/>\r\n   </g>\r\n   <g id=\"patch_5\">\r\n    <path clip-path=\"url(#pfbb0aa39f2)\" d=\"M 171.266875 241.58175 \r\nL 185.216875 241.58175 \r\nL 185.216875 47.330878 \r\nL 171.266875 47.330878 \r\nz\r\n\" style=\"fill:#e24a33;\"/>\r\n   </g>\r\n   <g id=\"patch_6\">\r\n    <path clip-path=\"url(#pfbb0aa39f2)\" d=\"M 227.066875 241.58175 \r\nL 241.016875 241.58175 \r\nL 241.016875 64.303727 \r\nL 227.066875 64.303727 \r\nz\r\n\" style=\"fill:#e24a33;\"/>\r\n   </g>\r\n   <g id=\"patch_7\">\r\n    <path clip-path=\"url(#pfbb0aa39f2)\" d=\"M 282.866875 241.58175 \r\nL 296.816875 241.58175 \r\nL 296.816875 34.496036 \r\nL 282.866875 34.496036 \r\nz\r\n\" style=\"fill:#e24a33;\"/>\r\n   </g>\r\n   <g id=\"patch_8\">\r\n    <path clip-path=\"url(#pfbb0aa39f2)\" d=\"M 338.666875 241.58175 \r\nL 352.616875 241.58175 \r\nL 352.616875 47.564362 \r\nL 338.666875 47.564362 \r\nz\r\n\" style=\"fill:#e24a33;\"/>\r\n   </g>\r\n   <g id=\"patch_9\">\r\n    <path clip-path=\"url(#pfbb0aa39f2)\" d=\"M 73.616875 241.58175 \r\nL 87.566875 241.58175 \r\nL 87.566875 65.347617 \r\nL 73.616875 65.347617 \r\nz\r\n\" style=\"fill:#348abd;\"/>\r\n   </g>\r\n   <g id=\"patch_10\">\r\n    <path clip-path=\"url(#pfbb0aa39f2)\" d=\"M 129.416875 241.58175 \r\nL 143.366875 241.58175 \r\nL 143.366875 63.707989 \r\nL 129.416875 63.707989 \r\nz\r\n\" style=\"fill:#348abd;\"/>\r\n   </g>\r\n   <g id=\"patch_11\">\r\n    <path clip-path=\"url(#pfbb0aa39f2)\" d=\"M 185.216875 241.58175 \r\nL 199.166875 241.58175 \r\nL 199.166875 64.259816 \r\nL 185.216875 64.259816 \r\nz\r\n\" style=\"fill:#348abd;\"/>\r\n   </g>\r\n   <g id=\"patch_12\">\r\n    <path clip-path=\"url(#pfbb0aa39f2)\" d=\"M 241.016875 241.58175 \r\nL 254.966875 241.58175 \r\nL 254.966875 65.861938 \r\nL 241.016875 65.861938 \r\nz\r\n\" style=\"fill:#348abd;\"/>\r\n   </g>\r\n   <g id=\"patch_13\">\r\n    <path clip-path=\"url(#pfbb0aa39f2)\" d=\"M 296.816875 241.58175 \r\nL 310.766875 241.58175 \r\nL 310.766875 63.695424 \r\nL 296.816875 63.695424 \r\nz\r\n\" style=\"fill:#348abd;\"/>\r\n   </g>\r\n   <g id=\"patch_14\">\r\n    <path clip-path=\"url(#pfbb0aa39f2)\" d=\"M 352.616875 241.58175 \r\nL 366.566875 241.58175 \r\nL 366.566875 63.931633 \r\nL 352.616875 63.931633 \r\nz\r\n\" style=\"fill:#348abd;\"/>\r\n   </g>\r\n   <g id=\"patch_15\">\r\n    <path d=\"M 45.716875 241.58175 \r\nL 45.716875 24.14175 \r\n\" style=\"fill:none;stroke:#ffffff;stroke-linecap:square;stroke-linejoin:miter;\"/>\r\n   </g>\r\n   <g id=\"patch_16\">\r\n    <path d=\"M 380.516875 241.58175 \r\nL 380.516875 24.14175 \r\n\" style=\"fill:none;stroke:#ffffff;stroke-linecap:square;stroke-linejoin:miter;\"/>\r\n   </g>\r\n   <g id=\"patch_17\">\r\n    <path d=\"M 45.716875 241.58175 \r\nL 380.516875 241.58175 \r\n\" style=\"fill:none;stroke:#ffffff;stroke-linecap:square;stroke-linejoin:miter;\"/>\r\n   </g>\r\n   <g id=\"patch_18\">\r\n    <path d=\"M 45.716875 24.14175 \r\nL 380.516875 24.14175 \r\n\" style=\"fill:none;stroke:#ffffff;stroke-linecap:square;stroke-linejoin:miter;\"/>\r\n   </g>\r\n   <g id=\"text_16\">\r\n    <!-- Curve Fit Comparison -->\r\n    <g transform=\"translate(135.74725 18.14175)scale(0.144 -0.144)\">\r\n     <defs>\r\n      <path d=\"M 4122 4306 \r\nL 4122 3641 \r\nQ 3803 3938 3442 4084 \r\nQ 3081 4231 2675 4231 \r\nQ 1875 4231 1450 3742 \r\nQ 1025 3253 1025 2328 \r\nQ 1025 1406 1450 917 \r\nQ 1875 428 2675 428 \r\nQ 3081 428 3442 575 \r\nQ 3803 722 4122 1019 \r\nL 4122 359 \r\nQ 3791 134 3420 21 \r\nQ 3050 -91 2638 -91 \r\nQ 1578 -91 968 557 \r\nQ 359 1206 359 2328 \r\nQ 359 3453 968 4101 \r\nQ 1578 4750 2638 4750 \r\nQ 3056 4750 3426 4639 \r\nQ 3797 4528 4122 4306 \r\nz\r\n\" id=\"DejaVuSans-43\" transform=\"scale(0.015625)\"/>\r\n      <path d=\"M 191 3500 \r\nL 800 3500 \r\nL 1894 563 \r\nL 2988 3500 \r\nL 3597 3500 \r\nL 2284 0 \r\nL 1503 0 \r\nL 191 3500 \r\nz\r\n\" id=\"DejaVuSans-76\" transform=\"scale(0.015625)\"/>\r\n     </defs>\r\n     <use xlink:href=\"#DejaVuSans-43\"/>\r\n     <use x=\"69.824219\" xlink:href=\"#DejaVuSans-75\"/>\r\n     <use x=\"133.203125\" xlink:href=\"#DejaVuSans-72\"/>\r\n     <use x=\"174.316406\" xlink:href=\"#DejaVuSans-76\"/>\r\n     <use x=\"233.496094\" xlink:href=\"#DejaVuSans-65\"/>\r\n     <use x=\"295.019531\" xlink:href=\"#DejaVuSans-20\"/>\r\n     <use x=\"326.806641\" xlink:href=\"#DejaVuSans-46\"/>\r\n     <use x=\"377.076172\" xlink:href=\"#DejaVuSans-69\"/>\r\n     <use x=\"404.859375\" xlink:href=\"#DejaVuSans-74\"/>\r\n     <use x=\"444.068359\" xlink:href=\"#DejaVuSans-20\"/>\r\n     <use x=\"475.855469\" xlink:href=\"#DejaVuSans-43\"/>\r\n     <use x=\"545.679688\" xlink:href=\"#DejaVuSans-6f\"/>\r\n     <use x=\"606.861328\" xlink:href=\"#DejaVuSans-6d\"/>\r\n     <use x=\"704.273438\" xlink:href=\"#DejaVuSans-70\"/>\r\n     <use x=\"767.75\" xlink:href=\"#DejaVuSans-61\"/>\r\n     <use x=\"829.029297\" xlink:href=\"#DejaVuSans-72\"/>\r\n     <use x=\"870.142578\" xlink:href=\"#DejaVuSans-69\"/>\r\n     <use x=\"897.925781\" xlink:href=\"#DejaVuSans-73\"/>\r\n     <use x=\"950.025391\" xlink:href=\"#DejaVuSans-6f\"/>\r\n     <use x=\"1011.207031\" xlink:href=\"#DejaVuSans-6e\"/>\r\n    </g>\r\n   </g>\r\n   <g id=\"legend_1\">\r\n    <g id=\"patch_19\">\r\n     <path d=\"M 108.428594 326.524813 \r\nL 317.805156 326.524813 \r\nQ 319.805156 326.524813 319.805156 324.524813 \r\nL 319.805156 310.846688 \r\nQ 319.805156 308.846688 317.805156 308.846688 \r\nL 108.428594 308.846688 \r\nQ 106.428594 308.846688 106.428594 310.846688 \r\nL 106.428594 324.524813 \r\nQ 106.428594 326.524813 108.428594 326.524813 \r\nz\r\n\" style=\"fill:#ffffff;opacity:0.8;stroke:#cccccc;stroke-linejoin:miter;stroke-width:0.5;\"/>\r\n    </g>\r\n    <g id=\"patch_20\">\r\n     <path d=\"M 110.428594 320.445125 \r\nL 130.428594 320.445125 \r\nL 130.428594 313.445125 \r\nL 110.428594 313.445125 \r\nz\r\n\" style=\"fill:#e24a33;\"/>\r\n    </g>\r\n    <g id=\"text_17\">\r\n     <!-- Inverse Power -->\r\n     <g transform=\"translate(138.428594 320.445125)scale(0.1 -0.1)\">\r\n      <defs>\r\n       <path d=\"M 1259 4147 \r\nL 1259 2394 \r\nL 2053 2394 \r\nQ 2494 2394 2734 2622 \r\nQ 2975 2850 2975 3272 \r\nQ 2975 3691 2734 3919 \r\nQ 2494 4147 2053 4147 \r\nL 1259 4147 \r\nz\r\nM 628 4666 \r\nL 2053 4666 \r\nQ 2838 4666 3239 4311 \r\nQ 3641 3956 3641 3272 \r\nQ 3641 2581 3239 2228 \r\nQ 2838 1875 2053 1875 \r\nL 1259 1875 \r\nL 1259 0 \r\nL 628 0 \r\nL 628 4666 \r\nz\r\n\" id=\"DejaVuSans-50\" transform=\"scale(0.015625)\"/>\r\n      </defs>\r\n      <use xlink:href=\"#DejaVuSans-49\"/>\r\n      <use x=\"29.492188\" xlink:href=\"#DejaVuSans-6e\"/>\r\n      <use x=\"92.871094\" xlink:href=\"#DejaVuSans-76\"/>\r\n      <use x=\"152.050781\" xlink:href=\"#DejaVuSans-65\"/>\r\n      <use x=\"213.574219\" xlink:href=\"#DejaVuSans-72\"/>\r\n      <use x=\"254.6875\" xlink:href=\"#DejaVuSans-73\"/>\r\n      <use x=\"306.787109\" xlink:href=\"#DejaVuSans-65\"/>\r\n      <use x=\"368.310547\" xlink:href=\"#DejaVuSans-20\"/>\r\n      <use x=\"400.097656\" xlink:href=\"#DejaVuSans-50\"/>\r\n      <use x=\"456.775391\" xlink:href=\"#DejaVuSans-6f\"/>\r\n      <use x=\"517.957031\" xlink:href=\"#DejaVuSans-77\"/>\r\n      <use x=\"599.744141\" xlink:href=\"#DejaVuSans-65\"/>\r\n      <use x=\"661.267578\" xlink:href=\"#DejaVuSans-72\"/>\r\n     </g>\r\n    </g>\r\n    <g id=\"patch_21\">\r\n     <path d=\"M 228.667656 320.445125 \r\nL 248.667656 320.445125 \r\nL 248.667656 313.445125 \r\nL 228.667656 313.445125 \r\nz\r\n\" style=\"fill:#348abd;\"/>\r\n    </g>\r\n    <g id=\"text_18\">\r\n     <!-- Exponential -->\r\n     <g transform=\"translate(256.667656 320.445125)scale(0.1 -0.1)\">\r\n      <defs>\r\n       <path d=\"M 628 4666 \r\nL 3578 4666 \r\nL 3578 4134 \r\nL 1259 4134 \r\nL 1259 2753 \r\nL 3481 2753 \r\nL 3481 2222 \r\nL 1259 2222 \r\nL 1259 531 \r\nL 3634 531 \r\nL 3634 0 \r\nL 628 0 \r\nL 628 4666 \r\nz\r\n\" id=\"DejaVuSans-45\" transform=\"scale(0.015625)\"/>\r\n       <path d=\"M 3513 3500 \r\nL 2247 1797 \r\nL 3578 0 \r\nL 2900 0 \r\nL 1881 1375 \r\nL 863 0 \r\nL 184 0 \r\nL 1544 1831 \r\nL 300 3500 \r\nL 978 3500 \r\nL 1906 2253 \r\nL 2834 3500 \r\nL 3513 3500 \r\nz\r\n\" id=\"DejaVuSans-78\" transform=\"scale(0.015625)\"/>\r\n      </defs>\r\n      <use xlink:href=\"#DejaVuSans-45\"/>\r\n      <use x=\"63.183594\" xlink:href=\"#DejaVuSans-78\"/>\r\n      <use x=\"122.363281\" xlink:href=\"#DejaVuSans-70\"/>\r\n      <use x=\"185.839844\" xlink:href=\"#DejaVuSans-6f\"/>\r\n      <use x=\"247.021484\" xlink:href=\"#DejaVuSans-6e\"/>\r\n      <use x=\"310.400391\" xlink:href=\"#DejaVuSans-65\"/>\r\n      <use x=\"371.923828\" xlink:href=\"#DejaVuSans-6e\"/>\r\n      <use x=\"435.302734\" xlink:href=\"#DejaVuSans-74\"/>\r\n      <use x=\"474.511719\" xlink:href=\"#DejaVuSans-69\"/>\r\n      <use x=\"502.294922\" xlink:href=\"#DejaVuSans-61\"/>\r\n      <use x=\"563.574219\" xlink:href=\"#DejaVuSans-6c\"/>\r\n     </g>\r\n    </g>\r\n   </g>\r\n  </g>\r\n </g>\r\n <defs>\r\n  <clipPath id=\"pfbb0aa39f2\">\r\n   <rect height=\"217.44\" width=\"334.8\" x=\"45.716875\" y=\"24.14175\"/>\r\n  </clipPath>\r\n </defs>\r\n</svg>\r\n",
      "text/plain": [
       "<Figure size 432x288 with 1 Axes>"
      ]
     },
     "metadata": {},
     "output_type": "display_data"
    }
   ],
   "source": [
    "ax = pd.concat((cdf_ip.rename(\"Inverse Power\"),\n",
    "           cdf_xp.rename(\"Exponential\")), axis=1).plot(\n",
    "        kind='bar', title='Curve Fit Comparison',\n",
    "        xlabel='Industry', ylabel='Tail Factor')\n",
    "\n",
    "ax.legend(loc='center', bbox_to_anchor=(.5, -.35), facecolor='white', ncol=2);"
   ]
  },
  {
   "cell_type": "markdown",
   "id": "82043cfd-22a0-48e5-82be-b947687f65e8",
   "metadata": {},
   "source": [
    "### Regression parameters\n",
    "\n",
    "Underlying the curve fit is an OLS regression which generates both a `slope_`\n",
    "and `intercept_` term.\n",
    "\n",
    "For the `exponential` curve fit with slope, $\\beta$ and intercept $\\alpha$, the tail factor\n",
    "is:\n",
    "\n",
    "\n",
    "$$\n",
    "\\prod_{i}^{N}1+exp(\\beta X+\\alpha )\n",
    "$$ (tail_exponential_eq)\n",
    "\n",
    "For the `inverse_power` curve, the tail factor is:\n",
    "\n",
    "$$\n",
    "\\prod_{i}^{N}1+exp(\\alpha) X^{\\beta}\n",
    "$$ (tail_inverse_power_eq)\n",
    "\n",
    "Where $X$ is your selected link ratios and $N$ is the number of years you wish to extrapolate the `tail_`\n",
    "\n",
    "Deriving the `tail_` factor manually:"
   ]
  },
  {
   "cell_type": "code",
   "execution_count": 13,
   "id": "4dba8958-8c9a-4d98-8b93-050bddf35269",
   "metadata": {},
   "outputs": [
    {
     "data": {
      "text/html": [
       "<div>\n",
       "<style scoped>\n",
       "    .dataframe tbody tr th:only-of-type {\n",
       "        vertical-align: middle;\n",
       "    }\n",
       "\n",
       "    .dataframe tbody tr th {\n",
       "        vertical-align: top;\n",
       "    }\n",
       "\n",
       "    .dataframe thead th {\n",
       "        text-align: right;\n",
       "    }\n",
       "</style>\n",
       "<table border=\"1\" class=\"dataframe\">\n",
       "  <thead>\n",
       "    <tr style=\"text-align: right;\">\n",
       "      <th></th>\n",
       "      <th>120-Ult</th>\n",
       "    </tr>\n",
       "  </thead>\n",
       "  <tbody>\n",
       "    <tr>\n",
       "      <th>(All)</th>\n",
       "      <td>1.029499</td>\n",
       "    </tr>\n",
       "  </tbody>\n",
       "</table>\n",
       "</div>"
      ],
      "text/plain": [
       "        120-Ult\n",
       "(All)  1.029499"
      ]
     },
     "execution_count": 13,
     "metadata": {},
     "output_type": "execute_result"
    }
   ],
   "source": [
    "triangle = cl.load_sample('genins')\n",
    "tail = cl.TailCurve('exponential').fit(triangle)\n",
    "tail.tail_"
   ]
  },
  {
   "cell_type": "markdown",
   "id": "f3c3aef3-c653-40b0-9828-111769bd91a3",
   "metadata": {},
   "source": [
    "A manual calculation using {eq}`tail_exponential_eq` above:"
   ]
  },
  {
   "cell_type": "code",
   "execution_count": 14,
   "id": "22d0b670-35ac-4472-9d45-a65a636029ea",
   "metadata": {},
   "outputs": [
    {
     "data": {
      "text/plain": [
       "1.0294991710529175"
      ]
     },
     "execution_count": 14,
     "metadata": {},
     "output_type": "execute_result"
    }
   ],
   "source": [
    "np.prod(\n",
    "    (1+np.exp(\n",
    "        np.arange(triangle.shape[-1],\n",
    "                  triangle.shape[-1] + tail.extrap_periods) * \n",
    "        tail.slope_.values + tail.intercept_.values)\n",
    "    )\n",
    ")"
   ]
  },
  {
   "cell_type": "markdown",
   "id": "82b944f8-835b-4c57-991d-43ff3032ee8b",
   "metadata": {},
   "source": [
    "For completeness, let's also confirm {eq}`tail_inverse_power_eq`:"
   ]
  },
  {
   "cell_type": "code",
   "execution_count": 15,
   "id": "4d4423e8-0311-4df4-9e0b-b25a2e91f03f",
   "metadata": {},
   "outputs": [
    {
     "data": {
      "text/html": [
       "<div>\n",
       "<style scoped>\n",
       "    .dataframe tbody tr th:only-of-type {\n",
       "        vertical-align: middle;\n",
       "    }\n",
       "\n",
       "    .dataframe tbody tr th {\n",
       "        vertical-align: top;\n",
       "    }\n",
       "\n",
       "    .dataframe thead th {\n",
       "        text-align: right;\n",
       "    }\n",
       "</style>\n",
       "<table border=\"1\" class=\"dataframe\">\n",
       "  <thead>\n",
       "    <tr style=\"text-align: right;\">\n",
       "      <th></th>\n",
       "      <th>120-Ult</th>\n",
       "    </tr>\n",
       "  </thead>\n",
       "  <tbody>\n",
       "    <tr>\n",
       "      <th>(All)</th>\n",
       "      <td>1.29243</td>\n",
       "    </tr>\n",
       "  </tbody>\n",
       "</table>\n",
       "</div>"
      ],
      "text/plain": [
       "       120-Ult\n",
       "(All)  1.29243"
      ]
     },
     "execution_count": 15,
     "metadata": {},
     "output_type": "execute_result"
    }
   ],
   "source": [
    "tail = cl.TailCurve('inverse_power').fit(triangle)\n",
    "tail.tail_"
   ]
  },
  {
   "cell_type": "code",
   "execution_count": 16,
   "id": "8a3a1e46-e982-4971-9f85-db8fc60f06d0",
   "metadata": {},
   "outputs": [
    {
     "data": {
      "text/plain": [
       "1.292430311543694"
      ]
     },
     "execution_count": 16,
     "metadata": {},
     "output_type": "execute_result"
    }
   ],
   "source": [
    "np.prod(\n",
    "    1 + np.exp(tail.intercept_.values) * \n",
    "    (\n",
    "        np.arange(\n",
    "            triangle.shape[-1], \n",
    "            triangle.shape[-1] + tail.extrap_periods\n",
    "        ) ** tail.slope_.values)\n",
    ")"
   ]
  },
  {
   "cell_type": "markdown",
   "id": "c798b3b0-590c-4687-9d21-9ddbad185480",
   "metadata": {},
   "source": [
    "### Extrapolation Period\n",
    "\n",
    "From these formulas, the actuary has control over the parameter, $N$ which \n",
    "represents how far out how far beyond the edge of Results for the `inverse_power`\n",
    "curve are sensitive to this parameter as it tends to converge slowly to its\n",
    "asymptotic value. This parameter can be controlled using the `extrap_periods`\n",
    "hyperparamter.\n",
    "\n",
    "```{tip}\n",
    "Exponential decay is generally rapid and is less sensitive to the `extrap_period` \n",
    "argument than the inverse power fit.\n",
    "```"
   ]
  },
  {
   "cell_type": "code",
   "execution_count": 17,
   "id": "8a41dcc1-cefd-4967-bab9-a8d8ad5d6a40",
   "metadata": {
    "tags": [
     "hide-input"
    ]
   },
   "outputs": [
    {
     "data": {
      "image/svg+xml": "<?xml version=\"1.0\" encoding=\"utf-8\" standalone=\"no\"?>\r\n<!DOCTYPE svg PUBLIC \"-//W3C//DTD SVG 1.1//EN\"\r\n  \"http://www.w3.org/Graphics/SVG/1.1/DTD/svg11.dtd\">\r\n<svg height=\"281.407375pt\" version=\"1.1\" viewBox=\"0 0 397.916307 281.407375\" width=\"397.916307pt\" xmlns=\"http://www.w3.org/2000/svg\" xmlns:xlink=\"http://www.w3.org/1999/xlink\">\r\n <metadata>\r\n  <rdf:RDF xmlns:cc=\"http://creativecommons.org/ns#\" xmlns:dc=\"http://purl.org/dc/elements/1.1/\" xmlns:rdf=\"http://www.w3.org/1999/02/22-rdf-syntax-ns#\">\r\n   <cc:Work>\r\n    <dc:type rdf:resource=\"http://purl.org/dc/dcmitype/StillImage\"/>\r\n    <dc:date>2021-10-06T11:19:25.779404</dc:date>\r\n    <dc:format>image/svg+xml</dc:format>\r\n    <dc:creator>\r\n     <cc:Agent>\r\n      <dc:title>Matplotlib v3.4.2, https://matplotlib.org/</dc:title>\r\n     </cc:Agent>\r\n    </dc:creator>\r\n   </cc:Work>\r\n  </rdf:RDF>\r\n </metadata>\r\n <defs>\r\n  <style type=\"text/css\">*{stroke-linecap:butt;stroke-linejoin:round;}</style>\r\n </defs>\r\n <g id=\"figure_1\">\r\n  <g id=\"patch_1\">\r\n   <path d=\"M 0 281.407375 \r\nL 397.916307 281.407375 \r\nL 397.916307 0 \r\nL 0 0 \r\nz\r\n\" style=\"fill:#ffffff;\"/>\r\n  </g>\r\n  <g id=\"axes_1\">\r\n   <g id=\"patch_2\">\r\n    <path d=\"M 52.079375 241.58175 \r\nL 386.879375 241.58175 \r\nL 386.879375 24.14175 \r\nL 52.079375 24.14175 \r\nz\r\n\" style=\"fill:#e5e5e5;\"/>\r\n   </g>\r\n   <g id=\"matplotlib.axis_1\">\r\n    <g id=\"xtick_1\">\r\n     <g id=\"line2d_1\">\r\n      <path clip-path=\"url(#pba015d00db)\" d=\"M 64.127102 241.58175 \r\nL 64.127102 24.14175 \r\n\" style=\"fill:none;stroke:#ffffff;stroke-linecap:square;stroke-width:0.8;\"/>\r\n     </g>\r\n     <g id=\"line2d_2\">\r\n      <defs>\r\n       <path d=\"M 0 0 \r\nL 0 3.5 \r\n\" id=\"md1a30eab1f\" style=\"stroke:#555555;stroke-width:0.8;\"/>\r\n      </defs>\r\n      <g>\r\n       <use style=\"fill:#555555;stroke:#555555;stroke-width:0.8;\" x=\"64.127102\" xlink:href=\"#md1a30eab1f\" y=\"241.58175\"/>\r\n      </g>\r\n     </g>\r\n     <g id=\"text_1\">\r\n      <!-- 0 -->\r\n      <g style=\"fill:#555555;\" transform=\"translate(60.945852 256.180187)scale(0.1 -0.1)\">\r\n       <defs>\r\n        <path d=\"M 2034 4250 \r\nQ 1547 4250 1301 3770 \r\nQ 1056 3291 1056 2328 \r\nQ 1056 1369 1301 889 \r\nQ 1547 409 2034 409 \r\nQ 2525 409 2770 889 \r\nQ 3016 1369 3016 2328 \r\nQ 3016 3291 2770 3770 \r\nQ 2525 4250 2034 4250 \r\nz\r\nM 2034 4750 \r\nQ 2819 4750 3233 4129 \r\nQ 3647 3509 3647 2328 \r\nQ 3647 1150 3233 529 \r\nQ 2819 -91 2034 -91 \r\nQ 1250 -91 836 529 \r\nQ 422 1150 422 2328 \r\nQ 422 3509 836 4129 \r\nQ 1250 4750 2034 4750 \r\nz\r\n\" id=\"DejaVuSans-30\" transform=\"scale(0.015625)\"/>\r\n       </defs>\r\n       <use xlink:href=\"#DejaVuSans-30\"/>\r\n      </g>\r\n     </g>\r\n    </g>\r\n    <g id=\"xtick_2\">\r\n     <g id=\"line2d_3\">\r\n      <path clip-path=\"url(#pba015d00db)\" d=\"M 127.536193 241.58175 \r\nL 127.536193 24.14175 \r\n\" style=\"fill:none;stroke:#ffffff;stroke-linecap:square;stroke-width:0.8;\"/>\r\n     </g>\r\n     <g id=\"line2d_4\">\r\n      <g>\r\n       <use style=\"fill:#555555;stroke:#555555;stroke-width:0.8;\" x=\"127.536193\" xlink:href=\"#md1a30eab1f\" y=\"241.58175\"/>\r\n      </g>\r\n     </g>\r\n     <g id=\"text_2\">\r\n      <!-- 20 -->\r\n      <g style=\"fill:#555555;\" transform=\"translate(121.173693 256.180187)scale(0.1 -0.1)\">\r\n       <defs>\r\n        <path d=\"M 1228 531 \r\nL 3431 531 \r\nL 3431 0 \r\nL 469 0 \r\nL 469 531 \r\nQ 828 903 1448 1529 \r\nQ 2069 2156 2228 2338 \r\nQ 2531 2678 2651 2914 \r\nQ 2772 3150 2772 3378 \r\nQ 2772 3750 2511 3984 \r\nQ 2250 4219 1831 4219 \r\nQ 1534 4219 1204 4116 \r\nQ 875 4013 500 3803 \r\nL 500 4441 \r\nQ 881 4594 1212 4672 \r\nQ 1544 4750 1819 4750 \r\nQ 2544 4750 2975 4387 \r\nQ 3406 4025 3406 3419 \r\nQ 3406 3131 3298 2873 \r\nQ 3191 2616 2906 2266 \r\nQ 2828 2175 2409 1742 \r\nQ 1991 1309 1228 531 \r\nz\r\n\" id=\"DejaVuSans-32\" transform=\"scale(0.015625)\"/>\r\n       </defs>\r\n       <use xlink:href=\"#DejaVuSans-32\"/>\r\n       <use x=\"63.623047\" xlink:href=\"#DejaVuSans-30\"/>\r\n      </g>\r\n     </g>\r\n    </g>\r\n    <g id=\"xtick_3\">\r\n     <g id=\"line2d_5\">\r\n      <path clip-path=\"url(#pba015d00db)\" d=\"M 190.945284 241.58175 \r\nL 190.945284 24.14175 \r\n\" style=\"fill:none;stroke:#ffffff;stroke-linecap:square;stroke-width:0.8;\"/>\r\n     </g>\r\n     <g id=\"line2d_6\">\r\n      <g>\r\n       <use style=\"fill:#555555;stroke:#555555;stroke-width:0.8;\" x=\"190.945284\" xlink:href=\"#md1a30eab1f\" y=\"241.58175\"/>\r\n      </g>\r\n     </g>\r\n     <g id=\"text_3\">\r\n      <!-- 40 -->\r\n      <g style=\"fill:#555555;\" transform=\"translate(184.582784 256.180187)scale(0.1 -0.1)\">\r\n       <defs>\r\n        <path d=\"M 2419 4116 \r\nL 825 1625 \r\nL 2419 1625 \r\nL 2419 4116 \r\nz\r\nM 2253 4666 \r\nL 3047 4666 \r\nL 3047 1625 \r\nL 3713 1625 \r\nL 3713 1100 \r\nL 3047 1100 \r\nL 3047 0 \r\nL 2419 0 \r\nL 2419 1100 \r\nL 313 1100 \r\nL 313 1709 \r\nL 2253 4666 \r\nz\r\n\" id=\"DejaVuSans-34\" transform=\"scale(0.015625)\"/>\r\n       </defs>\r\n       <use xlink:href=\"#DejaVuSans-34\"/>\r\n       <use x=\"63.623047\" xlink:href=\"#DejaVuSans-30\"/>\r\n      </g>\r\n     </g>\r\n    </g>\r\n    <g id=\"xtick_4\">\r\n     <g id=\"line2d_7\">\r\n      <path clip-path=\"url(#pba015d00db)\" d=\"M 254.354375 241.58175 \r\nL 254.354375 24.14175 \r\n\" style=\"fill:none;stroke:#ffffff;stroke-linecap:square;stroke-width:0.8;\"/>\r\n     </g>\r\n     <g id=\"line2d_8\">\r\n      <g>\r\n       <use style=\"fill:#555555;stroke:#555555;stroke-width:0.8;\" x=\"254.354375\" xlink:href=\"#md1a30eab1f\" y=\"241.58175\"/>\r\n      </g>\r\n     </g>\r\n     <g id=\"text_4\">\r\n      <!-- 60 -->\r\n      <g style=\"fill:#555555;\" transform=\"translate(247.991875 256.180187)scale(0.1 -0.1)\">\r\n       <defs>\r\n        <path d=\"M 2113 2584 \r\nQ 1688 2584 1439 2293 \r\nQ 1191 2003 1191 1497 \r\nQ 1191 994 1439 701 \r\nQ 1688 409 2113 409 \r\nQ 2538 409 2786 701 \r\nQ 3034 994 3034 1497 \r\nQ 3034 2003 2786 2293 \r\nQ 2538 2584 2113 2584 \r\nz\r\nM 3366 4563 \r\nL 3366 3988 \r\nQ 3128 4100 2886 4159 \r\nQ 2644 4219 2406 4219 \r\nQ 1781 4219 1451 3797 \r\nQ 1122 3375 1075 2522 \r\nQ 1259 2794 1537 2939 \r\nQ 1816 3084 2150 3084 \r\nQ 2853 3084 3261 2657 \r\nQ 3669 2231 3669 1497 \r\nQ 3669 778 3244 343 \r\nQ 2819 -91 2113 -91 \r\nQ 1303 -91 875 529 \r\nQ 447 1150 447 2328 \r\nQ 447 3434 972 4092 \r\nQ 1497 4750 2381 4750 \r\nQ 2619 4750 2861 4703 \r\nQ 3103 4656 3366 4563 \r\nz\r\n\" id=\"DejaVuSans-36\" transform=\"scale(0.015625)\"/>\r\n       </defs>\r\n       <use xlink:href=\"#DejaVuSans-36\"/>\r\n       <use x=\"63.623047\" xlink:href=\"#DejaVuSans-30\"/>\r\n      </g>\r\n     </g>\r\n    </g>\r\n    <g id=\"xtick_5\">\r\n     <g id=\"line2d_9\">\r\n      <path clip-path=\"url(#pba015d00db)\" d=\"M 317.763466 241.58175 \r\nL 317.763466 24.14175 \r\n\" style=\"fill:none;stroke:#ffffff;stroke-linecap:square;stroke-width:0.8;\"/>\r\n     </g>\r\n     <g id=\"line2d_10\">\r\n      <g>\r\n       <use style=\"fill:#555555;stroke:#555555;stroke-width:0.8;\" x=\"317.763466\" xlink:href=\"#md1a30eab1f\" y=\"241.58175\"/>\r\n      </g>\r\n     </g>\r\n     <g id=\"text_5\">\r\n      <!-- 80 -->\r\n      <g style=\"fill:#555555;\" transform=\"translate(311.400966 256.180187)scale(0.1 -0.1)\">\r\n       <defs>\r\n        <path d=\"M 2034 2216 \r\nQ 1584 2216 1326 1975 \r\nQ 1069 1734 1069 1313 \r\nQ 1069 891 1326 650 \r\nQ 1584 409 2034 409 \r\nQ 2484 409 2743 651 \r\nQ 3003 894 3003 1313 \r\nQ 3003 1734 2745 1975 \r\nQ 2488 2216 2034 2216 \r\nz\r\nM 1403 2484 \r\nQ 997 2584 770 2862 \r\nQ 544 3141 544 3541 \r\nQ 544 4100 942 4425 \r\nQ 1341 4750 2034 4750 \r\nQ 2731 4750 3128 4425 \r\nQ 3525 4100 3525 3541 \r\nQ 3525 3141 3298 2862 \r\nQ 3072 2584 2669 2484 \r\nQ 3125 2378 3379 2068 \r\nQ 3634 1759 3634 1313 \r\nQ 3634 634 3220 271 \r\nQ 2806 -91 2034 -91 \r\nQ 1263 -91 848 271 \r\nQ 434 634 434 1313 \r\nQ 434 1759 690 2068 \r\nQ 947 2378 1403 2484 \r\nz\r\nM 1172 3481 \r\nQ 1172 3119 1398 2916 \r\nQ 1625 2713 2034 2713 \r\nQ 2441 2713 2670 2916 \r\nQ 2900 3119 2900 3481 \r\nQ 2900 3844 2670 4047 \r\nQ 2441 4250 2034 4250 \r\nQ 1625 4250 1398 4047 \r\nQ 1172 3844 1172 3481 \r\nz\r\n\" id=\"DejaVuSans-38\" transform=\"scale(0.015625)\"/>\r\n       </defs>\r\n       <use xlink:href=\"#DejaVuSans-38\"/>\r\n       <use x=\"63.623047\" xlink:href=\"#DejaVuSans-30\"/>\r\n      </g>\r\n     </g>\r\n    </g>\r\n    <g id=\"xtick_6\">\r\n     <g id=\"line2d_11\">\r\n      <path clip-path=\"url(#pba015d00db)\" d=\"M 381.172557 241.58175 \r\nL 381.172557 24.14175 \r\n\" style=\"fill:none;stroke:#ffffff;stroke-linecap:square;stroke-width:0.8;\"/>\r\n     </g>\r\n     <g id=\"line2d_12\">\r\n      <g>\r\n       <use style=\"fill:#555555;stroke:#555555;stroke-width:0.8;\" x=\"381.172557\" xlink:href=\"#md1a30eab1f\" y=\"241.58175\"/>\r\n      </g>\r\n     </g>\r\n     <g id=\"text_6\">\r\n      <!-- 100 -->\r\n      <g style=\"fill:#555555;\" transform=\"translate(371.628807 256.180187)scale(0.1 -0.1)\">\r\n       <defs>\r\n        <path d=\"M 794 531 \r\nL 1825 531 \r\nL 1825 4091 \r\nL 703 3866 \r\nL 703 4441 \r\nL 1819 4666 \r\nL 2450 4666 \r\nL 2450 531 \r\nL 3481 531 \r\nL 3481 0 \r\nL 794 0 \r\nL 794 531 \r\nz\r\n\" id=\"DejaVuSans-31\" transform=\"scale(0.015625)\"/>\r\n       </defs>\r\n       <use xlink:href=\"#DejaVuSans-31\"/>\r\n       <use x=\"63.623047\" xlink:href=\"#DejaVuSans-30\"/>\r\n       <use x=\"127.246094\" xlink:href=\"#DejaVuSans-30\"/>\r\n      </g>\r\n     </g>\r\n    </g>\r\n    <g id=\"text_7\">\r\n     <!-- extrap_periods -->\r\n     <g style=\"fill:#555555;\" transform=\"translate(174.79625 271.378)scale(0.12 -0.12)\">\r\n      <defs>\r\n       <path d=\"M 3597 1894 \r\nL 3597 1613 \r\nL 953 1613 \r\nQ 991 1019 1311 708 \r\nQ 1631 397 2203 397 \r\nQ 2534 397 2845 478 \r\nQ 3156 559 3463 722 \r\nL 3463 178 \r\nQ 3153 47 2828 -22 \r\nQ 2503 -91 2169 -91 \r\nQ 1331 -91 842 396 \r\nQ 353 884 353 1716 \r\nQ 353 2575 817 3079 \r\nQ 1281 3584 2069 3584 \r\nQ 2775 3584 3186 3129 \r\nQ 3597 2675 3597 1894 \r\nz\r\nM 3022 2063 \r\nQ 3016 2534 2758 2815 \r\nQ 2500 3097 2075 3097 \r\nQ 1594 3097 1305 2825 \r\nQ 1016 2553 972 2059 \r\nL 3022 2063 \r\nz\r\n\" id=\"DejaVuSans-65\" transform=\"scale(0.015625)\"/>\r\n       <path d=\"M 3513 3500 \r\nL 2247 1797 \r\nL 3578 0 \r\nL 2900 0 \r\nL 1881 1375 \r\nL 863 0 \r\nL 184 0 \r\nL 1544 1831 \r\nL 300 3500 \r\nL 978 3500 \r\nL 1906 2253 \r\nL 2834 3500 \r\nL 3513 3500 \r\nz\r\n\" id=\"DejaVuSans-78\" transform=\"scale(0.015625)\"/>\r\n       <path d=\"M 1172 4494 \r\nL 1172 3500 \r\nL 2356 3500 \r\nL 2356 3053 \r\nL 1172 3053 \r\nL 1172 1153 \r\nQ 1172 725 1289 603 \r\nQ 1406 481 1766 481 \r\nL 2356 481 \r\nL 2356 0 \r\nL 1766 0 \r\nQ 1100 0 847 248 \r\nQ 594 497 594 1153 \r\nL 594 3053 \r\nL 172 3053 \r\nL 172 3500 \r\nL 594 3500 \r\nL 594 4494 \r\nL 1172 4494 \r\nz\r\n\" id=\"DejaVuSans-74\" transform=\"scale(0.015625)\"/>\r\n       <path d=\"M 2631 2963 \r\nQ 2534 3019 2420 3045 \r\nQ 2306 3072 2169 3072 \r\nQ 1681 3072 1420 2755 \r\nQ 1159 2438 1159 1844 \r\nL 1159 0 \r\nL 581 0 \r\nL 581 3500 \r\nL 1159 3500 \r\nL 1159 2956 \r\nQ 1341 3275 1631 3429 \r\nQ 1922 3584 2338 3584 \r\nQ 2397 3584 2469 3576 \r\nQ 2541 3569 2628 3553 \r\nL 2631 2963 \r\nz\r\n\" id=\"DejaVuSans-72\" transform=\"scale(0.015625)\"/>\r\n       <path d=\"M 2194 1759 \r\nQ 1497 1759 1228 1600 \r\nQ 959 1441 959 1056 \r\nQ 959 750 1161 570 \r\nQ 1363 391 1709 391 \r\nQ 2188 391 2477 730 \r\nQ 2766 1069 2766 1631 \r\nL 2766 1759 \r\nL 2194 1759 \r\nz\r\nM 3341 1997 \r\nL 3341 0 \r\nL 2766 0 \r\nL 2766 531 \r\nQ 2569 213 2275 61 \r\nQ 1981 -91 1556 -91 \r\nQ 1019 -91 701 211 \r\nQ 384 513 384 1019 \r\nQ 384 1609 779 1909 \r\nQ 1175 2209 1959 2209 \r\nL 2766 2209 \r\nL 2766 2266 \r\nQ 2766 2663 2505 2880 \r\nQ 2244 3097 1772 3097 \r\nQ 1472 3097 1187 3025 \r\nQ 903 2953 641 2809 \r\nL 641 3341 \r\nQ 956 3463 1253 3523 \r\nQ 1550 3584 1831 3584 \r\nQ 2591 3584 2966 3190 \r\nQ 3341 2797 3341 1997 \r\nz\r\n\" id=\"DejaVuSans-61\" transform=\"scale(0.015625)\"/>\r\n       <path d=\"M 1159 525 \r\nL 1159 -1331 \r\nL 581 -1331 \r\nL 581 3500 \r\nL 1159 3500 \r\nL 1159 2969 \r\nQ 1341 3281 1617 3432 \r\nQ 1894 3584 2278 3584 \r\nQ 2916 3584 3314 3078 \r\nQ 3713 2572 3713 1747 \r\nQ 3713 922 3314 415 \r\nQ 2916 -91 2278 -91 \r\nQ 1894 -91 1617 61 \r\nQ 1341 213 1159 525 \r\nz\r\nM 3116 1747 \r\nQ 3116 2381 2855 2742 \r\nQ 2594 3103 2138 3103 \r\nQ 1681 3103 1420 2742 \r\nQ 1159 2381 1159 1747 \r\nQ 1159 1113 1420 752 \r\nQ 1681 391 2138 391 \r\nQ 2594 391 2855 752 \r\nQ 3116 1113 3116 1747 \r\nz\r\n\" id=\"DejaVuSans-70\" transform=\"scale(0.015625)\"/>\r\n       <path d=\"M 3263 -1063 \r\nL 3263 -1509 \r\nL -63 -1509 \r\nL -63 -1063 \r\nL 3263 -1063 \r\nz\r\n\" id=\"DejaVuSans-5f\" transform=\"scale(0.015625)\"/>\r\n       <path d=\"M 603 3500 \r\nL 1178 3500 \r\nL 1178 0 \r\nL 603 0 \r\nL 603 3500 \r\nz\r\nM 603 4863 \r\nL 1178 4863 \r\nL 1178 4134 \r\nL 603 4134 \r\nL 603 4863 \r\nz\r\n\" id=\"DejaVuSans-69\" transform=\"scale(0.015625)\"/>\r\n       <path d=\"M 1959 3097 \r\nQ 1497 3097 1228 2736 \r\nQ 959 2375 959 1747 \r\nQ 959 1119 1226 758 \r\nQ 1494 397 1959 397 \r\nQ 2419 397 2687 759 \r\nQ 2956 1122 2956 1747 \r\nQ 2956 2369 2687 2733 \r\nQ 2419 3097 1959 3097 \r\nz\r\nM 1959 3584 \r\nQ 2709 3584 3137 3096 \r\nQ 3566 2609 3566 1747 \r\nQ 3566 888 3137 398 \r\nQ 2709 -91 1959 -91 \r\nQ 1206 -91 779 398 \r\nQ 353 888 353 1747 \r\nQ 353 2609 779 3096 \r\nQ 1206 3584 1959 3584 \r\nz\r\n\" id=\"DejaVuSans-6f\" transform=\"scale(0.015625)\"/>\r\n       <path d=\"M 2906 2969 \r\nL 2906 4863 \r\nL 3481 4863 \r\nL 3481 0 \r\nL 2906 0 \r\nL 2906 525 \r\nQ 2725 213 2448 61 \r\nQ 2172 -91 1784 -91 \r\nQ 1150 -91 751 415 \r\nQ 353 922 353 1747 \r\nQ 353 2572 751 3078 \r\nQ 1150 3584 1784 3584 \r\nQ 2172 3584 2448 3432 \r\nQ 2725 3281 2906 2969 \r\nz\r\nM 947 1747 \r\nQ 947 1113 1208 752 \r\nQ 1469 391 1925 391 \r\nQ 2381 391 2643 752 \r\nQ 2906 1113 2906 1747 \r\nQ 2906 2381 2643 2742 \r\nQ 2381 3103 1925 3103 \r\nQ 1469 3103 1208 2742 \r\nQ 947 2381 947 1747 \r\nz\r\n\" id=\"DejaVuSans-64\" transform=\"scale(0.015625)\"/>\r\n       <path d=\"M 2834 3397 \r\nL 2834 2853 \r\nQ 2591 2978 2328 3040 \r\nQ 2066 3103 1784 3103 \r\nQ 1356 3103 1142 2972 \r\nQ 928 2841 928 2578 \r\nQ 928 2378 1081 2264 \r\nQ 1234 2150 1697 2047 \r\nL 1894 2003 \r\nQ 2506 1872 2764 1633 \r\nQ 3022 1394 3022 966 \r\nQ 3022 478 2636 193 \r\nQ 2250 -91 1575 -91 \r\nQ 1294 -91 989 -36 \r\nQ 684 19 347 128 \r\nL 347 722 \r\nQ 666 556 975 473 \r\nQ 1284 391 1588 391 \r\nQ 1994 391 2212 530 \r\nQ 2431 669 2431 922 \r\nQ 2431 1156 2273 1281 \r\nQ 2116 1406 1581 1522 \r\nL 1381 1569 \r\nQ 847 1681 609 1914 \r\nQ 372 2147 372 2553 \r\nQ 372 3047 722 3315 \r\nQ 1072 3584 1716 3584 \r\nQ 2034 3584 2315 3537 \r\nQ 2597 3491 2834 3397 \r\nz\r\n\" id=\"DejaVuSans-73\" transform=\"scale(0.015625)\"/>\r\n      </defs>\r\n      <use xlink:href=\"#DejaVuSans-65\"/>\r\n      <use x=\"59.773438\" xlink:href=\"#DejaVuSans-78\"/>\r\n      <use x=\"118.953125\" xlink:href=\"#DejaVuSans-74\"/>\r\n      <use x=\"158.162109\" xlink:href=\"#DejaVuSans-72\"/>\r\n      <use x=\"199.275391\" xlink:href=\"#DejaVuSans-61\"/>\r\n      <use x=\"260.554688\" xlink:href=\"#DejaVuSans-70\"/>\r\n      <use x=\"324.03125\" xlink:href=\"#DejaVuSans-5f\"/>\r\n      <use x=\"374.03125\" xlink:href=\"#DejaVuSans-70\"/>\r\n      <use x=\"437.507812\" xlink:href=\"#DejaVuSans-65\"/>\r\n      <use x=\"499.03125\" xlink:href=\"#DejaVuSans-72\"/>\r\n      <use x=\"540.144531\" xlink:href=\"#DejaVuSans-69\"/>\r\n      <use x=\"567.927734\" xlink:href=\"#DejaVuSans-6f\"/>\r\n      <use x=\"629.109375\" xlink:href=\"#DejaVuSans-64\"/>\r\n      <use x=\"692.585938\" xlink:href=\"#DejaVuSans-73\"/>\r\n     </g>\r\n    </g>\r\n   </g>\r\n   <g id=\"matplotlib.axis_2\">\r\n    <g id=\"ytick_1\">\r\n     <g id=\"line2d_13\">\r\n      <path clip-path=\"url(#pba015d00db)\" d=\"M 52.079375 241.58175 \r\nL 386.879375 241.58175 \r\n\" style=\"fill:none;stroke:#ffffff;stroke-linecap:square;stroke-width:0.8;\"/>\r\n     </g>\r\n     <g id=\"line2d_14\">\r\n      <defs>\r\n       <path d=\"M 0 0 \r\nL -3.5 0 \r\n\" id=\"md1522ce617\" style=\"stroke:#555555;stroke-width:0.8;\"/>\r\n      </defs>\r\n      <g>\r\n       <use style=\"fill:#555555;stroke:#555555;stroke-width:0.8;\" x=\"52.079375\" xlink:href=\"#md1522ce617\" y=\"241.58175\"/>\r\n      </g>\r\n     </g>\r\n     <g id=\"text_8\">\r\n      <!-- 1.00 -->\r\n      <g style=\"fill:#555555;\" transform=\"translate(22.81375 245.380969)scale(0.1 -0.1)\">\r\n       <defs>\r\n        <path d=\"M 684 794 \r\nL 1344 794 \r\nL 1344 0 \r\nL 684 0 \r\nL 684 794 \r\nz\r\n\" id=\"DejaVuSans-2e\" transform=\"scale(0.015625)\"/>\r\n       </defs>\r\n       <use xlink:href=\"#DejaVuSans-31\"/>\r\n       <use x=\"63.623047\" xlink:href=\"#DejaVuSans-2e\"/>\r\n       <use x=\"95.410156\" xlink:href=\"#DejaVuSans-30\"/>\r\n       <use x=\"159.033203\" xlink:href=\"#DejaVuSans-30\"/>\r\n      </g>\r\n     </g>\r\n    </g>\r\n    <g id=\"ytick_2\">\r\n     <g id=\"line2d_15\">\r\n      <path clip-path=\"url(#pba015d00db)\" d=\"M 52.079375 207.593581 \r\nL 386.879375 207.593581 \r\n\" style=\"fill:none;stroke:#ffffff;stroke-linecap:square;stroke-width:0.8;\"/>\r\n     </g>\r\n     <g id=\"line2d_16\">\r\n      <g>\r\n       <use style=\"fill:#555555;stroke:#555555;stroke-width:0.8;\" x=\"52.079375\" xlink:href=\"#md1522ce617\" y=\"207.593581\"/>\r\n      </g>\r\n     </g>\r\n     <g id=\"text_9\">\r\n      <!-- 1.02 -->\r\n      <g style=\"fill:#555555;\" transform=\"translate(22.81375 211.392799)scale(0.1 -0.1)\">\r\n       <use xlink:href=\"#DejaVuSans-31\"/>\r\n       <use x=\"63.623047\" xlink:href=\"#DejaVuSans-2e\"/>\r\n       <use x=\"95.410156\" xlink:href=\"#DejaVuSans-30\"/>\r\n       <use x=\"159.033203\" xlink:href=\"#DejaVuSans-32\"/>\r\n      </g>\r\n     </g>\r\n    </g>\r\n    <g id=\"ytick_3\">\r\n     <g id=\"line2d_17\">\r\n      <path clip-path=\"url(#pba015d00db)\" d=\"M 52.079375 173.605411 \r\nL 386.879375 173.605411 \r\n\" style=\"fill:none;stroke:#ffffff;stroke-linecap:square;stroke-width:0.8;\"/>\r\n     </g>\r\n     <g id=\"line2d_18\">\r\n      <g>\r\n       <use style=\"fill:#555555;stroke:#555555;stroke-width:0.8;\" x=\"52.079375\" xlink:href=\"#md1522ce617\" y=\"173.605411\"/>\r\n      </g>\r\n     </g>\r\n     <g id=\"text_10\">\r\n      <!-- 1.04 -->\r\n      <g style=\"fill:#555555;\" transform=\"translate(22.81375 177.40463)scale(0.1 -0.1)\">\r\n       <use xlink:href=\"#DejaVuSans-31\"/>\r\n       <use x=\"63.623047\" xlink:href=\"#DejaVuSans-2e\"/>\r\n       <use x=\"95.410156\" xlink:href=\"#DejaVuSans-30\"/>\r\n       <use x=\"159.033203\" xlink:href=\"#DejaVuSans-34\"/>\r\n      </g>\r\n     </g>\r\n    </g>\r\n    <g id=\"ytick_4\">\r\n     <g id=\"line2d_19\">\r\n      <path clip-path=\"url(#pba015d00db)\" d=\"M 52.079375 139.617242 \r\nL 386.879375 139.617242 \r\n\" style=\"fill:none;stroke:#ffffff;stroke-linecap:square;stroke-width:0.8;\"/>\r\n     </g>\r\n     <g id=\"line2d_20\">\r\n      <g>\r\n       <use style=\"fill:#555555;stroke:#555555;stroke-width:0.8;\" x=\"52.079375\" xlink:href=\"#md1522ce617\" y=\"139.617242\"/>\r\n      </g>\r\n     </g>\r\n     <g id=\"text_11\">\r\n      <!-- 1.06 -->\r\n      <g style=\"fill:#555555;\" transform=\"translate(22.81375 143.41646)scale(0.1 -0.1)\">\r\n       <use xlink:href=\"#DejaVuSans-31\"/>\r\n       <use x=\"63.623047\" xlink:href=\"#DejaVuSans-2e\"/>\r\n       <use x=\"95.410156\" xlink:href=\"#DejaVuSans-30\"/>\r\n       <use x=\"159.033203\" xlink:href=\"#DejaVuSans-36\"/>\r\n      </g>\r\n     </g>\r\n    </g>\r\n    <g id=\"ytick_5\">\r\n     <g id=\"line2d_21\">\r\n      <path clip-path=\"url(#pba015d00db)\" d=\"M 52.079375 105.629072 \r\nL 386.879375 105.629072 \r\n\" style=\"fill:none;stroke:#ffffff;stroke-linecap:square;stroke-width:0.8;\"/>\r\n     </g>\r\n     <g id=\"line2d_22\">\r\n      <g>\r\n       <use style=\"fill:#555555;stroke:#555555;stroke-width:0.8;\" x=\"52.079375\" xlink:href=\"#md1522ce617\" y=\"105.629072\"/>\r\n      </g>\r\n     </g>\r\n     <g id=\"text_12\">\r\n      <!-- 1.08 -->\r\n      <g style=\"fill:#555555;\" transform=\"translate(22.81375 109.428291)scale(0.1 -0.1)\">\r\n       <use xlink:href=\"#DejaVuSans-31\"/>\r\n       <use x=\"63.623047\" xlink:href=\"#DejaVuSans-2e\"/>\r\n       <use x=\"95.410156\" xlink:href=\"#DejaVuSans-30\"/>\r\n       <use x=\"159.033203\" xlink:href=\"#DejaVuSans-38\"/>\r\n      </g>\r\n     </g>\r\n    </g>\r\n    <g id=\"ytick_6\">\r\n     <g id=\"line2d_23\">\r\n      <path clip-path=\"url(#pba015d00db)\" d=\"M 52.079375 71.640903 \r\nL 386.879375 71.640903 \r\n\" style=\"fill:none;stroke:#ffffff;stroke-linecap:square;stroke-width:0.8;\"/>\r\n     </g>\r\n     <g id=\"line2d_24\">\r\n      <g>\r\n       <use style=\"fill:#555555;stroke:#555555;stroke-width:0.8;\" x=\"52.079375\" xlink:href=\"#md1522ce617\" y=\"71.640903\"/>\r\n      </g>\r\n     </g>\r\n     <g id=\"text_13\">\r\n      <!-- 1.10 -->\r\n      <g style=\"fill:#555555;\" transform=\"translate(22.81375 75.440122)scale(0.1 -0.1)\">\r\n       <use xlink:href=\"#DejaVuSans-31\"/>\r\n       <use x=\"63.623047\" xlink:href=\"#DejaVuSans-2e\"/>\r\n       <use x=\"95.410156\" xlink:href=\"#DejaVuSans-31\"/>\r\n       <use x=\"159.033203\" xlink:href=\"#DejaVuSans-30\"/>\r\n      </g>\r\n     </g>\r\n    </g>\r\n    <g id=\"ytick_7\">\r\n     <g id=\"line2d_25\">\r\n      <path clip-path=\"url(#pba015d00db)\" d=\"M 52.079375 37.652733 \r\nL 386.879375 37.652733 \r\n\" style=\"fill:none;stroke:#ffffff;stroke-linecap:square;stroke-width:0.8;\"/>\r\n     </g>\r\n     <g id=\"line2d_26\">\r\n      <g>\r\n       <use style=\"fill:#555555;stroke:#555555;stroke-width:0.8;\" x=\"52.079375\" xlink:href=\"#md1522ce617\" y=\"37.652733\"/>\r\n      </g>\r\n     </g>\r\n     <g id=\"text_14\">\r\n      <!-- 1.12 -->\r\n      <g style=\"fill:#555555;\" transform=\"translate(22.81375 41.451952)scale(0.1 -0.1)\">\r\n       <use xlink:href=\"#DejaVuSans-31\"/>\r\n       <use x=\"63.623047\" xlink:href=\"#DejaVuSans-2e\"/>\r\n       <use x=\"95.410156\" xlink:href=\"#DejaVuSans-31\"/>\r\n       <use x=\"159.033203\" xlink:href=\"#DejaVuSans-32\"/>\r\n      </g>\r\n     </g>\r\n    </g>\r\n    <g id=\"text_15\">\r\n     <!-- Tail Factor -->\r\n     <g style=\"fill:#555555;\" transform=\"translate(16.318125 162.823312)rotate(-90)scale(0.12 -0.12)\">\r\n      <defs>\r\n       <path d=\"M -19 4666 \r\nL 3928 4666 \r\nL 3928 4134 \r\nL 2272 4134 \r\nL 2272 0 \r\nL 1638 0 \r\nL 1638 4134 \r\nL -19 4134 \r\nL -19 4666 \r\nz\r\n\" id=\"DejaVuSans-54\" transform=\"scale(0.015625)\"/>\r\n       <path d=\"M 603 4863 \r\nL 1178 4863 \r\nL 1178 0 \r\nL 603 0 \r\nL 603 4863 \r\nz\r\n\" id=\"DejaVuSans-6c\" transform=\"scale(0.015625)\"/>\r\n       <path id=\"DejaVuSans-20\" transform=\"scale(0.015625)\"/>\r\n       <path d=\"M 628 4666 \r\nL 3309 4666 \r\nL 3309 4134 \r\nL 1259 4134 \r\nL 1259 2759 \r\nL 3109 2759 \r\nL 3109 2228 \r\nL 1259 2228 \r\nL 1259 0 \r\nL 628 0 \r\nL 628 4666 \r\nz\r\n\" id=\"DejaVuSans-46\" transform=\"scale(0.015625)\"/>\r\n       <path d=\"M 3122 3366 \r\nL 3122 2828 \r\nQ 2878 2963 2633 3030 \r\nQ 2388 3097 2138 3097 \r\nQ 1578 3097 1268 2742 \r\nQ 959 2388 959 1747 \r\nQ 959 1106 1268 751 \r\nQ 1578 397 2138 397 \r\nQ 2388 397 2633 464 \r\nQ 2878 531 3122 666 \r\nL 3122 134 \r\nQ 2881 22 2623 -34 \r\nQ 2366 -91 2075 -91 \r\nQ 1284 -91 818 406 \r\nQ 353 903 353 1747 \r\nQ 353 2603 823 3093 \r\nQ 1294 3584 2113 3584 \r\nQ 2378 3584 2631 3529 \r\nQ 2884 3475 3122 3366 \r\nz\r\n\" id=\"DejaVuSans-63\" transform=\"scale(0.015625)\"/>\r\n      </defs>\r\n      <use xlink:href=\"#DejaVuSans-54\"/>\r\n      <use x=\"44.583984\" xlink:href=\"#DejaVuSans-61\"/>\r\n      <use x=\"105.863281\" xlink:href=\"#DejaVuSans-69\"/>\r\n      <use x=\"133.646484\" xlink:href=\"#DejaVuSans-6c\"/>\r\n      <use x=\"161.429688\" xlink:href=\"#DejaVuSans-20\"/>\r\n      <use x=\"193.216797\" xlink:href=\"#DejaVuSans-46\"/>\r\n      <use x=\"241.611328\" xlink:href=\"#DejaVuSans-61\"/>\r\n      <use x=\"302.890625\" xlink:href=\"#DejaVuSans-63\"/>\r\n      <use x=\"357.871094\" xlink:href=\"#DejaVuSans-74\"/>\r\n      <use x=\"397.080078\" xlink:href=\"#DejaVuSans-6f\"/>\r\n      <use x=\"458.261719\" xlink:href=\"#DejaVuSans-72\"/>\r\n     </g>\r\n    </g>\r\n   </g>\r\n   <g id=\"line2d_27\">\r\n    <path clip-path=\"url(#pba015d00db)\" d=\"M 67.297557 231.102291 \r\nL 86.320284 219.623238 \r\nL 105.343011 219.379021 \r\nL 124.365739 219.373848 \r\nL 143.388466 219.373738 \r\nL 162.411193 219.373736 \r\nL 181.43392 219.373736 \r\nL 200.456648 219.373736 \r\nL 219.479375 219.373736 \r\nL 238.502102 219.373736 \r\nL 257.52483 219.373736 \r\nL 276.547557 219.373736 \r\nL 295.570284 219.373736 \r\nL 314.593011 219.373736 \r\nL 333.615739 219.373736 \r\nL 352.638466 219.373736 \r\nL 371.661193 219.373736 \r\n\" style=\"fill:none;stroke:#e24a33;stroke-linecap:square;stroke-width:1.5;\"/>\r\n   </g>\r\n   <g id=\"line2d_28\">\r\n    <path clip-path=\"url(#pba015d00db)\" d=\"M 67.297557 213.206661 \r\nL 86.320284 123.966625 \r\nL 105.343011 88.628553 \r\nL 124.365739 70.626898 \r\nL 143.388466 60.041286 \r\nL 162.411193 53.210506 \r\nL 181.43392 48.50603 \r\nL 200.456648 45.105904 \r\nL 219.479375 42.555466 \r\nL 238.502102 40.585081 \r\nL 257.52483 39.025836 \r\nL 276.547557 37.767119 \r\nL 295.570284 36.733802 \r\nL 314.593011 35.873266 \r\nL 333.615739 35.147677 \r\nL 352.638466 34.529215 \r\nL 371.661193 33.997014 \r\n\" style=\"fill:none;stroke:#348abd;stroke-linecap:square;stroke-width:1.5;\"/>\r\n   </g>\r\n   <g id=\"patch_3\">\r\n    <path d=\"M 52.079375 241.58175 \r\nL 52.079375 24.14175 \r\n\" style=\"fill:none;stroke:#ffffff;stroke-linecap:square;stroke-linejoin:miter;\"/>\r\n   </g>\r\n   <g id=\"patch_4\">\r\n    <path d=\"M 386.879375 241.58175 \r\nL 386.879375 24.14175 \r\n\" style=\"fill:none;stroke:#ffffff;stroke-linecap:square;stroke-linejoin:miter;\"/>\r\n   </g>\r\n   <g id=\"patch_5\">\r\n    <path d=\"M 52.079375 241.58175 \r\nL 386.879375 241.58175 \r\n\" style=\"fill:none;stroke:#ffffff;stroke-linecap:square;stroke-linejoin:miter;\"/>\r\n   </g>\r\n   <g id=\"patch_6\">\r\n    <path d=\"M 52.079375 24.14175 \r\nL 386.879375 24.14175 \r\n\" style=\"fill:none;stroke:#ffffff;stroke-linecap:square;stroke-linejoin:miter;\"/>\r\n   </g>\r\n   <g id=\"text_16\">\r\n    <!-- Curve Fit Sensitivity to Extrapolation Period -->\r\n    <g transform=\"translate(63.00875 18.14175)scale(0.144 -0.144)\">\r\n     <defs>\r\n      <path d=\"M 4122 4306 \r\nL 4122 3641 \r\nQ 3803 3938 3442 4084 \r\nQ 3081 4231 2675 4231 \r\nQ 1875 4231 1450 3742 \r\nQ 1025 3253 1025 2328 \r\nQ 1025 1406 1450 917 \r\nQ 1875 428 2675 428 \r\nQ 3081 428 3442 575 \r\nQ 3803 722 4122 1019 \r\nL 4122 359 \r\nQ 3791 134 3420 21 \r\nQ 3050 -91 2638 -91 \r\nQ 1578 -91 968 557 \r\nQ 359 1206 359 2328 \r\nQ 359 3453 968 4101 \r\nQ 1578 4750 2638 4750 \r\nQ 3056 4750 3426 4639 \r\nQ 3797 4528 4122 4306 \r\nz\r\n\" id=\"DejaVuSans-43\" transform=\"scale(0.015625)\"/>\r\n      <path d=\"M 544 1381 \r\nL 544 3500 \r\nL 1119 3500 \r\nL 1119 1403 \r\nQ 1119 906 1312 657 \r\nQ 1506 409 1894 409 \r\nQ 2359 409 2629 706 \r\nQ 2900 1003 2900 1516 \r\nL 2900 3500 \r\nL 3475 3500 \r\nL 3475 0 \r\nL 2900 0 \r\nL 2900 538 \r\nQ 2691 219 2414 64 \r\nQ 2138 -91 1772 -91 \r\nQ 1169 -91 856 284 \r\nQ 544 659 544 1381 \r\nz\r\nM 1991 3584 \r\nL 1991 3584 \r\nz\r\n\" id=\"DejaVuSans-75\" transform=\"scale(0.015625)\"/>\r\n      <path d=\"M 191 3500 \r\nL 800 3500 \r\nL 1894 563 \r\nL 2988 3500 \r\nL 3597 3500 \r\nL 2284 0 \r\nL 1503 0 \r\nL 191 3500 \r\nz\r\n\" id=\"DejaVuSans-76\" transform=\"scale(0.015625)\"/>\r\n      <path d=\"M 3425 4513 \r\nL 3425 3897 \r\nQ 3066 4069 2747 4153 \r\nQ 2428 4238 2131 4238 \r\nQ 1616 4238 1336 4038 \r\nQ 1056 3838 1056 3469 \r\nQ 1056 3159 1242 3001 \r\nQ 1428 2844 1947 2747 \r\nL 2328 2669 \r\nQ 3034 2534 3370 2195 \r\nQ 3706 1856 3706 1288 \r\nQ 3706 609 3251 259 \r\nQ 2797 -91 1919 -91 \r\nQ 1588 -91 1214 -16 \r\nQ 841 59 441 206 \r\nL 441 856 \r\nQ 825 641 1194 531 \r\nQ 1563 422 1919 422 \r\nQ 2459 422 2753 634 \r\nQ 3047 847 3047 1241 \r\nQ 3047 1584 2836 1778 \r\nQ 2625 1972 2144 2069 \r\nL 1759 2144 \r\nQ 1053 2284 737 2584 \r\nQ 422 2884 422 3419 \r\nQ 422 4038 858 4394 \r\nQ 1294 4750 2059 4750 \r\nQ 2388 4750 2728 4690 \r\nQ 3069 4631 3425 4513 \r\nz\r\n\" id=\"DejaVuSans-53\" transform=\"scale(0.015625)\"/>\r\n      <path d=\"M 3513 2113 \r\nL 3513 0 \r\nL 2938 0 \r\nL 2938 2094 \r\nQ 2938 2591 2744 2837 \r\nQ 2550 3084 2163 3084 \r\nQ 1697 3084 1428 2787 \r\nQ 1159 2491 1159 1978 \r\nL 1159 0 \r\nL 581 0 \r\nL 581 3500 \r\nL 1159 3500 \r\nL 1159 2956 \r\nQ 1366 3272 1645 3428 \r\nQ 1925 3584 2291 3584 \r\nQ 2894 3584 3203 3211 \r\nQ 3513 2838 3513 2113 \r\nz\r\n\" id=\"DejaVuSans-6e\" transform=\"scale(0.015625)\"/>\r\n      <path d=\"M 2059 -325 \r\nQ 1816 -950 1584 -1140 \r\nQ 1353 -1331 966 -1331 \r\nL 506 -1331 \r\nL 506 -850 \r\nL 844 -850 \r\nQ 1081 -850 1212 -737 \r\nQ 1344 -625 1503 -206 \r\nL 1606 56 \r\nL 191 3500 \r\nL 800 3500 \r\nL 1894 763 \r\nL 2988 3500 \r\nL 3597 3500 \r\nL 2059 -325 \r\nz\r\n\" id=\"DejaVuSans-79\" transform=\"scale(0.015625)\"/>\r\n      <path d=\"M 628 4666 \r\nL 3578 4666 \r\nL 3578 4134 \r\nL 1259 4134 \r\nL 1259 2753 \r\nL 3481 2753 \r\nL 3481 2222 \r\nL 1259 2222 \r\nL 1259 531 \r\nL 3634 531 \r\nL 3634 0 \r\nL 628 0 \r\nL 628 4666 \r\nz\r\n\" id=\"DejaVuSans-45\" transform=\"scale(0.015625)\"/>\r\n      <path d=\"M 1259 4147 \r\nL 1259 2394 \r\nL 2053 2394 \r\nQ 2494 2394 2734 2622 \r\nQ 2975 2850 2975 3272 \r\nQ 2975 3691 2734 3919 \r\nQ 2494 4147 2053 4147 \r\nL 1259 4147 \r\nz\r\nM 628 4666 \r\nL 2053 4666 \r\nQ 2838 4666 3239 4311 \r\nQ 3641 3956 3641 3272 \r\nQ 3641 2581 3239 2228 \r\nQ 2838 1875 2053 1875 \r\nL 1259 1875 \r\nL 1259 0 \r\nL 628 0 \r\nL 628 4666 \r\nz\r\n\" id=\"DejaVuSans-50\" transform=\"scale(0.015625)\"/>\r\n     </defs>\r\n     <use xlink:href=\"#DejaVuSans-43\"/>\r\n     <use x=\"69.824219\" xlink:href=\"#DejaVuSans-75\"/>\r\n     <use x=\"133.203125\" xlink:href=\"#DejaVuSans-72\"/>\r\n     <use x=\"174.316406\" xlink:href=\"#DejaVuSans-76\"/>\r\n     <use x=\"233.496094\" xlink:href=\"#DejaVuSans-65\"/>\r\n     <use x=\"295.019531\" xlink:href=\"#DejaVuSans-20\"/>\r\n     <use x=\"326.806641\" xlink:href=\"#DejaVuSans-46\"/>\r\n     <use x=\"377.076172\" xlink:href=\"#DejaVuSans-69\"/>\r\n     <use x=\"404.859375\" xlink:href=\"#DejaVuSans-74\"/>\r\n     <use x=\"444.068359\" xlink:href=\"#DejaVuSans-20\"/>\r\n     <use x=\"475.855469\" xlink:href=\"#DejaVuSans-53\"/>\r\n     <use x=\"539.332031\" xlink:href=\"#DejaVuSans-65\"/>\r\n     <use x=\"600.855469\" xlink:href=\"#DejaVuSans-6e\"/>\r\n     <use x=\"664.234375\" xlink:href=\"#DejaVuSans-73\"/>\r\n     <use x=\"716.333984\" xlink:href=\"#DejaVuSans-69\"/>\r\n     <use x=\"744.117188\" xlink:href=\"#DejaVuSans-74\"/>\r\n     <use x=\"783.326172\" xlink:href=\"#DejaVuSans-69\"/>\r\n     <use x=\"811.109375\" xlink:href=\"#DejaVuSans-76\"/>\r\n     <use x=\"870.289062\" xlink:href=\"#DejaVuSans-69\"/>\r\n     <use x=\"898.072266\" xlink:href=\"#DejaVuSans-74\"/>\r\n     <use x=\"937.28125\" xlink:href=\"#DejaVuSans-79\"/>\r\n     <use x=\"996.460938\" xlink:href=\"#DejaVuSans-20\"/>\r\n     <use x=\"1028.248047\" xlink:href=\"#DejaVuSans-74\"/>\r\n     <use x=\"1067.457031\" xlink:href=\"#DejaVuSans-6f\"/>\r\n     <use x=\"1128.638672\" xlink:href=\"#DejaVuSans-20\"/>\r\n     <use x=\"1160.425781\" xlink:href=\"#DejaVuSans-45\"/>\r\n     <use x=\"1223.609375\" xlink:href=\"#DejaVuSans-78\"/>\r\n     <use x=\"1282.789062\" xlink:href=\"#DejaVuSans-74\"/>\r\n     <use x=\"1321.998047\" xlink:href=\"#DejaVuSans-72\"/>\r\n     <use x=\"1363.111328\" xlink:href=\"#DejaVuSans-61\"/>\r\n     <use x=\"1424.390625\" xlink:href=\"#DejaVuSans-70\"/>\r\n     <use x=\"1487.867188\" xlink:href=\"#DejaVuSans-6f\"/>\r\n     <use x=\"1549.048828\" xlink:href=\"#DejaVuSans-6c\"/>\r\n     <use x=\"1576.832031\" xlink:href=\"#DejaVuSans-61\"/>\r\n     <use x=\"1638.111328\" xlink:href=\"#DejaVuSans-74\"/>\r\n     <use x=\"1677.320312\" xlink:href=\"#DejaVuSans-69\"/>\r\n     <use x=\"1705.103516\" xlink:href=\"#DejaVuSans-6f\"/>\r\n     <use x=\"1766.285156\" xlink:href=\"#DejaVuSans-6e\"/>\r\n     <use x=\"1829.664062\" xlink:href=\"#DejaVuSans-20\"/>\r\n     <use x=\"1861.451172\" xlink:href=\"#DejaVuSans-50\"/>\r\n     <use x=\"1918.128906\" xlink:href=\"#DejaVuSans-65\"/>\r\n     <use x=\"1979.652344\" xlink:href=\"#DejaVuSans-72\"/>\r\n     <use x=\"2020.765625\" xlink:href=\"#DejaVuSans-69\"/>\r\n     <use x=\"2048.548828\" xlink:href=\"#DejaVuSans-6f\"/>\r\n     <use x=\"2109.730469\" xlink:href=\"#DejaVuSans-64\"/>\r\n    </g>\r\n   </g>\r\n   <g id=\"legend_1\">\r\n    <g id=\"patch_7\">\r\n     <path d=\"M 275.309063 156.518 \r\nL 379.879375 156.518 \r\nQ 381.879375 156.518 381.879375 154.518 \r\nL 381.879375 111.2055 \r\nQ 381.879375 109.2055 379.879375 109.2055 \r\nL 275.309063 109.2055 \r\nQ 273.309063 109.2055 273.309063 111.2055 \r\nL 273.309063 154.518 \r\nQ 273.309063 156.518 275.309063 156.518 \r\nz\r\n\" style=\"fill:#e5e5e5;opacity:0.8;stroke:#cccccc;stroke-linejoin:miter;stroke-width:0.5;\"/>\r\n    </g>\r\n    <g id=\"text_17\">\r\n     <!-- curve -->\r\n     <g transform=\"translate(313.584844 120.803938)scale(0.1 -0.1)\">\r\n      <use xlink:href=\"#DejaVuSans-63\"/>\r\n      <use x=\"54.980469\" xlink:href=\"#DejaVuSans-75\"/>\r\n      <use x=\"118.359375\" xlink:href=\"#DejaVuSans-72\"/>\r\n      <use x=\"159.472656\" xlink:href=\"#DejaVuSans-76\"/>\r\n      <use x=\"218.652344\" xlink:href=\"#DejaVuSans-65\"/>\r\n     </g>\r\n    </g>\r\n    <g id=\"line2d_29\">\r\n     <path d=\"M 277.309063 131.982063 \r\nL 297.309063 131.982063 \r\n\" style=\"fill:none;stroke:#e24a33;stroke-linecap:square;stroke-width:1.5;\"/>\r\n    </g>\r\n    <g id=\"line2d_30\"/>\r\n    <g id=\"text_18\">\r\n     <!-- exponential -->\r\n     <g transform=\"translate(305.309063 135.482063)scale(0.1 -0.1)\">\r\n      <use xlink:href=\"#DejaVuSans-65\"/>\r\n      <use x=\"59.773438\" xlink:href=\"#DejaVuSans-78\"/>\r\n      <use x=\"118.953125\" xlink:href=\"#DejaVuSans-70\"/>\r\n      <use x=\"182.429688\" xlink:href=\"#DejaVuSans-6f\"/>\r\n      <use x=\"243.611328\" xlink:href=\"#DejaVuSans-6e\"/>\r\n      <use x=\"306.990234\" xlink:href=\"#DejaVuSans-65\"/>\r\n      <use x=\"368.513672\" xlink:href=\"#DejaVuSans-6e\"/>\r\n      <use x=\"431.892578\" xlink:href=\"#DejaVuSans-74\"/>\r\n      <use x=\"471.101562\" xlink:href=\"#DejaVuSans-69\"/>\r\n      <use x=\"498.884766\" xlink:href=\"#DejaVuSans-61\"/>\r\n      <use x=\"560.164062\" xlink:href=\"#DejaVuSans-6c\"/>\r\n     </g>\r\n    </g>\r\n    <g id=\"line2d_31\">\r\n     <path d=\"M 277.309063 146.660188 \r\nL 297.309063 146.660188 \r\n\" style=\"fill:none;stroke:#348abd;stroke-linecap:square;stroke-width:1.5;\"/>\r\n    </g>\r\n    <g id=\"line2d_32\"/>\r\n    <g id=\"text_19\">\r\n     <!-- inverse_power -->\r\n     <g transform=\"translate(305.309063 150.160188)scale(0.1 -0.1)\">\r\n      <defs>\r\n       <path d=\"M 269 3500 \r\nL 844 3500 \r\nL 1563 769 \r\nL 2278 3500 \r\nL 2956 3500 \r\nL 3675 769 \r\nL 4391 3500 \r\nL 4966 3500 \r\nL 4050 0 \r\nL 3372 0 \r\nL 2619 2869 \r\nL 1863 0 \r\nL 1184 0 \r\nL 269 3500 \r\nz\r\n\" id=\"DejaVuSans-77\" transform=\"scale(0.015625)\"/>\r\n      </defs>\r\n      <use xlink:href=\"#DejaVuSans-69\"/>\r\n      <use x=\"27.783203\" xlink:href=\"#DejaVuSans-6e\"/>\r\n      <use x=\"91.162109\" xlink:href=\"#DejaVuSans-76\"/>\r\n      <use x=\"150.341797\" xlink:href=\"#DejaVuSans-65\"/>\r\n      <use x=\"211.865234\" xlink:href=\"#DejaVuSans-72\"/>\r\n      <use x=\"252.978516\" xlink:href=\"#DejaVuSans-73\"/>\r\n      <use x=\"305.078125\" xlink:href=\"#DejaVuSans-65\"/>\r\n      <use x=\"366.601562\" xlink:href=\"#DejaVuSans-5f\"/>\r\n      <use x=\"416.601562\" xlink:href=\"#DejaVuSans-70\"/>\r\n      <use x=\"480.078125\" xlink:href=\"#DejaVuSans-6f\"/>\r\n      <use x=\"541.259766\" xlink:href=\"#DejaVuSans-77\"/>\r\n      <use x=\"623.046875\" xlink:href=\"#DejaVuSans-65\"/>\r\n      <use x=\"684.570312\" xlink:href=\"#DejaVuSans-72\"/>\r\n     </g>\r\n    </g>\r\n   </g>\r\n  </g>\r\n </g>\r\n <defs>\r\n  <clipPath id=\"pba015d00db\">\r\n   <rect height=\"217.44\" width=\"334.8\" x=\"52.079375\" y=\"24.14175\"/>\r\n  </clipPath>\r\n </defs>\r\n</svg>\r\n",
      "text/plain": [
       "<Figure size 432x288 with 1 Axes>"
      ]
     },
     "metadata": {},
     "output_type": "display_data"
    }
   ],
   "source": [
    "tri = cl.load_sample('clrd').groupby('LOB').sum().loc['medmal', 'CumPaidLoss']\n",
    "\n",
    "# Create a function to grab the scalar tail value.\n",
    "def scoring(model):\n",
    "    \"\"\" Scoring functions must return a scalar \"\"\"\n",
    "    return model.tail_.iloc[0, 0]\n",
    "\n",
    "# Create a grid of scenarios\n",
    "param_grid = dict(\n",
    "    extrap_periods=list(range(1, 100, 6)),\n",
    "    curve=['inverse_power', 'exponential'])\n",
    "\n",
    "# Fit Grid\n",
    "model = cl.GridSearch(cl.TailCurve(), param_grid=param_grid, scoring=scoring).fit(tri)\n",
    "\n",
    "# Plot results\n",
    "model.results_.pivot(columns='curve', index='extrap_periods', values='score').plot(\n",
    "    grid=True, ylim=(1,None), title='Curve Fit Sensitivity to Extrapolation Period').set(\n",
    "    ylabel='Tail Factor');"
   ]
  },
  {
   "cell_type": "markdown",
   "id": "72d11c89-b369-4539-bb4c-409238836974",
   "metadata": {},
   "source": [
    "This example demonstrates the `extrap_periods` functionality of the TailCurve estimator. The estimator defaults to extrapolating out 100 periods. However, we can see that the \"Inverse Power\" curve fit doesn't converge to its asymptotic value even with 100 periods whereas the \"exponential\" converges within 10 periods."
   ]
  },
  {
   "cell_type": "markdown",
   "id": "89e12919-831e-4754-badd-0aef16b4255c",
   "metadata": {},
   "source": [
    "### Fit period\n",
    "The default behavior of `TailCurve` is to include all `cdf_` patterns from the Triangle in extrapolating the tail.  Often, the data assumptions of linearity will be violated when using all \n",
    "selected patterns. In those cases, you can use `fit_period=(start_age, end_age)` for fitting to a contiguous set of patterns."
   ]
  },
  {
   "cell_type": "code",
   "execution_count": 18,
   "id": "e742020e-084f-432e-aa08-98729531909b",
   "metadata": {},
   "outputs": [],
   "source": [
    "dev = cl.Development().fit_transform(cl.load_sample('quarterly')['paid'])\n",
    "fit_all = cl.TailCurve().fit(dev)\n",
    "exclude = cl.TailCurve(fit_period=(36, None)).fit(dev)"
   ]
  },
  {
   "cell_type": "code",
   "execution_count": 26,
   "id": "a5c04d20-ca44-4a4f-8984-a965ee65e319",
   "metadata": {
    "tags": [
     "hide-input"
    ]
   },
   "outputs": [
    {
     "data": {
      "image/svg+xml": "<?xml version=\"1.0\" encoding=\"utf-8\" standalone=\"no\"?>\r\n<!DOCTYPE svg PUBLIC \"-//W3C//DTD SVG 1.1//EN\"\r\n  \"http://www.w3.org/Graphics/SVG/1.1/DTD/svg11.dtd\">\r\n<svg height=\"281.073625pt\" version=\"1.1\" viewBox=\"0 0 370.942187 281.073625\" width=\"370.942187pt\" xmlns=\"http://www.w3.org/2000/svg\" xmlns:xlink=\"http://www.w3.org/1999/xlink\">\r\n <metadata>\r\n  <rdf:RDF xmlns:cc=\"http://creativecommons.org/ns#\" xmlns:dc=\"http://purl.org/dc/elements/1.1/\" xmlns:rdf=\"http://www.w3.org/1999/02/22-rdf-syntax-ns#\">\r\n   <cc:Work>\r\n    <dc:type rdf:resource=\"http://purl.org/dc/dcmitype/StillImage\"/>\r\n    <dc:date>2021-10-06T11:21:50.267521</dc:date>\r\n    <dc:format>image/svg+xml</dc:format>\r\n    <dc:creator>\r\n     <cc:Agent>\r\n      <dc:title>Matplotlib v3.4.2, https://matplotlib.org/</dc:title>\r\n     </cc:Agent>\r\n    </dc:creator>\r\n   </cc:Work>\r\n  </rdf:RDF>\r\n </metadata>\r\n <defs>\r\n  <style type=\"text/css\">*{stroke-linecap:butt;stroke-linejoin:round;}</style>\r\n </defs>\r\n <g id=\"figure_1\">\r\n  <g id=\"patch_1\">\r\n   <path d=\"M 0 281.073625 \r\nL 370.942187 281.073625 \r\nL 370.942187 0 \r\nL 0 0 \r\nz\r\n\" style=\"fill:#ffffff;\"/>\r\n  </g>\r\n  <g id=\"axes_1\">\r\n   <g id=\"patch_2\">\r\n    <path d=\"M 28.942188 241.58175 \r\nL 363.742188 241.58175 \r\nL 363.742188 24.14175 \r\nL 28.942188 24.14175 \r\nz\r\n\" style=\"fill:#e5e5e5;\"/>\r\n   </g>\r\n   <g id=\"matplotlib.axis_1\">\r\n    <g id=\"xtick_1\">\r\n     <g id=\"line2d_1\">\r\n      <path clip-path=\"url(#pe2addf01d7)\" d=\"M 44.160369 241.58175 \r\nL 44.160369 24.14175 \r\n\" style=\"fill:none;stroke:#ffffff;stroke-linecap:square;stroke-width:0.8;\"/>\r\n     </g>\r\n     <g id=\"line2d_2\">\r\n      <defs>\r\n       <path d=\"M 0 0 \r\nL 0 3.5 \r\n\" id=\"m1d69d0da5e\" style=\"stroke:#555555;stroke-width:0.8;\"/>\r\n      </defs>\r\n      <g>\r\n       <use style=\"fill:#555555;stroke:#555555;stroke-width:0.8;\" x=\"44.160369\" xlink:href=\"#m1d69d0da5e\" y=\"241.58175\"/>\r\n      </g>\r\n     </g>\r\n     <g id=\"text_1\">\r\n      <!-- 3-6 -->\r\n      <g style=\"fill:#555555;\" transform=\"translate(35.993963 256.180187)scale(0.1 -0.1)\">\r\n       <defs>\r\n        <path d=\"M 2597 2516 \r\nQ 3050 2419 3304 2112 \r\nQ 3559 1806 3559 1356 \r\nQ 3559 666 3084 287 \r\nQ 2609 -91 1734 -91 \r\nQ 1441 -91 1130 -33 \r\nQ 819 25 488 141 \r\nL 488 750 \r\nQ 750 597 1062 519 \r\nQ 1375 441 1716 441 \r\nQ 2309 441 2620 675 \r\nQ 2931 909 2931 1356 \r\nQ 2931 1769 2642 2001 \r\nQ 2353 2234 1838 2234 \r\nL 1294 2234 \r\nL 1294 2753 \r\nL 1863 2753 \r\nQ 2328 2753 2575 2939 \r\nQ 2822 3125 2822 3475 \r\nQ 2822 3834 2567 4026 \r\nQ 2313 4219 1838 4219 \r\nQ 1578 4219 1281 4162 \r\nQ 984 4106 628 3988 \r\nL 628 4550 \r\nQ 988 4650 1302 4700 \r\nQ 1616 4750 1894 4750 \r\nQ 2613 4750 3031 4423 \r\nQ 3450 4097 3450 3541 \r\nQ 3450 3153 3228 2886 \r\nQ 3006 2619 2597 2516 \r\nz\r\n\" id=\"DejaVuSans-33\" transform=\"scale(0.015625)\"/>\r\n        <path d=\"M 313 2009 \r\nL 1997 2009 \r\nL 1997 1497 \r\nL 313 1497 \r\nL 313 2009 \r\nz\r\n\" id=\"DejaVuSans-2d\" transform=\"scale(0.015625)\"/>\r\n        <path d=\"M 2113 2584 \r\nQ 1688 2584 1439 2293 \r\nQ 1191 2003 1191 1497 \r\nQ 1191 994 1439 701 \r\nQ 1688 409 2113 409 \r\nQ 2538 409 2786 701 \r\nQ 3034 994 3034 1497 \r\nQ 3034 2003 2786 2293 \r\nQ 2538 2584 2113 2584 \r\nz\r\nM 3366 4563 \r\nL 3366 3988 \r\nQ 3128 4100 2886 4159 \r\nQ 2644 4219 2406 4219 \r\nQ 1781 4219 1451 3797 \r\nQ 1122 3375 1075 2522 \r\nQ 1259 2794 1537 2939 \r\nQ 1816 3084 2150 3084 \r\nQ 2853 3084 3261 2657 \r\nQ 3669 2231 3669 1497 \r\nQ 3669 778 3244 343 \r\nQ 2819 -91 2113 -91 \r\nQ 1303 -91 875 529 \r\nQ 447 1150 447 2328 \r\nQ 447 3434 972 4092 \r\nQ 1497 4750 2381 4750 \r\nQ 2619 4750 2861 4703 \r\nQ 3103 4656 3366 4563 \r\nz\r\n\" id=\"DejaVuSans-36\" transform=\"scale(0.015625)\"/>\r\n       </defs>\r\n       <use xlink:href=\"#DejaVuSans-33\"/>\r\n       <use x=\"63.623047\" xlink:href=\"#DejaVuSans-2d\"/>\r\n       <use x=\"99.707031\" xlink:href=\"#DejaVuSans-36\"/>\r\n      </g>\r\n     </g>\r\n    </g>\r\n    <g id=\"xtick_2\">\r\n     <g id=\"line2d_3\">\r\n      <path clip-path=\"url(#pe2addf01d7)\" d=\"M 114.94261 241.58175 \r\nL 114.94261 24.14175 \r\n\" style=\"fill:none;stroke:#ffffff;stroke-linecap:square;stroke-width:0.8;\"/>\r\n     </g>\r\n     <g id=\"line2d_4\">\r\n      <g>\r\n       <use style=\"fill:#555555;stroke:#555555;stroke-width:0.8;\" x=\"114.94261\" xlink:href=\"#m1d69d0da5e\" y=\"241.58175\"/>\r\n      </g>\r\n     </g>\r\n     <g id=\"text_2\">\r\n      <!-- 33-36 -->\r\n      <g style=\"fill:#555555;\" transform=\"translate(100.413704 256.180187)scale(0.1 -0.1)\">\r\n       <use xlink:href=\"#DejaVuSans-33\"/>\r\n       <use x=\"63.623047\" xlink:href=\"#DejaVuSans-33\"/>\r\n       <use x=\"127.246094\" xlink:href=\"#DejaVuSans-2d\"/>\r\n       <use x=\"163.330078\" xlink:href=\"#DejaVuSans-33\"/>\r\n       <use x=\"226.953125\" xlink:href=\"#DejaVuSans-36\"/>\r\n      </g>\r\n     </g>\r\n    </g>\r\n    <g id=\"xtick_3\">\r\n     <g id=\"line2d_5\">\r\n      <path clip-path=\"url(#pe2addf01d7)\" d=\"M 185.724851 241.58175 \r\nL 185.724851 24.14175 \r\n\" style=\"fill:none;stroke:#ffffff;stroke-linecap:square;stroke-width:0.8;\"/>\r\n     </g>\r\n     <g id=\"line2d_6\">\r\n      <g>\r\n       <use style=\"fill:#555555;stroke:#555555;stroke-width:0.8;\" x=\"185.724851\" xlink:href=\"#m1d69d0da5e\" y=\"241.58175\"/>\r\n      </g>\r\n     </g>\r\n     <g id=\"text_3\">\r\n      <!-- 63-66 -->\r\n      <g style=\"fill:#555555;\" transform=\"translate(171.195945 256.180187)scale(0.1 -0.1)\">\r\n       <use xlink:href=\"#DejaVuSans-36\"/>\r\n       <use x=\"63.623047\" xlink:href=\"#DejaVuSans-33\"/>\r\n       <use x=\"127.246094\" xlink:href=\"#DejaVuSans-2d\"/>\r\n       <use x=\"163.330078\" xlink:href=\"#DejaVuSans-36\"/>\r\n       <use x=\"226.953125\" xlink:href=\"#DejaVuSans-36\"/>\r\n      </g>\r\n     </g>\r\n    </g>\r\n    <g id=\"xtick_4\">\r\n     <g id=\"line2d_7\">\r\n      <path clip-path=\"url(#pe2addf01d7)\" d=\"M 256.507092 241.58175 \r\nL 256.507092 24.14175 \r\n\" style=\"fill:none;stroke:#ffffff;stroke-linecap:square;stroke-width:0.8;\"/>\r\n     </g>\r\n     <g id=\"line2d_8\">\r\n      <g>\r\n       <use style=\"fill:#555555;stroke:#555555;stroke-width:0.8;\" x=\"256.507092\" xlink:href=\"#m1d69d0da5e\" y=\"241.58175\"/>\r\n      </g>\r\n     </g>\r\n     <g id=\"text_4\">\r\n      <!-- 93-96 -->\r\n      <g style=\"fill:#555555;\" transform=\"translate(241.978186 256.180187)scale(0.1 -0.1)\">\r\n       <defs>\r\n        <path d=\"M 703 97 \r\nL 703 672 \r\nQ 941 559 1184 500 \r\nQ 1428 441 1663 441 \r\nQ 2288 441 2617 861 \r\nQ 2947 1281 2994 2138 \r\nQ 2813 1869 2534 1725 \r\nQ 2256 1581 1919 1581 \r\nQ 1219 1581 811 2004 \r\nQ 403 2428 403 3163 \r\nQ 403 3881 828 4315 \r\nQ 1253 4750 1959 4750 \r\nQ 2769 4750 3195 4129 \r\nQ 3622 3509 3622 2328 \r\nQ 3622 1225 3098 567 \r\nQ 2575 -91 1691 -91 \r\nQ 1453 -91 1209 -44 \r\nQ 966 3 703 97 \r\nz\r\nM 1959 2075 \r\nQ 2384 2075 2632 2365 \r\nQ 2881 2656 2881 3163 \r\nQ 2881 3666 2632 3958 \r\nQ 2384 4250 1959 4250 \r\nQ 1534 4250 1286 3958 \r\nQ 1038 3666 1038 3163 \r\nQ 1038 2656 1286 2365 \r\nQ 1534 2075 1959 2075 \r\nz\r\n\" id=\"DejaVuSans-39\" transform=\"scale(0.015625)\"/>\r\n       </defs>\r\n       <use xlink:href=\"#DejaVuSans-39\"/>\r\n       <use x=\"63.623047\" xlink:href=\"#DejaVuSans-33\"/>\r\n       <use x=\"127.246094\" xlink:href=\"#DejaVuSans-2d\"/>\r\n       <use x=\"163.330078\" xlink:href=\"#DejaVuSans-39\"/>\r\n       <use x=\"226.953125\" xlink:href=\"#DejaVuSans-36\"/>\r\n      </g>\r\n     </g>\r\n    </g>\r\n    <g id=\"xtick_5\">\r\n     <g id=\"line2d_9\">\r\n      <path clip-path=\"url(#pe2addf01d7)\" d=\"M 327.289333 241.58175 \r\nL 327.289333 24.14175 \r\n\" style=\"fill:none;stroke:#ffffff;stroke-linecap:square;stroke-width:0.8;\"/>\r\n     </g>\r\n     <g id=\"line2d_10\">\r\n      <g>\r\n       <use style=\"fill:#555555;stroke:#555555;stroke-width:0.8;\" x=\"327.289333\" xlink:href=\"#m1d69d0da5e\" y=\"241.58175\"/>\r\n      </g>\r\n     </g>\r\n     <g id=\"text_5\">\r\n      <!-- 123-126 -->\r\n      <g style=\"fill:#555555;\" transform=\"translate(306.397927 256.180187)scale(0.1 -0.1)\">\r\n       <defs>\r\n        <path d=\"M 794 531 \r\nL 1825 531 \r\nL 1825 4091 \r\nL 703 3866 \r\nL 703 4441 \r\nL 1819 4666 \r\nL 2450 4666 \r\nL 2450 531 \r\nL 3481 531 \r\nL 3481 0 \r\nL 794 0 \r\nL 794 531 \r\nz\r\n\" id=\"DejaVuSans-31\" transform=\"scale(0.015625)\"/>\r\n        <path d=\"M 1228 531 \r\nL 3431 531 \r\nL 3431 0 \r\nL 469 0 \r\nL 469 531 \r\nQ 828 903 1448 1529 \r\nQ 2069 2156 2228 2338 \r\nQ 2531 2678 2651 2914 \r\nQ 2772 3150 2772 3378 \r\nQ 2772 3750 2511 3984 \r\nQ 2250 4219 1831 4219 \r\nQ 1534 4219 1204 4116 \r\nQ 875 4013 500 3803 \r\nL 500 4441 \r\nQ 881 4594 1212 4672 \r\nQ 1544 4750 1819 4750 \r\nQ 2544 4750 2975 4387 \r\nQ 3406 4025 3406 3419 \r\nQ 3406 3131 3298 2873 \r\nQ 3191 2616 2906 2266 \r\nQ 2828 2175 2409 1742 \r\nQ 1991 1309 1228 531 \r\nz\r\n\" id=\"DejaVuSans-32\" transform=\"scale(0.015625)\"/>\r\n       </defs>\r\n       <use xlink:href=\"#DejaVuSans-31\"/>\r\n       <use x=\"63.623047\" xlink:href=\"#DejaVuSans-32\"/>\r\n       <use x=\"127.246094\" xlink:href=\"#DejaVuSans-33\"/>\r\n       <use x=\"190.869141\" xlink:href=\"#DejaVuSans-2d\"/>\r\n       <use x=\"226.953125\" xlink:href=\"#DejaVuSans-31\"/>\r\n       <use x=\"290.576172\" xlink:href=\"#DejaVuSans-32\"/>\r\n       <use x=\"354.199219\" xlink:href=\"#DejaVuSans-36\"/>\r\n      </g>\r\n     </g>\r\n    </g>\r\n    <g id=\"text_6\">\r\n     <!-- development -->\r\n     <g style=\"fill:#555555;\" transform=\"translate(156.76 271.378)scale(0.12 -0.12)\">\r\n      <defs>\r\n       <path d=\"M 2906 2969 \r\nL 2906 4863 \r\nL 3481 4863 \r\nL 3481 0 \r\nL 2906 0 \r\nL 2906 525 \r\nQ 2725 213 2448 61 \r\nQ 2172 -91 1784 -91 \r\nQ 1150 -91 751 415 \r\nQ 353 922 353 1747 \r\nQ 353 2572 751 3078 \r\nQ 1150 3584 1784 3584 \r\nQ 2172 3584 2448 3432 \r\nQ 2725 3281 2906 2969 \r\nz\r\nM 947 1747 \r\nQ 947 1113 1208 752 \r\nQ 1469 391 1925 391 \r\nQ 2381 391 2643 752 \r\nQ 2906 1113 2906 1747 \r\nQ 2906 2381 2643 2742 \r\nQ 2381 3103 1925 3103 \r\nQ 1469 3103 1208 2742 \r\nQ 947 2381 947 1747 \r\nz\r\n\" id=\"DejaVuSans-64\" transform=\"scale(0.015625)\"/>\r\n       <path d=\"M 3597 1894 \r\nL 3597 1613 \r\nL 953 1613 \r\nQ 991 1019 1311 708 \r\nQ 1631 397 2203 397 \r\nQ 2534 397 2845 478 \r\nQ 3156 559 3463 722 \r\nL 3463 178 \r\nQ 3153 47 2828 -22 \r\nQ 2503 -91 2169 -91 \r\nQ 1331 -91 842 396 \r\nQ 353 884 353 1716 \r\nQ 353 2575 817 3079 \r\nQ 1281 3584 2069 3584 \r\nQ 2775 3584 3186 3129 \r\nQ 3597 2675 3597 1894 \r\nz\r\nM 3022 2063 \r\nQ 3016 2534 2758 2815 \r\nQ 2500 3097 2075 3097 \r\nQ 1594 3097 1305 2825 \r\nQ 1016 2553 972 2059 \r\nL 3022 2063 \r\nz\r\n\" id=\"DejaVuSans-65\" transform=\"scale(0.015625)\"/>\r\n       <path d=\"M 191 3500 \r\nL 800 3500 \r\nL 1894 563 \r\nL 2988 3500 \r\nL 3597 3500 \r\nL 2284 0 \r\nL 1503 0 \r\nL 191 3500 \r\nz\r\n\" id=\"DejaVuSans-76\" transform=\"scale(0.015625)\"/>\r\n       <path d=\"M 603 4863 \r\nL 1178 4863 \r\nL 1178 0 \r\nL 603 0 \r\nL 603 4863 \r\nz\r\n\" id=\"DejaVuSans-6c\" transform=\"scale(0.015625)\"/>\r\n       <path d=\"M 1959 3097 \r\nQ 1497 3097 1228 2736 \r\nQ 959 2375 959 1747 \r\nQ 959 1119 1226 758 \r\nQ 1494 397 1959 397 \r\nQ 2419 397 2687 759 \r\nQ 2956 1122 2956 1747 \r\nQ 2956 2369 2687 2733 \r\nQ 2419 3097 1959 3097 \r\nz\r\nM 1959 3584 \r\nQ 2709 3584 3137 3096 \r\nQ 3566 2609 3566 1747 \r\nQ 3566 888 3137 398 \r\nQ 2709 -91 1959 -91 \r\nQ 1206 -91 779 398 \r\nQ 353 888 353 1747 \r\nQ 353 2609 779 3096 \r\nQ 1206 3584 1959 3584 \r\nz\r\n\" id=\"DejaVuSans-6f\" transform=\"scale(0.015625)\"/>\r\n       <path d=\"M 1159 525 \r\nL 1159 -1331 \r\nL 581 -1331 \r\nL 581 3500 \r\nL 1159 3500 \r\nL 1159 2969 \r\nQ 1341 3281 1617 3432 \r\nQ 1894 3584 2278 3584 \r\nQ 2916 3584 3314 3078 \r\nQ 3713 2572 3713 1747 \r\nQ 3713 922 3314 415 \r\nQ 2916 -91 2278 -91 \r\nQ 1894 -91 1617 61 \r\nQ 1341 213 1159 525 \r\nz\r\nM 3116 1747 \r\nQ 3116 2381 2855 2742 \r\nQ 2594 3103 2138 3103 \r\nQ 1681 3103 1420 2742 \r\nQ 1159 2381 1159 1747 \r\nQ 1159 1113 1420 752 \r\nQ 1681 391 2138 391 \r\nQ 2594 391 2855 752 \r\nQ 3116 1113 3116 1747 \r\nz\r\n\" id=\"DejaVuSans-70\" transform=\"scale(0.015625)\"/>\r\n       <path d=\"M 3328 2828 \r\nQ 3544 3216 3844 3400 \r\nQ 4144 3584 4550 3584 \r\nQ 5097 3584 5394 3201 \r\nQ 5691 2819 5691 2113 \r\nL 5691 0 \r\nL 5113 0 \r\nL 5113 2094 \r\nQ 5113 2597 4934 2840 \r\nQ 4756 3084 4391 3084 \r\nQ 3944 3084 3684 2787 \r\nQ 3425 2491 3425 1978 \r\nL 3425 0 \r\nL 2847 0 \r\nL 2847 2094 \r\nQ 2847 2600 2669 2842 \r\nQ 2491 3084 2119 3084 \r\nQ 1678 3084 1418 2786 \r\nQ 1159 2488 1159 1978 \r\nL 1159 0 \r\nL 581 0 \r\nL 581 3500 \r\nL 1159 3500 \r\nL 1159 2956 \r\nQ 1356 3278 1631 3431 \r\nQ 1906 3584 2284 3584 \r\nQ 2666 3584 2933 3390 \r\nQ 3200 3197 3328 2828 \r\nz\r\n\" id=\"DejaVuSans-6d\" transform=\"scale(0.015625)\"/>\r\n       <path d=\"M 3513 2113 \r\nL 3513 0 \r\nL 2938 0 \r\nL 2938 2094 \r\nQ 2938 2591 2744 2837 \r\nQ 2550 3084 2163 3084 \r\nQ 1697 3084 1428 2787 \r\nQ 1159 2491 1159 1978 \r\nL 1159 0 \r\nL 581 0 \r\nL 581 3500 \r\nL 1159 3500 \r\nL 1159 2956 \r\nQ 1366 3272 1645 3428 \r\nQ 1925 3584 2291 3584 \r\nQ 2894 3584 3203 3211 \r\nQ 3513 2838 3513 2113 \r\nz\r\n\" id=\"DejaVuSans-6e\" transform=\"scale(0.015625)\"/>\r\n       <path d=\"M 1172 4494 \r\nL 1172 3500 \r\nL 2356 3500 \r\nL 2356 3053 \r\nL 1172 3053 \r\nL 1172 1153 \r\nQ 1172 725 1289 603 \r\nQ 1406 481 1766 481 \r\nL 2356 481 \r\nL 2356 0 \r\nL 1766 0 \r\nQ 1100 0 847 248 \r\nQ 594 497 594 1153 \r\nL 594 3053 \r\nL 172 3053 \r\nL 172 3500 \r\nL 594 3500 \r\nL 594 4494 \r\nL 1172 4494 \r\nz\r\n\" id=\"DejaVuSans-74\" transform=\"scale(0.015625)\"/>\r\n      </defs>\r\n      <use xlink:href=\"#DejaVuSans-64\"/>\r\n      <use x=\"63.476562\" xlink:href=\"#DejaVuSans-65\"/>\r\n      <use x=\"125\" xlink:href=\"#DejaVuSans-76\"/>\r\n      <use x=\"184.179688\" xlink:href=\"#DejaVuSans-65\"/>\r\n      <use x=\"245.703125\" xlink:href=\"#DejaVuSans-6c\"/>\r\n      <use x=\"273.486328\" xlink:href=\"#DejaVuSans-6f\"/>\r\n      <use x=\"334.667969\" xlink:href=\"#DejaVuSans-70\"/>\r\n      <use x=\"398.144531\" xlink:href=\"#DejaVuSans-6d\"/>\r\n      <use x=\"495.556641\" xlink:href=\"#DejaVuSans-65\"/>\r\n      <use x=\"557.080078\" xlink:href=\"#DejaVuSans-6e\"/>\r\n      <use x=\"620.458984\" xlink:href=\"#DejaVuSans-74\"/>\r\n     </g>\r\n    </g>\r\n   </g>\r\n   <g id=\"matplotlib.axis_2\">\r\n    <g id=\"ytick_1\">\r\n     <g id=\"line2d_11\">\r\n      <path clip-path=\"url(#pe2addf01d7)\" d=\"M 28.942188 216.455105 \r\nL 363.742188 216.455105 \r\n\" style=\"fill:none;stroke:#ffffff;stroke-linecap:square;stroke-width:0.8;\"/>\r\n     </g>\r\n     <g id=\"line2d_12\">\r\n      <defs>\r\n       <path d=\"M 0 0 \r\nL -3.5 0 \r\n\" id=\"m7db695c9e2\" style=\"stroke:#555555;stroke-width:0.8;\"/>\r\n      </defs>\r\n      <g>\r\n       <use style=\"fill:#555555;stroke:#555555;stroke-width:0.8;\" x=\"28.942188\" xlink:href=\"#m7db695c9e2\" y=\"216.455105\"/>\r\n      </g>\r\n     </g>\r\n     <g id=\"text_7\">\r\n      <!-- −8 -->\r\n      <g style=\"fill:#555555;\" transform=\"translate(7.2 220.254323)scale(0.1 -0.1)\">\r\n       <defs>\r\n        <path d=\"M 678 2272 \r\nL 4684 2272 \r\nL 4684 1741 \r\nL 678 1741 \r\nL 678 2272 \r\nz\r\n\" id=\"DejaVuSans-2212\" transform=\"scale(0.015625)\"/>\r\n        <path d=\"M 2034 2216 \r\nQ 1584 2216 1326 1975 \r\nQ 1069 1734 1069 1313 \r\nQ 1069 891 1326 650 \r\nQ 1584 409 2034 409 \r\nQ 2484 409 2743 651 \r\nQ 3003 894 3003 1313 \r\nQ 3003 1734 2745 1975 \r\nQ 2488 2216 2034 2216 \r\nz\r\nM 1403 2484 \r\nQ 997 2584 770 2862 \r\nQ 544 3141 544 3541 \r\nQ 544 4100 942 4425 \r\nQ 1341 4750 2034 4750 \r\nQ 2731 4750 3128 4425 \r\nQ 3525 4100 3525 3541 \r\nQ 3525 3141 3298 2862 \r\nQ 3072 2584 2669 2484 \r\nQ 3125 2378 3379 2068 \r\nQ 3634 1759 3634 1313 \r\nQ 3634 634 3220 271 \r\nQ 2806 -91 2034 -91 \r\nQ 1263 -91 848 271 \r\nQ 434 634 434 1313 \r\nQ 434 1759 690 2068 \r\nQ 947 2378 1403 2484 \r\nz\r\nM 1172 3481 \r\nQ 1172 3119 1398 2916 \r\nQ 1625 2713 2034 2713 \r\nQ 2441 2713 2670 2916 \r\nQ 2900 3119 2900 3481 \r\nQ 2900 3844 2670 4047 \r\nQ 2441 4250 2034 4250 \r\nQ 1625 4250 1398 4047 \r\nQ 1172 3844 1172 3481 \r\nz\r\n\" id=\"DejaVuSans-38\" transform=\"scale(0.015625)\"/>\r\n       </defs>\r\n       <use xlink:href=\"#DejaVuSans-2212\"/>\r\n       <use x=\"83.789062\" xlink:href=\"#DejaVuSans-38\"/>\r\n      </g>\r\n     </g>\r\n    </g>\r\n    <g id=\"ytick_2\">\r\n     <g id=\"line2d_13\">\r\n      <path clip-path=\"url(#pe2addf01d7)\" d=\"M 28.942188 180.053619 \r\nL 363.742188 180.053619 \r\n\" style=\"fill:none;stroke:#ffffff;stroke-linecap:square;stroke-width:0.8;\"/>\r\n     </g>\r\n     <g id=\"line2d_14\">\r\n      <g>\r\n       <use style=\"fill:#555555;stroke:#555555;stroke-width:0.8;\" x=\"28.942188\" xlink:href=\"#m7db695c9e2\" y=\"180.053619\"/>\r\n      </g>\r\n     </g>\r\n     <g id=\"text_8\">\r\n      <!-- −6 -->\r\n      <g style=\"fill:#555555;\" transform=\"translate(7.2 183.852838)scale(0.1 -0.1)\">\r\n       <use xlink:href=\"#DejaVuSans-2212\"/>\r\n       <use x=\"83.789062\" xlink:href=\"#DejaVuSans-36\"/>\r\n      </g>\r\n     </g>\r\n    </g>\r\n    <g id=\"ytick_3\">\r\n     <g id=\"line2d_15\">\r\n      <path clip-path=\"url(#pe2addf01d7)\" d=\"M 28.942188 143.652134 \r\nL 363.742188 143.652134 \r\n\" style=\"fill:none;stroke:#ffffff;stroke-linecap:square;stroke-width:0.8;\"/>\r\n     </g>\r\n     <g id=\"line2d_16\">\r\n      <g>\r\n       <use style=\"fill:#555555;stroke:#555555;stroke-width:0.8;\" x=\"28.942188\" xlink:href=\"#m7db695c9e2\" y=\"143.652134\"/>\r\n      </g>\r\n     </g>\r\n     <g id=\"text_9\">\r\n      <!-- −4 -->\r\n      <g style=\"fill:#555555;\" transform=\"translate(7.2 147.451352)scale(0.1 -0.1)\">\r\n       <defs>\r\n        <path d=\"M 2419 4116 \r\nL 825 1625 \r\nL 2419 1625 \r\nL 2419 4116 \r\nz\r\nM 2253 4666 \r\nL 3047 4666 \r\nL 3047 1625 \r\nL 3713 1625 \r\nL 3713 1100 \r\nL 3047 1100 \r\nL 3047 0 \r\nL 2419 0 \r\nL 2419 1100 \r\nL 313 1100 \r\nL 313 1709 \r\nL 2253 4666 \r\nz\r\n\" id=\"DejaVuSans-34\" transform=\"scale(0.015625)\"/>\r\n       </defs>\r\n       <use xlink:href=\"#DejaVuSans-2212\"/>\r\n       <use x=\"83.789062\" xlink:href=\"#DejaVuSans-34\"/>\r\n      </g>\r\n     </g>\r\n    </g>\r\n    <g id=\"ytick_4\">\r\n     <g id=\"line2d_17\">\r\n      <path clip-path=\"url(#pe2addf01d7)\" d=\"M 28.942188 107.250648 \r\nL 363.742188 107.250648 \r\n\" style=\"fill:none;stroke:#ffffff;stroke-linecap:square;stroke-width:0.8;\"/>\r\n     </g>\r\n     <g id=\"line2d_18\">\r\n      <g>\r\n       <use style=\"fill:#555555;stroke:#555555;stroke-width:0.8;\" x=\"28.942188\" xlink:href=\"#m7db695c9e2\" y=\"107.250648\"/>\r\n      </g>\r\n     </g>\r\n     <g id=\"text_10\">\r\n      <!-- −2 -->\r\n      <g style=\"fill:#555555;\" transform=\"translate(7.2 111.049867)scale(0.1 -0.1)\">\r\n       <use xlink:href=\"#DejaVuSans-2212\"/>\r\n       <use x=\"83.789062\" xlink:href=\"#DejaVuSans-32\"/>\r\n      </g>\r\n     </g>\r\n    </g>\r\n    <g id=\"ytick_5\">\r\n     <g id=\"line2d_19\">\r\n      <path clip-path=\"url(#pe2addf01d7)\" d=\"M 28.942188 70.849162 \r\nL 363.742188 70.849162 \r\n\" style=\"fill:none;stroke:#ffffff;stroke-linecap:square;stroke-width:0.8;\"/>\r\n     </g>\r\n     <g id=\"line2d_20\">\r\n      <g>\r\n       <use style=\"fill:#555555;stroke:#555555;stroke-width:0.8;\" x=\"28.942188\" xlink:href=\"#m7db695c9e2\" y=\"70.849162\"/>\r\n      </g>\r\n     </g>\r\n     <g id=\"text_11\">\r\n      <!-- 0 -->\r\n      <g style=\"fill:#555555;\" transform=\"translate(15.579688 74.648381)scale(0.1 -0.1)\">\r\n       <defs>\r\n        <path d=\"M 2034 4250 \r\nQ 1547 4250 1301 3770 \r\nQ 1056 3291 1056 2328 \r\nQ 1056 1369 1301 889 \r\nQ 1547 409 2034 409 \r\nQ 2525 409 2770 889 \r\nQ 3016 1369 3016 2328 \r\nQ 3016 3291 2770 3770 \r\nQ 2525 4250 2034 4250 \r\nz\r\nM 2034 4750 \r\nQ 2819 4750 3233 4129 \r\nQ 3647 3509 3647 2328 \r\nQ 3647 1150 3233 529 \r\nQ 2819 -91 2034 -91 \r\nQ 1250 -91 836 529 \r\nQ 422 1150 422 2328 \r\nQ 422 3509 836 4129 \r\nQ 1250 4750 2034 4750 \r\nz\r\n\" id=\"DejaVuSans-30\" transform=\"scale(0.015625)\"/>\r\n       </defs>\r\n       <use xlink:href=\"#DejaVuSans-30\"/>\r\n      </g>\r\n     </g>\r\n    </g>\r\n    <g id=\"ytick_6\">\r\n     <g id=\"line2d_21\">\r\n      <path clip-path=\"url(#pe2addf01d7)\" d=\"M 28.942188 34.447677 \r\nL 363.742188 34.447677 \r\n\" style=\"fill:none;stroke:#ffffff;stroke-linecap:square;stroke-width:0.8;\"/>\r\n     </g>\r\n     <g id=\"line2d_22\">\r\n      <g>\r\n       <use style=\"fill:#555555;stroke:#555555;stroke-width:0.8;\" x=\"28.942188\" xlink:href=\"#m7db695c9e2\" y=\"34.447677\"/>\r\n      </g>\r\n     </g>\r\n     <g id=\"text_12\">\r\n      <!-- 2 -->\r\n      <g style=\"fill:#555555;\" transform=\"translate(15.579688 38.246896)scale(0.1 -0.1)\">\r\n       <use xlink:href=\"#DejaVuSans-32\"/>\r\n      </g>\r\n     </g>\r\n    </g>\r\n   </g>\r\n   <g id=\"line2d_23\">\r\n    <defs>\r\n     <path d=\"M 0 3 \r\nC 0.795609 3 1.55874 2.683901 2.12132 2.12132 \r\nC 2.683901 1.55874 3 0.795609 3 0 \r\nC 3 -0.795609 2.683901 -1.55874 2.12132 -2.12132 \r\nC 1.55874 -2.683901 0.795609 -3 0 -3 \r\nC -0.795609 -3 -1.55874 -2.683901 -2.12132 -2.12132 \r\nC -2.683901 -1.55874 -3 -0.795609 -3 0 \r\nC -3 0.795609 -2.683901 1.55874 -2.12132 2.12132 \r\nC -1.55874 2.683901 -0.795609 3 0 3 \r\nz\r\n\" id=\"mce92385bba\" style=\"stroke:#e24a33;\"/>\r\n    </defs>\r\n    <g clip-path=\"url(#pe2addf01d7)\">\r\n     <use style=\"fill:#e24a33;stroke:#e24a33;\" x=\"44.160369\" xlink:href=\"#mce92385bba\" y=\"34.025386\"/>\r\n     <use style=\"fill:#e24a33;stroke:#e24a33;\" x=\"51.238593\" xlink:href=\"#mce92385bba\" y=\"53.777735\"/>\r\n     <use style=\"fill:#e24a33;stroke:#e24a33;\" x=\"58.316818\" xlink:href=\"#mce92385bba\" y=\"60.498978\"/>\r\n     <use style=\"fill:#e24a33;stroke:#e24a33;\" x=\"65.395042\" xlink:href=\"#mce92385bba\" y=\"72.10778\"/>\r\n     <use style=\"fill:#e24a33;stroke:#e24a33;\" x=\"72.473266\" xlink:href=\"#mce92385bba\" y=\"79.979439\"/>\r\n     <use style=\"fill:#e24a33;stroke:#e24a33;\" x=\"79.55149\" xlink:href=\"#mce92385bba\" y=\"87.477235\"/>\r\n     <use style=\"fill:#e24a33;stroke:#e24a33;\" x=\"86.629714\" xlink:href=\"#mce92385bba\" y=\"91.192249\"/>\r\n     <use style=\"fill:#e24a33;stroke:#e24a33;\" x=\"93.707938\" xlink:href=\"#mce92385bba\" y=\"103.559001\"/>\r\n     <use style=\"fill:#e24a33;stroke:#e24a33;\" x=\"100.786162\" xlink:href=\"#mce92385bba\" y=\"111.055765\"/>\r\n     <use style=\"fill:#e24a33;stroke:#e24a33;\" x=\"107.864386\" xlink:href=\"#mce92385bba\" y=\"117.286965\"/>\r\n     <use style=\"fill:#e24a33;stroke:#e24a33;\" x=\"114.94261\" xlink:href=\"#mce92385bba\" y=\"123.786652\"/>\r\n     <use style=\"fill:#e24a33;stroke:#e24a33;\" x=\"122.020834\" xlink:href=\"#mce92385bba\" y=\"126.679396\"/>\r\n     <use style=\"fill:#e24a33;stroke:#e24a33;\" x=\"129.099059\" xlink:href=\"#mce92385bba\" y=\"131.689656\"/>\r\n     <use style=\"fill:#e24a33;stroke:#e24a33;\" x=\"136.177283\" xlink:href=\"#mce92385bba\" y=\"134.436166\"/>\r\n     <use style=\"fill:#e24a33;stroke:#e24a33;\" x=\"143.255507\" xlink:href=\"#mce92385bba\" y=\"135.5164\"/>\r\n     <use style=\"fill:#e24a33;stroke:#e24a33;\" x=\"150.333731\" xlink:href=\"#mce92385bba\" y=\"144.74846\"/>\r\n     <use style=\"fill:#e24a33;stroke:#e24a33;\" x=\"157.411955\" xlink:href=\"#mce92385bba\" y=\"147.359572\"/>\r\n     <use style=\"fill:#e24a33;stroke:#e24a33;\" x=\"164.490179\" xlink:href=\"#mce92385bba\" y=\"153.068874\"/>\r\n     <use style=\"fill:#e24a33;stroke:#e24a33;\" x=\"171.568403\" xlink:href=\"#mce92385bba\" y=\"148.287918\"/>\r\n     <use style=\"fill:#e24a33;stroke:#e24a33;\" x=\"178.646627\" xlink:href=\"#mce92385bba\" y=\"157.635665\"/>\r\n     <use style=\"fill:#e24a33;stroke:#e24a33;\" x=\"185.724851\" xlink:href=\"#mce92385bba\" y=\"149.60465\"/>\r\n     <use style=\"fill:#e24a33;stroke:#e24a33;\" x=\"192.803075\" xlink:href=\"#mce92385bba\" y=\"157.519164\"/>\r\n     <use style=\"fill:#e24a33;stroke:#e24a33;\" x=\"199.8813\" xlink:href=\"#mce92385bba\" y=\"160.232804\"/>\r\n     <use style=\"fill:#e24a33;stroke:#e24a33;\" x=\"206.959524\" xlink:href=\"#mce92385bba\" y=\"166.907239\"/>\r\n     <use style=\"fill:#e24a33;stroke:#e24a33;\" x=\"214.037748\" xlink:href=\"#mce92385bba\" y=\"163.197746\"/>\r\n     <use style=\"fill:#e24a33;stroke:#e24a33;\" x=\"221.115972\" xlink:href=\"#mce92385bba\" y=\"155.470723\"/>\r\n     <use style=\"fill:#e24a33;stroke:#e24a33;\" x=\"228.194196\" xlink:href=\"#mce92385bba\" y=\"162.135786\"/>\r\n     <use style=\"fill:#e24a33;stroke:#e24a33;\" x=\"235.27242\" xlink:href=\"#mce92385bba\" y=\"178.717908\"/>\r\n     <use style=\"fill:#e24a33;stroke:#e24a33;\" x=\"242.350644\" xlink:href=\"#mce92385bba\" y=\"187.342381\"/>\r\n     <use style=\"fill:#e24a33;stroke:#e24a33;\" x=\"249.428868\" xlink:href=\"#mce92385bba\" y=\"178.53598\"/>\r\n     <use style=\"fill:#e24a33;stroke:#e24a33;\" x=\"256.507092\" xlink:href=\"#mce92385bba\" y=\"165.969159\"/>\r\n     <use style=\"fill:#e24a33;stroke:#e24a33;\" x=\"263.585316\" xlink:href=\"#mce92385bba\" y=\"187.519107\"/>\r\n     <use style=\"fill:#e24a33;stroke:#e24a33;\" x=\"270.663541\" xlink:href=\"#mce92385bba\" y=\"199.787345\"/>\r\n     <use style=\"fill:#e24a33;stroke:#e24a33;\" x=\"277.741765\" xlink:href=\"#mce92385bba\" y=\"194.566568\"/>\r\n     <use style=\"fill:#e24a33;stroke:#e24a33;\" x=\"284.819989\" xlink:href=\"#mce92385bba\" y=\"187.207115\"/>\r\n     <use style=\"fill:#e24a33;stroke:#e24a33;\" x=\"291.898213\" xlink:href=\"#mce92385bba\" y=\"219.848896\"/>\r\n     <use style=\"fill:#e24a33;stroke:#e24a33;\" x=\"298.976437\" xlink:href=\"#mce92385bba\" y=\"199.855869\"/>\r\n     <use style=\"fill:#e24a33;stroke:#e24a33;\" x=\"327.289333\" xlink:href=\"#mce92385bba\" y=\"198.277033\"/>\r\n     <use style=\"fill:#e24a33;stroke:#e24a33;\" x=\"341.445782\" xlink:href=\"#mce92385bba\" y=\"198.293602\"/>\r\n    </g>\r\n   </g>\r\n   <g id=\"line2d_24\">\r\n    <path clip-path=\"url(#pe2addf01d7)\" d=\"M 44.160369 102.050756 \r\nL 51.238593 104.695763 \r\nL 58.316818 107.34077 \r\nL 65.395042 109.985777 \r\nL 72.473266 112.630785 \r\nL 79.55149 115.275792 \r\nL 86.629714 117.920799 \r\nL 93.707938 120.565806 \r\nL 100.786162 123.210814 \r\nL 107.864386 125.855821 \r\nL 114.94261 128.500828 \r\nL 122.020834 131.145835 \r\nL 129.099059 133.790843 \r\nL 136.177283 136.43585 \r\nL 143.255507 139.080857 \r\nL 150.333731 141.725864 \r\nL 157.411955 144.370872 \r\nL 164.490179 147.015879 \r\nL 171.568403 149.660886 \r\nL 178.646627 152.305893 \r\nL 185.724851 154.950901 \r\nL 192.803075 157.595908 \r\nL 199.8813 160.240915 \r\nL 206.959524 162.885922 \r\nL 214.037748 165.53093 \r\nL 221.115972 168.175937 \r\nL 228.194196 170.820944 \r\nL 235.27242 173.465951 \r\nL 242.350644 176.110959 \r\nL 249.428868 178.755966 \r\nL 256.507092 181.400973 \r\nL 263.585316 184.04598 \r\nL 270.663541 186.690988 \r\nL 277.741765 189.335995 \r\nL 284.819989 191.981002 \r\nL 291.898213 194.626009 \r\nL 298.976437 197.271017 \r\nL 306.054661 199.916024 \r\nL 313.132885 202.561031 \r\nL 320.211109 205.206038 \r\nL 327.289333 207.851046 \r\nL 334.367557 210.496053 \r\nL 341.445782 213.14106 \r\nL 348.524006 215.786067 \r\n\" style=\"fill:none;stroke:#348abd;stroke-dasharray:5.55,2.4;stroke-dashoffset:0;stroke-width:1.5;\"/>\r\n   </g>\r\n   <g id=\"line2d_25\">\r\n    <path clip-path=\"url(#pe2addf01d7)\" d=\"M 44.160369 73.812294 \r\nL 51.238593 77.484057 \r\nL 58.316818 81.15582 \r\nL 65.395042 84.827583 \r\nL 72.473266 88.499347 \r\nL 79.55149 92.17111 \r\nL 86.629714 95.842873 \r\nL 93.707938 99.514636 \r\nL 100.786162 103.1864 \r\nL 107.864386 106.858163 \r\nL 114.94261 110.529926 \r\nL 122.020834 114.201689 \r\nL 129.099059 117.873453 \r\nL 136.177283 121.545216 \r\nL 143.255507 125.216979 \r\nL 150.333731 128.888742 \r\nL 157.411955 132.560506 \r\nL 164.490179 136.232269 \r\nL 171.568403 139.904032 \r\nL 178.646627 143.575796 \r\nL 185.724851 147.247559 \r\nL 192.803075 150.919322 \r\nL 199.8813 154.591085 \r\nL 206.959524 158.262849 \r\nL 214.037748 161.934612 \r\nL 221.115972 165.606375 \r\nL 228.194196 169.278138 \r\nL 235.27242 172.949902 \r\nL 242.350644 176.621665 \r\nL 249.428868 180.293428 \r\nL 256.507092 183.965191 \r\nL 263.585316 187.636955 \r\nL 270.663541 191.308718 \r\nL 277.741765 194.980481 \r\nL 284.819989 198.652244 \r\nL 291.898213 202.324008 \r\nL 298.976437 205.995771 \r\nL 306.054661 209.667534 \r\nL 313.132885 213.339297 \r\nL 320.211109 217.011061 \r\nL 327.289333 220.682824 \r\nL 334.367557 224.354587 \r\nL 341.445782 228.02635 \r\nL 348.524006 231.698114 \r\n\" style=\"fill:none;stroke:#988ed5;stroke-dasharray:9.6,2.4,1.5,2.4;stroke-dashoffset:0;stroke-width:1.5;\"/>\r\n   </g>\r\n   <g id=\"patch_3\">\r\n    <path d=\"M 28.942188 241.58175 \r\nL 28.942188 24.14175 \r\n\" style=\"fill:none;stroke:#ffffff;stroke-linecap:square;stroke-linejoin:miter;\"/>\r\n   </g>\r\n   <g id=\"patch_4\">\r\n    <path d=\"M 363.742188 241.58175 \r\nL 363.742188 24.14175 \r\n\" style=\"fill:none;stroke:#ffffff;stroke-linecap:square;stroke-linejoin:miter;\"/>\r\n   </g>\r\n   <g id=\"patch_5\">\r\n    <path d=\"M 28.942188 241.58175 \r\nL 363.742188 241.58175 \r\n\" style=\"fill:none;stroke:#ffffff;stroke-linecap:square;stroke-linejoin:miter;\"/>\r\n   </g>\r\n   <g id=\"patch_6\">\r\n    <path d=\"M 28.942188 24.14175 \r\nL 363.742188 24.14175 \r\n\" style=\"fill:none;stroke:#ffffff;stroke-linecap:square;stroke-linejoin:miter;\"/>\r\n   </g>\r\n   <g id=\"text_13\">\r\n    <!-- Fit Period affect on Tail Estimate -->\r\n    <g transform=\"translate(80.926188 18.14175)scale(0.144 -0.144)\">\r\n     <defs>\r\n      <path d=\"M 628 4666 \r\nL 3309 4666 \r\nL 3309 4134 \r\nL 1259 4134 \r\nL 1259 2759 \r\nL 3109 2759 \r\nL 3109 2228 \r\nL 1259 2228 \r\nL 1259 0 \r\nL 628 0 \r\nL 628 4666 \r\nz\r\n\" id=\"DejaVuSans-46\" transform=\"scale(0.015625)\"/>\r\n      <path d=\"M 603 3500 \r\nL 1178 3500 \r\nL 1178 0 \r\nL 603 0 \r\nL 603 3500 \r\nz\r\nM 603 4863 \r\nL 1178 4863 \r\nL 1178 4134 \r\nL 603 4134 \r\nL 603 4863 \r\nz\r\n\" id=\"DejaVuSans-69\" transform=\"scale(0.015625)\"/>\r\n      <path id=\"DejaVuSans-20\" transform=\"scale(0.015625)\"/>\r\n      <path d=\"M 1259 4147 \r\nL 1259 2394 \r\nL 2053 2394 \r\nQ 2494 2394 2734 2622 \r\nQ 2975 2850 2975 3272 \r\nQ 2975 3691 2734 3919 \r\nQ 2494 4147 2053 4147 \r\nL 1259 4147 \r\nz\r\nM 628 4666 \r\nL 2053 4666 \r\nQ 2838 4666 3239 4311 \r\nQ 3641 3956 3641 3272 \r\nQ 3641 2581 3239 2228 \r\nQ 2838 1875 2053 1875 \r\nL 1259 1875 \r\nL 1259 0 \r\nL 628 0 \r\nL 628 4666 \r\nz\r\n\" id=\"DejaVuSans-50\" transform=\"scale(0.015625)\"/>\r\n      <path d=\"M 2631 2963 \r\nQ 2534 3019 2420 3045 \r\nQ 2306 3072 2169 3072 \r\nQ 1681 3072 1420 2755 \r\nQ 1159 2438 1159 1844 \r\nL 1159 0 \r\nL 581 0 \r\nL 581 3500 \r\nL 1159 3500 \r\nL 1159 2956 \r\nQ 1341 3275 1631 3429 \r\nQ 1922 3584 2338 3584 \r\nQ 2397 3584 2469 3576 \r\nQ 2541 3569 2628 3553 \r\nL 2631 2963 \r\nz\r\n\" id=\"DejaVuSans-72\" transform=\"scale(0.015625)\"/>\r\n      <path d=\"M 2194 1759 \r\nQ 1497 1759 1228 1600 \r\nQ 959 1441 959 1056 \r\nQ 959 750 1161 570 \r\nQ 1363 391 1709 391 \r\nQ 2188 391 2477 730 \r\nQ 2766 1069 2766 1631 \r\nL 2766 1759 \r\nL 2194 1759 \r\nz\r\nM 3341 1997 \r\nL 3341 0 \r\nL 2766 0 \r\nL 2766 531 \r\nQ 2569 213 2275 61 \r\nQ 1981 -91 1556 -91 \r\nQ 1019 -91 701 211 \r\nQ 384 513 384 1019 \r\nQ 384 1609 779 1909 \r\nQ 1175 2209 1959 2209 \r\nL 2766 2209 \r\nL 2766 2266 \r\nQ 2766 2663 2505 2880 \r\nQ 2244 3097 1772 3097 \r\nQ 1472 3097 1187 3025 \r\nQ 903 2953 641 2809 \r\nL 641 3341 \r\nQ 956 3463 1253 3523 \r\nQ 1550 3584 1831 3584 \r\nQ 2591 3584 2966 3190 \r\nQ 3341 2797 3341 1997 \r\nz\r\n\" id=\"DejaVuSans-61\" transform=\"scale(0.015625)\"/>\r\n      <path d=\"M 2375 4863 \r\nL 2375 4384 \r\nL 1825 4384 \r\nQ 1516 4384 1395 4259 \r\nQ 1275 4134 1275 3809 \r\nL 1275 3500 \r\nL 2222 3500 \r\nL 2222 3053 \r\nL 1275 3053 \r\nL 1275 0 \r\nL 697 0 \r\nL 697 3053 \r\nL 147 3053 \r\nL 147 3500 \r\nL 697 3500 \r\nL 697 3744 \r\nQ 697 4328 969 4595 \r\nQ 1241 4863 1831 4863 \r\nL 2375 4863 \r\nz\r\n\" id=\"DejaVuSans-66\" transform=\"scale(0.015625)\"/>\r\n      <path d=\"M 3122 3366 \r\nL 3122 2828 \r\nQ 2878 2963 2633 3030 \r\nQ 2388 3097 2138 3097 \r\nQ 1578 3097 1268 2742 \r\nQ 959 2388 959 1747 \r\nQ 959 1106 1268 751 \r\nQ 1578 397 2138 397 \r\nQ 2388 397 2633 464 \r\nQ 2878 531 3122 666 \r\nL 3122 134 \r\nQ 2881 22 2623 -34 \r\nQ 2366 -91 2075 -91 \r\nQ 1284 -91 818 406 \r\nQ 353 903 353 1747 \r\nQ 353 2603 823 3093 \r\nQ 1294 3584 2113 3584 \r\nQ 2378 3584 2631 3529 \r\nQ 2884 3475 3122 3366 \r\nz\r\n\" id=\"DejaVuSans-63\" transform=\"scale(0.015625)\"/>\r\n      <path d=\"M -19 4666 \r\nL 3928 4666 \r\nL 3928 4134 \r\nL 2272 4134 \r\nL 2272 0 \r\nL 1638 0 \r\nL 1638 4134 \r\nL -19 4134 \r\nL -19 4666 \r\nz\r\n\" id=\"DejaVuSans-54\" transform=\"scale(0.015625)\"/>\r\n      <path d=\"M 628 4666 \r\nL 3578 4666 \r\nL 3578 4134 \r\nL 1259 4134 \r\nL 1259 2753 \r\nL 3481 2753 \r\nL 3481 2222 \r\nL 1259 2222 \r\nL 1259 531 \r\nL 3634 531 \r\nL 3634 0 \r\nL 628 0 \r\nL 628 4666 \r\nz\r\n\" id=\"DejaVuSans-45\" transform=\"scale(0.015625)\"/>\r\n      <path d=\"M 2834 3397 \r\nL 2834 2853 \r\nQ 2591 2978 2328 3040 \r\nQ 2066 3103 1784 3103 \r\nQ 1356 3103 1142 2972 \r\nQ 928 2841 928 2578 \r\nQ 928 2378 1081 2264 \r\nQ 1234 2150 1697 2047 \r\nL 1894 2003 \r\nQ 2506 1872 2764 1633 \r\nQ 3022 1394 3022 966 \r\nQ 3022 478 2636 193 \r\nQ 2250 -91 1575 -91 \r\nQ 1294 -91 989 -36 \r\nQ 684 19 347 128 \r\nL 347 722 \r\nQ 666 556 975 473 \r\nQ 1284 391 1588 391 \r\nQ 1994 391 2212 530 \r\nQ 2431 669 2431 922 \r\nQ 2431 1156 2273 1281 \r\nQ 2116 1406 1581 1522 \r\nL 1381 1569 \r\nQ 847 1681 609 1914 \r\nQ 372 2147 372 2553 \r\nQ 372 3047 722 3315 \r\nQ 1072 3584 1716 3584 \r\nQ 2034 3584 2315 3537 \r\nQ 2597 3491 2834 3397 \r\nz\r\n\" id=\"DejaVuSans-73\" transform=\"scale(0.015625)\"/>\r\n     </defs>\r\n     <use xlink:href=\"#DejaVuSans-46\"/>\r\n     <use x=\"50.269531\" xlink:href=\"#DejaVuSans-69\"/>\r\n     <use x=\"78.052734\" xlink:href=\"#DejaVuSans-74\"/>\r\n     <use x=\"117.261719\" xlink:href=\"#DejaVuSans-20\"/>\r\n     <use x=\"149.048828\" xlink:href=\"#DejaVuSans-50\"/>\r\n     <use x=\"205.726562\" xlink:href=\"#DejaVuSans-65\"/>\r\n     <use x=\"267.25\" xlink:href=\"#DejaVuSans-72\"/>\r\n     <use x=\"308.363281\" xlink:href=\"#DejaVuSans-69\"/>\r\n     <use x=\"336.146484\" xlink:href=\"#DejaVuSans-6f\"/>\r\n     <use x=\"397.328125\" xlink:href=\"#DejaVuSans-64\"/>\r\n     <use x=\"460.804688\" xlink:href=\"#DejaVuSans-20\"/>\r\n     <use x=\"492.591797\" xlink:href=\"#DejaVuSans-61\"/>\r\n     <use x=\"553.871094\" xlink:href=\"#DejaVuSans-66\"/>\r\n     <use x=\"589.076172\" xlink:href=\"#DejaVuSans-66\"/>\r\n     <use x=\"624.28125\" xlink:href=\"#DejaVuSans-65\"/>\r\n     <use x=\"685.804688\" xlink:href=\"#DejaVuSans-63\"/>\r\n     <use x=\"740.785156\" xlink:href=\"#DejaVuSans-74\"/>\r\n     <use x=\"779.994141\" xlink:href=\"#DejaVuSans-20\"/>\r\n     <use x=\"811.78125\" xlink:href=\"#DejaVuSans-6f\"/>\r\n     <use x=\"872.962891\" xlink:href=\"#DejaVuSans-6e\"/>\r\n     <use x=\"936.341797\" xlink:href=\"#DejaVuSans-20\"/>\r\n     <use x=\"968.128906\" xlink:href=\"#DejaVuSans-54\"/>\r\n     <use x=\"1012.712891\" xlink:href=\"#DejaVuSans-61\"/>\r\n     <use x=\"1073.992188\" xlink:href=\"#DejaVuSans-69\"/>\r\n     <use x=\"1101.775391\" xlink:href=\"#DejaVuSans-6c\"/>\r\n     <use x=\"1129.558594\" xlink:href=\"#DejaVuSans-20\"/>\r\n     <use x=\"1161.345703\" xlink:href=\"#DejaVuSans-45\"/>\r\n     <use x=\"1224.529297\" xlink:href=\"#DejaVuSans-73\"/>\r\n     <use x=\"1276.628906\" xlink:href=\"#DejaVuSans-74\"/>\r\n     <use x=\"1315.837891\" xlink:href=\"#DejaVuSans-69\"/>\r\n     <use x=\"1343.621094\" xlink:href=\"#DejaVuSans-6d\"/>\r\n     <use x=\"1441.033203\" xlink:href=\"#DejaVuSans-61\"/>\r\n     <use x=\"1502.3125\" xlink:href=\"#DejaVuSans-74\"/>\r\n     <use x=\"1541.521484\" xlink:href=\"#DejaVuSans-65\"/>\r\n    </g>\r\n   </g>\r\n   <g id=\"legend_1\">\r\n    <g id=\"patch_7\">\r\n     <path d=\"M 194.251563 61.498 \r\nL 356.742188 61.498 \r\nQ 358.742188 61.498 358.742188 59.498 \r\nL 358.742188 31.14175 \r\nQ 358.742188 29.14175 356.742188 29.14175 \r\nL 194.251563 29.14175 \r\nQ 192.251563 29.14175 192.251563 31.14175 \r\nL 192.251563 59.498 \r\nQ 192.251563 61.498 194.251563 61.498 \r\nz\r\n\" style=\"fill:#e5e5e5;opacity:0.8;stroke:#cccccc;stroke-linejoin:miter;stroke-width:0.5;\"/>\r\n    </g>\r\n    <g id=\"line2d_26\">\r\n     <path d=\"M 196.251563 37.240187 \r\nL 216.251563 37.240187 \r\n\" style=\"fill:none;stroke:#348abd;stroke-dasharray:5.55,2.4;stroke-dashoffset:0;stroke-width:1.5;\"/>\r\n    </g>\r\n    <g id=\"line2d_27\"/>\r\n    <g id=\"text_14\">\r\n     <!-- Exclude ages to 36: 1.002 -->\r\n     <g transform=\"translate(224.251563 40.740187)scale(0.1 -0.1)\">\r\n      <defs>\r\n       <path d=\"M 3513 3500 \r\nL 2247 1797 \r\nL 3578 0 \r\nL 2900 0 \r\nL 1881 1375 \r\nL 863 0 \r\nL 184 0 \r\nL 1544 1831 \r\nL 300 3500 \r\nL 978 3500 \r\nL 1906 2253 \r\nL 2834 3500 \r\nL 3513 3500 \r\nz\r\n\" id=\"DejaVuSans-78\" transform=\"scale(0.015625)\"/>\r\n       <path d=\"M 544 1381 \r\nL 544 3500 \r\nL 1119 3500 \r\nL 1119 1403 \r\nQ 1119 906 1312 657 \r\nQ 1506 409 1894 409 \r\nQ 2359 409 2629 706 \r\nQ 2900 1003 2900 1516 \r\nL 2900 3500 \r\nL 3475 3500 \r\nL 3475 0 \r\nL 2900 0 \r\nL 2900 538 \r\nQ 2691 219 2414 64 \r\nQ 2138 -91 1772 -91 \r\nQ 1169 -91 856 284 \r\nQ 544 659 544 1381 \r\nz\r\nM 1991 3584 \r\nL 1991 3584 \r\nz\r\n\" id=\"DejaVuSans-75\" transform=\"scale(0.015625)\"/>\r\n       <path d=\"M 2906 1791 \r\nQ 2906 2416 2648 2759 \r\nQ 2391 3103 1925 3103 \r\nQ 1463 3103 1205 2759 \r\nQ 947 2416 947 1791 \r\nQ 947 1169 1205 825 \r\nQ 1463 481 1925 481 \r\nQ 2391 481 2648 825 \r\nQ 2906 1169 2906 1791 \r\nz\r\nM 3481 434 \r\nQ 3481 -459 3084 -895 \r\nQ 2688 -1331 1869 -1331 \r\nQ 1566 -1331 1297 -1286 \r\nQ 1028 -1241 775 -1147 \r\nL 775 -588 \r\nQ 1028 -725 1275 -790 \r\nQ 1522 -856 1778 -856 \r\nQ 2344 -856 2625 -561 \r\nQ 2906 -266 2906 331 \r\nL 2906 616 \r\nQ 2728 306 2450 153 \r\nQ 2172 0 1784 0 \r\nQ 1141 0 747 490 \r\nQ 353 981 353 1791 \r\nQ 353 2603 747 3093 \r\nQ 1141 3584 1784 3584 \r\nQ 2172 3584 2450 3431 \r\nQ 2728 3278 2906 2969 \r\nL 2906 3500 \r\nL 3481 3500 \r\nL 3481 434 \r\nz\r\n\" id=\"DejaVuSans-67\" transform=\"scale(0.015625)\"/>\r\n       <path d=\"M 750 794 \r\nL 1409 794 \r\nL 1409 0 \r\nL 750 0 \r\nL 750 794 \r\nz\r\nM 750 3309 \r\nL 1409 3309 \r\nL 1409 2516 \r\nL 750 2516 \r\nL 750 3309 \r\nz\r\n\" id=\"DejaVuSans-3a\" transform=\"scale(0.015625)\"/>\r\n       <path d=\"M 684 794 \r\nL 1344 794 \r\nL 1344 0 \r\nL 684 0 \r\nL 684 794 \r\nz\r\n\" id=\"DejaVuSans-2e\" transform=\"scale(0.015625)\"/>\r\n      </defs>\r\n      <use xlink:href=\"#DejaVuSans-45\"/>\r\n      <use x=\"63.183594\" xlink:href=\"#DejaVuSans-78\"/>\r\n      <use x=\"120.613281\" xlink:href=\"#DejaVuSans-63\"/>\r\n      <use x=\"175.59375\" xlink:href=\"#DejaVuSans-6c\"/>\r\n      <use x=\"203.376953\" xlink:href=\"#DejaVuSans-75\"/>\r\n      <use x=\"266.755859\" xlink:href=\"#DejaVuSans-64\"/>\r\n      <use x=\"330.232422\" xlink:href=\"#DejaVuSans-65\"/>\r\n      <use x=\"391.755859\" xlink:href=\"#DejaVuSans-20\"/>\r\n      <use x=\"423.542969\" xlink:href=\"#DejaVuSans-61\"/>\r\n      <use x=\"484.822266\" xlink:href=\"#DejaVuSans-67\"/>\r\n      <use x=\"548.298828\" xlink:href=\"#DejaVuSans-65\"/>\r\n      <use x=\"609.822266\" xlink:href=\"#DejaVuSans-73\"/>\r\n      <use x=\"661.921875\" xlink:href=\"#DejaVuSans-20\"/>\r\n      <use x=\"693.708984\" xlink:href=\"#DejaVuSans-74\"/>\r\n      <use x=\"732.917969\" xlink:href=\"#DejaVuSans-6f\"/>\r\n      <use x=\"794.099609\" xlink:href=\"#DejaVuSans-20\"/>\r\n      <use x=\"825.886719\" xlink:href=\"#DejaVuSans-33\"/>\r\n      <use x=\"889.509766\" xlink:href=\"#DejaVuSans-36\"/>\r\n      <use x=\"953.132812\" xlink:href=\"#DejaVuSans-3a\"/>\r\n      <use x=\"986.824219\" xlink:href=\"#DejaVuSans-20\"/>\r\n      <use x=\"1018.611328\" xlink:href=\"#DejaVuSans-31\"/>\r\n      <use x=\"1082.234375\" xlink:href=\"#DejaVuSans-2e\"/>\r\n      <use x=\"1114.021484\" xlink:href=\"#DejaVuSans-30\"/>\r\n      <use x=\"1177.644531\" xlink:href=\"#DejaVuSans-30\"/>\r\n      <use x=\"1241.267578\" xlink:href=\"#DejaVuSans-32\"/>\r\n     </g>\r\n    </g>\r\n    <g id=\"line2d_28\">\r\n     <path d=\"M 196.251563 51.918312 \r\nL 216.251563 51.918312 \r\n\" style=\"fill:none;stroke:#988ed5;stroke-dasharray:9.6,2.4,1.5,2.4;stroke-dashoffset:0;stroke-width:1.5;\"/>\r\n    </g>\r\n    <g id=\"line2d_29\"/>\r\n    <g id=\"text_15\">\r\n     <!-- All Periods: 1.001 -->\r\n     <g transform=\"translate(224.251563 55.418312)scale(0.1 -0.1)\">\r\n      <defs>\r\n       <path d=\"M 2188 4044 \r\nL 1331 1722 \r\nL 3047 1722 \r\nL 2188 4044 \r\nz\r\nM 1831 4666 \r\nL 2547 4666 \r\nL 4325 0 \r\nL 3669 0 \r\nL 3244 1197 \r\nL 1141 1197 \r\nL 716 0 \r\nL 50 0 \r\nL 1831 4666 \r\nz\r\n\" id=\"DejaVuSans-41\" transform=\"scale(0.015625)\"/>\r\n      </defs>\r\n      <use xlink:href=\"#DejaVuSans-41\"/>\r\n      <use x=\"68.408203\" xlink:href=\"#DejaVuSans-6c\"/>\r\n      <use x=\"96.191406\" xlink:href=\"#DejaVuSans-6c\"/>\r\n      <use x=\"123.974609\" xlink:href=\"#DejaVuSans-20\"/>\r\n      <use x=\"155.761719\" xlink:href=\"#DejaVuSans-50\"/>\r\n      <use x=\"212.439453\" xlink:href=\"#DejaVuSans-65\"/>\r\n      <use x=\"273.962891\" xlink:href=\"#DejaVuSans-72\"/>\r\n      <use x=\"315.076172\" xlink:href=\"#DejaVuSans-69\"/>\r\n      <use x=\"342.859375\" xlink:href=\"#DejaVuSans-6f\"/>\r\n      <use x=\"404.041016\" xlink:href=\"#DejaVuSans-64\"/>\r\n      <use x=\"467.517578\" xlink:href=\"#DejaVuSans-73\"/>\r\n      <use x=\"519.617188\" xlink:href=\"#DejaVuSans-3a\"/>\r\n      <use x=\"553.308594\" xlink:href=\"#DejaVuSans-20\"/>\r\n      <use x=\"585.095703\" xlink:href=\"#DejaVuSans-31\"/>\r\n      <use x=\"648.71875\" xlink:href=\"#DejaVuSans-2e\"/>\r\n      <use x=\"680.505859\" xlink:href=\"#DejaVuSans-30\"/>\r\n      <use x=\"744.128906\" xlink:href=\"#DejaVuSans-30\"/>\r\n      <use x=\"807.751953\" xlink:href=\"#DejaVuSans-31\"/>\r\n     </g>\r\n    </g>\r\n   </g>\r\n  </g>\r\n </g>\r\n <defs>\r\n  <clipPath id=\"pe2addf01d7\">\r\n   <rect height=\"217.44\" width=\"334.8\" x=\"28.942188\" y=\"24.14175\"/>\r\n  </clipPath>\r\n </defs>\r\n</svg>\r\n",
      "text/plain": [
       "<Figure size 432x288 with 1 Axes>"
      ]
     },
     "metadata": {},
     "output_type": "display_data"
    }
   ],
   "source": [
    "obs = (dev.ldf_ - 1).T.iloc[:, 0]\n",
    "obs[obs < 0] = np.nan\n",
    "\n",
    "ax = np.log(obs).rename('Selected LDF').plot(\n",
    "    style=' ', marker='o', title=f'Fit Period affect on Tail Estimate');\n",
    "pd.Series(\n",
    "    np.arange(1, dev.ldf_.shape[-1] + 1) * exclude.slope_.sum().values + exclude.intercept_.sum().values, \n",
    "    index=dev.ldf_.development, \n",
    "    name=f'Ages after 36: {round(exclude.tail_.values[0,0], 3)}').plot(\n",
    "    ax=ax, style = '--', legend=True);\n",
    "pd.Series(\n",
    "    np.arange(1, dev.ldf_.shape[-1] + 1) * fit_all.slope_.sum().values + fit_all.intercept_.sum().values, \n",
    "    index=dev.ldf_.development, \n",
    "    name=f'All Periods: {round(fit_all.tail_.values[0,0], 3)}').plot(\n",
    "    ax=ax, style = '-.', legend=True);"
   ]
  },
  {
   "cell_type": "markdown",
   "id": "be565e57-32f9-4b71-9b7c-cdf36b6dc6dd",
   "metadata": {},
   "source": [
    "```{warning}\n",
    "The nature of curve fitting with `log` and `exp` transforms is inappropriate for development factors less\n",
    "than 1.0.  The default behavior of `TailCurve` is to ignore these observations when determining\n",
    "the OLS regression parameters. You can force errors by setting the `errors` argument to \"raise\".\n",
    "```\n",
    "```python\n",
    "dev = cl.TailCurve(errors='raise')\n",
    "# This will fail because of LDFs < 1 and our choice to 'raise' errors\n",
    "dev.fit(cl.load_sample('quarterly')['paid'])\n",
    "```"
   ]
  },
  {
   "cell_type": "markdown",
   "id": "65a9d484-cde0-4932-967d-3c1668a7ca3c",
   "metadata": {},
   "source": [
    "You can also use a list to of booleans to specify which values you want to include. This allows for finer grain control over excluding outliers from your analysis.  The following two estimators are\n",
    "equivalent."
   ]
  },
  {
   "cell_type": "code",
   "execution_count": 42,
   "id": "8b5ff0eb-44c0-4ab3-add6-ec4f4412f257",
   "metadata": {},
   "outputs": [
    {
     "data": {
      "text/plain": [
       "True"
      ]
     },
     "execution_count": 42,
     "metadata": {},
     "output_type": "execute_result"
    }
   ],
   "source": [
    "(cl.TailCurve(fit_period=[False] * 11 + [True] * 33).fit(dev).cdf_ ==\n",
    " cl.TailCurve(fit_period=(36, None)).fit(dev).cdf_)"
   ]
  },
  {
   "cell_type": "markdown",
   "id": "ff111142-d7a4-4e23-b4b9-7c76127f966d",
   "metadata": {},
   "source": [
    "### Examples\n",
    "\n",
    ":::{panels}\n",
    ":column: col-lg-4 px-2 py-2\n",
    "\n",
    "---\n",
    "**[Attachment Age Smoothing](plot_exponential_smoothing)**\n",
    "```{glue:} plot_exponential_smoothing\n",
    "```\n",
    "+++\n",
    "{bdg-success}`easy`\n",
    "\n",
    "---\n",
    "**[TailCurve Extrapolation](plot_extrap_period)**\n",
    "```{glue:} plot_extrap_period\n",
    "```\n",
    "+++\n",
    "{bdg-warning}`medium`\n",
    "\n",
    "---\n",
    "**[TailCurve Basics](plot_tailcurve_compare)**\n",
    "```{glue:} plot_tailcurve_compare\n",
    "```\n",
    "+++\n",
    "{bdg-success}`easy`\n",
    ":::\n",
    "{cite}`CAS_TFWP2013`"
   ]
  },
  {
   "cell_type": "markdown",
   "id": "38788926-acdd-4cf9-a12b-39931c5041da",
   "metadata": {
    "tags": []
   },
   "source": [
    "(tails:tailbondy)=\n",
    "## TailBondy\n",
    "Most people are familiar with the Bondy tail know it as a basic method that assumes the \n",
    "`tail_` is just a repeat of the last available `ldf_`.\n",
    "\n",
    "Indeed, without any hyperparameter selection, this is how `TailBondy` works.\n"
   ]
  },
  {
   "cell_type": "code",
   "execution_count": 55,
   "id": "234713f3-53c7-4213-83e1-c570b4487bc3",
   "metadata": {},
   "outputs": [
    {
     "data": {
      "text/html": [
       "<table border=\"1\" class=\"dataframe\">\n",
       "  <thead>\n",
       "    <tr style=\"text-align: right;\">\n",
       "      <th></th>\n",
       "      <th>108-120</th>\n",
       "    </tr>\n",
       "  </thead>\n",
       "  <tbody>\n",
       "    <tr>\n",
       "      <th>(All)</th>\n",
       "      <td>1.0177</td>\n",
       "    </tr>\n",
       "  </tbody>\n",
       "</table>"
      ],
      "text/plain": [
       "        108-120\n",
       "(All)  1.017725"
      ]
     },
     "execution_count": 55,
     "metadata": {},
     "output_type": "execute_result"
    }
   ],
   "source": [
    "triangle = cl.load_sample('genins')\n",
    "dev = cl.Development().fit_transform(triangle)\n",
    "dev.ldf_.iloc[..., -1]"
   ]
  },
  {
   "cell_type": "code",
   "execution_count": 10,
   "id": "094b9c7f-d4c6-4b56-9e18-50ce83469cf6",
   "metadata": {},
   "outputs": [
    {
     "data": {
      "text/html": [
       "<div>\n",
       "<style scoped>\n",
       "    .dataframe tbody tr th:only-of-type {\n",
       "        vertical-align: middle;\n",
       "    }\n",
       "\n",
       "    .dataframe tbody tr th {\n",
       "        vertical-align: top;\n",
       "    }\n",
       "\n",
       "    .dataframe thead th {\n",
       "        text-align: right;\n",
       "    }\n",
       "</style>\n",
       "<table border=\"1\" class=\"dataframe\">\n",
       "  <thead>\n",
       "    <tr style=\"text-align: right;\">\n",
       "      <th></th>\n",
       "      <th>120-Ult</th>\n",
       "    </tr>\n",
       "  </thead>\n",
       "  <tbody>\n",
       "    <tr>\n",
       "      <th>(All)</th>\n",
       "      <td>1.017725</td>\n",
       "    </tr>\n",
       "  </tbody>\n",
       "</table>\n",
       "</div>"
      ],
      "text/plain": [
       "        120-Ult\n",
       "(All)  1.017725"
      ]
     },
     "execution_count": 10,
     "metadata": {},
     "output_type": "execute_result"
    }
   ],
   "source": [
    "tail = cl.TailBondy().fit(triangle)\n",
    "tail.tail_"
   ]
  },
  {
   "cell_type": "markdown",
   "id": "5f6da5e3-ca60-47a4-927e-1f1219ff23c7",
   "metadata": {},
   "source": [
    "This simple relationship has a more generalized form.  If we define the `ldf_` at time $n$ as $f(n-1)$\n",
    "and assume that $f(n) = f(n-1)^{B}$, it follows that the tail $F(n)$ can be defined as:\n",
    "\n",
    "$$\n",
    "F(n)=f(n-1)^{B}f(n-1)^{B^{2}}...=f(n-1)^{\\frac{B}{1-B}}\n",
    "$$ (tail_bondy_eq)\n",
    "\n",
    "where $B$ is some constant, and if $B$ is $\\frac{1}{2}$, then we obtain Bondy's original tail formulation.\n",
    "\n",
    "Rather than using the only the last known development factor or setting $B=\\frac{1}{2}$, we\n",
    "can stablize things using more `ldf_` using the `earliest_age` parameter. We can then minimize\n",
    "the difference in the the assumed relationship $f(n) = f(n-1)^{B}$ and our data to estimate $B$.\n",
    "\n",
    "This is often refered to as the *Generalized Bondy* method."
   ]
  },
  {
   "cell_type": "code",
   "execution_count": 45,
   "id": "fbad0192-78ba-49ce-ba8d-25a00a534972",
   "metadata": {},
   "outputs": [
    {
     "data": {
      "text/html": [
       "<div>\n",
       "<style scoped>\n",
       "    .dataframe tbody tr th:only-of-type {\n",
       "        vertical-align: middle;\n",
       "    }\n",
       "\n",
       "    .dataframe tbody tr th {\n",
       "        vertical-align: top;\n",
       "    }\n",
       "\n",
       "    .dataframe thead th {\n",
       "        text-align: right;\n",
       "    }\n",
       "</style>\n",
       "<table border=\"1\" class=\"dataframe\">\n",
       "  <thead>\n",
       "    <tr style=\"text-align: right;\">\n",
       "      <th></th>\n",
       "      <th>120-Ult</th>\n",
       "    </tr>\n",
       "  </thead>\n",
       "  <tbody>\n",
       "    <tr>\n",
       "      <th>(All)</th>\n",
       "      <td>1.027763</td>\n",
       "    </tr>\n",
       "  </tbody>\n",
       "</table>\n",
       "</div>"
      ],
      "text/plain": [
       "        120-Ult\n",
       "(All)  1.027763"
      ]
     },
     "execution_count": 45,
     "metadata": {},
     "output_type": "execute_result"
    }
   ],
   "source": [
    "triangle = cl.load_sample('tail_sample')['paid']\n",
    "dev = cl.Development(average='simple').fit_transform(triangle)\n",
    "\n",
    "# Estimate the Bondy Tail\n",
    "tail = cl.TailBondy(earliest_age=12).fit(dev)\n",
    "tail.tail_"
   ]
  },
  {
   "cell_type": "markdown",
   "id": "790d9977-e8d2-44f7-9d79-7160436ed211",
   "metadata": {},
   "source": [
    "Using our formulation {eq}`tail_bondy_eq` above, we can manually estimate our tail using our earliest `ldf_` \n",
    "and our Bondy constant `b_`."
   ]
  },
  {
   "cell_type": "code",
   "execution_count": 46,
   "id": "caaae7b4-647e-440e-9512-26251df7ac6a",
   "metadata": {},
   "outputs": [
    {
     "data": {
      "text/html": [
       "<div>\n",
       "<style scoped>\n",
       "    .dataframe tbody tr th:only-of-type {\n",
       "        vertical-align: middle;\n",
       "    }\n",
       "\n",
       "    .dataframe tbody tr th {\n",
       "        vertical-align: top;\n",
       "    }\n",
       "\n",
       "    .dataframe thead th {\n",
       "        text-align: right;\n",
       "    }\n",
       "</style>\n",
       "<table border=\"1\" class=\"dataframe\">\n",
       "  <thead>\n",
       "    <tr style=\"text-align: right;\">\n",
       "      <th></th>\n",
       "      <th>paid</th>\n",
       "    </tr>\n",
       "    <tr>\n",
       "      <th>Total</th>\n",
       "      <th></th>\n",
       "    </tr>\n",
       "  </thead>\n",
       "  <tbody>\n",
       "    <tr>\n",
       "      <th>Total</th>\n",
       "      <td>1.027756</td>\n",
       "    </tr>\n",
       "  </tbody>\n",
       "</table>\n",
       "</div>"
      ],
      "text/plain": [
       "           paid\n",
       "Total          \n",
       "Total  1.027756"
      ]
     },
     "execution_count": 46,
     "metadata": {},
     "output_type": "execute_result"
    }
   ],
   "source": [
    "# Get last fitted LDF of the model\n",
    "last_fitted_ldf = (tail.earliest_ldf_ ** (tail.b_ ** 8))\n",
    "\n",
    "# Calculate the tail using the Bondy formula above\n",
    "last_fitted_ldf ** (tail.b_ / (1-tail.b_))"
   ]
  },
  {
   "cell_type": "markdown",
   "id": "5174eef9-78ee-4bca-9a1d-70e6bfcee369",
   "metadata": {},
   "source": [
    "{cite}`CAS_TFWP2013`"
   ]
  },
  {
   "cell_type": "markdown",
   "id": "af580a90-ae7b-4601-a29e-c293fe57f186",
   "metadata": {},
   "source": [
    "(tails:tailclark)=\n",
    "## TailClark\n",
    "\n",
    "`TailClark` is a continuation of the `ClarkLDF` model.  Familiarity\n",
    "with [ClarkLDF](development:clarkldf) will aid in understanding this Estimator.\n",
    "The growth curve approach used by Clark produces development patterns for any\n",
    "age including ages beyond the edge of the Triangle.\n",
    "\n",
    "An example completing Clark's model:\n"
   ]
  },
  {
   "cell_type": "code",
   "execution_count": 5,
   "id": "c24a18be-332e-47da-bfbf-d971d0df5089",
   "metadata": {},
   "outputs": [
    {
     "data": {
      "text/html": [
       "<table border=\"1\" class=\"dataframe\">\n",
       "  <thead>\n",
       "    <tr style=\"text-align: right;\">\n",
       "      <th></th>\n",
       "      <th>12-24</th>\n",
       "      <th>24-36</th>\n",
       "      <th>36-48</th>\n",
       "      <th>48-60</th>\n",
       "      <th>60-72</th>\n",
       "      <th>72-84</th>\n",
       "      <th>84-96</th>\n",
       "      <th>96-108</th>\n",
       "      <th>108-120</th>\n",
       "      <th>120-132</th>\n",
       "      <th>132-144</th>\n",
       "    </tr>\n",
       "  </thead>\n",
       "  <tbody>\n",
       "    <tr>\n",
       "      <th>(All)</th>\n",
       "      <td>4.0949</td>\n",
       "      <td>1.7205</td>\n",
       "      <td>1.3425</td>\n",
       "      <td>1.2005</td>\n",
       "      <td>1.1306</td>\n",
       "      <td>1.0910</td>\n",
       "      <td>1.0665</td>\n",
       "      <td>1.0504</td>\n",
       "      <td>1.0393</td>\n",
       "      <td>1.0313</td>\n",
       "      <td>1.2540</td>\n",
       "    </tr>\n",
       "  </tbody>\n",
       "</table>"
      ],
      "text/plain": [
       "          12-24    24-36     36-48     48-60     60-72     72-84     84-96    96-108   108-120   120-132   132-144\n",
       "(All)  4.094936  1.72047  1.342452  1.200518  1.130614  1.091014  1.066512  1.050383  1.039257  1.031297  1.254023"
      ]
     },
     "execution_count": 5,
     "metadata": {},
     "output_type": "execute_result"
    }
   ],
   "source": [
    "genins = cl.load_sample('genins')\n",
    "dev = cl.ClarkLDF()\n",
    "tail = cl.TailClark()\n",
    "tail.fit(dev.fit_transform(genins)).ldf_"
   ]
  },
  {
   "cell_type": "markdown",
   "id": "7ade6734-fb9f-4fe6-8867-9ee2ebe1642f",
   "metadata": {},
   "source": [
    "Coupled with `attachment_age` one could use any Development estimator and replicate the `ClarkLDF` estimator."
   ]
  },
  {
   "cell_type": "code",
   "execution_count": 6,
   "id": "9b7e36ee-815c-42ff-9382-6eb23eb2a02a",
   "metadata": {},
   "outputs": [
    {
     "data": {
      "text/html": [
       "<table border=\"1\" class=\"dataframe\">\n",
       "  <thead>\n",
       "    <tr style=\"text-align: right;\">\n",
       "      <th></th>\n",
       "      <th>12-24</th>\n",
       "      <th>24-36</th>\n",
       "      <th>36-48</th>\n",
       "      <th>48-60</th>\n",
       "      <th>60-72</th>\n",
       "      <th>72-84</th>\n",
       "      <th>84-96</th>\n",
       "      <th>96-108</th>\n",
       "      <th>108-120</th>\n",
       "      <th>120-132</th>\n",
       "      <th>132-144</th>\n",
       "    </tr>\n",
       "  </thead>\n",
       "  <tbody>\n",
       "    <tr>\n",
       "      <th>(All)</th>\n",
       "      <td>4.0949</td>\n",
       "      <td>1.7205</td>\n",
       "      <td>1.3425</td>\n",
       "      <td>1.2005</td>\n",
       "      <td>1.1306</td>\n",
       "      <td>1.0910</td>\n",
       "      <td>1.0665</td>\n",
       "      <td>1.0504</td>\n",
       "      <td>1.0393</td>\n",
       "      <td>1.0313</td>\n",
       "      <td>1.2540</td>\n",
       "    </tr>\n",
       "  </tbody>\n",
       "</table>"
      ],
      "text/plain": [
       "          12-24    24-36     36-48     48-60     60-72     72-84     84-96    96-108   108-120   120-132   132-144\n",
       "(All)  4.094936  1.72047  1.342452  1.200518  1.130614  1.091014  1.066512  1.050383  1.039257  1.031297  1.254023"
      ]
     },
     "execution_count": 6,
     "metadata": {},
     "output_type": "execute_result"
    }
   ],
   "source": [
    "genins = cl.load_sample('genins')\n",
    "tail = cl.TailClark(attachment_age=12)\n",
    "tail.fit(cl.Development().fit_transform(genins)).ldf_"
   ]
  },
  {
   "cell_type": "markdown",
   "id": "a14edaef-3960-44e2-8f9e-e0cc9e46d952",
   "metadata": {},
   "source": [
    "### Truncated patterns\n",
    "\n",
    "Clark warns of the dangers of extrapolating too far beyond the edge of a Triangle,\n",
    "particularly with a heavy tailed distribution.  In these cases, it is suggested that\n",
    "a suitable cut-off age or ``truncation_age`` be established where losses are considered\n",
    "fully developed. This is very similar to the `extrap_periods` parameter of `TailCurve`,\n",
    "however, it is expressed as an age (in months) as opposed to a period length."
   ]
  },
  {
   "cell_type": "code",
   "execution_count": 20,
   "id": "ef6c4d79-7e7f-4ba9-8a7c-c286df0ef9df",
   "metadata": {},
   "outputs": [
    {
     "data": {
      "text/html": [
       "<table border=\"1\" class=\"dataframe\">\n",
       "  <thead>\n",
       "    <tr style=\"text-align: right;\">\n",
       "      <th></th>\n",
       "      <th>12-Ult</th>\n",
       "      <th>24-Ult</th>\n",
       "      <th>36-Ult</th>\n",
       "      <th>48-Ult</th>\n",
       "      <th>60-Ult</th>\n",
       "      <th>72-Ult</th>\n",
       "      <th>84-Ult</th>\n",
       "      <th>96-Ult</th>\n",
       "      <th>108-Ult</th>\n",
       "      <th>120-Ult</th>\n",
       "      <th>132-Ult</th>\n",
       "    </tr>\n",
       "  </thead>\n",
       "  <tbody>\n",
       "    <tr>\n",
       "      <th>(All)</th>\n",
       "      <td>19.2093</td>\n",
       "      <td>4.6910</td>\n",
       "      <td>2.7266</td>\n",
       "      <td>2.0310</td>\n",
       "      <td>1.6918</td>\n",
       "      <td>1.4964</td>\n",
       "      <td>1.3715</td>\n",
       "      <td>1.2860</td>\n",
       "      <td>1.2243</td>\n",
       "      <td>1.1781</td>\n",
       "      <td>1.1423</td>\n",
       "    </tr>\n",
       "  </tbody>\n",
       "</table>"
      ],
      "text/plain": [
       "          12-Ult   24-Ult    36-Ult    48-Ult    60-Ult    72-Ult    84-Ult    96-Ult   108-Ult   120-Ult   132-Ult\n",
       "(All)  19.209306  4.69099  2.726575  2.031041  1.691804  1.496359  1.371531  1.285997  1.224313  1.178065  1.142313"
      ]
     },
     "execution_count": 20,
     "metadata": {},
     "output_type": "execute_result"
    }
   ],
   "source": [
    "tail = cl.TailClark(truncation_age=245)\n",
    "tail.fit(dev.fit_transform(genins)).cdf_"
   ]
  },
  {
   "cell_type": "markdown",
   "id": "99501ed3-abd3-47e6-91bd-f43d970e23c9",
   "metadata": {},
   "source": [
    "{cite}`clark2003`"
   ]
  },
  {
   "cell_type": "code",
   "execution_count": null,
   "id": "98a75fe5-edbc-40ea-b545-885282ddbe29",
   "metadata": {},
   "outputs": [],
   "source": []
  }
 ],
 "metadata": {
  "kernelspec": {
   "display_name": "Python 3 (ipykernel)",
   "language": "python",
   "name": "python3"
  },
  "language_info": {
   "codemirror_mode": {
    "name": "ipython",
    "version": 3
   },
   "file_extension": ".py",
   "mimetype": "text/x-python",
   "name": "python",
   "nbconvert_exporter": "python",
   "pygments_lexer": "ipython3",
   "version": "3.7.11"
  }
 },
 "nbformat": 4,
 "nbformat_minor": 5
}
